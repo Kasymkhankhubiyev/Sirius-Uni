{
 "cells": [
  {
   "cell_type": "code",
   "execution_count": 18,
   "id": "bd4b3a6e-9954-4f46-acb1-13c0368d47e6",
   "metadata": {},
   "outputs": [],
   "source": [
    "import apimoex\n",
    "import numpy as np\n",
    "import pandas as pd\n",
    "import requests \n",
    "import matplotlib.pyplot as plt\n",
    "\n",
    "from typing import NamedTuple"
   ]
  },
  {
   "cell_type": "markdown",
   "id": "4063132a-63a4-4839-a388-c05a4a1b2e9d",
   "metadata": {},
   "source": [
    "**Задание:**\n",
    "1. Построить линейный график цен акций ПАО \"Сбербанк\" (SBER) за последний год, период - 1 день.\n",
    "2. Построить простую (SMA) и экспоненциальную (EMA) скользящую среднюю с окном сглаживания n = 21 день по ценам закрытия (Close). Установить зеленый цвет для SMA, красный для EMA. В качестве ответа привести таблицу с указанием даты пересечения индикаторов на графике. "
   ]
  },
  {
   "cell_type": "code",
   "execution_count": 69,
   "id": "78120a63-01e8-4dc4-86cb-3c672183bdb7",
   "metadata": {},
   "outputs": [],
   "source": [
    "def get_data(ticker: str, start_date: str, end_date: str, interval=24) -> pd.DataFrame:\n",
    "    \"\"\"\n",
    "    Функция возвращает данные о котивках за указанный период в формате  `pd.DataFrame`\n",
    "\n",
    "    Аргументы:\n",
    "        ticker, str - Тикер ценной бумаги, название комании другими словами\n",
    "        start_date, str - Дата начала отсчета данных в формате: \"ГГГГ-ММ-ДД\"\n",
    "        end_date, str - Дата конца отсчета данных в формате: \"ГГГГ-ММ-ДД\"\n",
    "        interval, int - размер свечи, по умолчанию равен дневному размеру.\n",
    "            Принимает следующие целые значения:\n",
    "            1 (1 минута), 10 (10 минут), 60 (1 час), 24 (1 день),\n",
    "            7 (1 неделя), 31 (1 месяц), 4 (1 квартал)\n",
    "\n",
    "        Возвращаемое значение:\n",
    "        data_frame, pd.DataFrame - дата фрейм, содержищий информацию о котировках:\n",
    "            начало (begin, date), цена открытия (open, float), \n",
    "            цена закрытия (close, float), наивысшая цена (high, float),\n",
    "            низшая цена (low, float), объем (value, float)\n",
    "    \"\"\"\n",
    "    with requests.Session() as session: # open an internet session\n",
    "        # get candles\n",
    "        data = apimoex.get_market_candles(session, security=ticker, start=start_date, end=end_date)\n",
    "    \n",
    "    # returns     \n",
    "    df = pd.DataFrame(data)\n",
    "\n",
    "    return df"
   ]
  },
  {
   "cell_type": "code",
   "execution_count": 74,
   "id": "6632b34e-4e83-494c-abac-5b21d5baee79",
   "metadata": {},
   "outputs": [],
   "source": [
    "TICKER = 'SBER'\n",
    "start_date = '2022-08-24'\n",
    "end_date = '2023-09-24'"
   ]
  },
  {
   "cell_type": "code",
   "execution_count": 75,
   "id": "b2a0824e-8611-4c71-973a-2efefec2c7ea",
   "metadata": {},
   "outputs": [
    {
     "data": {
      "text/html": [
       "<div>\n",
       "<style scoped>\n",
       "    .dataframe tbody tr th:only-of-type {\n",
       "        vertical-align: middle;\n",
       "    }\n",
       "\n",
       "    .dataframe tbody tr th {\n",
       "        vertical-align: top;\n",
       "    }\n",
       "\n",
       "    .dataframe thead th {\n",
       "        text-align: right;\n",
       "    }\n",
       "</style>\n",
       "<table border=\"1\" class=\"dataframe\">\n",
       "  <thead>\n",
       "    <tr style=\"text-align: right;\">\n",
       "      <th></th>\n",
       "      <th>begin</th>\n",
       "      <th>open</th>\n",
       "      <th>close</th>\n",
       "      <th>high</th>\n",
       "      <th>low</th>\n",
       "      <th>value</th>\n",
       "    </tr>\n",
       "  </thead>\n",
       "  <tbody>\n",
       "    <tr>\n",
       "      <th>0</th>\n",
       "      <td>2022-08-24 00:00:00</td>\n",
       "      <td>130.60</td>\n",
       "      <td>128.15</td>\n",
       "      <td>131.64</td>\n",
       "      <td>127.85</td>\n",
       "      <td>5.940974e+09</td>\n",
       "    </tr>\n",
       "    <tr>\n",
       "      <th>1</th>\n",
       "      <td>2022-08-25 00:00:00</td>\n",
       "      <td>128.15</td>\n",
       "      <td>128.18</td>\n",
       "      <td>129.81</td>\n",
       "      <td>127.10</td>\n",
       "      <td>4.630468e+09</td>\n",
       "    </tr>\n",
       "    <tr>\n",
       "      <th>2</th>\n",
       "      <td>2022-08-26 00:00:00</td>\n",
       "      <td>128.02</td>\n",
       "      <td>130.40</td>\n",
       "      <td>130.50</td>\n",
       "      <td>127.62</td>\n",
       "      <td>4.251007e+09</td>\n",
       "    </tr>\n",
       "    <tr>\n",
       "      <th>3</th>\n",
       "      <td>2022-08-29 00:00:00</td>\n",
       "      <td>130.12</td>\n",
       "      <td>131.17</td>\n",
       "      <td>131.40</td>\n",
       "      <td>129.52</td>\n",
       "      <td>5.342794e+09</td>\n",
       "    </tr>\n",
       "    <tr>\n",
       "      <th>4</th>\n",
       "      <td>2022-08-30 00:00:00</td>\n",
       "      <td>131.17</td>\n",
       "      <td>130.05</td>\n",
       "      <td>132.60</td>\n",
       "      <td>129.65</td>\n",
       "      <td>6.706724e+09</td>\n",
       "    </tr>\n",
       "  </tbody>\n",
       "</table>\n",
       "</div>"
      ],
      "text/plain": [
       "                 begin    open   close    high     low         value\n",
       "0  2022-08-24 00:00:00  130.60  128.15  131.64  127.85  5.940974e+09\n",
       "1  2022-08-25 00:00:00  128.15  128.18  129.81  127.10  4.630468e+09\n",
       "2  2022-08-26 00:00:00  128.02  130.40  130.50  127.62  4.251007e+09\n",
       "3  2022-08-29 00:00:00  130.12  131.17  131.40  129.52  5.342794e+09\n",
       "4  2022-08-30 00:00:00  131.17  130.05  132.60  129.65  6.706724e+09"
      ]
     },
     "execution_count": 75,
     "metadata": {},
     "output_type": "execute_result"
    }
   ],
   "source": [
    "df = get_data(TICKER, start_date, end_date)\n",
    "df.head()"
   ]
  },
  {
   "cell_type": "code",
   "execution_count": 76,
   "id": "1ab6761b-5b2b-4956-8edd-3208ccfdc1c7",
   "metadata": {},
   "outputs": [],
   "source": [
    "def prepare_data(df: pd.DataFrame) -> pd.DataFrame:\n",
    "    _df = df.copy()\n",
    "    _df['Date'] = pd.to_datetime(_df['begin'])\n",
    "    _df = _df.drop('begin', axis=1)\n",
    "    _df = _df.reset_index(drop=True)\n",
    "    return _df"
   ]
  },
  {
   "cell_type": "code",
   "execution_count": 77,
   "id": "c8e7f1cd-d69a-4949-8436-47a1153ac7f3",
   "metadata": {},
   "outputs": [
    {
     "data": {
      "text/html": [
       "<div>\n",
       "<style scoped>\n",
       "    .dataframe tbody tr th:only-of-type {\n",
       "        vertical-align: middle;\n",
       "    }\n",
       "\n",
       "    .dataframe tbody tr th {\n",
       "        vertical-align: top;\n",
       "    }\n",
       "\n",
       "    .dataframe thead th {\n",
       "        text-align: right;\n",
       "    }\n",
       "</style>\n",
       "<table border=\"1\" class=\"dataframe\">\n",
       "  <thead>\n",
       "    <tr style=\"text-align: right;\">\n",
       "      <th></th>\n",
       "      <th>open</th>\n",
       "      <th>close</th>\n",
       "      <th>high</th>\n",
       "      <th>low</th>\n",
       "      <th>value</th>\n",
       "      <th>Date</th>\n",
       "    </tr>\n",
       "  </thead>\n",
       "  <tbody>\n",
       "    <tr>\n",
       "      <th>count</th>\n",
       "      <td>276.000000</td>\n",
       "      <td>276.000000</td>\n",
       "      <td>276.000000</td>\n",
       "      <td>276.000000</td>\n",
       "      <td>2.760000e+02</td>\n",
       "      <td>276</td>\n",
       "    </tr>\n",
       "    <tr>\n",
       "      <th>mean</th>\n",
       "      <td>189.046739</td>\n",
       "      <td>189.345616</td>\n",
       "      <td>191.201739</td>\n",
       "      <td>186.815181</td>\n",
       "      <td>1.137202e+10</td>\n",
       "      <td>2023-03-09 09:28:41.739130368</td>\n",
       "    </tr>\n",
       "    <tr>\n",
       "      <th>min</th>\n",
       "      <td>96.550000</td>\n",
       "      <td>101.500000</td>\n",
       "      <td>106.770000</td>\n",
       "      <td>96.500000</td>\n",
       "      <td>1.504731e+09</td>\n",
       "      <td>2022-08-24 00:00:00</td>\n",
       "    </tr>\n",
       "    <tr>\n",
       "      <th>25%</th>\n",
       "      <td>137.892500</td>\n",
       "      <td>138.015000</td>\n",
       "      <td>139.350000</td>\n",
       "      <td>136.242500</td>\n",
       "      <td>6.789034e+09</td>\n",
       "      <td>2022-11-29 18:00:00</td>\n",
       "    </tr>\n",
       "    <tr>\n",
       "      <th>50%</th>\n",
       "      <td>172.005000</td>\n",
       "      <td>172.540000</td>\n",
       "      <td>174.050000</td>\n",
       "      <td>171.005000</td>\n",
       "      <td>9.555116e+09</td>\n",
       "      <td>2023-03-09 12:00:00</td>\n",
       "    </tr>\n",
       "    <tr>\n",
       "      <th>75%</th>\n",
       "      <td>242.350000</td>\n",
       "      <td>242.365000</td>\n",
       "      <td>244.507500</td>\n",
       "      <td>240.577500</td>\n",
       "      <td>1.395447e+10</td>\n",
       "      <td>2023-06-19 06:00:00</td>\n",
       "    </tr>\n",
       "    <tr>\n",
       "      <th>max</th>\n",
       "      <td>269.480000</td>\n",
       "      <td>269.110000</td>\n",
       "      <td>273.350000</td>\n",
       "      <td>266.800000</td>\n",
       "      <td>7.248764e+10</td>\n",
       "      <td>2023-09-22 00:00:00</td>\n",
       "    </tr>\n",
       "    <tr>\n",
       "      <th>std</th>\n",
       "      <td>54.318166</td>\n",
       "      <td>54.167731</td>\n",
       "      <td>54.334225</td>\n",
       "      <td>54.081469</td>\n",
       "      <td>7.580579e+09</td>\n",
       "      <td>NaN</td>\n",
       "    </tr>\n",
       "  </tbody>\n",
       "</table>\n",
       "</div>"
      ],
      "text/plain": [
       "             open       close        high         low         value  \\\n",
       "count  276.000000  276.000000  276.000000  276.000000  2.760000e+02   \n",
       "mean   189.046739  189.345616  191.201739  186.815181  1.137202e+10   \n",
       "min     96.550000  101.500000  106.770000   96.500000  1.504731e+09   \n",
       "25%    137.892500  138.015000  139.350000  136.242500  6.789034e+09   \n",
       "50%    172.005000  172.540000  174.050000  171.005000  9.555116e+09   \n",
       "75%    242.350000  242.365000  244.507500  240.577500  1.395447e+10   \n",
       "max    269.480000  269.110000  273.350000  266.800000  7.248764e+10   \n",
       "std     54.318166   54.167731   54.334225   54.081469  7.580579e+09   \n",
       "\n",
       "                                Date  \n",
       "count                            276  \n",
       "mean   2023-03-09 09:28:41.739130368  \n",
       "min              2022-08-24 00:00:00  \n",
       "25%              2022-11-29 18:00:00  \n",
       "50%              2023-03-09 12:00:00  \n",
       "75%              2023-06-19 06:00:00  \n",
       "max              2023-09-22 00:00:00  \n",
       "std                              NaN  "
      ]
     },
     "execution_count": 77,
     "metadata": {},
     "output_type": "execute_result"
    }
   ],
   "source": [
    "df = prepare_data(df)\n",
    "df.describe()"
   ]
  },
  {
   "cell_type": "code",
   "execution_count": 78,
   "id": "57953dab-c381-4de1-b9ed-53e8735d84a2",
   "metadata": {},
   "outputs": [],
   "source": [
    "dates = df['Date']\n",
    "open_cost = df['open']\n",
    "close_cost = df['close']"
   ]
  },
  {
   "cell_type": "code",
   "execution_count": 79,
   "id": "5bac0910-566f-499e-8732-70927f202d6f",
   "metadata": {},
   "outputs": [
    {
     "data": {
      "image/png": "[encoded data removed]",
      "text/plain": [
       "<Figure size 640x480 with 1 Axes>"
      ]
     },
     "metadata": {},
     "output_type": "display_data"
    }
   ],
   "source": [
    "plt.plot(dates, open_cost, label='open')\n",
    "plt.plot(dates, close_cost, label='close')\n",
    "plt.xticks(rotation=30)\n",
    "plt.legend()\n",
    "plt.show()"
   ]
  },
  {
   "cell_type": "code",
   "execution_count": 80,
   "id": "0d553f07-50b9-4c51-97bc-7c795600f93a",
   "metadata": {},
   "outputs": [],
   "source": [
    "class Candle (NamedTuple):\n",
    "    open: float\n",
    "    close: float\n",
    "    high: float\n",
    "    low: float\n",
    "\n",
    "    def __str__(self) -> str:\n",
    "        return f'open {self.open}, close {self.close} high {self.high}, low {self.low}'"
   ]
  },
  {
   "cell_type": "code",
   "execution_count": 81,
   "id": "cb3f487d-0f07-4d36-bd90-6a4b5982a96f",
   "metadata": {},
   "outputs": [],
   "source": [
    "def make_candles(df: pd.DataFrame) -> 'list[Candle]':\n",
    "    data_array = df.loc[:, ['open', 'close', 'high', 'low']].to_numpy()\n",
    "    output = []\n",
    "    for _idx, data in  enumerate(data_array):\n",
    "        output.append(Candle(data[0], data[1], data[2], data[3]))\n",
    "    return output"
   ]
  },
  {
   "cell_type": "code",
   "execution_count": 82,
   "id": "d3ee0690-50ef-4350-aeed-e4c870fdcc9e",
   "metadata": {},
   "outputs": [
    {
     "data": {
      "text/plain": [
       "276"
      ]
     },
     "execution_count": 82,
     "metadata": {},
     "output_type": "execute_result"
    }
   ],
   "source": [
    "candles = make_candles(df)\n",
    "len(candles)"
   ]
  },
  {
   "cell_type": "code",
   "execution_count": null,
   "id": "e712a7d7-3426-4fc4-9aa8-a7622f117bbf",
   "metadata": {},
   "outputs": [],
   "source": []
  },
  {
   "cell_type": "code",
   "execution_count": null,
   "id": "b7089ae6-4458-468e-91fd-9af1593555c0",
   "metadata": {},
   "outputs": [],
   "source": []
  },
  {
   "cell_type": "code",
   "execution_count": null,
   "id": "db80ac67-e6fe-4bb1-ae5d-4c981e6a2666",
   "metadata": {},
   "outputs": [],
   "source": []
  }
 ],
 "metadata": {
  "kernelspec": {
   "display_name": "Python 3 (ipykernel)",
   "language": "python",
   "name": "python3"
  },
  "language_info": {
   "codemirror_mode": {
    "name": "ipython",
    "version": 3
   },
   "file_extension": ".py",
   "mimetype": "text/x-python",
   "name": "python",
   "nbconvert_exporter": "python",
   "pygments_lexer": "ipython3",
   "version": "3.9.13"
  }
 },
 "nbformat": 4,
 "nbformat_minor": 5
}
