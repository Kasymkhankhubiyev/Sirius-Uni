{
 "cells": [
  {
   "cell_type": "markdown",
   "id": "ca6d9fab-f3a2-4cd1-acc3-c59e42655e73",
   "metadata": {},
   "source": [
    "# проверить гипотезу о нормальности распределения логарифмических доходностей"
   ]
  },
  {
   "cell_type": "code",
   "execution_count": 1,
   "id": "d493255b-fb96-40e3-b79c-9e08c8ec27ed",
   "metadata": {},
   "outputs": [],
   "source": [
    "import numpy as np\n",
    "import pandas as pd\n",
    "import yfinance as yfin\n",
    "import requests \n",
    "import apimoex\n",
    "\n",
    "from helper import get_data_markets"
   ]
  },
  {
   "cell_type": "code",
   "execution_count": 2,
   "id": "0b862ce6-c0f2-4748-9609-36faee3c3806",
   "metadata": {},
   "outputs": [],
   "source": [
    "SBER = 'SBER'\n",
    "APPLE = 'AAPL'\n",
    "\n",
    "start_date = '2018-10-18'\n",
    "end_date = '2023-10-18'"
   ]
  },
  {
   "cell_type": "code",
   "execution_count": 18,
   "id": "b4d67c3a-8b55-44b3-bc4b-470ab5a357d5",
   "metadata": {},
   "outputs": [
    {
     "data": {
      "text/html": [
       "<div>\n",
       "<style scoped>\n",
       "    .dataframe tbody tr th:only-of-type {\n",
       "        vertical-align: middle;\n",
       "    }\n",
       "\n",
       "    .dataframe tbody tr th {\n",
       "        vertical-align: top;\n",
       "    }\n",
       "\n",
       "    .dataframe thead th {\n",
       "        text-align: right;\n",
       "    }\n",
       "</style>\n",
       "<table border=\"1\" class=\"dataframe\">\n",
       "  <thead>\n",
       "    <tr style=\"text-align: right;\">\n",
       "      <th></th>\n",
       "      <th>begin</th>\n",
       "      <th>open</th>\n",
       "      <th>close</th>\n",
       "      <th>high</th>\n",
       "      <th>low</th>\n",
       "      <th>value</th>\n",
       "    </tr>\n",
       "  </thead>\n",
       "  <tbody>\n",
       "    <tr>\n",
       "      <th>0</th>\n",
       "      <td>2018-10-22 00:00:00</td>\n",
       "      <td>184.86</td>\n",
       "      <td>181.00</td>\n",
       "      <td>189.25</td>\n",
       "      <td>177.02</td>\n",
       "      <td>8.261883e+10</td>\n",
       "    </tr>\n",
       "    <tr>\n",
       "      <th>1</th>\n",
       "      <td>2018-10-29 00:00:00</td>\n",
       "      <td>180.60</td>\n",
       "      <td>192.60</td>\n",
       "      <td>192.98</td>\n",
       "      <td>178.64</td>\n",
       "      <td>6.299539e+10</td>\n",
       "    </tr>\n",
       "    <tr>\n",
       "      <th>2</th>\n",
       "      <td>2018-11-05 00:00:00</td>\n",
       "      <td>194.50</td>\n",
       "      <td>195.75</td>\n",
       "      <td>204.70</td>\n",
       "      <td>193.73</td>\n",
       "      <td>7.087732e+10</td>\n",
       "    </tr>\n",
       "    <tr>\n",
       "      <th>3</th>\n",
       "      <td>2018-11-12 00:00:00</td>\n",
       "      <td>197.97</td>\n",
       "      <td>199.26</td>\n",
       "      <td>203.50</td>\n",
       "      <td>193.18</td>\n",
       "      <td>7.414753e+10</td>\n",
       "    </tr>\n",
       "    <tr>\n",
       "      <th>4</th>\n",
       "      <td>2018-11-19 00:00:00</td>\n",
       "      <td>198.98</td>\n",
       "      <td>197.30</td>\n",
       "      <td>200.70</td>\n",
       "      <td>191.81</td>\n",
       "      <td>5.434282e+10</td>\n",
       "    </tr>\n",
       "  </tbody>\n",
       "</table>\n",
       "</div>"
      ],
      "text/plain": [
       "                 begin    open   close    high     low         value\n",
       "0  2018-10-22 00:00:00  184.86  181.00  189.25  177.02  8.261883e+10\n",
       "1  2018-10-29 00:00:00  180.60  192.60  192.98  178.64  6.299539e+10\n",
       "2  2018-11-05 00:00:00  194.50  195.75  204.70  193.73  7.087732e+10\n",
       "3  2018-11-12 00:00:00  197.97  199.26  203.50  193.18  7.414753e+10\n",
       "4  2018-11-19 00:00:00  198.98  197.30  200.70  191.81  5.434282e+10"
      ]
     },
     "execution_count": 18,
     "metadata": {},
     "output_type": "execute_result"
    }
   ],
   "source": [
    "df_sber = get_data_markets(7, SBER, start_date, end_date)\n",
    "df_sber.head()"
   ]
  },
  {
   "cell_type": "code",
   "execution_count": 19,
   "id": "a05c5c98-d1ad-4dd2-a543-a11867632818",
   "metadata": {},
   "outputs": [
    {
     "data": {
      "text/html": [
       "<div>\n",
       "<style scoped>\n",
       "    .dataframe tbody tr th:only-of-type {\n",
       "        vertical-align: middle;\n",
       "    }\n",
       "\n",
       "    .dataframe tbody tr th {\n",
       "        vertical-align: top;\n",
       "    }\n",
       "\n",
       "    .dataframe thead th {\n",
       "        text-align: right;\n",
       "    }\n",
       "</style>\n",
       "<table border=\"1\" class=\"dataframe\">\n",
       "  <thead>\n",
       "    <tr style=\"text-align: right;\">\n",
       "      <th></th>\n",
       "      <th>date</th>\n",
       "      <th>open</th>\n",
       "      <th>high</th>\n",
       "      <th>low</th>\n",
       "      <th>close</th>\n",
       "      <th>volume</th>\n",
       "      <th>dividends</th>\n",
       "      <th>stock splits</th>\n",
       "    </tr>\n",
       "  </thead>\n",
       "  <tbody>\n",
       "    <tr>\n",
       "      <th>257</th>\n",
       "      <td>2023-09-18 00:00:00-04:00</td>\n",
       "      <td>176.479996</td>\n",
       "      <td>179.699997</td>\n",
       "      <td>173.860001</td>\n",
       "      <td>174.789993</td>\n",
       "      <td>297294000</td>\n",
       "      <td>0.0</td>\n",
       "      <td>0.0</td>\n",
       "    </tr>\n",
       "    <tr>\n",
       "      <th>258</th>\n",
       "      <td>2023-09-25 00:00:00-04:00</td>\n",
       "      <td>174.199997</td>\n",
       "      <td>176.970001</td>\n",
       "      <td>167.619995</td>\n",
       "      <td>171.210007</td>\n",
       "      <td>285792000</td>\n",
       "      <td>0.0</td>\n",
       "      <td>0.0</td>\n",
       "    </tr>\n",
       "    <tr>\n",
       "      <th>259</th>\n",
       "      <td>2023-10-02 00:00:00-04:00</td>\n",
       "      <td>171.220001</td>\n",
       "      <td>177.990005</td>\n",
       "      <td>170.820007</td>\n",
       "      <td>177.490005</td>\n",
       "      <td>260531400</td>\n",
       "      <td>0.0</td>\n",
       "      <td>0.0</td>\n",
       "    </tr>\n",
       "    <tr>\n",
       "      <th>260</th>\n",
       "      <td>2023-10-09 00:00:00-04:00</td>\n",
       "      <td>176.809998</td>\n",
       "      <td>182.339996</td>\n",
       "      <td>175.800003</td>\n",
       "      <td>178.850006</td>\n",
       "      <td>241810100</td>\n",
       "      <td>0.0</td>\n",
       "      <td>0.0</td>\n",
       "    </tr>\n",
       "    <tr>\n",
       "      <th>261</th>\n",
       "      <td>2023-10-16 00:00:00-04:00</td>\n",
       "      <td>176.750000</td>\n",
       "      <td>179.080002</td>\n",
       "      <td>174.800003</td>\n",
       "      <td>175.839996</td>\n",
       "      <td>164830800</td>\n",
       "      <td>0.0</td>\n",
       "      <td>0.0</td>\n",
       "    </tr>\n",
       "  </tbody>\n",
       "</table>\n",
       "</div>"
      ],
      "text/plain": [
       "                         date        open        high         low       close  \\\n",
       "257 2023-09-18 00:00:00-04:00  176.479996  179.699997  173.860001  174.789993   \n",
       "258 2023-09-25 00:00:00-04:00  174.199997  176.970001  167.619995  171.210007   \n",
       "259 2023-10-02 00:00:00-04:00  171.220001  177.990005  170.820007  177.490005   \n",
       "260 2023-10-09 00:00:00-04:00  176.809998  182.339996  175.800003  178.850006   \n",
       "261 2023-10-16 00:00:00-04:00  176.750000  179.080002  174.800003  175.839996   \n",
       "\n",
       "        volume  dividends  stock splits  \n",
       "257  297294000        0.0           0.0  \n",
       "258  285792000        0.0           0.0  \n",
       "259  260531400        0.0           0.0  \n",
       "260  241810100        0.0           0.0  \n",
       "261  164830800        0.0           0.0  "
      ]
     },
     "execution_count": 19,
     "metadata": {},
     "output_type": "execute_result"
    }
   ],
   "source": [
    "df_apple = get_data_markets('1wk', APPLE, start_date, end_date, 'yahoo')\n",
    "df_apple.columns = df_apple.columns.str.lower()\n",
    "df_apple.tail()"
   ]
  },
  {
   "cell_type": "code",
   "execution_count": 20,
   "id": "cc8a1cf3-1b85-4940-acbf-2f70b3346c9c",
   "metadata": {},
   "outputs": [],
   "source": [
    "def log_income(df: pd.DataFrame):\n",
    "    \"\"\"\n",
    "        marh:: `r_i(t) = ln(\\frac{close_i(t)}{close_i(t-1)})`\n",
    "    \"\"\"\n",
    "\n",
    "    # income_vec = np.zeros(len(df))\n",
    "\n",
    "    # for i in range(1, len(df)):\n",
    "    #     income_vec[i] += np.log(df.loc[i, 'close'] / df.loc[i-1, 'close'])\n",
    "\n",
    "    close = df['close'].values\n",
    "\n",
    "    income_vec = np.concatenate((np.array([0]), np.log(close[1:] / close[:-1])))\n",
    "\n",
    "    return income_vec"
   ]
  },
  {
   "cell_type": "code",
   "execution_count": 21,
   "id": "22a5e7e4-abdb-4e25-b5cb-f20f81d43a56",
   "metadata": {},
   "outputs": [
    {
     "data": {
      "text/plain": [
       "((258,), 258)"
      ]
     },
     "execution_count": 21,
     "metadata": {},
     "output_type": "execute_result"
    }
   ],
   "source": [
    "sber_income_vec = log_income(df_sber)\n",
    "apple_income_vec = log_income(df_apple)\n",
    "sber_income_vec.shape, len(df_sber)"
   ]
  },
  {
   "cell_type": "code",
   "execution_count": 22,
   "id": "9efb178f-f2b8-42af-9b1f-684c0d83a152",
   "metadata": {},
   "outputs": [],
   "source": [
    "from scipy.stats import shapiro"
   ]
  },
  {
   "cell_type": "code",
   "execution_count": 23,
   "id": "72ad0019-bf6a-47c4-99a9-5f284340ca9e",
   "metadata": {},
   "outputs": [],
   "source": [
    "significance = 0.95"
   ]
  },
  {
   "cell_type": "code",
   "execution_count": 24,
   "id": "7e9bc20c-cc14-4646-987c-8e16512d908c",
   "metadata": {},
   "outputs": [
    {
     "name": "stdout",
     "output_type": "stream",
     "text": [
      "1.7143251552192225e-21\n",
      "Не нормальное распределение\n"
     ]
    }
   ],
   "source": [
    "_, pvalue = shapiro(sber_income_vec)\n",
    "print(pvalue)\n",
    "if pvalue < significance:\n",
    "    print('Не нормальное распределение')\n",
    "else:\n",
    "    print('Нормальное распределение')"
   ]
  },
  {
   "cell_type": "code",
   "execution_count": 25,
   "id": "ddfb3870-3a8d-4d35-8acc-7d98ffea0459",
   "metadata": {},
   "outputs": [
    {
     "name": "stdout",
     "output_type": "stream",
     "text": [
      "4.9307891458738595e-05\n",
      "Не нормальное распределение\n"
     ]
    }
   ],
   "source": [
    "_, pvalue = shapiro(apple_income_vec)\n",
    "print(pvalue)\n",
    "if pvalue < significance:\n",
    "    print('Не нормальное распределение')\n",
    "else:\n",
    "    print('Нормальное распределение')"
   ]
  },
  {
   "cell_type": "markdown",
   "id": "e0055405-cd99-46e6-aaf5-c830f249f47f",
   "metadata": {},
   "source": [
    "## Если нормализовать вектор доходностей"
   ]
  },
  {
   "cell_type": "code",
   "execution_count": 26,
   "id": "6aabc1b9-0a86-40c4-ac05-7057d75142dc",
   "metadata": {},
   "outputs": [],
   "source": [
    "def normalize_vector(vec):\n",
    "    return (vec - np.min(vec)) / (np.max(vec) - np.min(vec))"
   ]
  },
  {
   "cell_type": "code",
   "execution_count": 27,
   "id": "8ce439f0-b487-4946-84d5-dcf340166de8",
   "metadata": {},
   "outputs": [
    {
     "name": "stdout",
     "output_type": "stream",
     "text": [
      "1.71435625527155e-21\n",
      "Не нормальное распределение\n"
     ]
    }
   ],
   "source": [
    "norm_sber_income_vec = normalize_vector(sber_income_vec)\n",
    "\n",
    "_, pvalue = shapiro(norm_sber_income_vec)\n",
    "print(pvalue)\n",
    "if pvalue < significance:\n",
    "    print('Не нормальное распределение')\n",
    "else:\n",
    "    print('Нормальное распределение')"
   ]
  },
  {
   "cell_type": "code",
   "execution_count": 28,
   "id": "e3a69b21-a9f7-4239-adfc-86ed127fa1d0",
   "metadata": {},
   "outputs": [
    {
     "name": "stdout",
     "output_type": "stream",
     "text": [
      "4.9307891458738595e-05\n",
      "Не нормальное распределение\n"
     ]
    }
   ],
   "source": [
    "norm_apple_income_vec = normalize_vector(apple_income_vec)\n",
    "\n",
    "_, pvalue = shapiro(norm_apple_income_vec)\n",
    "print(pvalue)\n",
    "if pvalue < significance:\n",
    "    print('Не нормальное распределение')\n",
    "else:\n",
    "    print('Нормальное распределение')"
   ]
  },
  {
   "cell_type": "markdown",
   "id": "a0a6bb29-f36a-4885-b97b-a7ed41e8cb48",
   "metadata": {},
   "source": [
    "# Теперь окно 60"
   ]
  },
  {
   "cell_type": "code",
   "execution_count": 30,
   "id": "f7fa7cef-cf63-4639-8ea0-e501458dfaff",
   "metadata": {},
   "outputs": [],
   "source": [
    "df_sber = get_data_markets(31, SBER, start_date, end_date)\n",
    "df_apple = get_data_markets('1mo', APPLE, start_date, end_date, 'yahoo')\n",
    "df_apple.columns = df_apple.columns.str.lower()"
   ]
  },
  {
   "cell_type": "code",
   "execution_count": 31,
   "id": "cecd819a-29e2-4f48-93f3-6fa9f49088a3",
   "metadata": {},
   "outputs": [
    {
     "data": {
      "text/plain": [
       "(60,)"
      ]
     },
     "execution_count": 31,
     "metadata": {},
     "output_type": "execute_result"
    }
   ],
   "source": [
    "sber_income_vec = log_income(df_sber)\n",
    "apple_income_vec = log_income(df_apple)\n",
    "sber_income_vec.shape"
   ]
  },
  {
   "cell_type": "code",
   "execution_count": 32,
   "id": "71d47c69-5b7e-43d5-9d23-d28f160dbb74",
   "metadata": {},
   "outputs": [
    {
     "name": "stdout",
     "output_type": "stream",
     "text": [
      "4.442218592970448e-09\n",
      "Не нормальное распределение\n"
     ]
    }
   ],
   "source": [
    "_, pvalue = shapiro(sber_income_vec)\n",
    "print(pvalue)\n",
    "if pvalue < significance:\n",
    "    print('Не нормальное распределение')\n",
    "else:\n",
    "    print('Нормальное распределение')"
   ]
  },
  {
   "cell_type": "code",
   "execution_count": 33,
   "id": "35ac9a1d-3e58-4b42-a4fe-b2fdce81f199",
   "metadata": {},
   "outputs": [
    {
     "name": "stdout",
     "output_type": "stream",
     "text": [
      "0.045810531824827194\n",
      "Не нормальное распределение\n"
     ]
    }
   ],
   "source": [
    "_, pvalue = shapiro(apple_income_vec)\n",
    "print(pvalue)\n",
    "if pvalue < significance:\n",
    "    print('Не нормальное распределение')\n",
    "else:\n",
    "    print('Нормальное распределение')"
   ]
  },
  {
   "cell_type": "markdown",
   "id": "9f802365-f068-4057-a47d-039386572ef2",
   "metadata": {},
   "source": [
    "## Если нормализовать"
   ]
  },
  {
   "cell_type": "code",
   "execution_count": 34,
   "id": "e4100b06-a52f-4d75-9e9f-32328b976f52",
   "metadata": {},
   "outputs": [
    {
     "name": "stdout",
     "output_type": "stream",
     "text": [
      "4.442218592970448e-09\n",
      "Не нормальное распределение\n"
     ]
    }
   ],
   "source": [
    "norm_sber_income_vec = normalize_vector(sber_income_vec)\n",
    "\n",
    "_, pvalue = shapiro(norm_sber_income_vec)\n",
    "print(pvalue)\n",
    "if pvalue < significance:\n",
    "    print('Не нормальное распределение')\n",
    "else:\n",
    "    print('Нормальное распределение')"
   ]
  },
  {
   "cell_type": "code",
   "execution_count": 35,
   "id": "5c9d96aa-678f-43c6-81ee-009f6f6684b9",
   "metadata": {},
   "outputs": [
    {
     "name": "stdout",
     "output_type": "stream",
     "text": [
      "0.04581048712134361\n",
      "Не нормальное распределение\n"
     ]
    }
   ],
   "source": [
    "norm_apple_income_vec = normalize_vector(apple_income_vec)\n",
    "\n",
    "_, pvalue = shapiro(norm_apple_income_vec)\n",
    "print(pvalue)\n",
    "if pvalue < significance:\n",
    "    print('Не нормальное распределение')\n",
    "else:\n",
    "    print('Нормальное распределение')"
   ]
  },
  {
   "cell_type": "markdown",
   "id": "62109858-2bf0-40cf-84bb-a0647ef18135",
   "metadata": {},
   "source": [
    "# Теперь окно 1 неделя"
   ]
  },
  {
   "cell_type": "code",
   "execution_count": 36,
   "id": "97df5396-a20b-4a48-aa61-a9396bf817ef",
   "metadata": {},
   "outputs": [],
   "source": [
    "df_sber = get_data_markets(7, SBER, start_date, end_date)\n",
    "df_apple = get_data_markets('1wk', APPLE, start_date, end_date, 'yahoo')\n",
    "df_apple.columns = df_apple.columns.str.lower()"
   ]
  },
  {
   "cell_type": "code",
   "execution_count": 37,
   "id": "4feee35a-e43e-4284-8711-efb288b71963",
   "metadata": {},
   "outputs": [
    {
     "data": {
      "text/plain": [
       "(258,)"
      ]
     },
     "execution_count": 37,
     "metadata": {},
     "output_type": "execute_result"
    }
   ],
   "source": [
    "sber_income_vec = log_income(df_sber)\n",
    "apple_income_vec = log_income(df_apple)\n",
    "sber_income_vec.shape"
   ]
  },
  {
   "cell_type": "code",
   "execution_count": 38,
   "id": "a319c1dc-79a4-4073-849d-8ce1ff7eea02",
   "metadata": {},
   "outputs": [
    {
     "name": "stdout",
     "output_type": "stream",
     "text": [
      "1.7143251552192225e-21\n",
      "Не нормальное распределение\n"
     ]
    }
   ],
   "source": [
    "_, pvalue = shapiro(sber_income_vec)\n",
    "print(pvalue)\n",
    "if pvalue < significance:\n",
    "    print('Не нормальное распределение')\n",
    "else:\n",
    "    print('Нормальное распределение')"
   ]
  },
  {
   "cell_type": "code",
   "execution_count": 39,
   "id": "2e8fd019-741b-49c7-9734-8b44b5072da9",
   "metadata": {},
   "outputs": [
    {
     "name": "stdout",
     "output_type": "stream",
     "text": [
      "4.9288351874565706e-05\n",
      "Не нормальное распределение\n"
     ]
    }
   ],
   "source": [
    "norm_apple_income_vec = normalize_vector(apple_income_vec)\n",
    "\n",
    "_, pvalue = shapiro(norm_apple_income_vec)\n",
    "print(pvalue)\n",
    "if pvalue < significance:\n",
    "    print('Не нормальное распределение')\n",
    "else:\n",
    "    print('Нормальное распределение')"
   ]
  },
  {
   "cell_type": "code",
   "execution_count": null,
   "id": "61d5e162-ca92-4677-b42b-2a8f3b518abe",
   "metadata": {},
   "outputs": [],
   "source": []
  }
 ],
 "metadata": {
  "kernelspec": {
   "display_name": "venv",
   "language": "python",
   "name": "venv"
  },
  "language_info": {
   "codemirror_mode": {
    "name": "ipython",
    "version": 3
   },
   "file_extension": ".py",
   "mimetype": "text/x-python",
   "name": "python",
   "nbconvert_exporter": "python",
   "pygments_lexer": "ipython3",
   "version": "3.9.13"
  }
 },
 "nbformat": 4,
 "nbformat_minor": 5
}
