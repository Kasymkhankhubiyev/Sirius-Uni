{
 "cells": [
  {
   "cell_type": "code",
   "execution_count": 1,
   "id": "bc264bd9-749b-402a-9a75-029d638310f8",
   "metadata": {},
   "outputs": [],
   "source": [
    "import numpy as np\n",
    "import pandas as pd\n",
    "import matplotlib.pyplot as plt\n",
    "\n",
    "from helper import get_data_markets\n",
    "\n",
    "from sklearn.linear_model import LinearRegression\n",
    "from sklearn.ensemble import RandomForestRegressor"
   ]
  },
  {
   "cell_type": "code",
   "execution_count": 2,
   "id": "15f90de6-51bd-43d8-b09c-c167412034b4",
   "metadata": {},
   "outputs": [],
   "source": [
    "TICKER_NAME = 'DJIA'\n",
    "interval = '1d'\n",
    "\n",
    "start_date = '2021-10-18'\n",
    "end_date = '2023-10-18'"
   ]
  },
  {
   "cell_type": "code",
   "execution_count": 3,
   "id": "2d42bffb-fbd2-4644-ac96-4f738e9fb920",
   "metadata": {},
   "outputs": [
    {
     "data": {
      "text/plain": [
       "(414, 9)"
      ]
     },
     "execution_count": 3,
     "metadata": {},
     "output_type": "execute_result"
    }
   ],
   "source": [
    "df = get_data_markets(ticker=TICKER_NAME, interval=interval, start_date=start_date, end_date=end_date, source='yahoo')\n",
    "df.shape"
   ]
  },
  {
   "cell_type": "code",
   "execution_count": 4,
   "id": "d2fe4605-dcc0-4724-8309-504f8184b287",
   "metadata": {},
   "outputs": [
    {
     "data": {
      "text/html": [
       "<div>\n",
       "<style scoped>\n",
       "    .dataframe tbody tr th:only-of-type {\n",
       "        vertical-align: middle;\n",
       "    }\n",
       "\n",
       "    .dataframe tbody tr th {\n",
       "        vertical-align: top;\n",
       "    }\n",
       "\n",
       "    .dataframe thead th {\n",
       "        text-align: right;\n",
       "    }\n",
       "</style>\n",
       "<table border=\"1\" class=\"dataframe\">\n",
       "  <thead>\n",
       "    <tr style=\"text-align: right;\">\n",
       "      <th></th>\n",
       "      <th>Date</th>\n",
       "      <th>Open</th>\n",
       "      <th>High</th>\n",
       "      <th>Low</th>\n",
       "      <th>Close</th>\n",
       "      <th>Volume</th>\n",
       "      <th>Dividends</th>\n",
       "      <th>Stock Splits</th>\n",
       "      <th>Capital Gains</th>\n",
       "    </tr>\n",
       "  </thead>\n",
       "  <tbody>\n",
       "    <tr>\n",
       "      <th>0</th>\n",
       "      <td>2022-02-24 00:00:00-05:00</td>\n",
       "      <td>20.639791</td>\n",
       "      <td>21.006931</td>\n",
       "      <td>20.526957</td>\n",
       "      <td>21.006931</td>\n",
       "      <td>22700</td>\n",
       "      <td>0.0</td>\n",
       "      <td>0.0</td>\n",
       "      <td>0.0</td>\n",
       "    </tr>\n",
       "    <tr>\n",
       "      <th>1</th>\n",
       "      <td>2022-02-25 00:00:00-05:00</td>\n",
       "      <td>21.186596</td>\n",
       "      <td>21.335014</td>\n",
       "      <td>20.995648</td>\n",
       "      <td>21.335014</td>\n",
       "      <td>26800</td>\n",
       "      <td>0.0</td>\n",
       "      <td>0.0</td>\n",
       "      <td>0.0</td>\n",
       "    </tr>\n",
       "    <tr>\n",
       "      <th>2</th>\n",
       "      <td>2022-02-28 00:00:00-05:00</td>\n",
       "      <td>21.412258</td>\n",
       "      <td>21.412258</td>\n",
       "      <td>21.212631</td>\n",
       "      <td>21.349766</td>\n",
       "      <td>4100</td>\n",
       "      <td>0.0</td>\n",
       "      <td>0.0</td>\n",
       "      <td>0.0</td>\n",
       "    </tr>\n",
       "    <tr>\n",
       "      <th>3</th>\n",
       "      <td>2022-03-01 00:00:00-05:00</td>\n",
       "      <td>21.507735</td>\n",
       "      <td>21.507735</td>\n",
       "      <td>21.021683</td>\n",
       "      <td>21.066816</td>\n",
       "      <td>8300</td>\n",
       "      <td>0.0</td>\n",
       "      <td>0.0</td>\n",
       "      <td>0.0</td>\n",
       "    </tr>\n",
       "    <tr>\n",
       "      <th>4</th>\n",
       "      <td>2022-03-02 00:00:00-05:00</td>\n",
       "      <td>21.394900</td>\n",
       "      <td>21.446976</td>\n",
       "      <td>21.195273</td>\n",
       "      <td>21.403580</td>\n",
       "      <td>14300</td>\n",
       "      <td>0.0</td>\n",
       "      <td>0.0</td>\n",
       "      <td>0.0</td>\n",
       "    </tr>\n",
       "  </tbody>\n",
       "</table>\n",
       "</div>"
      ],
      "text/plain": [
       "                       Date       Open       High        Low      Close  \\\n",
       "0 2022-02-24 00:00:00-05:00  20.639791  21.006931  20.526957  21.006931   \n",
       "1 2022-02-25 00:00:00-05:00  21.186596  21.335014  20.995648  21.335014   \n",
       "2 2022-02-28 00:00:00-05:00  21.412258  21.412258  21.212631  21.349766   \n",
       "3 2022-03-01 00:00:00-05:00  21.507735  21.507735  21.021683  21.066816   \n",
       "4 2022-03-02 00:00:00-05:00  21.394900  21.446976  21.195273  21.403580   \n",
       "\n",
       "   Volume  Dividends  Stock Splits  Capital Gains  \n",
       "0   22700        0.0           0.0            0.0  \n",
       "1   26800        0.0           0.0            0.0  \n",
       "2    4100        0.0           0.0            0.0  \n",
       "3    8300        0.0           0.0            0.0  \n",
       "4   14300        0.0           0.0            0.0  "
      ]
     },
     "execution_count": 4,
     "metadata": {},
     "output_type": "execute_result"
    }
   ],
   "source": [
    "df.head()"
   ]
  },
  {
   "cell_type": "code",
   "execution_count": 5,
   "id": "0e507032-8402-4308-8efb-9c654ea69a6b",
   "metadata": {},
   "outputs": [
    {
     "data": {
      "text/html": [
       "<div>\n",
       "<style scoped>\n",
       "    .dataframe tbody tr th:only-of-type {\n",
       "        vertical-align: middle;\n",
       "    }\n",
       "\n",
       "    .dataframe tbody tr th {\n",
       "        vertical-align: top;\n",
       "    }\n",
       "\n",
       "    .dataframe thead th {\n",
       "        text-align: right;\n",
       "    }\n",
       "</style>\n",
       "<table border=\"1\" class=\"dataframe\">\n",
       "  <thead>\n",
       "    <tr style=\"text-align: right;\">\n",
       "      <th></th>\n",
       "      <th>Open</th>\n",
       "      <th>High</th>\n",
       "      <th>Low</th>\n",
       "      <th>Close</th>\n",
       "    </tr>\n",
       "  </thead>\n",
       "  <tbody>\n",
       "    <tr>\n",
       "      <th>0</th>\n",
       "      <td>20.639791</td>\n",
       "      <td>21.006931</td>\n",
       "      <td>20.526957</td>\n",
       "      <td>21.006931</td>\n",
       "    </tr>\n",
       "    <tr>\n",
       "      <th>1</th>\n",
       "      <td>21.186596</td>\n",
       "      <td>21.335014</td>\n",
       "      <td>20.995648</td>\n",
       "      <td>21.335014</td>\n",
       "    </tr>\n",
       "    <tr>\n",
       "      <th>2</th>\n",
       "      <td>21.412258</td>\n",
       "      <td>21.412258</td>\n",
       "      <td>21.212631</td>\n",
       "      <td>21.349766</td>\n",
       "    </tr>\n",
       "    <tr>\n",
       "      <th>3</th>\n",
       "      <td>21.507735</td>\n",
       "      <td>21.507735</td>\n",
       "      <td>21.021683</td>\n",
       "      <td>21.066816</td>\n",
       "    </tr>\n",
       "    <tr>\n",
       "      <th>4</th>\n",
       "      <td>21.394900</td>\n",
       "      <td>21.446976</td>\n",
       "      <td>21.195273</td>\n",
       "      <td>21.403580</td>\n",
       "    </tr>\n",
       "    <tr>\n",
       "      <th>...</th>\n",
       "      <td>...</td>\n",
       "      <td>...</td>\n",
       "      <td>...</td>\n",
       "      <td>...</td>\n",
       "    </tr>\n",
       "    <tr>\n",
       "      <th>409</th>\n",
       "      <td>21.629999</td>\n",
       "      <td>21.629999</td>\n",
       "      <td>21.420000</td>\n",
       "      <td>21.500000</td>\n",
       "    </tr>\n",
       "    <tr>\n",
       "      <th>410</th>\n",
       "      <td>21.540001</td>\n",
       "      <td>21.584999</td>\n",
       "      <td>21.309999</td>\n",
       "      <td>21.530001</td>\n",
       "    </tr>\n",
       "    <tr>\n",
       "      <th>411</th>\n",
       "      <td>21.459999</td>\n",
       "      <td>21.629999</td>\n",
       "      <td>21.410000</td>\n",
       "      <td>21.469999</td>\n",
       "    </tr>\n",
       "    <tr>\n",
       "      <th>412</th>\n",
       "      <td>21.540001</td>\n",
       "      <td>21.790001</td>\n",
       "      <td>21.540001</td>\n",
       "      <td>21.690001</td>\n",
       "    </tr>\n",
       "    <tr>\n",
       "      <th>413</th>\n",
       "      <td>21.629999</td>\n",
       "      <td>21.799999</td>\n",
       "      <td>21.570000</td>\n",
       "      <td>21.690001</td>\n",
       "    </tr>\n",
       "  </tbody>\n",
       "</table>\n",
       "<p>414 rows × 4 columns</p>\n",
       "</div>"
      ],
      "text/plain": [
       "          Open       High        Low      Close\n",
       "0    20.639791  21.006931  20.526957  21.006931\n",
       "1    21.186596  21.335014  20.995648  21.335014\n",
       "2    21.412258  21.412258  21.212631  21.349766\n",
       "3    21.507735  21.507735  21.021683  21.066816\n",
       "4    21.394900  21.446976  21.195273  21.403580\n",
       "..         ...        ...        ...        ...\n",
       "409  21.629999  21.629999  21.420000  21.500000\n",
       "410  21.540001  21.584999  21.309999  21.530001\n",
       "411  21.459999  21.629999  21.410000  21.469999\n",
       "412  21.540001  21.790001  21.540001  21.690001\n",
       "413  21.629999  21.799999  21.570000  21.690001\n",
       "\n",
       "[414 rows x 4 columns]"
      ]
     },
     "execution_count": 5,
     "metadata": {},
     "output_type": "execute_result"
    }
   ],
   "source": [
    "df = df[df.columns[1:5]]\n",
    "df"
   ]
  },
  {
   "cell_type": "code",
   "execution_count": 6,
   "id": "a8965ef0-f1d9-46b5-8085-ff2ed9e036ed",
   "metadata": {},
   "outputs": [
    {
     "data": {
      "text/plain": [
       "(414, 4)"
      ]
     },
     "execution_count": 6,
     "metadata": {},
     "output_type": "execute_result"
    }
   ],
   "source": [
    "dataset = df.to_numpy()\n",
    "dataset.shape"
   ]
  },
  {
   "cell_type": "code",
   "execution_count": 7,
   "id": "ff2d6619-b4bc-404e-bccb-61c934a37941",
   "metadata": {},
   "outputs": [],
   "source": [
    "close_prices = df['Close'].values\n",
    "samples, gts = [], []\n",
    "for i in range(250, len(close_prices)-1):\n",
    "    samples.append(close_prices[i-250: i])\n",
    "    gts.append(close_prices[i+1])\n",
    "\n",
    "train_x, train_y = samples[:-160], gts[:-160]\n",
    "val_x, val_y = samples[-160:], gts[-160:]"
   ]
  },
  {
   "cell_type": "code",
   "execution_count": 8,
   "id": "123f9b8c-6218-4d90-ac13-a9de98fbc033",
   "metadata": {},
   "outputs": [
    {
     "data": {
      "text/plain": [
       "[20.969404220581055,\n",
       " 21.18983268737793,\n",
       " 21.455303192138672,\n",
       " 21.41984748840332,\n",
       " 21.14958381652832,\n",
       " 21.14191246032715,\n",
       " 20.729808807373047,\n",
       " 20.576467514038086,\n",
       " 20.49021339416504,\n",
       " 20.83523178100586,\n",
       " 20.547718048095703,\n",
       " 20.8429012298584,\n",
       " 20.59563636779785,\n",
       " 20.628549575805664,\n",
       " 20.802793502807617,\n",
       " 20.61886978149414,\n",
       " 20.759231567382812,\n",
       " 20.68663215637207,\n",
       " 20.822153091430664,\n",
       " 20.802793502807617,\n",
       " 20.909278869628906,\n",
       " 20.92863655090332,\n",
       " 21.015756607055664,\n",
       " 21.006078720092773,\n",
       " 21.11256217956543,\n",
       " 21.11256217956543,\n",
       " 21.1416015625,\n",
       " 21.160964965820312,\n",
       " 21.180320739746094,\n",
       " 21.20936393737793,\n",
       " 21.1416015625,\n",
       " 21.10287857055664,\n",
       " 21.151283264160156,\n",
       " 21.160964965820312,\n",
       " 21.10287857055664,\n",
       " 21.19000244140625,\n",
       " 21.160964965820312,\n",
       " 21.227144241333008,\n",
       " 21.081151962280273,\n",
       " 21.003292083740234,\n",
       " 21.12981605529785,\n",
       " 21.236875534057617,\n",
       " 21.285539627075195,\n",
       " 21.197946548461914,\n",
       " 21.07141876220703,\n",
       " 20.925430297851562,\n",
       " 21.16874885559082,\n",
       " 21.2563419342041,\n",
       " 21.197946548461914,\n",
       " 21.188213348388672,\n",
       " 21.110353469848633,\n",
       " 20.974092483520508,\n",
       " 21.032489776611328,\n",
       " 20.828102111816406,\n",
       " 21.15901756286621,\n",
       " 21.197946548461914,\n",
       " 21.227144241333008,\n",
       " 21.092449188232422,\n",
       " 20.985084533691406,\n",
       " 20.876741409301758,\n",
       " 20.750831604003906,\n",
       " 20.985084533691406,\n",
       " 20.955801010131836,\n",
       " 20.877717971801758,\n",
       " 21.063169479370117,\n",
       " 21.355979919433594,\n",
       " 21.385265350341797,\n",
       " 21.27399444580078,\n",
       " 21.375503540039062,\n",
       " 21.47311019897461,\n",
       " 21.551193237304688,\n",
       " 21.47311019897461,\n",
       " 21.629276275634766,\n",
       " 21.609756469726562,\n",
       " 21.775686264038086,\n",
       " 21.6341609954834,\n",
       " 21.48079490661621,\n",
       " 21.461132049560547,\n",
       " 21.431638717651367,\n",
       " 21.402145385742188,\n",
       " 21.441469192504883,\n",
       " 21.579103469848633,\n",
       " 21.343158721923828,\n",
       " 21.628259658813477,\n",
       " 21.756061553955078,\n",
       " 21.785554885864258,\n",
       " 21.69707679748535,\n",
       " 21.52994728088379,\n",
       " 21.431638717651367,\n",
       " 21.520116806030273,\n",
       " 21.61842918395996,\n",
       " 21.716739654541016,\n",
       " 21.80521583557129,\n",
       " 21.874034881591797,\n",
       " 21.883865356445312,\n",
       " 21.913358688354492,\n",
       " 21.942852020263672,\n",
       " 22.041162490844727,\n",
       " 22.011669158935547,\n",
       " 21.997840881347656,\n",
       " 21.938573837280273,\n",
       " 22.11637306213379,\n",
       " 22.007719039916992,\n",
       " 22.017597198486328,\n",
       " 22.007719039916992,\n",
       " 22.05710792541504,\n",
       " 22.086740493774414,\n",
       " 21.997840881347656,\n",
       " 21.92869758605957,\n",
       " 21.978084564208984,\n",
       " 22.03142738342285,\n",
       " 22.047229766845703,\n",
       " 22.017597198486328,\n",
       " 22.047229766845703,\n",
       " 22.13612937927246,\n",
       " 21.958328247070312,\n",
       " 21.87930679321289,\n",
       " 21.73114013671875,\n",
       " 21.721261978149414,\n",
       " 21.726238250732422,\n",
       " 21.726238250732422,\n",
       " 21.696380615234375,\n",
       " 21.686429977416992,\n",
       " 21.785951614379883,\n",
       " 21.865571975708008,\n",
       " 21.915334701538086,\n",
       " 21.99495506286621,\n",
       " 21.97504997253418,\n",
       " 21.996944427490234,\n",
       " 21.945192337036133,\n",
       " 21.88547706604004,\n",
       " 21.985002517700195,\n",
       " 21.945192337036133,\n",
       " 21.895429611206055,\n",
       " 21.895429611206055,\n",
       " 22.054670333862305,\n",
       " 22.12433624267578,\n",
       " 21.775999069213867,\n",
       " 21.8799991607666,\n",
       " 21.90999984741211,\n",
       " 21.81999969482422,\n",
       " 21.645999908447266,\n",
       " 21.65999984741211,\n",
       " 21.600000381469727,\n",
       " 21.450000762939453,\n",
       " 21.281999588012695,\n",
       " 21.450000762939453,\n",
       " 21.344999313354492,\n",
       " 21.23699951171875,\n",
       " 21.09000015258789,\n",
       " 21.030000686645508,\n",
       " 21.176000595092773,\n",
       " 21.275999069213867,\n",
       " 21.489999771118164,\n",
       " 21.579999923706055,\n",
       " 21.5,\n",
       " 21.530000686645508,\n",
       " 21.469999313354492,\n",
       " 21.690000534057617,\n",
       " 21.690000534057617]"
      ]
     },
     "execution_count": 8,
     "metadata": {},
     "output_type": "execute_result"
    }
   ],
   "source": [
    "val_y"
   ]
  },
  {
   "cell_type": "code",
   "execution_count": 9,
   "id": "5006a7ef-9b6b-43fd-a41b-d35930034e48",
   "metadata": {},
   "outputs": [
    {
     "data": {
      "text/plain": [
       "[array([21.0069313 , 21.33501434, 21.34976578, 21.06681633, 21.40357971,\n",
       "        21.33848572, 21.28641129, 20.87586975, 20.77431488, 21.01300621,\n",
       "        21.1466713 , 21.02081871, 21.01300621, 21.39489937, 21.69954872,\n",
       "        21.95038605, 22.16130257, 22.44148827, 22.3013916 , 22.09300613,\n",
       "        22.2357254 , 22.16567993, 22.19194603, 22.27512741, 22.25761604,\n",
       "        22.19632339, 22.22171593, 22.29263878, 22.25061035, 22.1893177 ,\n",
       "        22.27512741, 22.32328033, 22.21383667, 22.17180824, 22.37582016,\n",
       "        22.32766342, 22.31971931, 22.44327545, 22.51388168, 22.48740387,\n",
       "        22.05495644, 22.10790634, 21.77253532, 21.79901314, 22.04612732,\n",
       "        21.53425026, 21.51659966, 21.60485268, 22.09908295, 21.61367416,\n",
       "        21.47247314, 21.10180092, 21.03119659, 20.91646385, 20.78408051,\n",
       "        21.04884338, 21.19005203, 21.44334793, 20.65169716, 20.51931572,\n",
       "        20.43988609, 20.58034515, 20.66213989, 20.74925804, 20.81148911,\n",
       "        20.78481674, 20.97150803, 20.98039818, 20.92439079, 21.03373718,\n",
       "        21.03373718, 21.00706482, 21.06929779, 21.00706482, 20.78481674,\n",
       "        20.34031677, 20.22474861, 20.40254784, 20.01138496, 20.00249672,\n",
       "        20.158741  , 20.16772079, 20.2431488 , 20.36526108, 20.44608116,\n",
       "        20.28445244, 20.39220428, 20.3742466 , 20.42812538, 20.40118408,\n",
       "        20.46134758, 20.41913795, 20.59872437, 20.57179642, 20.51791763,\n",
       "        20.49097443, 20.58975029, 20.71545982, 20.52793884, 20.7272377 ,\n",
       "        20.81782913, 20.90842247, 20.88124466, 20.89030075, 20.83594704,\n",
       "        20.95371437, 21.0533638 , 21.06242943, 21.09865952, 21.01713181,\n",
       "        21.08054543, 21.10772133, 21.12584114, 21.18472672, 21.13489914,\n",
       "        21.24360847, 21.24360847, 21.25266647, 21.25266647, 21.25266647,\n",
       "        21.15301704, 21.24360847, 21.21642876, 20.87908363, 20.82437325,\n",
       "        20.92466927, 21.07055283, 20.53261948, 20.28644371, 20.11321068,\n",
       "        20.07036018, 20.04939079, 19.89439011, 19.73939705, 20.00380516,\n",
       "        20.13144875, 20.3776207 , 20.5417347 , 19.86704063, 19.74851227,\n",
       "        19.74851227, 19.42028046, 19.69199181, 19.47094154, 19.38804626,\n",
       "        19.27752113, 19.08410072, 18.94594574, 18.87226105, 19.19462776,\n",
       "        18.85383797, 18.70646858, 19.0288353 , 19.48015213, 19.55383492,\n",
       "        19.35765076, 18.93672943, 18.89068222, 18.97357368, 18.98278427,\n",
       "        19.44054794, 19.21304512, 19.54462242, 19.71962357, 19.70120239,\n",
       "        19.63672829, 19.98672676, 20.09464455, 20.2807045 , 20.18767166,\n",
       "        20.36443329, 20.56909943, 20.42025185, 20.42025185, 20.44815826,\n",
       "        20.42025185, 20.46490479, 20.46676826, 20.50397682, 20.4109478 ,\n",
       "        20.48630142, 20.39234161, 20.54118538, 20.4407177 , 20.57839966,\n",
       "        20.57374954, 20.5532856 , 20.43139076, 20.5907917 , 20.69393539,\n",
       "        20.74175262, 20.62829971, 20.61892128, 20.72206116, 20.86271286,\n",
       "        20.84301949, 20.78769493, 20.5532856 , 20.58141518, 20.58141518,\n",
       "        20.53453064, 20.71831131, 20.87208557, 20.91897202, 20.52515602,\n",
       "        20.30949593, 20.17822456, 20.27198792, 20.4126358 , 20.36575317,\n",
       "        20.45014381, 20.42201614, 20.40325928, 20.48562241, 20.41935539,\n",
       "        20.44775391, 20.51401901, 20.41935539, 20.6560173 , 20.67494965,\n",
       "        20.70335007, 20.68441963, 20.66548347, 20.80748177, 20.77908325,\n",
       "        20.76961517, 20.80274963, 20.87374496, 21.00329208, 21.06044388,\n",
       "        20.98424149, 21.04139328, 21.07473183, 21.05567932, 21.06997108,\n",
       "        21.13664818, 21.13664818, 21.19379997, 21.17474556, 21.17474556,\n",
       "        21.17474556, 21.17474556, 21.19379997, 21.25095177, 21.33667755,\n",
       "        21.27000046, 21.34620476, 21.52718544, 21.22816849, 21.1131649 ]),\n",
       " array([21.33501434, 21.34976578, 21.06681633, 21.40357971, 21.33848572,\n",
       "        21.28641129, 20.87586975, 20.77431488, 21.01300621, 21.1466713 ,\n",
       "        21.02081871, 21.01300621, 21.39489937, 21.69954872, 21.95038605,\n",
       "        22.16130257, 22.44148827, 22.3013916 , 22.09300613, 22.2357254 ,\n",
       "        22.16567993, 22.19194603, 22.27512741, 22.25761604, 22.19632339,\n",
       "        22.22171593, 22.29263878, 22.25061035, 22.1893177 , 22.27512741,\n",
       "        22.32328033, 22.21383667, 22.17180824, 22.37582016, 22.32766342,\n",
       "        22.31971931, 22.44327545, 22.51388168, 22.48740387, 22.05495644,\n",
       "        22.10790634, 21.77253532, 21.79901314, 22.04612732, 21.53425026,\n",
       "        21.51659966, 21.60485268, 22.09908295, 21.61367416, 21.47247314,\n",
       "        21.10180092, 21.03119659, 20.91646385, 20.78408051, 21.04884338,\n",
       "        21.19005203, 21.44334793, 20.65169716, 20.51931572, 20.43988609,\n",
       "        20.58034515, 20.66213989, 20.74925804, 20.81148911, 20.78481674,\n",
       "        20.97150803, 20.98039818, 20.92439079, 21.03373718, 21.03373718,\n",
       "        21.00706482, 21.06929779, 21.00706482, 20.78481674, 20.34031677,\n",
       "        20.22474861, 20.40254784, 20.01138496, 20.00249672, 20.158741  ,\n",
       "        20.16772079, 20.2431488 , 20.36526108, 20.44608116, 20.28445244,\n",
       "        20.39220428, 20.3742466 , 20.42812538, 20.40118408, 20.46134758,\n",
       "        20.41913795, 20.59872437, 20.57179642, 20.51791763, 20.49097443,\n",
       "        20.58975029, 20.71545982, 20.52793884, 20.7272377 , 20.81782913,\n",
       "        20.90842247, 20.88124466, 20.89030075, 20.83594704, 20.95371437,\n",
       "        21.0533638 , 21.06242943, 21.09865952, 21.01713181, 21.08054543,\n",
       "        21.10772133, 21.12584114, 21.18472672, 21.13489914, 21.24360847,\n",
       "        21.24360847, 21.25266647, 21.25266647, 21.25266647, 21.15301704,\n",
       "        21.24360847, 21.21642876, 20.87908363, 20.82437325, 20.92466927,\n",
       "        21.07055283, 20.53261948, 20.28644371, 20.11321068, 20.07036018,\n",
       "        20.04939079, 19.89439011, 19.73939705, 20.00380516, 20.13144875,\n",
       "        20.3776207 , 20.5417347 , 19.86704063, 19.74851227, 19.74851227,\n",
       "        19.42028046, 19.69199181, 19.47094154, 19.38804626, 19.27752113,\n",
       "        19.08410072, 18.94594574, 18.87226105, 19.19462776, 18.85383797,\n",
       "        18.70646858, 19.0288353 , 19.48015213, 19.55383492, 19.35765076,\n",
       "        18.93672943, 18.89068222, 18.97357368, 18.98278427, 19.44054794,\n",
       "        19.21304512, 19.54462242, 19.71962357, 19.70120239, 19.63672829,\n",
       "        19.98672676, 20.09464455, 20.2807045 , 20.18767166, 20.36443329,\n",
       "        20.56909943, 20.42025185, 20.42025185, 20.44815826, 20.42025185,\n",
       "        20.46490479, 20.46676826, 20.50397682, 20.4109478 , 20.48630142,\n",
       "        20.39234161, 20.54118538, 20.4407177 , 20.57839966, 20.57374954,\n",
       "        20.5532856 , 20.43139076, 20.5907917 , 20.69393539, 20.74175262,\n",
       "        20.62829971, 20.61892128, 20.72206116, 20.86271286, 20.84301949,\n",
       "        20.78769493, 20.5532856 , 20.58141518, 20.58141518, 20.53453064,\n",
       "        20.71831131, 20.87208557, 20.91897202, 20.52515602, 20.30949593,\n",
       "        20.17822456, 20.27198792, 20.4126358 , 20.36575317, 20.45014381,\n",
       "        20.42201614, 20.40325928, 20.48562241, 20.41935539, 20.44775391,\n",
       "        20.51401901, 20.41935539, 20.6560173 , 20.67494965, 20.70335007,\n",
       "        20.68441963, 20.66548347, 20.80748177, 20.77908325, 20.76961517,\n",
       "        20.80274963, 20.87374496, 21.00329208, 21.06044388, 20.98424149,\n",
       "        21.04139328, 21.07473183, 21.05567932, 21.06997108, 21.13664818,\n",
       "        21.13664818, 21.19379997, 21.17474556, 21.17474556, 21.17474556,\n",
       "        21.17474556, 21.19379997, 21.25095177, 21.33667755, 21.27000046,\n",
       "        21.34620476, 21.52718544, 21.22816849, 21.1131649 , 21.22145844]),\n",
       " array([21.34976578, 21.06681633, 21.40357971, 21.33848572, 21.28641129,\n",
       "        20.87586975, 20.77431488, 21.01300621, 21.1466713 , 21.02081871,\n",
       "        21.01300621, 21.39489937, 21.69954872, 21.95038605, 22.16130257,\n",
       "        22.44148827, 22.3013916 , 22.09300613, 22.2357254 , 22.16567993,\n",
       "        22.19194603, 22.27512741, 22.25761604, 22.19632339, 22.22171593,\n",
       "        22.29263878, 22.25061035, 22.1893177 , 22.27512741, 22.32328033,\n",
       "        22.21383667, 22.17180824, 22.37582016, 22.32766342, 22.31971931,\n",
       "        22.44327545, 22.51388168, 22.48740387, 22.05495644, 22.10790634,\n",
       "        21.77253532, 21.79901314, 22.04612732, 21.53425026, 21.51659966,\n",
       "        21.60485268, 22.09908295, 21.61367416, 21.47247314, 21.10180092,\n",
       "        21.03119659, 20.91646385, 20.78408051, 21.04884338, 21.19005203,\n",
       "        21.44334793, 20.65169716, 20.51931572, 20.43988609, 20.58034515,\n",
       "        20.66213989, 20.74925804, 20.81148911, 20.78481674, 20.97150803,\n",
       "        20.98039818, 20.92439079, 21.03373718, 21.03373718, 21.00706482,\n",
       "        21.06929779, 21.00706482, 20.78481674, 20.34031677, 20.22474861,\n",
       "        20.40254784, 20.01138496, 20.00249672, 20.158741  , 20.16772079,\n",
       "        20.2431488 , 20.36526108, 20.44608116, 20.28445244, 20.39220428,\n",
       "        20.3742466 , 20.42812538, 20.40118408, 20.46134758, 20.41913795,\n",
       "        20.59872437, 20.57179642, 20.51791763, 20.49097443, 20.58975029,\n",
       "        20.71545982, 20.52793884, 20.7272377 , 20.81782913, 20.90842247,\n",
       "        20.88124466, 20.89030075, 20.83594704, 20.95371437, 21.0533638 ,\n",
       "        21.06242943, 21.09865952, 21.01713181, 21.08054543, 21.10772133,\n",
       "        21.12584114, 21.18472672, 21.13489914, 21.24360847, 21.24360847,\n",
       "        21.25266647, 21.25266647, 21.25266647, 21.15301704, 21.24360847,\n",
       "        21.21642876, 20.87908363, 20.82437325, 20.92466927, 21.07055283,\n",
       "        20.53261948, 20.28644371, 20.11321068, 20.07036018, 20.04939079,\n",
       "        19.89439011, 19.73939705, 20.00380516, 20.13144875, 20.3776207 ,\n",
       "        20.5417347 , 19.86704063, 19.74851227, 19.74851227, 19.42028046,\n",
       "        19.69199181, 19.47094154, 19.38804626, 19.27752113, 19.08410072,\n",
       "        18.94594574, 18.87226105, 19.19462776, 18.85383797, 18.70646858,\n",
       "        19.0288353 , 19.48015213, 19.55383492, 19.35765076, 18.93672943,\n",
       "        18.89068222, 18.97357368, 18.98278427, 19.44054794, 19.21304512,\n",
       "        19.54462242, 19.71962357, 19.70120239, 19.63672829, 19.98672676,\n",
       "        20.09464455, 20.2807045 , 20.18767166, 20.36443329, 20.56909943,\n",
       "        20.42025185, 20.42025185, 20.44815826, 20.42025185, 20.46490479,\n",
       "        20.46676826, 20.50397682, 20.4109478 , 20.48630142, 20.39234161,\n",
       "        20.54118538, 20.4407177 , 20.57839966, 20.57374954, 20.5532856 ,\n",
       "        20.43139076, 20.5907917 , 20.69393539, 20.74175262, 20.62829971,\n",
       "        20.61892128, 20.72206116, 20.86271286, 20.84301949, 20.78769493,\n",
       "        20.5532856 , 20.58141518, 20.58141518, 20.53453064, 20.71831131,\n",
       "        20.87208557, 20.91897202, 20.52515602, 20.30949593, 20.17822456,\n",
       "        20.27198792, 20.4126358 , 20.36575317, 20.45014381, 20.42201614,\n",
       "        20.40325928, 20.48562241, 20.41935539, 20.44775391, 20.51401901,\n",
       "        20.41935539, 20.6560173 , 20.67494965, 20.70335007, 20.68441963,\n",
       "        20.66548347, 20.80748177, 20.77908325, 20.76961517, 20.80274963,\n",
       "        20.87374496, 21.00329208, 21.06044388, 20.98424149, 21.04139328,\n",
       "        21.07473183, 21.05567932, 21.06997108, 21.13664818, 21.13664818,\n",
       "        21.19379997, 21.17474556, 21.17474556, 21.17474556, 21.17474556,\n",
       "        21.19379997, 21.25095177, 21.33667755, 21.27000046, 21.34620476,\n",
       "        21.52718544, 21.22816849, 21.1131649 , 21.22145844, 21.00774193])]"
      ]
     },
     "execution_count": 9,
     "metadata": {},
     "output_type": "execute_result"
    }
   ],
   "source": [
    "train_x"
   ]
  },
  {
   "cell_type": "code",
   "execution_count": 10,
   "id": "72f5e919-1a17-4de6-a51c-037e555eea3a",
   "metadata": {},
   "outputs": [
    {
     "data": {
      "text/plain": [
       "array([21.02459735, 21.01905968, 21.03329725, 21.03423043, 21.01884594,\n",
       "       21.028399  , 21.00339674, 21.01970402, 20.95997965, 20.97289106,\n",
       "       20.95252656, 21.01110465, 20.99362099, 21.01368495, 21.04230393,\n",
       "       21.0339293 , 21.08678173, 21.03263937, 21.06843311, 21.07049664,\n",
       "       21.04786122, 21.05095324, 21.07713252, 21.08043726, 21.08778556,\n",
       "       21.07268651, 21.05415073, 21.07033139, 21.04594134, 21.05924134,\n",
       "       21.05847983, 21.07261977, 21.08926866, 21.06720709, 21.08320349,\n",
       "       21.07121854, 21.08436033, 21.08980402, 21.08723089, 21.05822222,\n",
       "       21.07213134, 21.05564496, 21.07508924, 21.07855981, 21.05943993,\n",
       "       21.06742871, 21.06836143, 21.08924789, 21.05984668, 21.05294453,\n",
       "       21.05533213, 21.06686548, 21.04511333, 21.00786734, 21.00698844,\n",
       "       20.97819502, 20.96351315, 20.93422158, 20.95859637, 20.93679236,\n",
       "       20.93058706, 20.94336665, 20.90207908, 20.91910702, 20.91303334,\n",
       "       20.91885446, 20.92684651, 20.9589281 , 20.94584995, 20.95436294,\n",
       "       20.96056005, 20.98038661, 20.98113301, 20.95699355, 20.96394724,\n",
       "       20.9597961 , 20.96593108, 20.98108068, 20.97287036, 20.98164992,\n",
       "       20.97541169, 20.98656916, 20.96669279, 20.96624462, 20.99566667,\n",
       "       21.01620829, 21.00894075, 20.98491666, 20.98920892, 20.96339185,\n",
       "       21.00688135, 21.01014035, 20.99888161, 20.99331617, 20.99522105,\n",
       "       21.01380712, 20.99748437, 20.9769393 , 20.95952912, 21.00077138,\n",
       "       20.99233707, 21.02246903, 20.98444105, 21.04078623, 21.00156168,\n",
       "       20.97640137, 20.97043372, 20.92636377, 20.98814267, 20.95564386,\n",
       "       20.96816657, 20.95764204, 20.96606945, 20.95318253, 20.97834797,\n",
       "       20.92087962, 20.94191555, 20.98506302, 20.97378537, 20.98689872,\n",
       "       20.98291434, 20.96840507, 20.94561576, 20.94557592, 20.96664728,\n",
       "       20.94349337, 20.93235239, 20.93598855, 20.93471278, 20.95187111,\n",
       "       20.95311616, 20.95390018, 20.95390617, 20.94658114, 20.96922604,\n",
       "       20.98988922, 20.99321347, 20.99916431, 21.00756515, 20.99704166,\n",
       "       21.02125419, 20.99881489, 21.0191609 , 21.01628317, 21.04809665,\n",
       "       21.03171386, 21.03022563, 21.03321338, 21.04863356, 21.06262873,\n",
       "       21.07101375, 21.08189232, 21.06907238, 21.08098853, 21.05264044,\n",
       "       21.05221378, 21.05342946, 21.0413011 , 21.04493406, 21.03337488])"
      ]
     },
     "execution_count": 10,
     "metadata": {},
     "output_type": "execute_result"
    }
   ],
   "source": [
    "lin_reg = LinearRegression().fit(train_x, train_y)\n",
    "lin_reg.predict(val_x)"
   ]
  },
  {
   "cell_type": "code",
   "execution_count": 11,
   "id": "724225ea-f54a-4c11-8702-f2c827150cef",
   "metadata": {},
   "outputs": [
    {
     "data": {
      "text/plain": [
       "((250,), 20.967584249866388)"
      ]
     },
     "execution_count": 11,
     "metadata": {},
     "output_type": "execute_result"
    }
   ],
   "source": [
    "coef = lin_reg.coef_\n",
    "bias = lin_reg.intercept_\n",
    "coef.shape, bias"
   ]
  },
  {
   "cell_type": "code",
   "execution_count": 12,
   "id": "02c944ea-a61c-4565-9c25-85779935017c",
   "metadata": {},
   "outputs": [
    {
     "name": "stdout",
     "output_type": "stream",
     "text": [
      "[array([21.02459735]), array([21.03337488])]\n"
     ]
    },
    {
     "data": {
      "image/png": "[encoded data removed]",
      "text/plain": [
       "<Figure size 700x300 with 1 Axes>"
      ]
     },
     "metadata": {},
     "output_type": "display_data"
    }
   ],
   "source": [
    "plt.figure(figsize=(7,3))\n",
    "regression = []\n",
    "\n",
    "plt.plot(val_y)\n",
    "print([lin_reg.predict([val_x[0]]), lin_reg.predict([val_x[-1]])])\n",
    "plt.plot([0, len(val_y)], [lin_reg.predict([val_x[0]]), lin_reg.predict([val_x[-1]])])\n",
    "\n",
    "# plt.plot(regression, color='red')\n",
    "plt.show()"
   ]
  },
  {
   "cell_type": "code",
   "execution_count": 13,
   "id": "e07b47ac-ebba-45bd-95a8-d6ba9f0a8e96",
   "metadata": {},
   "outputs": [],
   "source": [
    "start, end = (lin_reg.predict([val_x[0]]), lin_reg.predict([val_x[-1]]))"
   ]
  },
  {
   "cell_type": "code",
   "execution_count": 14,
   "id": "0fbbb2ce-8c29-4e26-9749-2a4dd7607b91",
   "metadata": {},
   "outputs": [
    {
     "data": {
      "text/plain": [
       "array([-0.00576636])"
      ]
     },
     "execution_count": 14,
     "metadata": {},
     "output_type": "execute_result"
    }
   ],
   "source": [
    "tan = (end - start) / (val_x[-1][0] - val_x[0][0])\n",
    "tan"
   ]
  },
  {
   "cell_type": "code",
   "execution_count": 15,
   "id": "d9158f39-e9ad-45e1-b07d-6ed8c0862504",
   "metadata": {},
   "outputs": [
    {
     "data": {
      "text/plain": [
       "array([21.15485377])"
      ]
     },
     "execution_count": 15,
     "metadata": {},
     "output_type": "execute_result"
    }
   ],
   "source": [
    "b = end - tan * val_x[0][0]\n",
    "b"
   ]
  },
  {
   "cell_type": "code",
   "execution_count": 16,
   "id": "a794ba73-4984-419a-809d-9d6d19f234b7",
   "metadata": {},
   "outputs": [],
   "source": [
    "ups, downs = np.zeros(len(val_x[-1])), np.zeros(len(val_x[-1]))\n",
    "treshold = 1e-2\n",
    "\n",
    "for idx, x in enumerate(val_x[-1]):\n",
    "    _x = x * tan + b\n",
    "    if x - _x > treshold:\n",
    "        ups[idx] += 1\n",
    "    elif x - _x <= -treshold:\n",
    "        downs[idx] += 1"
   ]
  },
  {
   "cell_type": "code",
   "execution_count": 17,
   "id": "2b0e6739-126a-4fe4-9609-070aa62dfceb",
   "metadata": {},
   "outputs": [
    {
     "name": "stdout",
     "output_type": "stream",
     "text": [
      "148.0 98.0\n"
     ]
    }
   ],
   "source": [
    "print(ups.sum(), downs.sum())"
   ]
  },
  {
   "cell_type": "code",
   "execution_count": 18,
   "id": "461c6617-7691-4e36-bcdd-28af6e12abae",
   "metadata": {},
   "outputs": [
    {
     "name": "stdout",
     "output_type": "stream",
     "text": [
      "fitted ratio = 0.016\toutfitted ratio = 0.984\n"
     ]
    }
   ],
   "source": [
    "print(f'fitted ratio = {(len(val_x[-1]) - ups.sum() - downs.sum()) / len(val_x[-1])}' +\\\n",
    "      f'\\toutfitted ratio = {(ups.sum() + downs.sum()) / len(val_x[-1])}')\n"
   ]
  },
  {
   "cell_type": "code",
   "execution_count": 19,
   "id": "71d66412-a235-428e-a217-ea365a1a45b6",
   "metadata": {},
   "outputs": [],
   "source": [
    "df_to_predict = get_data_markets(ticker=TICKER_NAME, interval=interval, start_date='2022-10-18', end_date=end_date, source='yahoo')\n",
    "close_prices = df_to_predict['Close'].values\n",
    "\n",
    "fitted = close_prices * tan + b\n",
    "residuals = close_prices - fitted\n",
    "# TODO make points and sen calculate residuals"
   ]
  },
  {
   "cell_type": "code",
   "execution_count": 20,
   "id": "3eb13720-65b5-4872-8c3a-3197f0d5c69f",
   "metadata": {},
   "outputs": [
    {
     "data": {
      "image/png": "[encoded data removed]",
      "text/plain": [
       "<Figure size 1000x300 with 1 Axes>"
      ]
     },
     "metadata": {},
     "output_type": "display_data"
    }
   ],
   "source": [
    "plt.figure(figsize=(10, 3))\n",
    "plt.plot(fitted, label='fitted', color='orange')\n",
    "plt.plot(close_prices, label='gt', color='blue')\n",
    "plt.legend()\n",
    "plt.show()"
   ]
  },
  {
   "cell_type": "code",
   "execution_count": 21,
   "id": "252f02d3-517a-43b2-89c0-712c4398b128",
   "metadata": {},
   "outputs": [
    {
     "data": {
      "image/png": "[encoded data removed]",
      "text/plain": [
       "<Figure size 1000x300 with 1 Axes>"
      ]
     },
     "metadata": {},
     "output_type": "display_data"
    }
   ],
   "source": [
    "plt.figure(figsize=(10, 3))\n",
    "plt.plot(fitted, residuals, 'bo')\n",
    "plt.plot(fitted, np.zeros(len(residuals)), 'r--', linewidth=1)\n",
    "plt.title('Residual VS Fitted')\n",
    "plt.show()"
   ]
  },
  {
   "cell_type": "code",
   "execution_count": 22,
   "id": "63bb5d57-4290-4991-a508-c94ce0f224c6",
   "metadata": {},
   "outputs": [
    {
     "data": {
      "image/png": "[encoded data removed]",
      "text/plain": [
       "<Figure size 1000x300 with 1 Axes>"
      ]
     },
     "metadata": {},
     "output_type": "display_data"
    }
   ],
   "source": [
    "import seaborn as sns\n",
    "\n",
    "data = {'fitted': fitted, 'gt': close_prices }\n",
    "\n",
    "plt.figure(figsize=(10,3))\n",
    "fig = sns.residplot(x='fitted', y='gt', data=data) \n",
    "plt.title('Residual VS Fitted')\n",
    "plt.show()"
   ]
  },
  {
   "cell_type": "code",
   "execution_count": 23,
   "id": "eee61294-70c8-4558-ad87-98ed9037ccc5",
   "metadata": {},
   "outputs": [],
   "source": [
    "import statsmodels.api as sm"
   ]
  },
  {
   "cell_type": "code",
   "execution_count": 29,
   "id": "537af0c0-8180-4e10-b82a-03e0569cfb40",
   "metadata": {},
   "outputs": [
    {
     "data": {
      "image/png": "[encoded data removed]",
      "text/plain": [
       "<Figure size 640x480 with 1 Axes>"
      ]
     },
     "metadata": {},
     "output_type": "display_data"
    }
   ],
   "source": [
    "# немного нормализовал, чтообы помещался\n",
    "fig = sm.qqplot((close_prices - np.min(close_prices)) / (np.max(close_prices) - np.min(close_prices)), line='45')\n",
    "plt.title('Normal Q-Q')\n",
    "plt.show()"
   ]
  },
  {
   "cell_type": "code",
   "execution_count": null,
   "id": "04dee23a-9af0-4a7c-addb-d124bcbea9a9",
   "metadata": {},
   "outputs": [],
   "source": []
  }
 ],
 "metadata": {
  "kernelspec": {
   "display_name": "venv",
   "language": "python",
   "name": "venv"
  },
  "language_info": {
   "codemirror_mode": {
    "name": "ipython",
    "version": 3
   },
   "file_extension": ".py",
   "mimetype": "text/x-python",
   "name": "python",
   "nbconvert_exporter": "python",
   "pygments_lexer": "ipython3",
   "version": "3.9.13"
  }
 },
 "nbformat": 4,
 "nbformat_minor": 5
}
