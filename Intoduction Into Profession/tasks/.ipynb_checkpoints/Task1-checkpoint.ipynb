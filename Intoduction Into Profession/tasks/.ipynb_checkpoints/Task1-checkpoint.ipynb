{
 "cells": [
  {
   "cell_type": "code",
   "execution_count": 2,
   "id": "bd4b3a6e-9954-4f46-acb1-13c0368d47e6",
   "metadata": {},
   "outputs": [],
   "source": [
    "import apimoex\n",
    "import numpy as np\n",
    "import pandas as pd\n",
    "import requests \n",
    "import matplotlib.pyplot as plt"
   ]
  },
  {
   "cell_type": "markdown",
   "id": "4063132a-63a4-4839-a388-c05a4a1b2e9d",
   "metadata": {},
   "source": [
    "**Задание:**\n",
    "1. Построить линейный график цен акций ПАО \"Сбербанк\" (SBER) за последний год, период - 1 день.\n",
    "2. Построить простую (SMA) и экспоненциальную (EMA) скользящую среднюю с окном сглаживания n = 21 день по ценам закрытия (Close). Установить зеленый цвет для SMA, красный для EMA. В качестве ответа привести таблицу с указанием даты пересечения индикаторов на графике. "
   ]
  },
  {
   "cell_type": "code",
   "execution_count": 3,
   "id": "78120a63-01e8-4dc4-86cb-3c672183bdb7",
   "metadata": {},
   "outputs": [],
   "source": [
    "def get_data(ticker: str, start_date: str, end_date: str, interval=24) -> pd.DataFrame:\n",
    "    \"\"\"\n",
    "    Функция возвращает данные о котивках за указанный период в формате  `pd.DataFrame`\n",
    "\n",
    "    Аргументы:\n",
    "        ticker, str - Тикер ценной бумаги, название комании другими словами\n",
    "        start_date, str - Дата начала отсчета данных в формате: \"ГГГГ-ММ-ДД\"\n",
    "        end_date, str - Дата конца отсчета данных в формате: \"ГГГГ-ММ-ДД\"\n",
    "        interval, int - размер свечи, по умолчанию равен дневному размеру.\n",
    "            Принимает следующие целые значения:\n",
    "            1 (1 минута), 10 (10 минут), 60 (1 час), 24 (1 день),\n",
    "            7 (1 неделя), 31 (1 месяц), 4 (1 квартал)\n",
    "\n",
    "        Возвращаемое значение:\n",
    "        data_frame, pd.DataFrame - дата фрейм, содержищий информацию о котировках:\n",
    "            начало (begin, date), цена открытия (open, float), \n",
    "            цена закрытия (close, float), наивысшая цена (high, float),\n",
    "            низшая цена (low, float), объем (value, float)\n",
    "    \"\"\"\n",
    "    with requests.Session() as session: # open an internet session\n",
    "        # get candles\n",
    "        data = apimoex.get_market_candles(session, security=ticker, start=start_date, end=end_date)\n",
    "    \n",
    "    # returns     \n",
    "    df = pd.DataFrame(data)\n",
    "\n",
    "    return df"
   ]
  },
  {
   "cell_type": "code",
   "execution_count": 4,
   "id": "6632b34e-4e83-494c-abac-5b21d5baee79",
   "metadata": {},
   "outputs": [],
   "source": [
    "TICKER = 'SBER'\n",
    "start_date = '2023-08-24'\n",
    "end_date = '2023-09-24'"
   ]
  },
  {
   "cell_type": "code",
   "execution_count": 5,
   "id": "b2a0824e-8611-4c71-973a-2efefec2c7ea",
   "metadata": {},
   "outputs": [
    {
     "data": {
      "text/html": [
       "<div>\n",
       "<style scoped>\n",
       "    .dataframe tbody tr th:only-of-type {\n",
       "        vertical-align: middle;\n",
       "    }\n",
       "\n",
       "    .dataframe tbody tr th {\n",
       "        vertical-align: top;\n",
       "    }\n",
       "\n",
       "    .dataframe thead th {\n",
       "        text-align: right;\n",
       "    }\n",
       "</style>\n",
       "<table border=\"1\" class=\"dataframe\">\n",
       "  <thead>\n",
       "    <tr style=\"text-align: right;\">\n",
       "      <th></th>\n",
       "      <th>begin</th>\n",
       "      <th>open</th>\n",
       "      <th>close</th>\n",
       "      <th>high</th>\n",
       "      <th>low</th>\n",
       "      <th>value</th>\n",
       "    </tr>\n",
       "  </thead>\n",
       "  <tbody>\n",
       "    <tr>\n",
       "      <th>0</th>\n",
       "      <td>2023-08-24 00:00:00</td>\n",
       "      <td>257.63</td>\n",
       "      <td>259.63</td>\n",
       "      <td>259.94</td>\n",
       "      <td>256.40</td>\n",
       "      <td>6.959479e+09</td>\n",
       "    </tr>\n",
       "    <tr>\n",
       "      <th>1</th>\n",
       "      <td>2023-08-25 00:00:00</td>\n",
       "      <td>258.80</td>\n",
       "      <td>260.50</td>\n",
       "      <td>261.60</td>\n",
       "      <td>257.61</td>\n",
       "      <td>7.426718e+09</td>\n",
       "    </tr>\n",
       "    <tr>\n",
       "      <th>2</th>\n",
       "      <td>2023-08-28 00:00:00</td>\n",
       "      <td>261.32</td>\n",
       "      <td>266.93</td>\n",
       "      <td>267.83</td>\n",
       "      <td>260.81</td>\n",
       "      <td>1.533407e+10</td>\n",
       "    </tr>\n",
       "    <tr>\n",
       "      <th>3</th>\n",
       "      <td>2023-08-29 00:00:00</td>\n",
       "      <td>266.70</td>\n",
       "      <td>265.68</td>\n",
       "      <td>267.56</td>\n",
       "      <td>265.14</td>\n",
       "      <td>9.425505e+09</td>\n",
       "    </tr>\n",
       "    <tr>\n",
       "      <th>4</th>\n",
       "      <td>2023-08-30 00:00:00</td>\n",
       "      <td>265.68</td>\n",
       "      <td>264.70</td>\n",
       "      <td>267.36</td>\n",
       "      <td>263.10</td>\n",
       "      <td>1.023703e+10</td>\n",
       "    </tr>\n",
       "  </tbody>\n",
       "</table>\n",
       "</div>"
      ],
      "text/plain": [
       "                 begin    open   close    high     low         value\n",
       "0  2023-08-24 00:00:00  257.63  259.63  259.94  256.40  6.959479e+09\n",
       "1  2023-08-25 00:00:00  258.80  260.50  261.60  257.61  7.426718e+09\n",
       "2  2023-08-28 00:00:00  261.32  266.93  267.83  260.81  1.533407e+10\n",
       "3  2023-08-29 00:00:00  266.70  265.68  267.56  265.14  9.425505e+09\n",
       "4  2023-08-30 00:00:00  265.68  264.70  267.36  263.10  1.023703e+10"
      ]
     },
     "execution_count": 5,
     "metadata": {},
     "output_type": "execute_result"
    }
   ],
   "source": [
    "df = get_data(TICKER, start_date, end_date)\n",
    "df.head()"
   ]
  },
  {
   "cell_type": "code",
   "execution_count": 6,
   "id": "1ab6761b-5b2b-4956-8edd-3208ccfdc1c7",
   "metadata": {},
   "outputs": [],
   "source": [
    "def prepare_data(df: pd.DataFrame) -> pd.DataFrame:\n",
    "    _df = df.copy()\n",
    "    _df['Date'] = pd.to_datetime(_df['begin'])\n",
    "    _df = _df.drop('begin', axis=1)\n",
    "    _df = _df.reset_index(drop=True)\n",
    "    return _df"
   ]
  },
  {
   "cell_type": "code",
   "execution_count": 7,
   "id": "c8e7f1cd-d69a-4949-8436-47a1153ac7f3",
   "metadata": {},
   "outputs": [
    {
     "data": {
      "text/html": [
       "<div>\n",
       "<style scoped>\n",
       "    .dataframe tbody tr th:only-of-type {\n",
       "        vertical-align: middle;\n",
       "    }\n",
       "\n",
       "    .dataframe tbody tr th {\n",
       "        vertical-align: top;\n",
       "    }\n",
       "\n",
       "    .dataframe thead th {\n",
       "        text-align: right;\n",
       "    }\n",
       "</style>\n",
       "<table border=\"1\" class=\"dataframe\">\n",
       "  <thead>\n",
       "    <tr style=\"text-align: right;\">\n",
       "      <th></th>\n",
       "      <th>open</th>\n",
       "      <th>close</th>\n",
       "      <th>high</th>\n",
       "      <th>low</th>\n",
       "      <th>value</th>\n",
       "      <th>Date</th>\n",
       "    </tr>\n",
       "  </thead>\n",
       "  <tbody>\n",
       "    <tr>\n",
       "      <th>0</th>\n",
       "      <td>257.63</td>\n",
       "      <td>259.63</td>\n",
       "      <td>259.94</td>\n",
       "      <td>256.40</td>\n",
       "      <td>6.959479e+09</td>\n",
       "      <td>2023-08-24</td>\n",
       "    </tr>\n",
       "    <tr>\n",
       "      <th>1</th>\n",
       "      <td>258.80</td>\n",
       "      <td>260.50</td>\n",
       "      <td>261.60</td>\n",
       "      <td>257.61</td>\n",
       "      <td>7.426718e+09</td>\n",
       "      <td>2023-08-25</td>\n",
       "    </tr>\n",
       "    <tr>\n",
       "      <th>2</th>\n",
       "      <td>261.32</td>\n",
       "      <td>266.93</td>\n",
       "      <td>267.83</td>\n",
       "      <td>260.81</td>\n",
       "      <td>1.533407e+10</td>\n",
       "      <td>2023-08-28</td>\n",
       "    </tr>\n",
       "    <tr>\n",
       "      <th>3</th>\n",
       "      <td>266.70</td>\n",
       "      <td>265.68</td>\n",
       "      <td>267.56</td>\n",
       "      <td>265.14</td>\n",
       "      <td>9.425505e+09</td>\n",
       "      <td>2023-08-29</td>\n",
       "    </tr>\n",
       "    <tr>\n",
       "      <th>4</th>\n",
       "      <td>265.68</td>\n",
       "      <td>264.70</td>\n",
       "      <td>267.36</td>\n",
       "      <td>263.10</td>\n",
       "      <td>1.023703e+10</td>\n",
       "      <td>2023-08-30</td>\n",
       "    </tr>\n",
       "  </tbody>\n",
       "</table>\n",
       "</div>"
      ],
      "text/plain": [
       "     open   close    high     low         value       Date\n",
       "0  257.63  259.63  259.94  256.40  6.959479e+09 2023-08-24\n",
       "1  258.80  260.50  261.60  257.61  7.426718e+09 2023-08-25\n",
       "2  261.32  266.93  267.83  260.81  1.533407e+10 2023-08-28\n",
       "3  266.70  265.68  267.56  265.14  9.425505e+09 2023-08-29\n",
       "4  265.68  264.70  267.36  263.10  1.023703e+10 2023-08-30"
      ]
     },
     "execution_count": 7,
     "metadata": {},
     "output_type": "execute_result"
    }
   ],
   "source": [
    "df = prepare_data(df)\n",
    "df.head()"
   ]
  },
  {
   "cell_type": "code",
   "execution_count": 8,
   "id": "57953dab-c381-4de1-b9ed-53e8735d84a2",
   "metadata": {},
   "outputs": [],
   "source": [
    "dates = df['Date']\n",
    "open_cost = df['open']"
   ]
  },
  {
   "cell_type": "code",
   "execution_count": null,
   "id": "5bac0910-566f-499e-8732-70927f202d6f",
   "metadata": {},
   "outputs": [],
   "source": []
  }
 ],
 "metadata": {
  "kernelspec": {
   "display_name": "Python 3 (ipykernel)",
   "language": "python",
   "name": "python3"
  },
  "language_info": {
   "codemirror_mode": {
    "name": "ipython",
    "version": 3
   },
   "file_extension": ".py",
   "mimetype": "text/x-python",
   "name": "python",
   "nbconvert_exporter": "python",
   "pygments_lexer": "ipython3",
   "version": "3.9.13"
  }
 },
 "nbformat": 4,
 "nbformat_minor": 5
}
