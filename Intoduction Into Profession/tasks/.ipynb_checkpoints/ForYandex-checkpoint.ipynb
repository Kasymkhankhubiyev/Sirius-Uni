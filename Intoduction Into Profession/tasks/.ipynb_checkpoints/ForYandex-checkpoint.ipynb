{
 "cells": [
  {
   "cell_type": "code",
   "execution_count": 1,
   "id": "df998449-91ac-47e4-aef7-a22797b228b9",
   "metadata": {},
   "outputs": [],
   "source": [
    "import yfinance as yfin\n",
    "import numpy as np\n",
    "import matplotlib.pyplot as plt\n",
    "import pandas as pd\n",
    "import datetime\n",
    "\n",
    "READ_FROM_CSV = False\n",
    "SAVE_SCV = True\n",
    "\n",
    "PATH_TO_CSV = 'AAPL.csv'"
   ]
  },
  {
   "cell_type": "code",
   "execution_count": 2,
   "id": "50444271-7cd6-4cc7-9b7a-befae68e5ece",
   "metadata": {},
   "outputs": [],
   "source": [
    "TICKER_NAME = 'AAPL'\n",
    "\n",
    "start_date = '2023-10-18'\n",
    "end_date = '2023-12-18'"
   ]
  },
  {
   "cell_type": "code",
   "execution_count": 3,
   "id": "6a155f84-0bcb-43f5-affa-2ebf6924b235",
   "metadata": {},
   "outputs": [
    {
     "data": {
      "text/html": [
       "<div>\n",
       "<style scoped>\n",
       "    .dataframe tbody tr th:only-of-type {\n",
       "        vertical-align: middle;\n",
       "    }\n",
       "\n",
       "    .dataframe tbody tr th {\n",
       "        vertical-align: top;\n",
       "    }\n",
       "\n",
       "    .dataframe thead th {\n",
       "        text-align: right;\n",
       "    }\n",
       "</style>\n",
       "<table border=\"1\" class=\"dataframe\">\n",
       "  <thead>\n",
       "    <tr style=\"text-align: right;\">\n",
       "      <th></th>\n",
       "      <th>Datetime</th>\n",
       "      <th>Open</th>\n",
       "      <th>High</th>\n",
       "      <th>Low</th>\n",
       "      <th>Close</th>\n",
       "      <th>Volume</th>\n",
       "      <th>Dividends</th>\n",
       "      <th>Stock Splits</th>\n",
       "    </tr>\n",
       "  </thead>\n",
       "  <tbody>\n",
       "    <tr>\n",
       "      <th>0</th>\n",
       "      <td>2023-10-18 09:30:00-04:00</td>\n",
       "      <td>175.580002</td>\n",
       "      <td>177.574997</td>\n",
       "      <td>175.419998</td>\n",
       "      <td>176.619995</td>\n",
       "      <td>11694290</td>\n",
       "      <td>0.0</td>\n",
       "      <td>0.0</td>\n",
       "    </tr>\n",
       "    <tr>\n",
       "      <th>1</th>\n",
       "      <td>2023-10-18 10:30:00-04:00</td>\n",
       "      <td>176.604996</td>\n",
       "      <td>177.119995</td>\n",
       "      <td>175.755005</td>\n",
       "      <td>176.729996</td>\n",
       "      <td>7097323</td>\n",
       "      <td>0.0</td>\n",
       "      <td>0.0</td>\n",
       "    </tr>\n",
       "    <tr>\n",
       "      <th>2</th>\n",
       "      <td>2023-10-18 11:30:00-04:00</td>\n",
       "      <td>176.729996</td>\n",
       "      <td>177.529999</td>\n",
       "      <td>176.630096</td>\n",
       "      <td>176.820007</td>\n",
       "      <td>5348489</td>\n",
       "      <td>0.0</td>\n",
       "      <td>0.0</td>\n",
       "    </tr>\n",
       "    <tr>\n",
       "      <th>3</th>\n",
       "      <td>2023-10-18 12:30:00-04:00</td>\n",
       "      <td>176.820007</td>\n",
       "      <td>177.369995</td>\n",
       "      <td>176.225006</td>\n",
       "      <td>177.119995</td>\n",
       "      <td>5355115</td>\n",
       "      <td>0.0</td>\n",
       "      <td>0.0</td>\n",
       "    </tr>\n",
       "    <tr>\n",
       "      <th>4</th>\n",
       "      <td>2023-10-18 13:30:00-04:00</td>\n",
       "      <td>177.119995</td>\n",
       "      <td>177.130005</td>\n",
       "      <td>176.220001</td>\n",
       "      <td>176.695007</td>\n",
       "      <td>4533374</td>\n",
       "      <td>0.0</td>\n",
       "      <td>0.0</td>\n",
       "    </tr>\n",
       "    <tr>\n",
       "      <th>...</th>\n",
       "      <td>...</td>\n",
       "      <td>...</td>\n",
       "      <td>...</td>\n",
       "      <td>...</td>\n",
       "      <td>...</td>\n",
       "      <td>...</td>\n",
       "      <td>...</td>\n",
       "      <td>...</td>\n",
       "    </tr>\n",
       "    <tr>\n",
       "      <th>285</th>\n",
       "      <td>2023-12-15 11:30:00-05:00</td>\n",
       "      <td>197.630005</td>\n",
       "      <td>198.020004</td>\n",
       "      <td>197.535004</td>\n",
       "      <td>197.729996</td>\n",
       "      <td>4016473</td>\n",
       "      <td>0.0</td>\n",
       "      <td>0.0</td>\n",
       "    </tr>\n",
       "    <tr>\n",
       "      <th>286</th>\n",
       "      <td>2023-12-15 12:30:00-05:00</td>\n",
       "      <td>197.740005</td>\n",
       "      <td>197.740005</td>\n",
       "      <td>197.100006</td>\n",
       "      <td>197.375000</td>\n",
       "      <td>4909415</td>\n",
       "      <td>0.0</td>\n",
       "      <td>0.0</td>\n",
       "    </tr>\n",
       "    <tr>\n",
       "      <th>287</th>\n",
       "      <td>2023-12-15 13:30:00-05:00</td>\n",
       "      <td>197.380005</td>\n",
       "      <td>197.664993</td>\n",
       "      <td>197.020004</td>\n",
       "      <td>197.270004</td>\n",
       "      <td>4612469</td>\n",
       "      <td>0.0</td>\n",
       "      <td>0.0</td>\n",
       "    </tr>\n",
       "    <tr>\n",
       "      <th>288</th>\n",
       "      <td>2023-12-15 14:30:00-05:00</td>\n",
       "      <td>197.290894</td>\n",
       "      <td>198.089996</td>\n",
       "      <td>197.279999</td>\n",
       "      <td>197.990005</td>\n",
       "      <td>3896083</td>\n",
       "      <td>0.0</td>\n",
       "      <td>0.0</td>\n",
       "    </tr>\n",
       "    <tr>\n",
       "      <th>289</th>\n",
       "      <td>2023-12-15 15:30:00-05:00</td>\n",
       "      <td>197.994003</td>\n",
       "      <td>198.199997</td>\n",
       "      <td>197.000000</td>\n",
       "      <td>197.119995</td>\n",
       "      <td>9086193</td>\n",
       "      <td>0.0</td>\n",
       "      <td>0.0</td>\n",
       "    </tr>\n",
       "  </tbody>\n",
       "</table>\n",
       "<p>290 rows × 8 columns</p>\n",
       "</div>"
      ],
      "text/plain": [
       "                     Datetime        Open        High         Low       Close  \\\n",
       "0   2023-10-18 09:30:00-04:00  175.580002  177.574997  175.419998  176.619995   \n",
       "1   2023-10-18 10:30:00-04:00  176.604996  177.119995  175.755005  176.729996   \n",
       "2   2023-10-18 11:30:00-04:00  176.729996  177.529999  176.630096  176.820007   \n",
       "3   2023-10-18 12:30:00-04:00  176.820007  177.369995  176.225006  177.119995   \n",
       "4   2023-10-18 13:30:00-04:00  177.119995  177.130005  176.220001  176.695007   \n",
       "..                        ...         ...         ...         ...         ...   \n",
       "285 2023-12-15 11:30:00-05:00  197.630005  198.020004  197.535004  197.729996   \n",
       "286 2023-12-15 12:30:00-05:00  197.740005  197.740005  197.100006  197.375000   \n",
       "287 2023-12-15 13:30:00-05:00  197.380005  197.664993  197.020004  197.270004   \n",
       "288 2023-12-15 14:30:00-05:00  197.290894  198.089996  197.279999  197.990005   \n",
       "289 2023-12-15 15:30:00-05:00  197.994003  198.199997  197.000000  197.119995   \n",
       "\n",
       "       Volume  Dividends  Stock Splits  \n",
       "0    11694290        0.0           0.0  \n",
       "1     7097323        0.0           0.0  \n",
       "2     5348489        0.0           0.0  \n",
       "3     5355115        0.0           0.0  \n",
       "4     4533374        0.0           0.0  \n",
       "..        ...        ...           ...  \n",
       "285   4016473        0.0           0.0  \n",
       "286   4909415        0.0           0.0  \n",
       "287   4612469        0.0           0.0  \n",
       "288   3896083        0.0           0.0  \n",
       "289   9086193        0.0           0.0  \n",
       "\n",
       "[290 rows x 8 columns]"
      ]
     },
     "execution_count": 3,
     "metadata": {},
     "output_type": "execute_result"
    }
   ],
   "source": [
    "if READ_FROM_CSV:\n",
    "    df = pd.read_csv(PATH_TO_CSV)\n",
    "    \n",
    "else:\n",
    "    ticker = yfin.Ticker(TICKER_NAME)\n",
    "    \n",
    "    ticker_history = ticker.history(interval='1h', start=start_date, end=end_date)\n",
    "    \n",
    "    df = ticker_history.reset_index()\n",
    "\n",
    "df"
   ]
  },
  {
   "cell_type": "code",
   "execution_count": 4,
   "id": "86c3ee3e-4a93-497f-93af-fa74cf6a2e75",
   "metadata": {},
   "outputs": [
    {
     "data": {
      "text/html": [
       "<div>\n",
       "<style scoped>\n",
       "    .dataframe tbody tr th:only-of-type {\n",
       "        vertical-align: middle;\n",
       "    }\n",
       "\n",
       "    .dataframe tbody tr th {\n",
       "        vertical-align: top;\n",
       "    }\n",
       "\n",
       "    .dataframe thead th {\n",
       "        text-align: right;\n",
       "    }\n",
       "</style>\n",
       "<table border=\"1\" class=\"dataframe\">\n",
       "  <thead>\n",
       "    <tr style=\"text-align: right;\">\n",
       "      <th></th>\n",
       "      <th>Datetime</th>\n",
       "      <th>Open</th>\n",
       "      <th>High</th>\n",
       "      <th>Low</th>\n",
       "      <th>Close</th>\n",
       "      <th>Volume</th>\n",
       "    </tr>\n",
       "  </thead>\n",
       "  <tbody>\n",
       "    <tr>\n",
       "      <th>0</th>\n",
       "      <td>2023-10-18 09:30:00-04:00</td>\n",
       "      <td>175.580002</td>\n",
       "      <td>177.574997</td>\n",
       "      <td>175.419998</td>\n",
       "      <td>176.619995</td>\n",
       "      <td>11694290</td>\n",
       "    </tr>\n",
       "    <tr>\n",
       "      <th>1</th>\n",
       "      <td>2023-10-18 10:30:00-04:00</td>\n",
       "      <td>176.604996</td>\n",
       "      <td>177.119995</td>\n",
       "      <td>175.755005</td>\n",
       "      <td>176.729996</td>\n",
       "      <td>7097323</td>\n",
       "    </tr>\n",
       "    <tr>\n",
       "      <th>2</th>\n",
       "      <td>2023-10-18 11:30:00-04:00</td>\n",
       "      <td>176.729996</td>\n",
       "      <td>177.529999</td>\n",
       "      <td>176.630096</td>\n",
       "      <td>176.820007</td>\n",
       "      <td>5348489</td>\n",
       "    </tr>\n",
       "    <tr>\n",
       "      <th>3</th>\n",
       "      <td>2023-10-18 12:30:00-04:00</td>\n",
       "      <td>176.820007</td>\n",
       "      <td>177.369995</td>\n",
       "      <td>176.225006</td>\n",
       "      <td>177.119995</td>\n",
       "      <td>5355115</td>\n",
       "    </tr>\n",
       "    <tr>\n",
       "      <th>4</th>\n",
       "      <td>2023-10-18 13:30:00-04:00</td>\n",
       "      <td>177.119995</td>\n",
       "      <td>177.130005</td>\n",
       "      <td>176.220001</td>\n",
       "      <td>176.695007</td>\n",
       "      <td>4533374</td>\n",
       "    </tr>\n",
       "    <tr>\n",
       "      <th>...</th>\n",
       "      <td>...</td>\n",
       "      <td>...</td>\n",
       "      <td>...</td>\n",
       "      <td>...</td>\n",
       "      <td>...</td>\n",
       "      <td>...</td>\n",
       "    </tr>\n",
       "    <tr>\n",
       "      <th>285</th>\n",
       "      <td>2023-12-15 11:30:00-05:00</td>\n",
       "      <td>197.630005</td>\n",
       "      <td>198.020004</td>\n",
       "      <td>197.535004</td>\n",
       "      <td>197.729996</td>\n",
       "      <td>4016473</td>\n",
       "    </tr>\n",
       "    <tr>\n",
       "      <th>286</th>\n",
       "      <td>2023-12-15 12:30:00-05:00</td>\n",
       "      <td>197.740005</td>\n",
       "      <td>197.740005</td>\n",
       "      <td>197.100006</td>\n",
       "      <td>197.375000</td>\n",
       "      <td>4909415</td>\n",
       "    </tr>\n",
       "    <tr>\n",
       "      <th>287</th>\n",
       "      <td>2023-12-15 13:30:00-05:00</td>\n",
       "      <td>197.380005</td>\n",
       "      <td>197.664993</td>\n",
       "      <td>197.020004</td>\n",
       "      <td>197.270004</td>\n",
       "      <td>4612469</td>\n",
       "    </tr>\n",
       "    <tr>\n",
       "      <th>288</th>\n",
       "      <td>2023-12-15 14:30:00-05:00</td>\n",
       "      <td>197.290894</td>\n",
       "      <td>198.089996</td>\n",
       "      <td>197.279999</td>\n",
       "      <td>197.990005</td>\n",
       "      <td>3896083</td>\n",
       "    </tr>\n",
       "    <tr>\n",
       "      <th>289</th>\n",
       "      <td>2023-12-15 15:30:00-05:00</td>\n",
       "      <td>197.994003</td>\n",
       "      <td>198.199997</td>\n",
       "      <td>197.000000</td>\n",
       "      <td>197.119995</td>\n",
       "      <td>9086193</td>\n",
       "    </tr>\n",
       "  </tbody>\n",
       "</table>\n",
       "<p>290 rows × 6 columns</p>\n",
       "</div>"
      ],
      "text/plain": [
       "                     Datetime        Open        High         Low       Close  \\\n",
       "0   2023-10-18 09:30:00-04:00  175.580002  177.574997  175.419998  176.619995   \n",
       "1   2023-10-18 10:30:00-04:00  176.604996  177.119995  175.755005  176.729996   \n",
       "2   2023-10-18 11:30:00-04:00  176.729996  177.529999  176.630096  176.820007   \n",
       "3   2023-10-18 12:30:00-04:00  176.820007  177.369995  176.225006  177.119995   \n",
       "4   2023-10-18 13:30:00-04:00  177.119995  177.130005  176.220001  176.695007   \n",
       "..                        ...         ...         ...         ...         ...   \n",
       "285 2023-12-15 11:30:00-05:00  197.630005  198.020004  197.535004  197.729996   \n",
       "286 2023-12-15 12:30:00-05:00  197.740005  197.740005  197.100006  197.375000   \n",
       "287 2023-12-15 13:30:00-05:00  197.380005  197.664993  197.020004  197.270004   \n",
       "288 2023-12-15 14:30:00-05:00  197.290894  198.089996  197.279999  197.990005   \n",
       "289 2023-12-15 15:30:00-05:00  197.994003  198.199997  197.000000  197.119995   \n",
       "\n",
       "       Volume  \n",
       "0    11694290  \n",
       "1     7097323  \n",
       "2     5348489  \n",
       "3     5355115  \n",
       "4     4533374  \n",
       "..        ...  \n",
       "285   4016473  \n",
       "286   4909415  \n",
       "287   4612469  \n",
       "288   3896083  \n",
       "289   9086193  \n",
       "\n",
       "[290 rows x 6 columns]"
      ]
     },
     "execution_count": 4,
     "metadata": {},
     "output_type": "execute_result"
    }
   ],
   "source": [
    "df = df[df.columns[:-2]]\n",
    "df"
   ]
  },
  {
   "cell_type": "code",
   "execution_count": 5,
   "id": "d9ae369b-ea43-4599-8ff2-cbd2fa7896c3",
   "metadata": {},
   "outputs": [
    {
     "data": {
      "text/plain": [
       "Timestamp('2023-10-18 09:30:00-0400', tz='America/New_York')"
      ]
     },
     "execution_count": 5,
     "metadata": {},
     "output_type": "execute_result"
    }
   ],
   "source": [
    "dates = df[df.columns[0]]\n",
    "dates[0]"
   ]
  },
  {
   "cell_type": "code",
   "execution_count": 6,
   "id": "0ccae72f-adc8-41f0-b1b0-20edffff4536",
   "metadata": {},
   "outputs": [
    {
     "name": "stderr",
     "output_type": "stream",
     "text": [
      "/var/folders/xx/x_6wt9hs2vq2twldfgptb5840000gn/T/ipykernel_12076/607492831.py:7: SettingWithCopyWarning: \n",
      "A value is trying to be set on a copy of a slice from a DataFrame.\n",
      "Try using .loc[row_indexer,col_indexer] = value instead\n",
      "\n",
      "See the caveats in the documentation: https://pandas.pydata.org/pandas-docs/stable/user_guide/indexing.html#returning-a-view-versus-a-copy\n",
      "  df[df.columns[0]] = _dates\n"
     ]
    },
    {
     "data": {
      "text/html": [
       "<div>\n",
       "<style scoped>\n",
       "    .dataframe tbody tr th:only-of-type {\n",
       "        vertical-align: middle;\n",
       "    }\n",
       "\n",
       "    .dataframe tbody tr th {\n",
       "        vertical-align: top;\n",
       "    }\n",
       "\n",
       "    .dataframe thead th {\n",
       "        text-align: right;\n",
       "    }\n",
       "</style>\n",
       "<table border=\"1\" class=\"dataframe\">\n",
       "  <thead>\n",
       "    <tr style=\"text-align: right;\">\n",
       "      <th></th>\n",
       "      <th>Datetime</th>\n",
       "      <th>Open</th>\n",
       "      <th>High</th>\n",
       "      <th>Low</th>\n",
       "      <th>Close</th>\n",
       "      <th>Volume</th>\n",
       "    </tr>\n",
       "  </thead>\n",
       "  <tbody>\n",
       "    <tr>\n",
       "      <th>0</th>\n",
       "      <td>2023-10-18</td>\n",
       "      <td>175.580002</td>\n",
       "      <td>177.574997</td>\n",
       "      <td>175.419998</td>\n",
       "      <td>176.619995</td>\n",
       "      <td>11694290</td>\n",
       "    </tr>\n",
       "    <tr>\n",
       "      <th>1</th>\n",
       "      <td>2023-10-18</td>\n",
       "      <td>176.604996</td>\n",
       "      <td>177.119995</td>\n",
       "      <td>175.755005</td>\n",
       "      <td>176.729996</td>\n",
       "      <td>7097323</td>\n",
       "    </tr>\n",
       "    <tr>\n",
       "      <th>2</th>\n",
       "      <td>2023-10-18</td>\n",
       "      <td>176.729996</td>\n",
       "      <td>177.529999</td>\n",
       "      <td>176.630096</td>\n",
       "      <td>176.820007</td>\n",
       "      <td>5348489</td>\n",
       "    </tr>\n",
       "    <tr>\n",
       "      <th>3</th>\n",
       "      <td>2023-10-18</td>\n",
       "      <td>176.820007</td>\n",
       "      <td>177.369995</td>\n",
       "      <td>176.225006</td>\n",
       "      <td>177.119995</td>\n",
       "      <td>5355115</td>\n",
       "    </tr>\n",
       "    <tr>\n",
       "      <th>4</th>\n",
       "      <td>2023-10-18</td>\n",
       "      <td>177.119995</td>\n",
       "      <td>177.130005</td>\n",
       "      <td>176.220001</td>\n",
       "      <td>176.695007</td>\n",
       "      <td>4533374</td>\n",
       "    </tr>\n",
       "  </tbody>\n",
       "</table>\n",
       "</div>"
      ],
      "text/plain": [
       "     Datetime        Open        High         Low       Close    Volume\n",
       "0  2023-10-18  175.580002  177.574997  175.419998  176.619995  11694290\n",
       "1  2023-10-18  176.604996  177.119995  175.755005  176.729996   7097323\n",
       "2  2023-10-18  176.729996  177.529999  176.630096  176.820007   5348489\n",
       "3  2023-10-18  176.820007  177.369995  176.225006  177.119995   5355115\n",
       "4  2023-10-18  177.119995  177.130005  176.220001  176.695007   4533374"
      ]
     },
     "execution_count": 6,
     "metadata": {},
     "output_type": "execute_result"
    }
   ],
   "source": [
    "dates = df[df.columns[0]]\n",
    "_dates = []\n",
    "for idx, date in enumerate(dates):\n",
    "    # dates[idx] = date.split()[0]\n",
    "    _dates.append(date.strftime(\"%Y-%m-%d\"))\n",
    "\n",
    "df[df.columns[0]] = _dates\n",
    "df.head()"
   ]
  },
  {
   "cell_type": "markdown",
   "id": "0644df83-a1b7-4dc9-896e-337c0e748b04",
   "metadata": {},
   "source": [
    "lp - low price\n",
    "\n",
    "op - open price\n",
    "\n",
    "hp - high price\n",
    "\n",
    "cp - close price"
   ]
  },
  {
   "cell_type": "code",
   "execution_count": 34,
   "id": "5daed0b9-abe3-44fb-a260-a63f98e3e028",
   "metadata": {},
   "outputs": [],
   "source": [
    "def body_height(candlesticks: pd.DataFrame) -> np.ndarray: # hb(c_i)\n",
    "    \"\"\"\n",
    "        Arguments:\n",
    "            candlesticks, pd.DataFrame - a data frame containing open, close, high and low prices\n",
    "                                        of a given stock\n",
    "\n",
    "        Returns:\n",
    "            body_heights, nd.ndarray - an array of candlesticks body heights\n",
    "    \"\"\"\n",
    "\n",
    "    return np.abs(candlesticks['Close'].values - candlesticks['Open'].values)"
   ]
  },
  {
   "cell_type": "code",
   "execution_count": 35,
   "id": "bc4aaf1f-5613-4c37-95dd-fb0cff4f1d52",
   "metadata": {},
   "outputs": [],
   "source": [
    "def top_body(candlesticks: pd.DataFrame) -> np.ndarray: # tp_body(c_i)\n",
    "    \"\"\"\n",
    "        a top body of a candlestick is the maximum between its open and close prices:\n",
    "            `max(op(c_i), cp(c_i))`\n",
    "            \n",
    "        Arguments:\n",
    "            candlesticks, pd.DataFrame - a data frame containing open, close, high and low prices\n",
    "                                        of a given stock\n",
    "\n",
    "        Returns:\n",
    "            top_bodies , np.ndarray - an array of candlesticks top bodies\n",
    "    \"\"\"\n",
    "    return np.max(np.vstack((candlesticks['Close'].values, candlesticks['Open'].values)).T, axis=1)"
   ]
  },
  {
   "cell_type": "code",
   "execution_count": 48,
   "id": "8475a072-7251-49d3-aa2f-29144510100f",
   "metadata": {},
   "outputs": [],
   "source": [
    "def bottom_body(candlesticks: pd.DataFrame) -> np.ndarray: # bm_body(c_i)\n",
    "    \"\"\"\n",
    "        a bottom body of a candlestick is the minimum between its open and close prices:\n",
    "            `min(op(c_i), cp(c_i))`\n",
    "            \n",
    "        Arguments:\n",
    "            candlesticks, pd.DataFrame - a data frame containing open, close, high and low prices\n",
    "                                        of a given stock\n",
    "\n",
    "        Returns:\n",
    "            bottom_bodies , np.ndarray - an array of candlesticks bottom bodies\n",
    "    \"\"\"\n",
    "    return np.min(np.vstack((candlesticks['Close'].values, candlesticks['Open'].values)).T, axis=1)"
   ]
  },
  {
   "cell_type": "code",
   "execution_count": 47,
   "id": "e8fa6965-61be-45de-8603-dd5de2be9545",
   "metadata": {},
   "outputs": [],
   "source": [
    "def upper_shadow(candlesticks: pd.DataFrame) -> np.ndarray: # us(c_i)\n",
    "    \"\"\"\n",
    "        returns the height of the upper shadow of a candlesticks as follows:\n",
    "            `high_price - top_body`\n",
    "            \n",
    "        Arguments:\n",
    "            candlesticks, pd.DataFrame - a data frame containing open, close, high and low prices\n",
    "                                        of a given stock\n",
    "\n",
    "        Returns:\n",
    "            upper_shadows , np.ndarray - an array of candlesticks upper shadows\n",
    "    \"\"\"\n",
    "    return candlesticks['High'].values - top_body(candlesticks)"
   ]
  },
  {
   "cell_type": "code",
   "execution_count": 46,
   "id": "dbdc9992-33cf-42d6-b742-9490dff3977b",
   "metadata": {},
   "outputs": [],
   "source": [
    "def lower_shadow(candlesticks: pd.DataFrame) -> np.ndarray: # ls(c_i)\n",
    "    \"\"\"\n",
    "        returns the height of the lower shadow of a candlesticks as follows:\n",
    "            `bottom_body - low_price`\n",
    "            \n",
    "        Arguments:\n",
    "            candlesticks, pd.DataFrame - a data frame containing open, close, high and low prices\n",
    "                                        of a given stock\n",
    "\n",
    "        Returns:\n",
    "            lower_shadows , np.ndarray - an array of candlesticks lower shadows\n",
    "    \"\"\"\n",
    "    return bottom_body(candlesticks) - candlesticks['Low'].values"
   ]
  },
  {
   "cell_type": "code",
   "execution_count": 45,
   "id": "d1917d1b-8faf-47b6-b935-a7fb02f250b0",
   "metadata": {},
   "outputs": [],
   "source": [
    "def shadow_height(candlesticks: pd.DataFrame) -> np.ndarray: # hs(c_i)\n",
    "    \"\"\"\n",
    "        returns the total height of the shadows of a candlesticks as follows:\n",
    "            `lower_shadow + upper_shadow`\n",
    "            \n",
    "        Arguments:\n",
    "            candlesticks, pd.DataFrame - a data frame containing open, close, high and low prices\n",
    "                                        of a given stock\n",
    "\n",
    "        Returns:\n",
    "            shadow_heights , np.ndarray - an array of candlesticks shadows total height\n",
    "    \"\"\"\n",
    "    \n",
    "    return upper_shadow(candlesticks) + lower_shadow(candlesticks)"
   ]
  },
  {
   "cell_type": "code",
   "execution_count": 58,
   "id": "c800cab1-c5ec-4824-b4b3-dacf44fda5ae",
   "metadata": {},
   "outputs": [],
   "source": [
    "def average_closing_price(candlesticks: pd.DataFrame, sequence_length: int) -> np.ndarray: # ap([c_i])\n",
    "    \"\"\"\n",
    "        returns an average closing price of a given sequence of candlesticks as follows:\n",
    "            `ap = \\Sigma(c_i) / N`\n",
    "            \n",
    "        Arguments:\n",
    "            candlesticks, pd.DataFrame - a data frame containing open, close, high and low prices\n",
    "                                        of a given stock\n",
    "            sequence_length, int - a number of candles to group into a signle sequence\n",
    "\n",
    "        Returns:\n",
    "            average_close_prices , np.ndarray - an array of candlesticks average close prices with a given\n",
    "                                                sequence step\n",
    "    \"\"\"\n",
    "    \n",
    "    return candlesticks['Close'].rolling(window=sequence_length).mean().fillna(0).values"
   ]
  },
  {
   "cell_type": "code",
   "execution_count": 7,
   "id": "520a1272-e856-4106-9443-5bc82e224676",
   "metadata": {},
   "outputs": [],
   "source": [
    "def price_trend(candlesticks: pd.DataFrame, sequence_length: int, complete = True) -> np.ndarray: # pt(c_i)\n",
    "    \"\"\"\n",
    "        this function indicates a price trend relying on the following rule:\n",
    "            pt returns 1 if Average_price(C_1, ..., C_k) <= Average_price(C_{k+1}, ..., C_{2k}) <= Average_price(C_{2k+1}, ..., C_{3k})\n",
    "            and -1 if if Average_price(C_1, ..., C_k) > Average_price(C_{k+1}, ..., C_{2k}) > Average_price(C_{2k+1}, ..., C_{3k})\n",
    "            where k is a sequence lenght to determin a trend\n",
    "\n",
    "            let ap(C_{1,k}) be an average price of a first sequence of lenght k,\n",
    "            then if ap(C_{1, k}) <= ap(C_{k+1, 2k} <= ap(C_{2k+1, 3k} then \n",
    "            a difference = ap(C_{1, k}) - ap(C_{k+1, 2k} - ap(C_{2k+1, 3k} <= 0\n",
    "            similarly if ap(C_{1, k}) > ap(C_{k+1, 2k} > ap(C_{2k+1, 3k} the difference > 0\n",
    "\n",
    "            hence if difference <= 0 the function returns 1, else -1\n",
    "\n",
    "        Arguments:\n",
    "            candlesticks, pd.DataFrame - a data frame containing open, close, high and low prices\n",
    "                                        of a given stock\n",
    "            sequence_length, int - a sequence length to calculate an average close price\n",
    "            complete, bool - if True makes the ouput vector the same length as a given data frame\n",
    "\n",
    "        Returns:\n",
    "            price_trends , np.ndarray - an array of price trends\n",
    "    \"\"\"\n",
    "    \n",
    "    ap = average_closing_price(candlesticks, sequence_length)\n",
    "    trend = np.where((ap[:-2] > ap[1:-1]) & (ap[1:-1] > ap[2:]), -1, 1)\n",
    "    # if complete:\n",
    "    #     return np.concatenate((np.zeros(2), np.where(trend <= 0, 1, -1)))\n",
    "    return trend"
   ]
  },
  {
   "cell_type": "code",
   "execution_count": 108,
   "id": "3b8f6d19-1aae-4579-8f60-d242bab6cae7",
   "metadata": {},
   "outputs": [],
   "source": [
    "def is_greater(x: float, y: float, greateness: str) -> bool: # sli_greater(x, y)\n",
    "    \"\"\"\n",
    "        returns True if x is greater then y in specified conditions\n",
    "\n",
    "        Arguments:\n",
    "            x, float -\n",
    "            y, float -\n",
    "            greatness, str - if \"slightly\" returns True if 0.3% <= (x-y) / y < 1% otherwise False\n",
    "                             if \"moderately\" returns True if 1% <= (x-y) / y < 2.5%\n",
    "                             if \"largely\" returns True if 2.5% <= (x-y) / y < 5%\n",
    "                             if \"extremely\" returns True if (x - y) / y >= 5%\n",
    "\n",
    "        Returns:\n",
    "            is_greater, bool - True or False\n",
    "    \"\"\"\n",
    "    if greateness == \"slightly\":\n",
    "        return True if 0.003 <= (x - y) / y < 0.01 else False\n",
    "    elif greateness == \"moderately\":\n",
    "        return True if 0.01 <= (x - y) / y < 0.025 else False\n",
    "    elif greateness == \"largely\":\n",
    "        return True if 0.025 <= (x - y) / y < 0.05 else False\n",
    "    elif greateness == \"extremely\":\n",
    "        return True if (x - y) / y >= 0.05 else False"
   ]
  },
  {
   "cell_type": "code",
   "execution_count": 110,
   "id": "44a01f65-f460-4284-87dc-ddc57176adc3",
   "metadata": {},
   "outputs": [],
   "source": [
    "def is_less(x: float, y: float, greateness: str) -> bool: # sli_greater(x, y)\n",
    "    \"\"\"\n",
    "        returns True if x is less then y in specified conditions\n",
    "        \n",
    "        Arguments:\n",
    "            x, float -\n",
    "            y, float -\n",
    "            greatness, str - if \"slightly\" returns True if 0.3% <= (y-x) / y < 1% otherwise False\n",
    "                             if \"moderately\" returns True if 1% <= (y-x) / y < 2.5%\n",
    "                             if \"largely\" returns True if 2.5% <= (y-x) / y < 5%\n",
    "                             if \"extremely\" returns True if (y - x) / y >= 5%\n",
    "\n",
    "        Returns:\n",
    "            is_greater, bool - True or False\n",
    "    \"\"\"\n",
    "    if lesseness == \"slightly\":\n",
    "        return True if 0.003 <= (y - x) / y < 0.01 else False\n",
    "    elif lesseness == \"moderately\":\n",
    "        return True if 0.01 <= (y - x) / y < 0.025 else False\n",
    "    elif lesseness == \"largely\":\n",
    "        return True if 0.025 <= (y - x) / y < 0.05 else False\n",
    "    elif lesseness == \"extremely\":\n",
    "        return True if (y - x) / y >= 0.05 else False"
   ]
  },
  {
   "cell_type": "code",
   "execution_count": null,
   "id": "64c9ddba-64ea-45ba-9b39-e42983bbf8ac",
   "metadata": {},
   "outputs": [],
   "source": [
    "def is_near(x: float, y: float, greateness: str) -> bool: # sli_greater(x, y)\n",
    "    \"\"\"\n",
    "        returns True if x is near to y in specified conditions\n",
    "\n",
    "        Arguments:\n",
    "            x, float -\n",
    "            y, float -\n",
    "            greatness, str - if \"slightly\" returns True if 0.3% <= (y-x) / y < 1% otherwise False\n",
    "                             if \"moderately\" returns True if 1% <= (y-x) / y < 2.5%\n",
    "                             if \"largely\" returns True if 2.5% <= (y-x) / y < 5%\n",
    "                             if \"extremely\" returns True if |(x - y)| / max(x, y) <= 0.3%\n",
    "\n",
    "        Returns:\n",
    "            is_greater, bool - True or False\n",
    "    \"\"\"\n",
    "    if lesseness == \"slightly\":\n",
    "        return True if 0.003 <= (y - x) / y < 0.01 else False\n",
    "    elif lesseness == \"moderately\":\n",
    "        return True if 0.01 <= (y - x) / y < 0.025 else False\n",
    "    elif lesseness == \"largely\":\n",
    "        return True if 0.025 <= (y - x) / y < 0.05 else False\n",
    "    elif lesseness == \"extremely\":\n",
    "        return True if abs(y - x) / max(x, y) <= 0.003 else False"
   ]
  },
  {
   "cell_type": "code",
   "execution_count": 176,
   "id": "2c298c8d-81c9-498e-a70b-2bffd0c85fa6",
   "metadata": {},
   "outputs": [],
   "source": [
    "def Doji(candlesticks: pd.DataFrame):\n",
    "    \"\"\"\n",
    "        Doji returns True when opening price of a candlestick c_i\n",
    "        is approximately equal to its closing price:\n",
    "\n",
    "        extremely_near(open_i, close_i), where\n",
    "        extremely near means `|x - y| / max(x , y) <= 0.3%`\n",
    "\n",
    "        Arguments:\n",
    "\n",
    "\n",
    "        Returns:\n",
    "        \n",
    "    \n",
    "    \"\"\"\n",
    "    close = candlesticks['Close'].values\n",
    "    open = candlesticks['Open'].values\n",
    "    return np.where(np.abs(close - open) / np.max(np.vstack((close, open)).T, axis=1) <= 0.003, True, False)"
   ]
  },
  {
   "cell_type": "markdown",
   "id": "866230e6-6e8a-4b46-83b4-56b1f943000c",
   "metadata": {},
   "source": [
    "# One Start"
   ]
  },
  {
   "cell_type": "code",
   "execution_count": 213,
   "id": "03390964-01b2-419c-bbe3-65a69271b940",
   "metadata": {},
   "outputs": [],
   "source": [
    "def white_body(candlesticks: pd.DataFrame):\n",
    "    \"\"\"\n",
    "        returns True when the opening price of a candlestick is less than its closing price\n",
    "    \"\"\"\n",
    "    return np.where(candlesticks['Open'].values < candlesticks['Close'].values, True, False)\n",
    "    \n",
    "\n",
    "def black_body(candlesticks: pd.DataFrame):\n",
    "    \"\"\"\n",
    "    returns True when the opening price of a candlestick is greater than its closing price\n",
    "    \"\"\"\n",
    "    return np.where(candlesticks['Open'].values > candlesticks['Close'].values, True, False)\n",
    "    \n",
    "\n",
    "def small_body(candlesticks: pd.DataFrame):\n",
    "    \"\"\"\n",
    "        returns true when the size is small:\n",
    "            slightly_less(bm_body(c_i), tp_body(c_i))\n",
    "    \"\"\"\n",
    "    bm = bottom_body(candlesticks)\n",
    "    tp = top_body(candlesticks)\n",
    "    vec = (tp - bm) / tp\n",
    "    return np.where((0.003 <= vec) & (vec < 0.01), True, False)\n",
    "\n",
    "\n",
    "def normal_body(candlesticks: pd.DataFrame):\n",
    "    \"\"\"\n",
    "        returns True when the size of a candlestick is normal:\n",
    "        moderetely_less(bm_body(c_i), tp_body(c_i))\n",
    "    \"\"\"\n",
    "    bm = bottom_body(candlesticks)\n",
    "    tp = top_body(candlesticks)\n",
    "    vec = (tp - bm) / tp\n",
    "    return np.where((0.01 <= vec) & (vec < 0.025), True, False)\n",
    "\n",
    "\n",
    "def long_body(candlesticks: pd.DataFrame):\n",
    "    \"\"\"\n",
    "        returns True when the size of a candlestick is long:\n",
    "        largely_less(bm_body(c_i), tp_body(c_i))\n",
    "    \"\"\"\n",
    "    bm = bottom_body(candlesticks)\n",
    "    tp = top_body(candlesticks)\n",
    "    vec = (tp - bm) / tp\n",
    "    return np.where((0.025 <= vec) & (vec < 0.05), True, False)\n",
    "\n",
    "\n",
    "def small_white_body(candlesticks: pd.DataFrame):\n",
    "    \"\"\"\n",
    "        returns true if a candlestick c_i is a white candle with small body\n",
    "    \"\"\"\n",
    "    return np.where(white_body(candlesticks) & small_body(candlesticks), True, False)\n",
    "\n",
    "def normall_white_body(candlesticks: pd.DataFrame):\n",
    "    \"\"\"\n",
    "        returns true if a candlestick c_i is a white candle with normall body\n",
    "    \"\"\"\n",
    "    return np.where(white_body(candlesticks) & normal_body(candlesticks), True, False)\n",
    "\n",
    "def long_white_body(candlesticks: pd.DataFrame):\n",
    "    \"\"\"\n",
    "        returns true if a candlestick c_i is a white candle with long body\n",
    "    \"\"\"\n",
    "    return np.where(white_body(candlesticks) & long_body(candlesticks), True, False)\n",
    "\n",
    "\n",
    "def small_black_body(candlesticks: pd.DataFrame):\n",
    "    \"\"\"\n",
    "        returns true if a candlestick c_i is a black candle with small body\n",
    "    \"\"\"\n",
    "    return np.where(black_body(candlesticks) & small_body(candlesticks), True, False)\n",
    "\n",
    "def normal_black_body(candlesticks: pd.DataFrame):\n",
    "    \"\"\"\n",
    "        returns true if a candlestick c_i is a black candle with normall body\n",
    "    \"\"\"\n",
    "    return np.where(black_body(candlesticks) & normal_body(candlesticks), True, False)\n",
    "\n",
    "\n",
    "def long_black_body(candlesticks: pd.DataFrame):\n",
    "    \"\"\"\n",
    "        returns true if a candlestick c_i is a black candle with long body\n",
    "    \"\"\"\n",
    "    return np.where(black_body(candlesticks) & long_body(candlesticks), True, False)\n",
    "\n",
    "\n",
    "def up_shadow_gap(candlesticks: pd.DataFrame, shift1: int, shift2: int):\n",
    "    \"\"\"\n",
    "        returns true when there is downside shadow gap between the candlesticks c_i and c_j, where j > i.\n",
    "        down shadow gap means that the low price of c_i is greater than the high price of c_j\n",
    "    \"\"\"\n",
    "    return np.where(candlesticks['Low'].values[shift1:-shift2+shift1] > candlesticks['High'][shift2:], True, False)\n",
    "\n",
    "def down_shadow_gap(candlesticks: pd.DataFrame, shift1: int, shift2: int):\n",
    "    \"\"\"\n",
    "        returns true when there is upside shadow gap between the candlesticks c_i and c_j, where j > i.\n",
    "        up shadow gap means that the high price of c_i is less than the low price of c_j\n",
    "    \"\"\"\n",
    "    return np.where(candlesticks['High'].values[shift1:-shift2+shift1] < candlesticks['Low'][shift2:], True, False)\n",
    "\n",
    "\n",
    "def down_body_gap(candlesticks: pd.DataFrame, shift1: int, shift2: int):\n",
    "    \"\"\"\n",
    "        returns True when  there is a downside body gap between the candlesticks c_i and c_j,\n",
    "        where j > i. The downside gap means the bottom of the body of c_i is greater\n",
    "        than the top of the body of c_j\n",
    "    \"\"\"\n",
    "    return np.where(bottom_body(candlesticks)[shift1:-shift2+shift1] > top_body(candlesticks)[shift2:], True, False)\n",
    "    \n",
    "\n",
    "\n",
    "def up_body_gap(candlesticks: pd.DataFrame, shift1: int, shift2: int):\n",
    "    \"\"\"\n",
    "        returns True when there is an upside body gap between the candlesticks c_i and c_j,\n",
    "        where j > i. The upside gap means that the top of the body c_i is less \n",
    "        than the bottom of the body c_j\n",
    "    \"\"\"\n",
    "    return np.where(top_body(candlesticks)[shift1:-shift2+shift1] < bottom_body(candlesticks)[shift2:], True, False)\n"
   ]
  },
  {
   "cell_type": "markdown",
   "id": "7472323a-2f2e-48cb-ad49-fadd7432998d",
   "metadata": {},
   "source": [
    "## Abandoned Baby, Bearish (pattern 62)"
   ]
  },
  {
   "cell_type": "code",
   "execution_count": 214,
   "id": "d6314ae3-4669-4fc8-95e6-a9b5225ea2cb",
   "metadata": {},
   "outputs": [],
   "source": [
    "def check_abandonedBabyBearish(candlesticks: pd.DataFrame):\n",
    "    \"\"\"\n",
    "        it is a three candle sequence pattern\n",
    "        if (len({c_i}) == 3) and (price_trend({c_i}) == 1) and\n",
    "        (there are c1, c2, c3: \n",
    "            (small_white_body(c_1) or normall_white_body(c_1) or long_white_body(c_1))\n",
    "            and Doji(c_2) and up_shadow_gap(c_1, c_2) and down_shadow_gap(c_2, c_3) \n",
    "            and (small_black_body(c_3) or normal_black_body(c_3) or long_black_body(c_3)))\n",
    "    \"\"\"\n",
    "\n",
    "    pt = price_trend(candlesticks, sequence_length=3, complete=False)\n",
    "    cond1 = np.where(small_white_body(candlesticks) | normall_white_body(candlesticks) | long_white_body(candlesticks), True, False)\n",
    "    cond2 = np.where(small_black_body(candlesticks) | normal_black_body(candlesticks) | long_black_body(candlesticks), True, False)\n",
    "    doji = Doji(candlesticks)\n",
    "    cond3 = np.where(up_shadow_gap(candlesticks, 0, 1)[:-1] & down_shadow_gap(candlesticks, 1, 2), True, False)\n",
    "    return np.where((pt == 1) & cond1[:-2] & cond2[2:] & doji[1:-1] & cond3, 1, 0)"
   ]
  },
  {
   "cell_type": "code",
   "execution_count": 303,
   "id": "f39c536f-3256-411c-b519-4581c0583c08",
   "metadata": {},
   "outputs": [
    {
     "data": {
      "text/plain": [
       "0"
      ]
     },
     "execution_count": 303,
     "metadata": {},
     "output_type": "execute_result"
    }
   ],
   "source": [
    "check_abandonedBabyBearish(df).sum()"
   ]
  },
  {
   "cell_type": "markdown",
   "id": "eecd8a87-6702-4ca3-b1c0-fbcd0719fd33",
   "metadata": {},
   "source": [
    "## Abandoned Baby, Bullish (pattern 63)"
   ]
  },
  {
   "cell_type": "code",
   "execution_count": 205,
   "id": "c1046b6f-c800-4673-8719-4d70f8c76a89",
   "metadata": {},
   "outputs": [],
   "source": [
    "def check_abandonedBabyBullish(candlesticks: pd.DataFrame):\n",
    "    \"\"\"\n",
    "        it is a three candle sequence pattern\n",
    "        if (len({c_i}) == 3) and (price_trend({c_i}) == -1) and\n",
    "        (there are c1, c2, c3:\n",
    "            black_body(c1) and Dijo(c2) and down_shadow_gap(c1, c2) and\n",
    "            up_shadow_gap(c2, c3) and white_body(c3)\n",
    "    \"\"\"\n",
    "    pt = price_trend(candlesticks, sequence_length=3, complete=False)\n",
    "    cond1 = np.where(black_body(candlesticks)[:-2] & Doji(candlesticks)[1:-1] & white_body(candlesticks)[2:], True, False)\n",
    "    cond2 = np.where(up_shadow_gap(candlesticks, 0, 1)[:-1] & down_shadow_gap(candlesticks, 1, 2), True, False)\n",
    "    return np.where((pt==-1) & cond1 & cond2, 1, 0)"
   ]
  },
  {
   "cell_type": "markdown",
   "id": "261a94a4-1109-46d3-b861-b2bf6d485b0f",
   "metadata": {},
   "source": [
    "## Doji Star, Collapsing (pattern 64)"
   ]
  },
  {
   "cell_type": "code",
   "execution_count": 222,
   "id": "6d322131-0fc0-4643-9b91-7511c317f213",
   "metadata": {},
   "outputs": [],
   "source": [
    "def check_dojiStarCollapsing(candlesticks: pd.DataFrame):\n",
    "    \"\"\"\n",
    "        The first day in a significant candlestick is a white candle,\n",
    "        the second is Doji, that creates a downside shadow gap with the first day\n",
    "        the third is a black candle\n",
    "\n",
    "        returns True if (len({c_i}) == 3) and (price_trend({c_i}) == 1) and\n",
    "        (there are c1, c2, c3:\n",
    "            white_body(c1) and Doji(c_2) and down_shadow_gap(c1, c2) and \n",
    "            down_shadow_gap(c2, c3) and black_body(c3)\n",
    "        \n",
    "    \"\"\"\n",
    "    pt = price_trend(candlesticks, sequence_length=3, complete=False)\n",
    "    cond1 = np.where(Doji(candlesticks)[1:-1] & down_shadow_gap(candlesticks, 0, 1)[:-1], True, False)\n",
    "    cond2 = np.where(black_body(candlesticks)[2:] & down_shadow_gap(candlesticks, 1, 2), True, False)\n",
    "    return np.where((pt == 1) & white_body(candlesticks)[:-2] & cond1 & cond2, 1, 0)"
   ]
  },
  {
   "cell_type": "markdown",
   "id": "5a571f98-fae7-4964-8321-75ff6d0411a1",
   "metadata": {},
   "source": [
    "## Evening Doji Start (pattern 65)"
   ]
  },
  {
   "cell_type": "code",
   "execution_count": 219,
   "id": "03482c5a-250c-4a4f-b463-c0383e1b8d5e",
   "metadata": {},
   "outputs": [],
   "source": [
    "def check_eveningDojiStar(candlesticks: pd.DataFrame):\n",
    "    \"\"\"\n",
    "        returns True if\n",
    "        (len({c_i}) == 3) and (price_trend({c_i}) == 1) and \n",
    "        (there are c1, c2, c3:\n",
    "            long_white_body(c1) and Doji(c2) and up_body_gap(c1, c2) and\n",
    "            down_body_gap(c2, c3) and long_black_body(c3) and \n",
    "            (open_price(c1) < close_price(c3) <= (0.5 * (open_price(c1) + close_price(c1))))\n",
    "    \"\"\"\n",
    "    pt = price_trend(candlesticks, sequence_length=3, complete=False)\n",
    "    cond1 = np.where(long_white_body(candlesticks)[:-2] & Doji(candlesticks)[1:-1] & up_body_gap(candlesticks, 0, 1)[:-1], True, False)\n",
    "    cond2 = np.where(down_body_gap(candlesticks, 1, 2) & long_black_body(candlesticks)[2:], True, False)\n",
    "    open = candlesticks['Open'].values\n",
    "    close = candlesticks['Close'].values\n",
    "    cond3 = np.where((open[:-2] < close[2:]) & (close[2:] <= (0.5 * (open + close))[:-2]), True, False)\n",
    "    return np.where((pt == 1) & cond1 & cond2 & cond3, 1, 0)"
   ]
  },
  {
   "cell_type": "markdown",
   "id": "8b611fa3-d822-4d70-9c23-b32a69dc6a53",
   "metadata": {},
   "source": [
    "## Evening Star (pattern 66)"
   ]
  },
  {
   "cell_type": "code",
   "execution_count": 227,
   "id": "6d54f3d7-70c7-4364-9ad7-74d8999d8f05",
   "metadata": {},
   "outputs": [],
   "source": [
    "def check_eveningStar(candlesticks: pd.DataFrame):\n",
    "    \"\"\"\n",
    "        (len({c_i}) == 3) and (price_trend({c_i}) == 1) and \n",
    "        (there are c1, c2, c3:\n",
    "            long_white_body(c1) and small_body(c2) and \n",
    "            up_body_gap(c1, c2) and down_body_gap(c2, c3) and\n",
    "            long_black_body(c3) and\n",
    "            (close_price(c3) > open_price(c1)) and (open_price(c1) < close_price(c3) <= (0.5 * (open_price(c1) + close_price(c1)))))\n",
    "    \"\"\"\n",
    "    pt = price_trend(candlesticks, sequence_length=3, complete=False)\n",
    "    cond1 = np.where(long_white_body(candlesticks)[:-2] & small_body(candlesticks)[1:-1] & long_black_body(candlesticks)[2:], True, False)\n",
    "    cond2 = np.where(up_body_gap(candlesticks, 0, 1)[:-1] & down_body_gap(candlesticks, 1, 2), True, False)\n",
    "    open = candlesticks['Open'].values\n",
    "    close = candlesticks['Close'].values\n",
    "    cond3 = np.where(close[2:] > open[:-2], True, False)\n",
    "    cond4 = np.where((open[:-2] < close[2:]) & (close[2:] <= (0.5 * (open + close))[:-2]), True, False)\n",
    "    return np.where((pt == 1) & cond1 & cond2 & cond3 & cond4, 1, 0)"
   ]
  },
  {
   "cell_type": "markdown",
   "id": "f27e16df-5405-44a8-b265-524056126ad6",
   "metadata": {},
   "source": [
    "## Morning Doji Star (pattern 67)"
   ]
  },
  {
   "cell_type": "code",
   "execution_count": 228,
   "id": "76925562-d9e1-414f-a2ca-015db83d286e",
   "metadata": {},
   "outputs": [],
   "source": [
    "def check_morningDojiStar(candlesticks: pd.DataFrame):\n",
    "    \"\"\"\n",
    "        (len({c_i}) == 3) and (price_trend({c_i}) == -1) and \n",
    "        (there are c1, c2, c3:\n",
    "            long_black_body(c1) and Doji(c2) and \n",
    "            down_body_gap(c1, c2) and up_body_gap(c2, c3) and\n",
    "            long_white_body(c3)\n",
    "    \"\"\"\n",
    "    pt = price_trend(candlesticks, sequence_length=3, complete=False)\n",
    "    cond1 = np.where(long_black_body(candlesticks)[:-2] & Doji(candlesticks)[1:-1] & long_white_body(candlesticks)[2:], True, False)\n",
    "    cond2 = np.where(down_body_gap(candlesticks, 0, 1)[:-1] & up_body_gap(candlesticks, 1, 2), True, False)\n",
    "    return ((pt == -1) & cond1 & cond2, 1, 0)"
   ]
  },
  {
   "cell_type": "markdown",
   "id": "5f54b3b9-1155-462f-8f2a-4dcc69ffb070",
   "metadata": {},
   "source": [
    "## Morning star (pattern 68)"
   ]
  },
  {
   "cell_type": "code",
   "execution_count": 233,
   "id": "541c193f-e500-43cc-96ab-bd1dc6729ae0",
   "metadata": {},
   "outputs": [],
   "source": [
    "def check_morningStar(candlesticks: pd.DataFrame):\n",
    "    \"\"\"\n",
    "        (len({c_i}) == 3) and (price_trend({c_i}) == -1) and\n",
    "        (there are c1, c2, c3:\n",
    "            long_black_body(c1) and small_body(c2) and long_white_body(c3) and\n",
    "            down_body_gap(c1, c2) and up_body_gap(c2, c3) and\n",
    "            (close_price(c3) > 0.5 * (open_price(c1) + close_price(c1)))\n",
    "    \"\"\"\n",
    "    pt = price_trend(candlesticks, sequence_length=3, complete=False)\n",
    "    cond1 = np.where(long_black_body(candlesticks)[:-2] & small_body(candlesticks)[1:-1] & long_white_body(candlesticks)[2:], True, False)\n",
    "    cond2 = np.where(down_body_gap(candlesticks, 0, 1)[:-1] & up_body_gap(candlesticks, 1, 2), True, False)\n",
    "    open = candlesticks['Open'].values\n",
    "    close = candlesticks['Close'].values\n",
    "    cond3 = np.where(close[2:] > 0.5 * (open[:-2] + close[:-2]), True, False)\n",
    "    return np.where((pt == -1) & cond1 & cond2 & cond3, 1, 0)"
   ]
  },
  {
   "cell_type": "markdown",
   "id": "00622dcc-10a0-439c-8198-06d6252ecff0",
   "metadata": {},
   "source": [
    "# Three Doji Stars"
   ]
  },
  {
   "cell_type": "markdown",
   "id": "b52a8ace-eb2d-4dfd-a147-6754661dbd86",
   "metadata": {},
   "source": [
    "## Tri-Star Bearish (patter 69)"
   ]
  },
  {
   "cell_type": "code",
   "execution_count": 242,
   "id": "8b6466fd-7ecd-4a7e-8f41-1c5f4f1016aa",
   "metadata": {},
   "outputs": [],
   "source": [
    "def check_triStarBearish(candlesticks: pd.DataFrame):\n",
    "    \"\"\"\n",
    "        (len({c_i}) == 3) and (price_trend({c_i}) == 1) and\n",
    "        (there are c1, c2, c3:\n",
    "            Doji(c1) and Doji(c2) and Doji(c3) and\n",
    "            up_body_gap(c1, c2) and down_body_gap(c2,c3))\n",
    "    \"\"\"\n",
    "    pt = price_trend(candlesticks, sequence_length=3, complete=False)\n",
    "    cond1 = np.where(Doji(candlesticks)[:-2] & Doji(candlesticks)[1:-1] & Doji(candlesticks)[2:], True, False)\n",
    "    cond2 = np.where(up_body_gap(candlesticks, 0, 1)[:-1] & down_body_gap(candlesticks, 1, 2), True, False)\n",
    "    return np.where((pt == 1) & cond1 & cond2, 1, 0)"
   ]
  },
  {
   "cell_type": "markdown",
   "id": "a1c61135-4852-426f-bcdd-bc187caf8cc8",
   "metadata": {},
   "source": [
    "## Tri-Star Bullish (pattern 70)"
   ]
  },
  {
   "cell_type": "code",
   "execution_count": 246,
   "id": "a0bf2186-9c8e-4eaf-9b36-c871b7891dfb",
   "metadata": {},
   "outputs": [],
   "source": [
    "def check_triStarBullish(candlesticks: pd.DataFrame):\n",
    "    \"\"\"\n",
    "         (len({c_i}) == 3) and (price_trend({c_i}) == -1) and\n",
    "         (there are c1, c2, c3:\n",
    "             Doji(c1) and Doji(c2) and Doji(c3) and\n",
    "            up_body_gap(c1, c2) and down_body_gap(c2,c3))\n",
    "    \"\"\"\n",
    "    pt = price_trend(candlesticks, sequence_length=3, complete=False)\n",
    "    cond1 = np.where(Doji(candlesticks)[:-2] & Doji(candlesticks)[1:-1] & Doji(candlesticks)[2:], True, False)\n",
    "    cond2 = np.where(down_body_gap(candlesticks, 0, 1)[:-1] & up_body_gap(candlesticks, 1, 2), True, False)\n",
    "    return np.where((pt == -1) & cond1 & cond2, 1, 0)"
   ]
  },
  {
   "cell_type": "markdown",
   "id": "bdcf29e6-36db-405a-a247-2bff93a88d7f",
   "metadata": {},
   "source": [
    "## Side-by-Side White Lines Bearish (pattern 71)"
   ]
  },
  {
   "cell_type": "code",
   "execution_count": 247,
   "id": "9d95bcd4-de32-40d0-b3ab-fbd97c0a345d",
   "metadata": {},
   "outputs": [],
   "source": [
    "def check_sidy_by_sideWhiteLineBearish(candlesticks: pd.DataFrame):\n",
    "    \"\"\"\n",
    "         (len({c_i}) == 3) and (price_trend({c_i}) == -1) and\n",
    "         (there are c1, c2, c3:\n",
    "             black_body(c1) and white_body(c2) and white_body(c3) and\n",
    "             near(close(c2), close(c3)) and near(open(c2), open(c3)) and\n",
    "             down_body_gap(c1, c2) and down_body_gap(c1, c3)\n",
    "    \"\"\"\n",
    "    pass"
   ]
  },
  {
   "cell_type": "markdown",
   "id": "7264c984-1ad2-43cd-9351-52bc7409b942",
   "metadata": {},
   "source": [
    "## Side-by-Side White Lines Bullish (pattern 72)"
   ]
  },
  {
   "cell_type": "code",
   "execution_count": 248,
   "id": "41f44fed-3e8d-46a8-95a2-19e1f1126967",
   "metadata": {},
   "outputs": [],
   "source": [
    "def check_side_by_sideWhiteLineBullish(candlesticks: pd.DataFrame):\n",
    "    \"\"\"\n",
    "        (len({c_i}) == 3) and (price_trend({c_i}) == -1) and\n",
    "        (there are c1, c2, c3:\n",
    "            white_body(c1) and white_body(c2) and white_body(c3) and\n",
    "            near(close(c2), close(c3)) and near(open(c2), open(c3)) and \n",
    "            up_body_gap(c1, c2) and up_body_gap(c1, c3)  \n",
    "    \"\"\"\n",
    "    pass"
   ]
  },
  {
   "cell_type": "markdown",
   "id": "8315f8ac-cf3c-48c1-8833-c2b754e4aea5",
   "metadata": {},
   "source": [
    "## Two Crows (pattern73)"
   ]
  },
  {
   "cell_type": "code",
   "execution_count": 254,
   "id": "087f5184-1ff1-4981-8cc0-1fbafc88338d",
   "metadata": {},
   "outputs": [],
   "source": [
    "def check_twoCrows(candlesticks: pd.DataFrame):\n",
    "    \"\"\"\n",
    "        (len({c_i}) == 3) and (price_trend({c_i}) == 1) and\n",
    "        (there are c1, c2, c3:\n",
    "            long_white_body(c1) and black_body(c2) and black_body(c3) and \n",
    "            up_body_gap(c1,c2) and (close(c2) < open(c3) < open(c2)) and \n",
    "            (open(c1) < close(c3) < close(c1)))\n",
    "    \"\"\"\n",
    "    pt = price_trend(candlesticks, sequence_length=3, complete=False)\n",
    "    cond1 = np.where(long_white_body(candlesticks)[:-2] & black_body(candlesticks)[1:-1] & black_body(candlesticks)[2:], True, False)\n",
    "    cond2 = np.where(up_body_gap(candlesticks, 0, 1)[:-1], True, False)\n",
    "    open = candlesticks['Open'].values\n",
    "    close = candlesticks['Close'].values\n",
    "    cond3 = np.where((close[1:-1] < open[2:]) & (open[2:] < open[1:-1]), True, False)\n",
    "    cond4 = np.where((open[:-2] < close[2:]) & (close[2:] < close[:-2]), True, False)\n",
    "    return np.where((pt == 1) & cond1 & cond2 & cond3 & cond4, 1, 0)"
   ]
  },
  {
   "cell_type": "markdown",
   "id": "df62558a-e0c2-47b7-96e8-148ffda7c030",
   "metadata": {},
   "source": [
    "## Upside Gap Three Methods (pattern 74)"
   ]
  },
  {
   "cell_type": "code",
   "execution_count": 264,
   "id": "520b8f30-6ea5-4e50-8cf2-2496730c8651",
   "metadata": {},
   "outputs": [],
   "source": [
    "def check_upsideGapThreeMethods(candlesticks: pd.DataFrame):\n",
    "    \"\"\"\n",
    "    (len({c_i}) == 3) and (price_trend({c_i}) == 1) and\n",
    "        (there are c1, c2, c3:\n",
    "            long_white_body(c1) and long_white_body(c2) and black_body(c3) and\n",
    "            up_body_gap(c1, c2) and (close(c3) < close(c1)) and (open(c2) < open(c3)))\n",
    "    \"\"\"\n",
    "    pt = price_trend(candlesticks, sequence_length=3, complete=False)\n",
    "    cond1 = np.where(long_white_body(candlesticks)[:-2] & long_white_body(candlesticks)[1:-1] & black_body(candlesticks)[2:], True, False)\n",
    "    open = candlesticks['Open'].values\n",
    "    close = candlesticks['Close'].values\n",
    "    cond2 = np.where((close[2:] < close[:-2]) & (open[1:-1] < open[2:]), True, False)\n",
    "    return np.where((pt == 1) & cond1 & cond2 & up_body_gap(candlesticks, 0, 1)[:-1], 1, 0)"
   ]
  },
  {
   "cell_type": "markdown",
   "id": "e7979d14-7e6d-4b4e-96ca-c178a19bc6e4",
   "metadata": {},
   "source": [
    "## DownSide Gap Three Methods (pattern 75)"
   ]
  },
  {
   "cell_type": "code",
   "execution_count": 262,
   "id": "cdc163ae-50ce-40c5-a337-accdea96d97c",
   "metadata": {},
   "outputs": [],
   "source": [
    "def check_downSideGapThreeMethods(candlesticks: pd.DataFrame):\n",
    "    \"\"\"\n",
    "        (len({c_i}) == 3) and (price_trend({c_i}) == -1) and\n",
    "            (there are c1, c2, c3:\n",
    "                long_black_body(c1) and long_black_body(c2) and white_body(c3) and\n",
    "                down_shadow_gap(c1, c2) and (open(c2) > open(c3) > close(c2)) and \n",
    "                (open(c1) > close(c3) > close(c1)))\n",
    "    \"\"\"\n",
    "    pt = price_trend(candlesticks, sequence_length=3, complete=False)\n",
    "    cond1 = np.where(long_black_body(candlesticks)[:-2] & long_black_body(candlesticks)[1:-1] & white_body(candlesticks)[2:], True, False)\n",
    "    open = candlesticks['Open'].values\n",
    "    close = candlesticks['Close'].values\n",
    "    cond2 = np.where((open[1:-1] > open[2:]) & (open[2:] > close[1:-1]), True, False)\n",
    "    cond3 = np.where((open[:-2] > close[2:]) & (close[2:] > close[:-2]), True, False)\n",
    "    return np.where((pt == -1) & cond1 & down_shadow_gap(candlesticks, 0, 1)[:-1] & cond2 & cond3, 1, 0)"
   ]
  },
  {
   "cell_type": "markdown",
   "id": "0497512e-b00f-4e0a-ae25-317f261405e2",
   "metadata": {},
   "source": [
    "## Downside Tasuki Gap (pattern 76)"
   ]
  },
  {
   "cell_type": "code",
   "execution_count": 267,
   "id": "e73dbf89-1002-40eb-b40c-f6abe2c11e42",
   "metadata": {},
   "outputs": [],
   "source": [
    "def check_downsideTasukiGap(candlesticks: pd.DataFrame):\n",
    "    \"\"\"\n",
    "        (len({c_i}) == 3) and (price_trend({c_i}) == -1) and\n",
    "            (there are c1, c2, c3:\n",
    "                black_body(c1) and black_body(c2) and white_body(c3) and\n",
    "                down_body_gap(c1, c2) and (open(c2) > open(c3) > close(c2)) and\n",
    "                (open(c2) < close(c3) < close(c1)))\n",
    "    \"\"\"\n",
    "    pt = price_trend(candlesticks, sequence_length=3, complete=False)\n",
    "    cond1 = np.where(black_body(candlesticks)[:-2] & black_body(candlesticks)[1:-1] & white_body(candlesticks)[2:], True, False)\n",
    "    cond2 = down_body_gap(candlesticks, 0, 1)[:-1]\n",
    "    open = candlesticks['Open'].values\n",
    "    close = candlesticks['Close'].values\n",
    "    cond3 = np.where((open[1:-1] > open[2:]) & (open[2:] > close[1:-1]), True, False)\n",
    "    cond4 = np.where((open[1:-1] < close[2:]) & (close[2:] < close[:-2]), True, False)\n",
    "    return np.where((pt == -1) & cond1 & cond2 & cond3 & cond4, 1, 0)"
   ]
  },
  {
   "cell_type": "markdown",
   "id": "b7feb6cf-f984-4f07-85b9-1aaad4cdbed4",
   "metadata": {},
   "source": [
    "## Upside Tasuki Gap (pattern 77)"
   ]
  },
  {
   "cell_type": "code",
   "execution_count": 269,
   "id": "3ea57d88-412e-4585-916a-4957f127efd8",
   "metadata": {},
   "outputs": [],
   "source": [
    "def check_upsideTasukiGap(candlesticks: pd.DataFrame):\n",
    "    \"\"\"\n",
    "        (len({c_i}) == 3) and (price_trend({c_i}) == 1) and\n",
    "            (there are c1, c2, c3:\n",
    "                white_body(c1) and white_body(c2) and black_body(c3) and\n",
    "                up_shadow_gap(c1, c2) and \n",
    "                (open(c2) < open(c3) < close(c2)) and (close(c3) > high(c1)) and (close(c3) < low(c2)))\n",
    "    \"\"\"\n",
    "    pt = price_trend(candlesticks, sequence_length=3, complete=False)\n",
    "    cond1 = np.where(white_body(candlesticks)[:-2] & white_body(candlesticks)[1:-1] & black_body(candlesticks)[2:], True, False)\n",
    "    cond2 = up_shadow_gap(candlesticks, 0, 1)[:-1]\n",
    "    open = candlesticks['Open'].values\n",
    "    close = candlesticks['Close'].values\n",
    "    high = candlesticks['High'].values\n",
    "    low = candlesticks['Low'].values\n",
    "    cond3 = np.where((open[1:-1] < open[2:]) & (open[2:] < close[1:-1]), True, False)\n",
    "    cond4 = np.where((close[2:] > high[:-2]) & (close[2:] < low[1:-1]), True, False)\n",
    "    return np.where((pt == 1) & cond1 & cond2 & cond3 & cond4, 1, 0)"
   ]
  },
  {
   "cell_type": "markdown",
   "id": "abba3c80-d969-4351-9f9e-30132cbd417c",
   "metadata": {},
   "source": [
    "## Upside Gap Two Crows (pattern 78)"
   ]
  },
  {
   "cell_type": "code",
   "execution_count": 271,
   "id": "12feaa90-17ea-45d6-a4ab-a86555c05190",
   "metadata": {},
   "outputs": [],
   "source": [
    "def check_upsideGapTwoCrows(candlesticks: pd.DataFrame):\n",
    "    \"\"\"\n",
    "        (len({c_i}) == 3) and (price_trend({c_i}) == 1) and\n",
    "            (there are c1, c2, c3:\n",
    "                long_white_body(c1) and black_body(c2) and black_body(c3) and\n",
    "                up_body_gap(c1, c2) and (open(c3) > open(c2)) and \n",
    "                (close(c2) > close(c3)) and (close(c3) > close(c1)))\n",
    "    \"\"\"\n",
    "    pt = price_trend(candlesticks, sequence_length=3, complete=False)\n",
    "    cond1 = np.where(long_white_body(candlesticks)[:-2] & black_body(candlesticks)[1:-1] & black_body(candlesticks)[2:], True, False)\n",
    "    open = candlesticks['Open'].values\n",
    "    close = candlesticks['Close'].values\n",
    "    cond2 = np.where(up_body_gap(candlesticks, 0, 1)[:-1] & (open[2:] > open[1:-1]), True, False)\n",
    "    cond3 = np.where((close[1:-1] > close[2:]) & (close[2:] > close[:-2]), True, False)\n",
    "    return np.where((pt == 1) & cond1 & cond2 & cond3, 1, 0)"
   ]
  },
  {
   "cell_type": "markdown",
   "id": "b240df50-3b07-49c2-9b5b-217a6cee46a0",
   "metadata": {},
   "source": [
    "# Monotonic"
   ]
  },
  {
   "cell_type": "markdown",
   "id": "cf274cdf-d617-4786-8c16-31c80efd491f",
   "metadata": {},
   "source": [
    "## Advance Book (pattern 79)"
   ]
  },
  {
   "cell_type": "code",
   "execution_count": 273,
   "id": "53d62f15-adcf-475b-a566-e33d948d16e1",
   "metadata": {},
   "outputs": [],
   "source": [
    "def check_advanceBook(candlesticks: pd.DataFrame):\n",
    "    \"\"\"\n",
    "    hs - shadow height\n",
    "    hb - body height\n",
    "    \n",
    "        (len({c_i}) == 3) and (price_trend({c_i}) == 1) and\n",
    "            (there are c1, c2, c3:\n",
    "                white_body(c1) and white_body(c2) and white_body(c3) and\n",
    "                (open(c1) < open(c2) < close(c1)) and (open(c2) < open(c3) < close(c2)) and\n",
    "                (hs(c3) > hb(c3)) and (hs(c2) > hb(c2)) and (hs(c3) > hs(c1)) and (hs(c2) > hs(c1)))\n",
    "    \"\"\"\n",
    "    pt = price_trend(candlesticks, sequence_length=3, complete=False)\n",
    "    cond1 = np.where(white_body(candlesticks)[:-2] & white_body(candlesticks)[1:-1] & white_body(candlesticks)[2:], True, False)\n",
    "    open = candlesticks['Open'].values\n",
    "    close = candlesticks['Close'].values\n",
    "    cond2 = np.where((open[:-2] < open[1:-1]) & (open[1:-1] < close[:-2]), True, False)\n",
    "    cond3 = np.where((open[1:-1] < open[2:]) & (open[2:] < close[1:-1]), True, False)\n",
    "    hs = shadow_height(candlesticks)\n",
    "    hb = body_height(candlesticks)\n",
    "    cond4 = np.where((hs[2:] > hb[2:]) & (hs[1:-1] > hb[1:-1]), True, False)\n",
    "    cond5 = np.where((hs[2:] > hs[:-2]) & (hs[1:-1] > hs[:-2]), True, False)\n",
    "    return np.where((pt == 1) & cond1 & cond2 & cond3 & cond4 & cond5, 1, 0)"
   ]
  },
  {
   "cell_type": "markdown",
   "id": "7d4701e6-9c85-4a34-adaa-d75bc45cfdb5",
   "metadata": {},
   "source": [
    "## Deliberation (pattern 80)"
   ]
  },
  {
   "cell_type": "code",
   "execution_count": 276,
   "id": "06e6c334-21be-40f1-bb61-b6a1dd016e50",
   "metadata": {},
   "outputs": [],
   "source": [
    "def check_deliberation(candlesticks: pd.DataFrame):\n",
    "    \"\"\"\n",
    "        (len({c_i}) == 3) and (price_trend({c_i}) == 1) and\n",
    "            (there are c1, c2, c3:\n",
    "                long_white_body(c1) and long_white_body(c2) and small_white_body(c3) and\n",
    "                near(open(c3), close(c2)) and (open(c1) < open(c2)) and (open(c2) < open(c3)) and\n",
    "                (close(c1) < close(c2)) and (close(c2) < close(c3)))\n",
    "    \"\"\"\n",
    "    pass"
   ]
  },
  {
   "cell_type": "markdown",
   "id": "0d5df6d6-9ec6-4471-90bb-f6af6e89bb7a",
   "metadata": {},
   "source": [
    "## Identical Three Crows (pattern 81)"
   ]
  },
  {
   "cell_type": "code",
   "execution_count": 278,
   "id": "b2713090-8a9c-4940-8948-063359e7ac25",
   "metadata": {},
   "outputs": [],
   "source": [
    "def check_identicalThreeCrows(candlesticks: pd.DataFrame):\n",
    "    \"\"\"\n",
    "        (len({c_i}) == 3) and (price_trend({c_i}) == 1) and\n",
    "            (there are c1, c2, c3:\n",
    "                long_black_body(c1) and long_black_body(c2) and long_black_body(c3) and\n",
    "                near(close(c2), open(c3)) and near (close(c1), open(c2)))\n",
    "    \"\"\"\n",
    "    pass"
   ]
  },
  {
   "cell_type": "markdown",
   "id": "55878ed6-aca7-4556-a6b1-4071f62a13d7",
   "metadata": {},
   "source": [
    "## Three Black Crows (pattern 82)"
   ]
  },
  {
   "cell_type": "code",
   "execution_count": 279,
   "id": "92248c08-d829-460e-86e4-9bba38774f91",
   "metadata": {},
   "outputs": [],
   "source": [
    "def check_threeBlackCrows(candlesticks: pd.DataFrame):\n",
    "    \"\"\"\n",
    "        (len({c_i}) == 3) and (price_trend({c_i}) == 1) and\n",
    "            (there are c1, c2, c3:\n",
    "                long_black_body(c1) and long_black_body(c2) and long_black_body(c3) and\n",
    "                (close(c1) > close(c2)) and (close(c2) > close(c3)) and \n",
    "                (close(c1) < open(c2) < open(c1)) and (close(c2) < open(c3) < open(c2)) and\n",
    "                near(close(c1), low(c1)) and near(close(c2), low(c2)) and near(close(c3), low(c3)) \n",
    "\n",
    "    \"\"\"\n",
    "    pass"
   ]
  },
  {
   "cell_type": "markdown",
   "id": "002f7e68-d8e3-4d90-be15-27cfe3c6a05d",
   "metadata": {},
   "source": [
    "## Three Inside Down (pattern 83)"
   ]
  },
  {
   "cell_type": "markdown",
   "id": "f056cedc-8247-470d-a45a-82f521774dc0",
   "metadata": {},
   "source": [
    "## Three Inside Up (pattern 84)"
   ]
  },
  {
   "cell_type": "markdown",
   "id": "ec35e7e2-f0cc-42e8-9fde-f923fd1a4dc5",
   "metadata": {},
   "source": [
    "## Three outside down (pattern 85)"
   ]
  },
  {
   "cell_type": "code",
   "execution_count": 280,
   "id": "fdbaa56e-f755-4aa0-b62b-f6d11a8a952e",
   "metadata": {},
   "outputs": [],
   "source": [
    "def check_threeOutsideDown(candlesticks: pd.DataFrame):\n",
    "    \"\"\"\n",
    "        (len({c_i}) == 3) and (price_trend({c_i}) == 1) and\n",
    "            (there are c1, c2, c3:\n",
    "                white_body(c1) and black_body(c2) and black_body(c3) and\n",
    "                (close(c1) < open(c2)) and (close(c2) < open(c1)) and (close(c3) < close(c2)))\n",
    "    \"\"\"\n",
    "    pt = price_trend(candlesticks, sequence_length=3, complete=False)\n",
    "    cond1 = np.where(white_body(candlesticks)[:-2] & black_body(candlesticks)[1:-1] & black_body(candlesticks)[2:], True, False)\n",
    "    open = candlesticks['Open'].values\n",
    "    close = candlesticks['Close'].values\n",
    "    cond2 = np.where((close[:-2] < open[1:-1]) & (close[1:-1] < open[:-2]) & (close[2:] < close[1:-1]), True, False)\n",
    "    return np.where((pt == 1) & cond1 & cond2, 1, 0)"
   ]
  },
  {
   "cell_type": "markdown",
   "id": "374eb40b-7230-4746-8d67-6b2fc99fec84",
   "metadata": {},
   "source": [
    "## Three Outside Up (pattern 86)"
   ]
  },
  {
   "cell_type": "code",
   "execution_count": 287,
   "id": "599799b1-5e77-46bf-a20e-958b27c99343",
   "metadata": {},
   "outputs": [],
   "source": [
    "def check_threeOutsideUp(candlesticks: pd.DataFrame):\n",
    "    \"\"\"\n",
    "        (len({c_i}) == 3) and (price_trend({c_i}) == -1) and\n",
    "            (there are c1, c2, c3:\n",
    "                black_body(c1) and white_body(c2) and white_body(c3) and\n",
    "                (open(c2) < close(c1)) and (close(c2) > open(c1)) and (close(c2) < close(c3)))\n",
    "\n",
    "    \"\"\"\n",
    "    pt = price_trend(candlesticks, sequence_length=3, complete=False)\n",
    "    cond1 = np.where(black_body(candlesticks)[:-2] & white_body(candlesticks)[1:-1] & white_body(candlesticks)[2:], True, False)\n",
    "    open = candlesticks['Open'].values\n",
    "    close = candlesticks['Close'].values\n",
    "    cond2 = np.where((open[1:-1] < close[:-2]) & (close[1:-1] > open[:-2]) & (close[1:-1] < close[2:]), True, False)\n",
    "    return np.where((pt == -1) & cond1 & cond2, 1, 0)"
   ]
  },
  {
   "cell_type": "markdown",
   "id": "b3e5c747-0371-4eed-9456-5a82b842c37f",
   "metadata": {},
   "source": [
    "## Three Stars in the South (pattern 87)"
   ]
  },
  {
   "cell_type": "code",
   "execution_count": 284,
   "id": "b01f37f6-8e97-436c-a4eb-3e3fefa89cbb",
   "metadata": {},
   "outputs": [],
   "source": [
    "def check_threeStarsInTheSouth(candlesticks: pd.DataFrame):\n",
    "    \"\"\"\n",
    "    \"\"\"\n",
    "    pass"
   ]
  },
  {
   "cell_type": "markdown",
   "id": "081fc286-ae47-4e50-9d13-e14c71ccef60",
   "metadata": {},
   "source": [
    "## Three White Soldiers (pattern 88)"
   ]
  },
  {
   "cell_type": "code",
   "execution_count": 285,
   "id": "424647c4-332a-4bb4-a5e2-68f6ccab3ffd",
   "metadata": {},
   "outputs": [],
   "source": [
    "def check_threeWhiteSoldiers(candlesticks: pd.DataFrame):\n",
    "    pass"
   ]
  },
  {
   "cell_type": "markdown",
   "id": "3bbc2bf9-d177-4333-a74f-f3948f6c5e39",
   "metadata": {},
   "source": [
    "## Unique Three-Rivers Bottom (pattern 89)"
   ]
  },
  {
   "cell_type": "code",
   "execution_count": 286,
   "id": "2c2424e0-668b-4f85-8618-9f098edec369",
   "metadata": {},
   "outputs": [],
   "source": [
    "def check_uniqueThreeRiversBottom(candlesticks: pd.DataFrame):\n",
    "    pass"
   ]
  },
  {
   "cell_type": "markdown",
   "id": "922e4b0c-8b52-4da6-aca6-d00c8f4ea319",
   "metadata": {},
   "source": [
    "# Fluctuations"
   ]
  },
  {
   "cell_type": "code",
   "execution_count": 291,
   "id": "bfe8b94b-d289-4d55-bbae-1c2bc0de2e65",
   "metadata": {},
   "outputs": [],
   "source": [
    "def near(seq1, seq2):\n",
    "    \"\"\"\n",
    "        returns True if 0 <= |x - y| / max(x, y) < 0.01\n",
    "    \"\"\"\n",
    "    vec = np.abs(seq1 - seq2) / np.max(np.vstack((seq1, seq2)).T, axis=1)\n",
    "    return np.where( (0.0 <= vec) & (vec < 0.01), True, False)"
   ]
  },
  {
   "cell_type": "markdown",
   "id": "4e308949-0550-42bf-a475-00f5dc68338f",
   "metadata": {},
   "source": [
    "## Stick Sandwich (pattern 90)"
   ]
  },
  {
   "cell_type": "code",
   "execution_count": 292,
   "id": "31fdb8fc-e790-4d69-b068-249f7290f9fa",
   "metadata": {},
   "outputs": [],
   "source": [
    "def check_stickSandwich(candlesticks: pd.DataFrame):\n",
    "    \"\"\"\n",
    "        (len({c_i}) == 3) and (price_trend({c_i}) == -1) and\n",
    "            (there are c1, c2, c3:\n",
    "                black_body(c1) and white_body(c2) and black_body(c3) and \n",
    "                (close(c1) < high(c2)) and near(close(c3), close(c1)))\n",
    "                \n",
    "    \"\"\"\n",
    "    pt = price_trend(candlesticks, sequence_length=3, complete=False)\n",
    "    cond1 = np.where(black_body(candlesticks)[:-2] & white_body(candlesticks)[1:-1] & black_body(candlesticks)[2:], True, False)\n",
    "    high = candlesticks['High'].values\n",
    "    close = candlesticks['Close'].values\n",
    "    cond2 = np.where((close[:-2] < high[1:-1]) & near(close[2:], close[:-2]), True, False)\n",
    "    return np.where((pt == -1) & cond1 & cond2, 1, 0)"
   ]
  },
  {
   "cell_type": "code",
   "execution_count": 302,
   "id": "b9000ce3-31f3-4523-80b3-2a6b19e8a123",
   "metadata": {},
   "outputs": [
    {
     "data": {
      "text/plain": [
       "0"
      ]
     },
     "execution_count": 302,
     "metadata": {},
     "output_type": "execute_result"
    }
   ],
   "source": [
    "check_stickSandwich(df).sum()"
   ]
  },
  {
   "cell_type": "markdown",
   "id": "ccbe2c92-dfa1-47af-8f5d-10723fa52b4c",
   "metadata": {},
   "source": [
    "## Marobuzu"
   ]
  },
  {
   "cell_type": "code",
   "execution_count": null,
   "id": "0b73ba31-89f6-46f8-b02d-cf79599c8bfa",
   "metadata": {},
   "outputs": [],
   "source": [
    "def get_marobuzu(df: pd.DataFrame, epsilon: float, window: int, vary=True, strategy='mean', part=0.0005):\n",
    "    \"\"\"\n",
    "        Свечной паттерн Маробузу - находит свечи с длинным телом и без тени\n",
    "        для этого одновременно проверяем:\n",
    "        `High - Low = Open - Close + epsilon` и \n",
    "        `Open - Close > \\frac{3}{2}\\frac{1}{n}\\Sigma_{i=1}^{n}|Open_i - Close_i|`, \n",
    "        где n - величина окна\n",
    "\n",
    "        Аргументы:\n",
    "            df, pandas.DataFrame - кадр данных со столбцами Open, Close, High, Low\n",
    "            epsilon, float - пороговая разница между разницами цен открытия и закрытия и максимальной и минимальной\n",
    "            window, int - величина окна, в котором рассчитывается маробузу\n",
    "            vary, bool - вариьровать или нет\n",
    "            strategy, str - стратегия выбора цены актива, mean - среднее значение за период,\n",
    "                            'last' - последнее значение закрытия за период\n",
    "            part, float - доля от цены актива\n",
    "\n",
    "        Возвращаемое значение:\n",
    "            marobuzu_vec, np.array - вектор паттернов маробузу, содержащий единицу в местах, где \n",
    "            паттерн имеет возбужденное состояние.\n",
    "            \n",
    "    \"\"\"\n",
    "    marobuzu_vec = np.zeros(len(df))\n",
    "    open, close = df['Open'], df['Close']\n",
    "    high, low = df['High'], df['Low']\n",
    "    for i in range(window, df.shape[0]):\n",
    "        # indexes = np.arange(i-window, i, 1, dtype=int)\n",
    "        # print(indexes)\n",
    "        diff = high[i] - low[i] - open[i] + close[i]\n",
    "        tsum = np.abs(open[i-window:i] - close[i-window:i]).sum()*3./2./window\n",
    "        if not vary:\n",
    "            if diff <= epsilon and (open[i] - close[i]) > tsum:\n",
    "                marobuzu_vec[i] += 1\n",
    "        else:\n",
    "            eps = 0\n",
    "            if strategy == 'mean':\n",
    "                step = np.average(close[i-window:i]) * part\n",
    "            elif strategy == 'last':\n",
    "                step = close[i] * part\n",
    "            while eps < epsilon:\n",
    "                if eps > epsilon:\n",
    "                    eps = epsilon\n",
    "                if diff <= eps and open[i] - close[i] > tsum:\n",
    "                    marobuzu_vec[i] += 1\n",
    "                eps += step\n",
    "            \n",
    "            \n",
    "    return marobuzu_vec"
   ]
  }
 ],
 "metadata": {
  "kernelspec": {
   "display_name": "my-venv",
   "language": "python",
   "name": "my-venv"
  },
  "language_info": {
   "codemirror_mode": {
    "name": "ipython",
    "version": 3
   },
   "file_extension": ".py",
   "mimetype": "text/x-python",
   "name": "python",
   "nbconvert_exporter": "python",
   "pygments_lexer": "ipython3",
   "version": "3.9.13"
  }
 },
 "nbformat": 4,
 "nbformat_minor": 5
}
