{
 "cells": [
  {
   "cell_type": "code",
   "execution_count": 17,
   "id": "678bf824-b03a-4d1c-acdd-37f423cb3253",
   "metadata": {},
   "outputs": [],
   "source": [
    "import numpy as np\n",
    "import pandas as pd\n",
    "import matplotlib.pyplot as plt\n",
    "import datetime\n",
    "\n",
    "from helper import get_data, prepare_data"
   ]
  },
  {
   "cell_type": "code",
   "execution_count": 2,
   "id": "f2546bc0-4112-49d1-961b-1f1a2ca5bc4b",
   "metadata": {},
   "outputs": [],
   "source": [
    "TICKER = 'SBER'\n",
    "start_date = '2022-08-24'\n",
    "end_date = '2023-09-24'"
   ]
  },
  {
   "cell_type": "code",
   "execution_count": 3,
   "id": "9b8d6f4e-a060-4ee6-a04a-70a8c565e38b",
   "metadata": {},
   "outputs": [
    {
     "data": {
      "text/html": [
       "<div>\n",
       "<style scoped>\n",
       "    .dataframe tbody tr th:only-of-type {\n",
       "        vertical-align: middle;\n",
       "    }\n",
       "\n",
       "    .dataframe tbody tr th {\n",
       "        vertical-align: top;\n",
       "    }\n",
       "\n",
       "    .dataframe thead th {\n",
       "        text-align: right;\n",
       "    }\n",
       "</style>\n",
       "<table border=\"1\" class=\"dataframe\">\n",
       "  <thead>\n",
       "    <tr style=\"text-align: right;\">\n",
       "      <th></th>\n",
       "      <th>open</th>\n",
       "      <th>close</th>\n",
       "      <th>high</th>\n",
       "      <th>low</th>\n",
       "      <th>value</th>\n",
       "      <th>Date</th>\n",
       "    </tr>\n",
       "  </thead>\n",
       "  <tbody>\n",
       "    <tr>\n",
       "      <th>0</th>\n",
       "      <td>130.60</td>\n",
       "      <td>128.15</td>\n",
       "      <td>131.64</td>\n",
       "      <td>127.85</td>\n",
       "      <td>5.940974e+09</td>\n",
       "      <td>2022-08-24</td>\n",
       "    </tr>\n",
       "    <tr>\n",
       "      <th>1</th>\n",
       "      <td>128.15</td>\n",
       "      <td>128.18</td>\n",
       "      <td>129.81</td>\n",
       "      <td>127.10</td>\n",
       "      <td>4.630468e+09</td>\n",
       "      <td>2022-08-25</td>\n",
       "    </tr>\n",
       "    <tr>\n",
       "      <th>2</th>\n",
       "      <td>128.02</td>\n",
       "      <td>130.40</td>\n",
       "      <td>130.50</td>\n",
       "      <td>127.62</td>\n",
       "      <td>4.251007e+09</td>\n",
       "      <td>2022-08-26</td>\n",
       "    </tr>\n",
       "    <tr>\n",
       "      <th>3</th>\n",
       "      <td>130.12</td>\n",
       "      <td>131.17</td>\n",
       "      <td>131.40</td>\n",
       "      <td>129.52</td>\n",
       "      <td>5.342794e+09</td>\n",
       "      <td>2022-08-29</td>\n",
       "    </tr>\n",
       "    <tr>\n",
       "      <th>4</th>\n",
       "      <td>131.17</td>\n",
       "      <td>130.05</td>\n",
       "      <td>132.60</td>\n",
       "      <td>129.65</td>\n",
       "      <td>6.706724e+09</td>\n",
       "      <td>2022-08-30</td>\n",
       "    </tr>\n",
       "  </tbody>\n",
       "</table>\n",
       "</div>"
      ],
      "text/plain": [
       "     open   close    high     low         value       Date\n",
       "0  130.60  128.15  131.64  127.85  5.940974e+09 2022-08-24\n",
       "1  128.15  128.18  129.81  127.10  4.630468e+09 2022-08-25\n",
       "2  128.02  130.40  130.50  127.62  4.251007e+09 2022-08-26\n",
       "3  130.12  131.17  131.40  129.52  5.342794e+09 2022-08-29\n",
       "4  131.17  130.05  132.60  129.65  6.706724e+09 2022-08-30"
      ]
     },
     "execution_count": 3,
     "metadata": {},
     "output_type": "execute_result"
    }
   ],
   "source": [
    "df = get_data(TICKER, start_date, end_date)\n",
    "df = prepare_data(df)\n",
    "df.head()"
   ]
  },
  {
   "cell_type": "code",
   "execution_count": 26,
   "id": "71073569-0269-4d58-bb4d-dd6c3ec25a39",
   "metadata": {},
   "outputs": [],
   "source": [
    "dates = df['Date']\n",
    "open_prices = df['open']\n",
    "close_prices = df['close']"
   ]
  },
  {
   "cell_type": "code",
   "execution_count": 8,
   "id": "adc0783e-e01b-471c-a72a-97659c35086c",
   "metadata": {},
   "outputs": [],
   "source": [
    "# TODO calculate max drawdown"
   ]
  },
  {
   "cell_type": "code",
   "execution_count": 9,
   "id": "09eda82f-cb4f-4f58-a55d-2865063c1b90",
   "metadata": {},
   "outputs": [],
   "source": [
    "def find_drawdown(prices_vec: np.array):\n",
    "    \"\"\"\n",
    "        Функция поиска максимальной просадки.\n",
    "\n",
    "        Алгоритм:\n",
    "            1. Создаем две переменные для хранения максимальной просадки и\n",
    "               максимального значения вектора цен в текущий момент.\n",
    "            2. Итеративно проходим по всем точка вектора кумулятивной доходности и\n",
    "                2.1. Если текущее значение цены превышает максимальное,\n",
    "                перезапишем. Это условие говорит о том, что сейчас график идет в рост и \n",
    "                падения не на наблюдается.\n",
    "                2.2. Если разница между максимальным и текущим значениями цен\n",
    "                превышают максимальную просадку - перезаписываем значение максимальной просадки.\n",
    "                2.3. Если ни одно условие не выполнилось, делаем шаг и повторяем.\n",
    "\n",
    "        Аргументы:\n",
    "            prices_vec, numpy.array - вектор цен инструмента\n",
    "\n",
    "        Возвращаемое значение:\n",
    "            max_drawdown, float - величина максимальной просадки\n",
    "            drawdown_start, float - точка максимума просадки как значение цены интрумента\n",
    "            drawdown_end, float - точки минимума просадки как значение цены инструмента\n",
    "            \n",
    "    \"\"\"\n",
    "    \n",
    "    max_drawdown, max_price = 0, 0\n",
    "    drawdown_start, draw_down_end = 0, 0\n",
    "    \n",
    "    for _, price in enumerate(prices_vec):\n",
    "        if price >= max_price:\n",
    "            max_price=price\n",
    "            # continue\n",
    "        # else:\n",
    "        if max_price - price >= max_drawdown:\n",
    "            max_drawdown = max_price - price\n",
    "            drawdown_start, draw_down_end = max_price, price\n",
    "\n",
    "    return max_drawdown, drawdown_start, draw_down_end"
   ]
  },
  {
   "cell_type": "code",
   "execution_count": 10,
   "id": "dc322f90-1b99-4236-b4fb-d84463a64fea",
   "metadata": {},
   "outputs": [
    {
     "data": {
      "text/plain": [
       "42.30000000000001"
      ]
     },
     "execution_count": 10,
     "metadata": {},
     "output_type": "execute_result"
    }
   ],
   "source": [
    "drawdown, drawdown_start, drawdown_end = find_drawdown(close_prices)\n",
    "drawdown"
   ]
  },
  {
   "cell_type": "code",
   "execution_count": 27,
   "id": "fac59cd6-41ca-4892-8ee5-7b6a7c40bd23",
   "metadata": {},
   "outputs": [],
   "source": [
    "_dates = []\n",
    "\n",
    "format = '%Y-%m-%d'\n",
    "\n",
    "for date in dates:\n",
    "    _dates.append(date.strftime(format))\n",
    "dates = np.array(_dates)"
   ]
  },
  {
   "cell_type": "code",
   "execution_count": 30,
   "id": "e4cdd4c3-9ee4-4239-864d-3d7935c87a6d",
   "metadata": {},
   "outputs": [
    {
     "data": {
      "image/png": "[encoded data removed]",
      "text/plain": [
       "<Figure size 640x480 with 1 Axes>"
      ]
     },
     "metadata": {},
     "output_type": "display_data"
    }
   ],
   "source": [
    "plt.plot(close_prices, label='close prices', color='blue')\n",
    "plt.plot(np.where(close_prices == drawdown_start)[0][0], drawdown_start, 'ro', label=f'drawdown = {drawdown}')\n",
    "plt.plot(np.where(close_prices == drawdown_end)[0][0], drawdown_end, 'ro')\n",
    "plt.ylabel('close price')\n",
    "plt.xticks(np.arange(0, len(dates), 25), dates[np.arange(0, len(dates), 25)], rotation=45)\n",
    "plt.legend()\n",
    "plt.show()"
   ]
  }
 ],
 "metadata": {
  "kernelspec": {
   "display_name": "venv",
   "language": "python",
   "name": "venv"
  },
  "language_info": {
   "codemirror_mode": {
    "name": "ipython",
    "version": 3
   },
   "file_extension": ".py",
   "mimetype": "text/x-python",
   "name": "python",
   "nbconvert_exporter": "python",
   "pygments_lexer": "ipython3",
   "version": "3.9.13"
  }
 },
 "nbformat": 4,
 "nbformat_minor": 5
}
