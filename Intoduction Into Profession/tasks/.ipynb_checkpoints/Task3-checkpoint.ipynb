{
 "cells": [
  {
   "cell_type": "code",
   "execution_count": 1,
   "id": "678bf824-b03a-4d1c-acdd-37f423cb3253",
   "metadata": {},
   "outputs": [],
   "source": [
    "import numpy as np\n",
    "import pandas as pd\n",
    "import matplotlib.pyplot as plt\n",
    "\n",
    "from helper import get_data, prepare_data"
   ]
  },
  {
   "cell_type": "code",
   "execution_count": 2,
   "id": "f2546bc0-4112-49d1-961b-1f1a2ca5bc4b",
   "metadata": {},
   "outputs": [],
   "source": [
    "TICKER = 'SBER'\n",
    "start_date = '2022-08-24'\n",
    "end_date = '2023-09-24'"
   ]
  },
  {
   "cell_type": "code",
   "execution_count": 3,
   "id": "9b8d6f4e-a060-4ee6-a04a-70a8c565e38b",
   "metadata": {},
   "outputs": [
    {
     "data": {
      "text/html": [
       "<div>\n",
       "<style scoped>\n",
       "    .dataframe tbody tr th:only-of-type {\n",
       "        vertical-align: middle;\n",
       "    }\n",
       "\n",
       "    .dataframe tbody tr th {\n",
       "        vertical-align: top;\n",
       "    }\n",
       "\n",
       "    .dataframe thead th {\n",
       "        text-align: right;\n",
       "    }\n",
       "</style>\n",
       "<table border=\"1\" class=\"dataframe\">\n",
       "  <thead>\n",
       "    <tr style=\"text-align: right;\">\n",
       "      <th></th>\n",
       "      <th>open</th>\n",
       "      <th>close</th>\n",
       "      <th>high</th>\n",
       "      <th>low</th>\n",
       "      <th>value</th>\n",
       "      <th>Date</th>\n",
       "    </tr>\n",
       "  </thead>\n",
       "  <tbody>\n",
       "    <tr>\n",
       "      <th>0</th>\n",
       "      <td>130.60</td>\n",
       "      <td>128.15</td>\n",
       "      <td>131.64</td>\n",
       "      <td>127.85</td>\n",
       "      <td>5.940974e+09</td>\n",
       "      <td>2022-08-24</td>\n",
       "    </tr>\n",
       "    <tr>\n",
       "      <th>1</th>\n",
       "      <td>128.15</td>\n",
       "      <td>128.18</td>\n",
       "      <td>129.81</td>\n",
       "      <td>127.10</td>\n",
       "      <td>4.630468e+09</td>\n",
       "      <td>2022-08-25</td>\n",
       "    </tr>\n",
       "    <tr>\n",
       "      <th>2</th>\n",
       "      <td>128.02</td>\n",
       "      <td>130.40</td>\n",
       "      <td>130.50</td>\n",
       "      <td>127.62</td>\n",
       "      <td>4.251007e+09</td>\n",
       "      <td>2022-08-26</td>\n",
       "    </tr>\n",
       "    <tr>\n",
       "      <th>3</th>\n",
       "      <td>130.12</td>\n",
       "      <td>131.17</td>\n",
       "      <td>131.40</td>\n",
       "      <td>129.52</td>\n",
       "      <td>5.342794e+09</td>\n",
       "      <td>2022-08-29</td>\n",
       "    </tr>\n",
       "    <tr>\n",
       "      <th>4</th>\n",
       "      <td>131.17</td>\n",
       "      <td>130.05</td>\n",
       "      <td>132.60</td>\n",
       "      <td>129.65</td>\n",
       "      <td>6.706724e+09</td>\n",
       "      <td>2022-08-30</td>\n",
       "    </tr>\n",
       "  </tbody>\n",
       "</table>\n",
       "</div>"
      ],
      "text/plain": [
       "     open   close    high     low         value       Date\n",
       "0  130.60  128.15  131.64  127.85  5.940974e+09 2022-08-24\n",
       "1  128.15  128.18  129.81  127.10  4.630468e+09 2022-08-25\n",
       "2  128.02  130.40  130.50  127.62  4.251007e+09 2022-08-26\n",
       "3  130.12  131.17  131.40  129.52  5.342794e+09 2022-08-29\n",
       "4  131.17  130.05  132.60  129.65  6.706724e+09 2022-08-30"
      ]
     },
     "execution_count": 3,
     "metadata": {},
     "output_type": "execute_result"
    }
   ],
   "source": [
    "df = get_data(TICKER, start_date, end_date)\n",
    "df = prepare_data(df)\n",
    "df.head()"
   ]
  },
  {
   "cell_type": "code",
   "execution_count": 4,
   "id": "71073569-0269-4d58-bb4d-dd6c3ec25a39",
   "metadata": {},
   "outputs": [],
   "source": [
    "dates = df['Date']\n",
    "open_cost = df['open']\n",
    "close_cost = df['close']"
   ]
  },
  {
   "cell_type": "code",
   "execution_count": 5,
   "id": "adc0783e-e01b-471c-a72a-97659c35086c",
   "metadata": {},
   "outputs": [],
   "source": [
    "# TODO calculate max drawdown"
   ]
  },
  {
   "cell_type": "code",
   "execution_count": null,
   "id": "09eda82f-cb4f-4f58-a55d-2865063c1b90",
   "metadata": {},
   "outputs": [],
   "source": []
  }
 ],
 "metadata": {
  "kernelspec": {
   "display_name": "venv",
   "language": "python",
   "name": "venv"
  },
  "language_info": {
   "codemirror_mode": {
    "name": "ipython",
    "version": 3
   },
   "file_extension": ".py",
   "mimetype": "text/x-python",
   "name": "python",
   "nbconvert_exporter": "python",
   "pygments_lexer": "ipython3",
   "version": "3.9.13"
  }
 },
 "nbformat": 4,
 "nbformat_minor": 5
}
