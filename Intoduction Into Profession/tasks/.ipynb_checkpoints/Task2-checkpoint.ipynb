{
 "cells": [
  {
   "cell_type": "code",
   "execution_count": 1,
   "id": "9cb78cd2-2007-400f-a501-4121f6b742f9",
   "metadata": {},
   "outputs": [],
   "source": [
    "import numpy as np\n",
    "import pandas as pd"
   ]
  },
  {
   "cell_type": "markdown",
   "id": "a253f473-ed45-4d72-880a-708afc669612",
   "metadata": {},
   "source": [
    "Для временного ряда цен закрытия (Close) ПАО \"Сбербанк\" (SBER) построить технические индикаторы:\n",
    "\n",
    "1. индекс относительной силы RSI(14, 20, 80)\n",
    "2. Полосу Болинжера ВВ(21, 2)\n",
    "\n",
    "Указание: применить библиотеку TA-lib"
   ]
  }
 ],
 "metadata": {
  "kernelspec": {
   "display_name": "Python 3 (ipykernel)",
   "language": "python",
   "name": "python3"
  },
  "language_info": {
   "codemirror_mode": {
    "name": "ipython",
    "version": 3
   },
   "file_extension": ".py",
   "mimetype": "text/x-python",
   "name": "python",
   "nbconvert_exporter": "python",
   "pygments_lexer": "ipython3",
   "version": "3.9.13"
  }
 },
 "nbformat": 4,
 "nbformat_minor": 5
}
