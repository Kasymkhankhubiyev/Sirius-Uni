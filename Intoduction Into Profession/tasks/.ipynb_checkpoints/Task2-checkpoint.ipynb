{
 "cells": [
  {
   "cell_type": "code",
   "execution_count": 10,
   "id": "9cb78cd2-2007-400f-a501-4121f6b742f9",
   "metadata": {},
   "outputs": [],
   "source": [
    "import numpy as np\n",
    "import pandas as pd\n",
    "import matplotlib.pyplot as plt\n",
    "\n",
    "from helper import get_data, prepare_data\n",
    "from talib.abstract import SMA, EMA"
   ]
  },
  {
   "cell_type": "markdown",
   "id": "a253f473-ed45-4d72-880a-708afc669612",
   "metadata": {},
   "source": [
    "Для временного ряда цен закрытия (Close) ПАО \"Сбербанк\" (SBER) построить технические индикаторы:\n",
    "\n",
    "1. индекс относительной силы RSI(14, 20, 80)\n",
    "2. Полосу Болинжера ВВ(21, 2)\n",
    "\n",
    "Указание: применить библиотеку TA-lib"
   ]
  },
  {
   "cell_type": "code",
   "execution_count": 4,
   "id": "a750d83f-d9fb-4267-934c-0f0bacaef958",
   "metadata": {},
   "outputs": [],
   "source": [
    "TICKER = 'SBER'\n",
    "start_date = '2022-08-24'\n",
    "end_date = '2023-09-24'"
   ]
  },
  {
   "cell_type": "code",
   "execution_count": 5,
   "id": "8d2e474b-b42b-47f2-9eb6-832f62a75f66",
   "metadata": {},
   "outputs": [
    {
     "data": {
      "text/html": [
       "<div>\n",
       "<style scoped>\n",
       "    .dataframe tbody tr th:only-of-type {\n",
       "        vertical-align: middle;\n",
       "    }\n",
       "\n",
       "    .dataframe tbody tr th {\n",
       "        vertical-align: top;\n",
       "    }\n",
       "\n",
       "    .dataframe thead th {\n",
       "        text-align: right;\n",
       "    }\n",
       "</style>\n",
       "<table border=\"1\" class=\"dataframe\">\n",
       "  <thead>\n",
       "    <tr style=\"text-align: right;\">\n",
       "      <th></th>\n",
       "      <th>open</th>\n",
       "      <th>close</th>\n",
       "      <th>high</th>\n",
       "      <th>low</th>\n",
       "      <th>value</th>\n",
       "      <th>Date</th>\n",
       "    </tr>\n",
       "  </thead>\n",
       "  <tbody>\n",
       "    <tr>\n",
       "      <th>0</th>\n",
       "      <td>130.60</td>\n",
       "      <td>128.15</td>\n",
       "      <td>131.64</td>\n",
       "      <td>127.85</td>\n",
       "      <td>5.940974e+09</td>\n",
       "      <td>2022-08-24</td>\n",
       "    </tr>\n",
       "    <tr>\n",
       "      <th>1</th>\n",
       "      <td>128.15</td>\n",
       "      <td>128.18</td>\n",
       "      <td>129.81</td>\n",
       "      <td>127.10</td>\n",
       "      <td>4.630468e+09</td>\n",
       "      <td>2022-08-25</td>\n",
       "    </tr>\n",
       "    <tr>\n",
       "      <th>2</th>\n",
       "      <td>128.02</td>\n",
       "      <td>130.40</td>\n",
       "      <td>130.50</td>\n",
       "      <td>127.62</td>\n",
       "      <td>4.251007e+09</td>\n",
       "      <td>2022-08-26</td>\n",
       "    </tr>\n",
       "    <tr>\n",
       "      <th>3</th>\n",
       "      <td>130.12</td>\n",
       "      <td>131.17</td>\n",
       "      <td>131.40</td>\n",
       "      <td>129.52</td>\n",
       "      <td>5.342794e+09</td>\n",
       "      <td>2022-08-29</td>\n",
       "    </tr>\n",
       "    <tr>\n",
       "      <th>4</th>\n",
       "      <td>131.17</td>\n",
       "      <td>130.05</td>\n",
       "      <td>132.60</td>\n",
       "      <td>129.65</td>\n",
       "      <td>6.706724e+09</td>\n",
       "      <td>2022-08-30</td>\n",
       "    </tr>\n",
       "  </tbody>\n",
       "</table>\n",
       "</div>"
      ],
      "text/plain": [
       "     open   close    high     low         value       Date\n",
       "0  130.60  128.15  131.64  127.85  5.940974e+09 2022-08-24\n",
       "1  128.15  128.18  129.81  127.10  4.630468e+09 2022-08-25\n",
       "2  128.02  130.40  130.50  127.62  4.251007e+09 2022-08-26\n",
       "3  130.12  131.17  131.40  129.52  5.342794e+09 2022-08-29\n",
       "4  131.17  130.05  132.60  129.65  6.706724e+09 2022-08-30"
      ]
     },
     "execution_count": 5,
     "metadata": {},
     "output_type": "execute_result"
    }
   ],
   "source": [
    "df = get_data(TICKER, start_date, end_date)\n",
    "df = prepare_data(df)\n",
    "df.head()"
   ]
  },
  {
   "cell_type": "code",
   "execution_count": 6,
   "id": "267f290a-2a59-49d9-873d-da1135815133",
   "metadata": {},
   "outputs": [],
   "source": [
    "dates = df['Date']\n",
    "open_cost = df['open']\n",
    "close_cost = df['close']"
   ]
  },
  {
   "cell_type": "code",
   "execution_count": 7,
   "id": "57ef5a20-1c1b-4e75-9a9b-7d2e012fa499",
   "metadata": {},
   "outputs": [],
   "source": [
    "period = 21"
   ]
  },
  {
   "cell_type": "code",
   "execution_count": 8,
   "id": "fbe327ce-c912-4c5d-aab4-9e912cea4dba",
   "metadata": {},
   "outputs": [],
   "source": [
    "inputs = {'close': close_cost}\n",
    "talib_sma = SMA(inputs, timeperiod=period, price='close')\n",
    "talib_ema = EMA(inputs, timeperiod=period, price='close')"
   ]
  },
  {
   "cell_type": "code",
   "execution_count": 12,
   "id": "ad43365a-25a2-4b08-9887-ec7e129200a2",
   "metadata": {},
   "outputs": [
    {
     "data": {
      "image/png": "[encoded data removed]",
      "text/plain": [
       "<Figure size 640x480 with 1 Axes>"
      ]
     },
     "metadata": {},
     "output_type": "display_data"
    }
   ],
   "source": [
    "plt.plot(talib_sma, label='SMA', color='green')\n",
    "plt.plot(talib_ema, label='EMA', color='red')\n",
    "\n",
    "plt.legend()\n",
    "plt.show()"
   ]
  },
  {
   "cell_type": "code",
   "execution_count": 13,
   "id": "b50a5df1-bce8-4e5f-9ffd-513f661fd943",
   "metadata": {},
   "outputs": [
    {
     "data": {
      "text/html": [
       "<div>\n",
       "<style scoped>\n",
       "    .dataframe tbody tr th:only-of-type {\n",
       "        vertical-align: middle;\n",
       "    }\n",
       "\n",
       "    .dataframe tbody tr th {\n",
       "        vertical-align: top;\n",
       "    }\n",
       "\n",
       "    .dataframe thead th {\n",
       "        text-align: right;\n",
       "    }\n",
       "</style>\n",
       "<table border=\"1\" class=\"dataframe\">\n",
       "  <thead>\n",
       "    <tr style=\"text-align: right;\">\n",
       "      <th></th>\n",
       "      <th>SMA</th>\n",
       "      <th>EMA</th>\n",
       "      <th>delta</th>\n",
       "    </tr>\n",
       "  </thead>\n",
       "  <tbody>\n",
       "    <tr>\n",
       "      <th>0</th>\n",
       "      <td>134.625238</td>\n",
       "      <td>134.625238</td>\n",
       "      <td>0.000000</td>\n",
       "    </tr>\n",
       "    <tr>\n",
       "      <th>1</th>\n",
       "      <td>130.935238</td>\n",
       "      <td>130.955953</td>\n",
       "      <td>0.020714</td>\n",
       "    </tr>\n",
       "    <tr>\n",
       "      <th>2</th>\n",
       "      <td>139.068095</td>\n",
       "      <td>139.080622</td>\n",
       "      <td>0.012527</td>\n",
       "    </tr>\n",
       "    <tr>\n",
       "      <th>3</th>\n",
       "      <td>227.309048</td>\n",
       "      <td>227.362034</td>\n",
       "      <td>0.052986</td>\n",
       "    </tr>\n",
       "    <tr>\n",
       "      <th>4</th>\n",
       "      <td>239.741905</td>\n",
       "      <td>239.837439</td>\n",
       "      <td>0.095534</td>\n",
       "    </tr>\n",
       "    <tr>\n",
       "      <th>5</th>\n",
       "      <td>240.356190</td>\n",
       "      <td>240.270399</td>\n",
       "      <td>0.085792</td>\n",
       "    </tr>\n",
       "    <tr>\n",
       "      <th>6</th>\n",
       "      <td>242.210000</td>\n",
       "      <td>242.300108</td>\n",
       "      <td>0.090108</td>\n",
       "    </tr>\n",
       "    <tr>\n",
       "      <th>7</th>\n",
       "      <td>258.087143</td>\n",
       "      <td>258.184555</td>\n",
       "      <td>0.097412</td>\n",
       "    </tr>\n",
       "  </tbody>\n",
       "</table>\n",
       "</div>"
      ],
      "text/plain": [
       "          SMA         EMA     delta\n",
       "0  134.625238  134.625238  0.000000\n",
       "1  130.935238  130.955953  0.020714\n",
       "2  139.068095  139.080622  0.012527\n",
       "3  227.309048  227.362034  0.052986\n",
       "4  239.741905  239.837439  0.095534\n",
       "5  240.356190  240.270399  0.085792\n",
       "6  242.210000  242.300108  0.090108\n",
       "7  258.087143  258.184555  0.097412"
      ]
     },
     "execution_count": 13,
     "metadata": {},
     "output_type": "execute_result"
    }
   ],
   "source": [
    "treshold = 1e-1\n",
    "\n",
    "indexes = np.where(np.abs(talib_sma - talib_ema) < treshold, True, False)\n",
    "sma_points = talib_sma[indexes]\n",
    "ema_points = talib_ema[indexes]\n",
    "\n",
    "pd.DataFrame({'SMA': sma_points, 'EMA': ema_points, 'delta': np.abs(sma_points - ema_points)})"
   ]
  },
  {
   "cell_type": "code",
   "execution_count": null,
   "id": "93bac342-cd13-41a2-8815-28c23a0704e8",
   "metadata": {},
   "outputs": [],
   "source": []
  }
 ],
 "metadata": {
  "kernelspec": {
   "display_name": "venv",
   "language": "python",
   "name": "venv"
  },
  "language_info": {
   "codemirror_mode": {
    "name": "ipython",
    "version": 3
   },
   "file_extension": ".py",
   "mimetype": "text/x-python",
   "name": "python",
   "nbconvert_exporter": "python",
   "pygments_lexer": "ipython3",
   "version": "3.9.13"
  }
 },
 "nbformat": 4,
 "nbformat_minor": 5
}
