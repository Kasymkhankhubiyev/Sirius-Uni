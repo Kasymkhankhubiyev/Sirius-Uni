{
 "cells": [
  {
   "cell_type": "code",
   "execution_count": 18,
   "id": "bb156a33-5cb9-47fc-a3f4-54c7dee3d781",
   "metadata": {},
   "outputs": [],
   "source": [
    "import numpy as np\n",
    "import pandas as pd\n",
    "import requests \n",
    "import apimoex\n",
    "import matplotlib.pyplot as plt\n",
    "\n",
    "from helper import get_data"
   ]
  },
  {
   "cell_type": "code",
   "execution_count": 2,
   "id": "9fb6c450-7d02-4cec-abfd-3e0f70182725",
   "metadata": {},
   "outputs": [],
   "source": [
    "TICKER_NAME = 'GAZP'\n",
    "alphas = [0.01, 0.05, 0.95, 0.99]\n",
    "interval = 24\n",
    "\n",
    "start_date = '2022-10-18'\n",
    "end_date = '2023-10-18'"
   ]
  },
  {
   "cell_type": "code",
   "execution_count": 3,
   "id": "e90c77f9-2e92-45c0-9bc8-0bd075a41503",
   "metadata": {},
   "outputs": [
    {
     "data": {
      "text/html": [
       "<div>\n",
       "<style scoped>\n",
       "    .dataframe tbody tr th:only-of-type {\n",
       "        vertical-align: middle;\n",
       "    }\n",
       "\n",
       "    .dataframe tbody tr th {\n",
       "        vertical-align: top;\n",
       "    }\n",
       "\n",
       "    .dataframe thead th {\n",
       "        text-align: right;\n",
       "    }\n",
       "</style>\n",
       "<table border=\"1\" class=\"dataframe\">\n",
       "  <thead>\n",
       "    <tr style=\"text-align: right;\">\n",
       "      <th></th>\n",
       "      <th>begin</th>\n",
       "      <th>open</th>\n",
       "      <th>close</th>\n",
       "      <th>high</th>\n",
       "      <th>low</th>\n",
       "      <th>value</th>\n",
       "    </tr>\n",
       "  </thead>\n",
       "  <tbody>\n",
       "    <tr>\n",
       "      <th>250</th>\n",
       "      <td>2023-10-12 00:00:00</td>\n",
       "      <td>167.90</td>\n",
       "      <td>169.50</td>\n",
       "      <td>169.80</td>\n",
       "      <td>167.40</td>\n",
       "      <td>5.381001e+09</td>\n",
       "    </tr>\n",
       "    <tr>\n",
       "      <th>251</th>\n",
       "      <td>2023-10-13 00:00:00</td>\n",
       "      <td>169.90</td>\n",
       "      <td>170.20</td>\n",
       "      <td>170.79</td>\n",
       "      <td>167.15</td>\n",
       "      <td>6.540513e+09</td>\n",
       "    </tr>\n",
       "    <tr>\n",
       "      <th>252</th>\n",
       "      <td>2023-10-16 00:00:00</td>\n",
       "      <td>170.50</td>\n",
       "      <td>172.55</td>\n",
       "      <td>172.91</td>\n",
       "      <td>170.50</td>\n",
       "      <td>7.158742e+09</td>\n",
       "    </tr>\n",
       "    <tr>\n",
       "      <th>253</th>\n",
       "      <td>2023-10-17 00:00:00</td>\n",
       "      <td>172.75</td>\n",
       "      <td>171.97</td>\n",
       "      <td>173.30</td>\n",
       "      <td>171.03</td>\n",
       "      <td>4.603961e+09</td>\n",
       "    </tr>\n",
       "    <tr>\n",
       "      <th>254</th>\n",
       "      <td>2023-10-18 00:00:00</td>\n",
       "      <td>172.67</td>\n",
       "      <td>170.18</td>\n",
       "      <td>172.68</td>\n",
       "      <td>168.70</td>\n",
       "      <td>5.460248e+09</td>\n",
       "    </tr>\n",
       "  </tbody>\n",
       "</table>\n",
       "</div>"
      ],
      "text/plain": [
       "                   begin    open   close    high     low         value\n",
       "250  2023-10-12 00:00:00  167.90  169.50  169.80  167.40  5.381001e+09\n",
       "251  2023-10-13 00:00:00  169.90  170.20  170.79  167.15  6.540513e+09\n",
       "252  2023-10-16 00:00:00  170.50  172.55  172.91  170.50  7.158742e+09\n",
       "253  2023-10-17 00:00:00  172.75  171.97  173.30  171.03  4.603961e+09\n",
       "254  2023-10-18 00:00:00  172.67  170.18  172.68  168.70  5.460248e+09"
      ]
     },
     "execution_count": 3,
     "metadata": {},
     "output_type": "execute_result"
    }
   ],
   "source": [
    "df = get_data(TICKER_NAME, start_date, end_date, interval)\n",
    "df.head()\n",
    "df.tail()"
   ]
  },
  {
   "cell_type": "code",
   "execution_count": 4,
   "id": "7634ecb5-3752-42a1-a545-421540fbe272",
   "metadata": {},
   "outputs": [],
   "source": [
    "def log_income(df: pd.DataFrame):\n",
    "    \"\"\"\n",
    "        marh:: `r_i(t) = ln(\\frac{close_i(t)}{close_i(t-1)})`\n",
    "    \"\"\"\n",
    "\n",
    "    income_vec = np.zeros(len(df))\n",
    "\n",
    "    for i in range(1, len(df)):\n",
    "        income_vec[i] += np.log(df.loc[i, 'close'] / df.loc[i-1, 'close'])\n",
    "\n",
    "    return income_vec"
   ]
  },
  {
   "cell_type": "code",
   "execution_count": 5,
   "id": "4ad54cb4-9802-4ca4-b6f6-7d21213a3424",
   "metadata": {},
   "outputs": [
    {
     "data": {
      "text/plain": [
       "(255,)"
      ]
     },
     "execution_count": 5,
     "metadata": {},
     "output_type": "execute_result"
    }
   ],
   "source": [
    "income_vec = log_income(df)\n",
    "income_vec.shape"
   ]
  },
  {
   "cell_type": "markdown",
   "id": "8d0089f3-a6ad-4a05-a7ae-f6063b1528af",
   "metadata": {},
   "source": [
    "VaR - Value at Risk\n",
    "\n",
    "CVar - Conditional Value at Risk"
   ]
  },
  {
   "cell_type": "code",
   "execution_count": 7,
   "id": "0a74f300-c47c-444e-8f0e-53fff8721f01",
   "metadata": {},
   "outputs": [
    {
     "data": {
      "text/plain": [
       "(0.00023699476779275608, 0.012190870099023)"
      ]
     },
     "execution_count": 7,
     "metadata": {},
     "output_type": "execute_result"
    }
   ],
   "source": [
    "expected = income_vec.mean()\n",
    "std = (((income_vec - expected)**2).sum() / (len(income_vec) - 1))**0.5\n",
    "expected, std"
   ]
  },
  {
   "cell_type": "code",
   "execution_count": 8,
   "id": "5dc4a7ea-02ef-42af-b295-79710e0d78b0",
   "metadata": {},
   "outputs": [
    {
     "data": {
      "text/plain": [
       "-0.00011508606680252608"
      ]
     },
     "execution_count": 8,
     "metadata": {},
     "output_type": "execute_result"
    }
   ],
   "source": [
    "kvantile = 0.01 * std - expected\n",
    "kvantile"
   ]
  },
  {
   "cell_type": "code",
   "execution_count": 9,
   "id": "2fc84236-65af-47a2-b2c2-5a51c881aae0",
   "metadata": {},
   "outputs": [
    {
     "data": {
      "text/plain": [
       "0.011831966630240014"
      ]
     },
     "execution_count": 9,
     "metadata": {},
     "output_type": "execute_result"
    }
   ],
   "source": [
    "kvantile = 0.99 * std - expected\n",
    "kvantile"
   ]
  },
  {
   "cell_type": "code",
   "execution_count": 11,
   "id": "08cc3512-38b8-4883-92aa-c6720dc67f56",
   "metadata": {},
   "outputs": [],
   "source": [
    "laplas = 0.0040"
   ]
  },
  {
   "cell_type": "code",
   "execution_count": 13,
   "id": "158d703a-dbbe-4008-9c31-29c60a80aad4",
   "metadata": {},
   "outputs": [],
   "source": [
    "svr_tomorrow = (laplas + 1) * df['close'].values"
   ]
  },
  {
   "cell_type": "code",
   "execution_count": 15,
   "id": "c7e591f3-dfbf-4bb5-a44b-81730c6bce7e",
   "metadata": {},
   "outputs": [],
   "source": [
    "svr_in_weak = (laplas*np.sqrt(5) + 1) * df['close'].values"
   ]
  },
  {
   "cell_type": "code",
   "execution_count": 16,
   "id": "c8fb8101-168b-46b8-b462-89b1279952f5",
   "metadata": {},
   "outputs": [],
   "source": [
    "cost_dicrease_risk_1d = svr_tomorrow - df['close'].values\n",
    "cost_dicrease_risk_1wk = svr_in_weak - df['close'].values"
   ]
  },
  {
   "cell_type": "code",
   "execution_count": 17,
   "id": "ff823088-6c11-434a-a040-c50a73d07f56",
   "metadata": {},
   "outputs": [],
   "source": [
    "percent_risk_1d = cost_dicrease_risk_1d / df['close'].values\n",
    "percent_risk_1wk = cost_dicrease_risk_1wk / df['close'].values"
   ]
  },
  {
   "cell_type": "code",
   "execution_count": 24,
   "id": "8f4b8ebd-b230-4d7f-af5b-7579c85651a6",
   "metadata": {},
   "outputs": [
    {
     "data": {
      "text/plain": [
       "[<matplotlib.lines.Line2D at 0x144bd9970>]"
      ]
     },
     "execution_count": 24,
     "metadata": {},
     "output_type": "execute_result"
    },
    {
     "data": {
      "image/png": "[encoded data removed]",
      "text/plain": [
       "<Figure size 1000x200 with 1 Axes>"
      ]
     },
     "metadata": {},
     "output_type": "display_data"
    }
   ],
   "source": [
    "plt.figure(figsize=(10,2))\n",
    "plt.plot(percent_risk_1d)"
   ]
  },
  {
   "cell_type": "code",
   "execution_count": null,
   "id": "6a4770b6-9def-4675-a190-2cfd6e1756a9",
   "metadata": {},
   "outputs": [],
   "source": []
  }
 ],
 "metadata": {
  "kernelspec": {
   "display_name": "venv",
   "language": "python",
   "name": "venv"
  },
  "language_info": {
   "codemirror_mode": {
    "name": "ipython",
    "version": 3
   },
   "file_extension": ".py",
   "mimetype": "text/x-python",
   "name": "python",
   "nbconvert_exporter": "python",
   "pygments_lexer": "ipython3",
   "version": "3.9.13"
  }
 },
 "nbformat": 4,
 "nbformat_minor": 5
}
