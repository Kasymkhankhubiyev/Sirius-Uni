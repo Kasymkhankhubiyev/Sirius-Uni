{
 "cells": [
  {
   "cell_type": "code",
   "execution_count": 1,
   "id": "d493255b-fb96-40e3-b79c-9e08c8ec27ed",
   "metadata": {},
   "outputs": [],
   "source": [
    "import numpy as np\n",
    "import pandas as pd\n",
    "import yfinance as yfin"
   ]
  },
  {
   "cell_type": "code",
   "execution_count": 3,
   "id": "283f06af-29b3-41e6-bff9-4901a478411b",
   "metadata": {},
   "outputs": [],
   "source": [
    "TICKER_NAME = 'AAPL'\n",
    "\n",
    "start_date = '2022-10-18'\n",
    "end_date = '2023-10-18'"
   ]
  },
  {
   "cell_type": "code",
   "execution_count": null,
   "id": "029c983a-078b-4b08-96be-82bfaf917b1f",
   "metadata": {},
   "outputs": [],
   "source": []
  }
 ],
 "metadata": {
  "kernelspec": {
   "display_name": "venv",
   "language": "python",
   "name": "venv"
  },
  "language_info": {
   "codemirror_mode": {
    "name": "ipython",
    "version": 3
   },
   "file_extension": ".py",
   "mimetype": "text/x-python",
   "name": "python",
   "nbconvert_exporter": "python",
   "pygments_lexer": "ipython3",
   "version": "3.9.13"
  }
 },
 "nbformat": 4,
 "nbformat_minor": 5
}
