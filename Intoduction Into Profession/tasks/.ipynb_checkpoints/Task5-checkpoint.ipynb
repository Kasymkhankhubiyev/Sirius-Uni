{
 "cells": [
  {
   "cell_type": "code",
   "execution_count": 8,
   "id": "d493255b-fb96-40e3-b79c-9e08c8ec27ed",
   "metadata": {},
   "outputs": [],
   "source": [
    "import numpy as np\n",
    "import pandas as pd\n",
    "import yfinance as yfin\n",
    "import requests \n",
    "import apimoex"
   ]
  },
  {
   "cell_type": "code",
   "execution_count": 3,
   "id": "283f06af-29b3-41e6-bff9-4901a478411b",
   "metadata": {},
   "outputs": [],
   "source": [
    "TICKER_NAME = 'AAPL'\n",
    "\n",
    "start_date = '2022-10-18'\n",
    "end_date = '2023-10-18'"
   ]
  },
  {
   "cell_type": "code",
   "execution_count": 14,
   "id": "029c983a-078b-4b08-96be-82bfaf917b1f",
   "metadata": {},
   "outputs": [],
   "source": [
    "def get_data(ticker: str, start_date: str, end_date: str, interval=24) -> pd.DataFrame:\n",
    "    \"\"\"\n",
    "    \n",
    "    Функция возвращает данные о котивках за указанный период в формате  `pd.DataFrame`\n",
    "\n",
    "    Аргументы:\n",
    "        ticker, str - Тикер ценной бумаги, название комании другими словами\n",
    "        start_date, str - Дата начала отсчета данных в формате: \"ГГГГ-ММ-ДД\"\n",
    "        end_date, str - Дата конца отсчета данных в формате: \"ГГГГ-ММ-ДД\"\n",
    "        interval, int - размер свечи, по умолчанию равен дневному размеру.\n",
    "            Принимает следующие целые значения:\n",
    "            1 (1 минута), 10 (10 минут), 60 (1 час), 24 (1 день),\n",
    "            7 (1 неделя), 31 (1 месяц), 4 (1 квартал)\n",
    "\n",
    "        Возвращаемое значение:\n",
    "        data_frame, pd.DataFrame - дата фрейм, содержищий информацию о котировках:\n",
    "            начало (begin, date), цена открытия (open, float), \n",
    "            цена закрытия (close, float), наивысшая цена (high, float),\n",
    "            низшая цена (low, float), объем (value, float)\n",
    "            \n",
    "    \"\"\"\n",
    "    \n",
    "    with requests.Session() as session:\n",
    "        data = apimoex.get_market_candles(session, security=ticker, start=start_date, end=end_date)\n",
    "      \n",
    "    df = pd.DataFrame(data)\n",
    "\n",
    "    return df"
   ]
  },
  {
   "cell_type": "code",
   "execution_count": 15,
   "id": "0b862ce6-c0f2-4748-9609-36faee3c3806",
   "metadata": {},
   "outputs": [],
   "source": [
    "SBER = 'SBER'\n",
    "APPLE = 'AAPL'\n",
    "\n",
    "start_date = '2022-10-18'\n",
    "end_date = '2023-10-18'"
   ]
  },
  {
   "cell_type": "code",
   "execution_count": 16,
   "id": "b4d67c3a-8b55-44b3-bc4b-470ab5a357d5",
   "metadata": {},
   "outputs": [
    {
     "data": {
      "text/html": [
       "<div>\n",
       "<style scoped>\n",
       "    .dataframe tbody tr th:only-of-type {\n",
       "        vertical-align: middle;\n",
       "    }\n",
       "\n",
       "    .dataframe tbody tr th {\n",
       "        vertical-align: top;\n",
       "    }\n",
       "\n",
       "    .dataframe thead th {\n",
       "        text-align: right;\n",
       "    }\n",
       "</style>\n",
       "<table border=\"1\" class=\"dataframe\">\n",
       "  <thead>\n",
       "    <tr style=\"text-align: right;\">\n",
       "      <th></th>\n",
       "      <th>begin</th>\n",
       "      <th>open</th>\n",
       "      <th>close</th>\n",
       "      <th>high</th>\n",
       "      <th>low</th>\n",
       "      <th>value</th>\n",
       "    </tr>\n",
       "  </thead>\n",
       "  <tbody>\n",
       "    <tr>\n",
       "      <th>0</th>\n",
       "      <td>2022-10-18 00:00:00</td>\n",
       "      <td>113.05</td>\n",
       "      <td>110.88</td>\n",
       "      <td>114.37</td>\n",
       "      <td>110.48</td>\n",
       "      <td>1.146888e+10</td>\n",
       "    </tr>\n",
       "    <tr>\n",
       "      <th>1</th>\n",
       "      <td>2022-10-19 00:00:00</td>\n",
       "      <td>110.12</td>\n",
       "      <td>112.39</td>\n",
       "      <td>112.93</td>\n",
       "      <td>109.30</td>\n",
       "      <td>1.004778e+10</td>\n",
       "    </tr>\n",
       "    <tr>\n",
       "      <th>2</th>\n",
       "      <td>2022-10-20 00:00:00</td>\n",
       "      <td>112.75</td>\n",
       "      <td>116.98</td>\n",
       "      <td>117.20</td>\n",
       "      <td>112.37</td>\n",
       "      <td>1.161162e+10</td>\n",
       "    </tr>\n",
       "    <tr>\n",
       "      <th>3</th>\n",
       "      <td>2022-10-21 00:00:00</td>\n",
       "      <td>116.93</td>\n",
       "      <td>119.45</td>\n",
       "      <td>119.94</td>\n",
       "      <td>114.37</td>\n",
       "      <td>1.199634e+10</td>\n",
       "    </tr>\n",
       "    <tr>\n",
       "      <th>4</th>\n",
       "      <td>2022-10-24 00:00:00</td>\n",
       "      <td>120.15</td>\n",
       "      <td>118.80</td>\n",
       "      <td>121.68</td>\n",
       "      <td>117.65</td>\n",
       "      <td>8.899629e+09</td>\n",
       "    </tr>\n",
       "  </tbody>\n",
       "</table>\n",
       "</div>"
      ],
      "text/plain": [
       "                 begin    open   close    high     low         value\n",
       "0  2022-10-18 00:00:00  113.05  110.88  114.37  110.48  1.146888e+10\n",
       "1  2022-10-19 00:00:00  110.12  112.39  112.93  109.30  1.004778e+10\n",
       "2  2022-10-20 00:00:00  112.75  116.98  117.20  112.37  1.161162e+10\n",
       "3  2022-10-21 00:00:00  116.93  119.45  119.94  114.37  1.199634e+10\n",
       "4  2022-10-24 00:00:00  120.15  118.80  121.68  117.65  8.899629e+09"
      ]
     },
     "execution_count": 16,
     "metadata": {},
     "output_type": "execute_result"
    }
   ],
   "source": [
    "df_sber = get_data(TICKER, start_date, end_date)\n",
    "df_sber.head()"
   ]
  },
  {
   "cell_type": "code",
   "execution_count": null,
   "id": "a05c5c98-d1ad-4dd2-a543-a11867632818",
   "metadata": {},
   "outputs": [],
   "source": []
  }
 ],
 "metadata": {
  "kernelspec": {
   "display_name": "venv",
   "language": "python",
   "name": "venv"
  },
  "language_info": {
   "codemirror_mode": {
    "name": "ipython",
    "version": 3
   },
   "file_extension": ".py",
   "mimetype": "text/x-python",
   "name": "python",
   "nbconvert_exporter": "python",
   "pygments_lexer": "ipython3",
   "version": "3.9.13"
  }
 },
 "nbformat": 4,
 "nbformat_minor": 5
}
