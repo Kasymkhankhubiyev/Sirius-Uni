{
 "cells": [
  {
   "cell_type": "markdown",
   "id": "ca6d9fab-f3a2-4cd1-acc3-c59e42655e73",
   "metadata": {},
   "source": [
    "# проверить гипотезу о нормальности распределения логарифмических доходностей"
   ]
  },
  {
   "cell_type": "code",
   "execution_count": 1,
   "id": "d493255b-fb96-40e3-b79c-9e08c8ec27ed",
   "metadata": {},
   "outputs": [],
   "source": [
    "import numpy as np\n",
    "import pandas as pd\n",
    "import yfinance as yfin\n",
    "import requests \n",
    "import apimoex\n",
    "\n",
    "from helper import get_data_markets"
   ]
  },
  {
   "cell_type": "code",
   "execution_count": 2,
   "id": "283f06af-29b3-41e6-bff9-4901a478411b",
   "metadata": {},
   "outputs": [],
   "source": [
    "APPLE = 'AAPL'\n",
    "SBER = 'SBER'\n",
    "\n",
    "interval1 = '1w'\n",
    "interval2 = '1m'\n",
    "\n",
    "start_date = '2018-10-18'\n",
    "end_date = '2023-10-18'"
   ]
  },
  {
   "cell_type": "code",
   "execution_count": 3,
   "id": "0b862ce6-c0f2-4748-9609-36faee3c3806",
   "metadata": {},
   "outputs": [],
   "source": [
    "SBER = 'SBER'\n",
    "APPLE = 'AAPL'\n",
    "\n",
    "start_date = '2018-10-18'\n",
    "end_date = '2023-10-18'"
   ]
  },
  {
   "cell_type": "code",
   "execution_count": 4,
   "id": "b4d67c3a-8b55-44b3-bc4b-470ab5a357d5",
   "metadata": {},
   "outputs": [
    {
     "data": {
      "text/html": [
       "<div>\n",
       "<style scoped>\n",
       "    .dataframe tbody tr th:only-of-type {\n",
       "        vertical-align: middle;\n",
       "    }\n",
       "\n",
       "    .dataframe tbody tr th {\n",
       "        vertical-align: top;\n",
       "    }\n",
       "\n",
       "    .dataframe thead th {\n",
       "        text-align: right;\n",
       "    }\n",
       "</style>\n",
       "<table border=\"1\" class=\"dataframe\">\n",
       "  <thead>\n",
       "    <tr style=\"text-align: right;\">\n",
       "      <th></th>\n",
       "      <th>begin</th>\n",
       "      <th>open</th>\n",
       "      <th>close</th>\n",
       "      <th>high</th>\n",
       "      <th>low</th>\n",
       "      <th>value</th>\n",
       "    </tr>\n",
       "  </thead>\n",
       "  <tbody>\n",
       "    <tr>\n",
       "      <th>0</th>\n",
       "      <td>2018-10-22 00:00:00</td>\n",
       "      <td>184.86</td>\n",
       "      <td>181.00</td>\n",
       "      <td>189.25</td>\n",
       "      <td>177.02</td>\n",
       "      <td>8.261883e+10</td>\n",
       "    </tr>\n",
       "    <tr>\n",
       "      <th>1</th>\n",
       "      <td>2018-10-29 00:00:00</td>\n",
       "      <td>180.60</td>\n",
       "      <td>192.60</td>\n",
       "      <td>192.98</td>\n",
       "      <td>178.64</td>\n",
       "      <td>6.299539e+10</td>\n",
       "    </tr>\n",
       "    <tr>\n",
       "      <th>2</th>\n",
       "      <td>2018-11-05 00:00:00</td>\n",
       "      <td>194.50</td>\n",
       "      <td>195.75</td>\n",
       "      <td>204.70</td>\n",
       "      <td>193.73</td>\n",
       "      <td>7.087732e+10</td>\n",
       "    </tr>\n",
       "    <tr>\n",
       "      <th>3</th>\n",
       "      <td>2018-11-12 00:00:00</td>\n",
       "      <td>197.97</td>\n",
       "      <td>199.26</td>\n",
       "      <td>203.50</td>\n",
       "      <td>193.18</td>\n",
       "      <td>7.414753e+10</td>\n",
       "    </tr>\n",
       "    <tr>\n",
       "      <th>4</th>\n",
       "      <td>2018-11-19 00:00:00</td>\n",
       "      <td>198.98</td>\n",
       "      <td>197.30</td>\n",
       "      <td>200.70</td>\n",
       "      <td>191.81</td>\n",
       "      <td>5.434282e+10</td>\n",
       "    </tr>\n",
       "  </tbody>\n",
       "</table>\n",
       "</div>"
      ],
      "text/plain": [
       "                 begin    open   close    high     low         value\n",
       "0  2018-10-22 00:00:00  184.86  181.00  189.25  177.02  8.261883e+10\n",
       "1  2018-10-29 00:00:00  180.60  192.60  192.98  178.64  6.299539e+10\n",
       "2  2018-11-05 00:00:00  194.50  195.75  204.70  193.73  7.087732e+10\n",
       "3  2018-11-12 00:00:00  197.97  199.26  203.50  193.18  7.414753e+10\n",
       "4  2018-11-19 00:00:00  198.98  197.30  200.70  191.81  5.434282e+10"
      ]
     },
     "execution_count": 4,
     "metadata": {},
     "output_type": "execute_result"
    }
   ],
   "source": [
    "df_sber = get_data_markets(7, SBER, start_date, end_date)\n",
    "df_sber.head()"
   ]
  },
  {
   "cell_type": "code",
   "execution_count": 5,
   "id": "a05c5c98-d1ad-4dd2-a543-a11867632818",
   "metadata": {},
   "outputs": [
    {
     "data": {
      "text/html": [
       "<div>\n",
       "<style scoped>\n",
       "    .dataframe tbody tr th:only-of-type {\n",
       "        vertical-align: middle;\n",
       "    }\n",
       "\n",
       "    .dataframe tbody tr th {\n",
       "        vertical-align: top;\n",
       "    }\n",
       "\n",
       "    .dataframe thead th {\n",
       "        text-align: right;\n",
       "    }\n",
       "</style>\n",
       "<table border=\"1\" class=\"dataframe\">\n",
       "  <thead>\n",
       "    <tr style=\"text-align: right;\">\n",
       "      <th></th>\n",
       "      <th>date</th>\n",
       "      <th>open</th>\n",
       "      <th>high</th>\n",
       "      <th>low</th>\n",
       "      <th>close</th>\n",
       "      <th>volume</th>\n",
       "      <th>dividends</th>\n",
       "      <th>stock splits</th>\n",
       "    </tr>\n",
       "  </thead>\n",
       "  <tbody>\n",
       "    <tr>\n",
       "      <th>0</th>\n",
       "      <td>2018-10-15 00:00:00-04:00</td>\n",
       "      <td>52.162966</td>\n",
       "      <td>52.977038</td>\n",
       "      <td>50.999319</td>\n",
       "      <td>52.510143</td>\n",
       "      <td>262640000</td>\n",
       "      <td>0.0000</td>\n",
       "      <td>0.0</td>\n",
       "    </tr>\n",
       "    <tr>\n",
       "      <th>1</th>\n",
       "      <td>2018-10-22 00:00:00-04:00</td>\n",
       "      <td>52.625064</td>\n",
       "      <td>53.688149</td>\n",
       "      <td>50.920300</td>\n",
       "      <td>51.789444</td>\n",
       "      <td>742398400</td>\n",
       "      <td>0.0000</td>\n",
       "      <td>0.0</td>\n",
       "    </tr>\n",
       "    <tr>\n",
       "      <th>2</th>\n",
       "      <td>2018-10-29 00:00:00-04:00</td>\n",
       "      <td>52.481414</td>\n",
       "      <td>53.240417</td>\n",
       "      <td>49.186807</td>\n",
       "      <td>49.677647</td>\n",
       "      <td>1082425200</td>\n",
       "      <td>0.0000</td>\n",
       "      <td>0.0</td>\n",
       "    </tr>\n",
       "    <tr>\n",
       "      <th>3</th>\n",
       "      <td>2018-11-05 00:00:00-05:00</td>\n",
       "      <td>48.916259</td>\n",
       "      <td>50.309760</td>\n",
       "      <td>47.448531</td>\n",
       "      <td>48.956963</td>\n",
       "      <td>764797600</td>\n",
       "      <td>0.1825</td>\n",
       "      <td>0.0</td>\n",
       "    </tr>\n",
       "    <tr>\n",
       "      <th>4</th>\n",
       "      <td>2018-11-12 00:00:00-05:00</td>\n",
       "      <td>47.813500</td>\n",
       "      <td>48.017730</td>\n",
       "      <td>44.673185</td>\n",
       "      <td>46.499229</td>\n",
       "      <td>968906000</td>\n",
       "      <td>0.0000</td>\n",
       "      <td>0.0</td>\n",
       "    </tr>\n",
       "  </tbody>\n",
       "</table>\n",
       "</div>"
      ],
      "text/plain": [
       "                       date       open  ...  dividends  stock splits\n",
       "0 2018-10-15 00:00:00-04:00  52.162966  ...     0.0000           0.0\n",
       "1 2018-10-22 00:00:00-04:00  52.625064  ...     0.0000           0.0\n",
       "2 2018-10-29 00:00:00-04:00  52.481414  ...     0.0000           0.0\n",
       "3 2018-11-05 00:00:00-05:00  48.916259  ...     0.1825           0.0\n",
       "4 2018-11-12 00:00:00-05:00  47.813500  ...     0.0000           0.0\n",
       "\n",
       "[5 rows x 8 columns]"
      ]
     },
     "execution_count": 5,
     "metadata": {},
     "output_type": "execute_result"
    }
   ],
   "source": [
    "df_apple = get_data_markets('1wk', APPLE, start_date, end_date, 'yahoo')\n",
    "df_apple.columns = df_apple.columns.str.lower()\n",
    "df_apple.head()"
   ]
  },
  {
   "cell_type": "code",
   "execution_count": 6,
   "id": "cc8a1cf3-1b85-4940-acbf-2f70b3346c9c",
   "metadata": {},
   "outputs": [],
   "source": [
    "def log_income(df: pd.DataFrame):\n",
    "    \"\"\"\n",
    "        marh:: `r_i(t) = ln(\\frac{close_i(t)}{close_i(t-1)})`\n",
    "    \"\"\"\n",
    "\n",
    "    income_vec = np.zeros(len(df))\n",
    "\n",
    "    # income_vec += np.log(df['close'] / df['close'])\n",
    "    for i in range(1, len(df)):\n",
    "        income_vec[i] += np.log(df.loc[i, 'close'] / df.loc[i-1, 'close'])\n",
    "\n",
    "    return income_vec"
   ]
  },
  {
   "cell_type": "code",
   "execution_count": 7,
   "id": "22a5e7e4-abdb-4e25-b5cb-f20f81d43a56",
   "metadata": {},
   "outputs": [
    {
     "data": {
      "text/plain": [
       "(258,)"
      ]
     },
     "execution_count": 7,
     "metadata": {},
     "output_type": "execute_result"
    }
   ],
   "source": [
    "sber_income_vec = log_income(df_sber)\n",
    "apple_income_vec = log_income(df_apple)\n",
    "sber_income_vec.shape"
   ]
  },
  {
   "cell_type": "code",
   "execution_count": 8,
   "id": "9efb178f-f2b8-42af-9b1f-684c0d83a152",
   "metadata": {},
   "outputs": [],
   "source": [
    "from scipy.stats import shapiro"
   ]
  },
  {
   "cell_type": "code",
   "execution_count": 9,
   "id": "72ad0019-bf6a-47c4-99a9-5f284340ca9e",
   "metadata": {},
   "outputs": [],
   "source": [
    "significantce = 0.95"
   ]
  },
  {
   "cell_type": "code",
   "execution_count": 10,
   "id": "7e9bc20c-cc14-4646-987c-8e16512d908c",
   "metadata": {},
   "outputs": [
    {
     "data": {
      "text/plain": [
       "1.7143251552192225e-21"
      ]
     },
     "execution_count": 10,
     "metadata": {},
     "output_type": "execute_result"
    }
   ],
   "source": [
    "_, pvalue = shapiro(sber_income_vec)\n",
    "pvalue"
   ]
  },
  {
   "cell_type": "code",
   "execution_count": 11,
   "id": "ddfb3870-3a8d-4d35-8acc-7d98ffea0459",
   "metadata": {},
   "outputs": [
    {
     "data": {
      "text/plain": [
       "4.92998406116385e-05"
      ]
     },
     "execution_count": 11,
     "metadata": {},
     "output_type": "execute_result"
    }
   ],
   "source": [
    "_, pvalue = shapiro(apple_income_vec)\n",
    "pvalue"
   ]
  },
  {
   "cell_type": "code",
   "execution_count": 12,
   "id": "f7fa7cef-cf63-4639-8ea0-e501458dfaff",
   "metadata": {},
   "outputs": [],
   "source": [
    "df_sber = get_data_markets(31, SBER, start_date, end_date)\n",
    "df_apple = get_data_markets('1mo', APPLE, start_date, end_date, 'yahoo')\n",
    "df_apple.columns = df_apple.columns.str.lower()"
   ]
  },
  {
   "cell_type": "code",
   "execution_count": 13,
   "id": "cecd819a-29e2-4f48-93f3-6fa9f49088a3",
   "metadata": {},
   "outputs": [
    {
     "data": {
      "text/plain": [
       "(60,)"
      ]
     },
     "execution_count": 13,
     "metadata": {},
     "output_type": "execute_result"
    }
   ],
   "source": [
    "sber_income_vec = log_income(df_sber)\n",
    "apple_income_vec = log_income(df_apple)\n",
    "sber_income_vec.shape"
   ]
  },
  {
   "cell_type": "code",
   "execution_count": 14,
   "id": "71d47c69-5b7e-43d5-9d23-d28f160dbb74",
   "metadata": {},
   "outputs": [
    {
     "data": {
      "text/plain": [
       "4.429305811015638e-09"
      ]
     },
     "execution_count": 14,
     "metadata": {},
     "output_type": "execute_result"
    }
   ],
   "source": [
    "_, pvalue = shapiro(sber_income_vec)\n",
    "pvalue"
   ]
  },
  {
   "cell_type": "code",
   "execution_count": 15,
   "id": "35ac9a1d-3e58-4b42-a4fe-b2fdce81f199",
   "metadata": {},
   "outputs": [
    {
     "data": {
      "text/plain": [
       "0.046068914234638214"
      ]
     },
     "execution_count": 15,
     "metadata": {},
     "output_type": "execute_result"
    }
   ],
   "source": [
    "_, pvalue = shapiro(apple_income_vec)\n",
    "pvalue"
   ]
  },
  {
   "cell_type": "code",
   "execution_count": null,
   "id": "0f223585-7eeb-4f4b-8561-55dcb3d5289f",
   "metadata": {},
   "outputs": [],
   "source": []
  }
 ],
 "metadata": {
  "kernelspec": {
   "display_name": "venv",
   "language": "python",
   "name": "venv"
  },
  "language_info": {
   "codemirror_mode": {
    "name": "ipython",
    "version": 3
   },
   "file_extension": ".py",
   "mimetype": "text/x-python",
   "name": "python",
   "nbconvert_exporter": "python",
   "pygments_lexer": "ipython3",
   "version": "3.9.13"
  }
 },
 "nbformat": 4,
 "nbformat_minor": 5
}
