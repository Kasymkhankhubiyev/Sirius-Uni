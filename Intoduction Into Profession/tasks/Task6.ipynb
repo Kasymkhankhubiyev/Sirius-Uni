{
 "cells": [
  {
   "cell_type": "code",
   "execution_count": 1,
   "id": "bb156a33-5cb9-47fc-a3f4-54c7dee3d781",
   "metadata": {},
   "outputs": [],
   "source": [
    "import numpy as np\n",
    "import pandas as pd\n",
    "import requests \n",
    "import apimoex\n",
    "\n",
    "from helper import get_data"
   ]
  },
  {
   "cell_type": "code",
   "execution_count": 2,
   "id": "9fb6c450-7d02-4cec-abfd-3e0f70182725",
   "metadata": {},
   "outputs": [],
   "source": [
    "TICKER_NAME = 'GAZP'\n",
    "alphas = [0.01, 0.05, 0.95, 0.99]\n",
    "interval = 24\n",
    "\n",
    "start_date = '2022-10-18'\n",
    "end_date = '2023-10-18'"
   ]
  },
  {
   "cell_type": "code",
   "execution_count": 3,
   "id": "e90c77f9-2e92-45c0-9bc8-0bd075a41503",
   "metadata": {},
   "outputs": [
    {
     "data": {
      "text/html": [
       "<div>\n",
       "<style scoped>\n",
       "    .dataframe tbody tr th:only-of-type {\n",
       "        vertical-align: middle;\n",
       "    }\n",
       "\n",
       "    .dataframe tbody tr th {\n",
       "        vertical-align: top;\n",
       "    }\n",
       "\n",
       "    .dataframe thead th {\n",
       "        text-align: right;\n",
       "    }\n",
       "</style>\n",
       "<table border=\"1\" class=\"dataframe\">\n",
       "  <thead>\n",
       "    <tr style=\"text-align: right;\">\n",
       "      <th></th>\n",
       "      <th>begin</th>\n",
       "      <th>open</th>\n",
       "      <th>close</th>\n",
       "      <th>high</th>\n",
       "      <th>low</th>\n",
       "      <th>value</th>\n",
       "    </tr>\n",
       "  </thead>\n",
       "  <tbody>\n",
       "    <tr>\n",
       "      <th>250</th>\n",
       "      <td>2023-10-12 00:00:00</td>\n",
       "      <td>167.90</td>\n",
       "      <td>169.50</td>\n",
       "      <td>169.80</td>\n",
       "      <td>167.40</td>\n",
       "      <td>5.381001e+09</td>\n",
       "    </tr>\n",
       "    <tr>\n",
       "      <th>251</th>\n",
       "      <td>2023-10-13 00:00:00</td>\n",
       "      <td>169.90</td>\n",
       "      <td>170.20</td>\n",
       "      <td>170.79</td>\n",
       "      <td>167.15</td>\n",
       "      <td>6.540513e+09</td>\n",
       "    </tr>\n",
       "    <tr>\n",
       "      <th>252</th>\n",
       "      <td>2023-10-16 00:00:00</td>\n",
       "      <td>170.50</td>\n",
       "      <td>172.55</td>\n",
       "      <td>172.91</td>\n",
       "      <td>170.50</td>\n",
       "      <td>7.158742e+09</td>\n",
       "    </tr>\n",
       "    <tr>\n",
       "      <th>253</th>\n",
       "      <td>2023-10-17 00:00:00</td>\n",
       "      <td>172.75</td>\n",
       "      <td>171.97</td>\n",
       "      <td>173.30</td>\n",
       "      <td>171.03</td>\n",
       "      <td>4.603961e+09</td>\n",
       "    </tr>\n",
       "    <tr>\n",
       "      <th>254</th>\n",
       "      <td>2023-10-18 00:00:00</td>\n",
       "      <td>172.67</td>\n",
       "      <td>170.18</td>\n",
       "      <td>172.68</td>\n",
       "      <td>168.70</td>\n",
       "      <td>5.460248e+09</td>\n",
       "    </tr>\n",
       "  </tbody>\n",
       "</table>\n",
       "</div>"
      ],
      "text/plain": [
       "                   begin    open   close    high     low         value\n",
       "250  2023-10-12 00:00:00  167.90  169.50  169.80  167.40  5.381001e+09\n",
       "251  2023-10-13 00:00:00  169.90  170.20  170.79  167.15  6.540513e+09\n",
       "252  2023-10-16 00:00:00  170.50  172.55  172.91  170.50  7.158742e+09\n",
       "253  2023-10-17 00:00:00  172.75  171.97  173.30  171.03  4.603961e+09\n",
       "254  2023-10-18 00:00:00  172.67  170.18  172.68  168.70  5.460248e+09"
      ]
     },
     "execution_count": 3,
     "metadata": {},
     "output_type": "execute_result"
    }
   ],
   "source": [
    "df = get_data(TICKER_NAME, start_date, end_date, interval)\n",
    "df.head()\n",
    "df.tail()"
   ]
  },
  {
   "cell_type": "code",
   "execution_count": 4,
   "id": "7634ecb5-3752-42a1-a545-421540fbe272",
   "metadata": {},
   "outputs": [],
   "source": [
    "def log_income(df: pd.DataFrame):\n",
    "    \"\"\"\n",
    "        marh:: `r_i(t) = ln(\\frac{close_i(t)}{close_i(t-1)})`\n",
    "    \"\"\"\n",
    "\n",
    "    income_vec = np.zeros(len(df))\n",
    "\n",
    "    # income_vec += np.log(df['close'] / df['close'])\n",
    "    for i in range(1, len(df)):\n",
    "        income_vec[i] += np.log(df.loc[i, 'close'] / df.loc[i-1, 'close'])\n",
    "\n",
    "    return income_vec"
   ]
  },
  {
   "cell_type": "code",
   "execution_count": 5,
   "id": "4ad54cb4-9802-4ca4-b6f6-7d21213a3424",
   "metadata": {},
   "outputs": [
    {
     "data": {
      "text/plain": [
       "(255,)"
      ]
     },
     "execution_count": 5,
     "metadata": {},
     "output_type": "execute_result"
    }
   ],
   "source": [
    "income_vec = log_income(df)\n",
    "income_vec.shape"
   ]
  },
  {
   "cell_type": "markdown",
   "id": "8d0089f3-a6ad-4a05-a7ae-f6063b1528af",
   "metadata": {},
   "source": [
    "VaR - Value at Risk\n",
    "\n",
    "CVar - Conditional Value at Risk"
   ]
  },
  {
   "cell_type": "code",
   "execution_count": null,
   "id": "0a74f300-c47c-444e-8f0e-53fff8721f01",
   "metadata": {},
   "outputs": [],
   "source": []
  }
 ],
 "metadata": {
  "kernelspec": {
   "display_name": "venv",
   "language": "python",
   "name": "venv"
  },
  "language_info": {
   "codemirror_mode": {
    "name": "ipython",
    "version": 3
   },
   "file_extension": ".py",
   "mimetype": "text/x-python",
   "name": "python",
   "nbconvert_exporter": "python",
   "pygments_lexer": "ipython3",
   "version": "3.9.13"
  }
 },
 "nbformat": 4,
 "nbformat_minor": 5
}
