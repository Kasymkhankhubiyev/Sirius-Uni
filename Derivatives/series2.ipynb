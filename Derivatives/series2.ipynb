{
 "cells": [
  {
   "cell_type": "code",
   "execution_count": 1,
   "metadata": {},
   "outputs": [],
   "source": [
    "import numpy as np\n",
    "\n",
    "import matplotlib.pyplot as plt"
   ]
  },
  {
   "cell_type": "markdown",
   "metadata": {},
   "source": [
    "---\n",
    "# Task1"
   ]
  },
  {
   "cell_type": "markdown",
   "metadata": {},
   "source": [
    "Запрограммировать формулу точной цены барьерного up-and-out call и сравнить с точным решением европейского call при барьере $B\\to\\infty$, $B\\to K$, $B=2K$, $B=10K$, где К - страйк."
   ]
  },
  {
   "cell_type": "markdown",
   "metadata": {},
   "source": [
    "$v(t, x) = x[N(\\delta_{+}(\\tau, \\frac{x}{K})) - N(\\delta_{+}(\\tau, \\frac{x}{B}))] - e^{-r\\tau}K[N(\\delta_{-}(\\tau, \\frac{x}{K})) - N(\\delta_{-}(\\tau, \\frac{x}{B}))] - B(\\frac{x}{B})^{-\\frac{2r}{\\sigma^2}}[N(\\delta_{+}(\\tau, \\frac{B^2}{Kx})) - N(\\delta_{+}(\\tau, \\frac{B}{x}))]+e^{-r\\tau}K(\\frac{x}{B})^{-\\frac{2r}{\\sigma^2}+1}[N(\\delta_{-}(\\tau, \\frac{B^2}{Kx})) - N(\\delta_{-}(\\tau, \\frac{B}{x}))]$ <br>\n",
    "\n",
    "$0\\leq t < T$, $0< x \\leq B$ <br>\n",
    "\n",
    "$N(x)=\\frac{1}{\\sqrt{2\\pi}}\\int_{-\\infty}^xe^{-\\frac{y^2}{2}}dy$ - функция нормального распределения <br>\n",
    "\n",
    "$\\delta_{\\pm} = \\frac{1}{\\sigma\\sqrt{\\tau}}[\\log{S} + (r \\pm \\frac{1}{2}\\sigma^2)\\tau]$"
   ]
  },
  {
   "cell_type": "code",
   "execution_count": null,
   "metadata": {},
   "outputs": [],
   "source": [
    "T = 1\n",
    "B = 100\n",
    "K = 78\n",
    "S0 = 50\n",
    "\n",
    "STEPS = 100\n",
    "\n",
    "_times = np.linspace()"
   ]
  },
  {
   "cell_type": "markdown",
   "metadata": {},
   "source": [
    "---\n",
    "# Task2"
   ]
  },
  {
   "cell_type": "markdown",
   "metadata": {},
   "source": [
    "Найти цену барьерного <b>up-and-out call</b> методом <b>Монте Карло</b> и сравнить с точной ценой. Задача засчитывается, если относительная погрешность будет не более <b>$10^{-3}$</b> (среднее на неескольких запусках.)"
   ]
  },
  {
   "cell_type": "code",
   "execution_count": null,
   "metadata": {},
   "outputs": [],
   "source": []
  },
  {
   "cell_type": "markdown",
   "metadata": {},
   "source": [
    "---\n",
    "# Task3"
   ]
  },
  {
   "cell_type": "markdown",
   "metadata": {},
   "source": [
    "Решить численно уравнение Блэка-Шоулза для барьерного <b>up-and-out call</b> и сравнить с точной ценой. Задача засчитывается, если относительная погрешность будет не более 0.01 для почти всех узов сетки."
   ]
  },
  {
   "cell_type": "code",
   "execution_count": null,
   "metadata": {},
   "outputs": [],
   "source": []
  },
  {
   "cell_type": "markdown",
   "metadata": {},
   "source": [
    "---\n",
    "# Task4"
   ]
  },
  {
   "cell_type": "markdown",
   "metadata": {},
   "source": [
    "Запрограммировать формулу цены <b>lookback</b> опциона с переменным страйком после понижения размерности. Нарисовать ее график по $z=\\frac{x}{y}$"
   ]
  },
  {
   "cell_type": "markdown",
   "metadata": {},
   "source": [
    "$u(t,z)=(1 + \\frac{\\sigma^2}{2r})zN(\\delta_{+}(\\tau, z)) + e^{-r\\tau}N(-\\delta_{-}(\\tau, z)) - \\frac{\\sigma^2}{2r}e^{-r\\tau}z^{1-\\frac{2r}{\\sigma^2}}N(-\\delta_{-}(\\tau, z^{-1})) - z$, $0\\leq t < T,\\ 0 < z \\leq 1$"
   ]
  },
  {
   "cell_type": "code",
   "execution_count": null,
   "metadata": {},
   "outputs": [],
   "source": []
  },
  {
   "cell_type": "markdown",
   "metadata": {},
   "source": [
    "---\n",
    "# Task 5"
   ]
  },
  {
   "cell_type": "markdown",
   "metadata": {},
   "source": [
    "Решиль аналогичную задачу 2.2 для <b>lockback</b> опциона с переменным страйком после понижения размерности."
   ]
  },
  {
   "cell_type": "code",
   "execution_count": null,
   "metadata": {},
   "outputs": [],
   "source": []
  },
  {
   "cell_type": "markdown",
   "metadata": {},
   "source": [
    "--- \n",
    "# Task6"
   ]
  },
  {
   "cell_type": "markdown",
   "metadata": {},
   "source": [
    "Решиль аналогичную задачу 2.3 для <b>lockback</b> опциона с переменным страйком после понижения размерности."
   ]
  },
  {
   "cell_type": "code",
   "execution_count": null,
   "metadata": {},
   "outputs": [],
   "source": []
  }
 ],
 "metadata": {
  "kernelspec": {
   "display_name": "my-venv",
   "language": "python",
   "name": "my-venv"
  },
  "language_info": {
   "codemirror_mode": {
    "name": "ipython",
    "version": 3
   },
   "file_extension": ".py",
   "mimetype": "text/x-python",
   "name": "python",
   "nbconvert_exporter": "python",
   "pygments_lexer": "ipython3",
   "version": "3.9.13"
  }
 },
 "nbformat": 4,
 "nbformat_minor": 2
}
