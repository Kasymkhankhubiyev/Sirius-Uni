{
 "cells": [
  {
   "cell_type": "code",
   "execution_count": 16,
   "metadata": {},
   "outputs": [],
   "source": [
    "import numpy as np\n",
    "import math\n",
    "from scipy.stats import norm"
   ]
  },
  {
   "cell_type": "code",
   "execution_count": 17,
   "metadata": {},
   "outputs": [],
   "source": [
    "def Black_Scholes_straight(S0, K, r, sigma, T=1):\n",
    "    alpha_pl = (np.log(S0 / K) + (r + sigma**2 / 2) * T) / sigma / np.sqrt(T)\n",
    "    alpha_ms = (np.log(S0 / K) + (r - sigma**2 / 2) * T) / sigma / np.sqrt(T)\n",
    "    \n",
    "    return S0 * norm.cdf(alpha_pl) - K * np.exp(-r * T) * norm.cdf(alpha_ms)"
   ]
  },
  {
   "cell_type": "markdown",
   "metadata": {},
   "source": [
    "---\n",
    "# Task 2"
   ]
  },
  {
   "cell_type": "markdown",
   "metadata": {},
   "source": [
    "Дифференциальное уравнение Блэка-Шоулза:\n",
    "\n",
    "$\\frac{\\partial V}{\\partial t} + \\frac{\\tilde{\\sigma}^2}{2}S^2\\frac{\\partial^2V}{\\partial S^2}+rS\\frac{\\partial V}{\\partial S} - rV = 0$\n",
    "\n",
    "с граничными условиями:\n",
    "\n",
    "1. $V(S, T) = (S(T) - K)_{+}$, $0 \\leq S \\leq \\infty$\n",
    "2. $V(0, t) = 0$, $0 \\leq t \\leq T$\n",
    "3. $V(s,t) \\sim S-Ke^{-r(T-t)}$, $S\\to\\infty$\n",
    "\n",
    "Сделать замену переменных: $x = ln(\\frac{S}{K})$, $\\tau = \\frac{\\sigma^2}{2}(T-t)$, $u(x,\\tau)=\\frac{V(S, t)}{S}$"
   ]
  },
  {
   "cell_type": "markdown",
   "metadata": {},
   "source": [
    "Solution:\n",
    "\n",
    "Заметим, что $(S\\frac{\\partial}{\\partial S})^2V = S(\\frac{\\partial V}{\\partial S} + S \\frac{\\partial^2 V}{\\partial S^2})$\n",
    "\n",
    "Тогда перепишем уравнение в виде:\n",
    "\n",
    "$\\frac{\\partial V}{\\partial t} + \\frac{\\tilde{\\sigma}^2}{2}S^2\\frac{\\partial^2V}{\\partial S^2}+rS\\frac{\\partial V}{\\partial S} - rV = \\frac{\\partial V}{\\partial t} + \\frac{\\tilde{\\sigma}^2}{2}(S\\frac{\\partial}{\\partial S})^2 V + (r - \\frac{\\tilde{\\sigma}^2}{2})S\\frac{\\partial V}{\\partial S} - rV = 0$\n",
    "\n",
    "\n",
    "1) $x = ln(\\frac{S}{K}) \\Leftrightarrow S = Ke^{x}$,  $dS = Ke^x dx$\n",
    "\n",
    "Тогда:\n",
    "\n",
    "$\\frac{\\partial V}{\\partial t} + \\frac{\\tilde{\\sigma}^2}{2}(S\\frac{\\partial}{\\partial S})^2 V + (r - \\frac{\\tilde{\\sigma}^2}{2})S\\frac{\\partial V}{\\partial S} - rV = \\frac{\\partial V}{\\partial t} + \\frac{\\tilde{\\sigma}^2}{2}(Ke^x\\frac{\\partial}{Ke^x\\partial x})^2 V + (r - \\frac{\\tilde{\\sigma}^2}{2})Ke^x\\frac{\\partial V}{Ke^x\\partial x} -rV = $\n",
    "\n",
    "$= \\frac{\\partial V}{\\partial t} + \\frac{\\tilde{\\sigma}^2}{2}\\frac{\\partial^2 V}{\\partial x^2} + (r - \\frac{\\tilde{\\sigma}^2}{2})\\frac{\\partial V}{\\partial x} -rV=0$\n",
    "\n",
    "2. $\\tau = \\frac{1}{2}\\sigma^2(T-t) \\Leftrightarrow d\\tau = -\\frac{1}{2}\\sigma^2 dt \\Leftrightarrow dt = - \\frac{2}{\\sigma^2}d\\tau$\n",
    "\n",
    "$-\\frac{\\sigma^2}{2}\\frac{\\partial V}{\\partial \\tau} + \\frac{\\tilde{\\sigma}^2}{2}\\frac{\\partial^2 V}{\\partial x^2} + (r - \\frac{\\tilde{\\sigma}^2}{2})\\frac{\\partial V}{\\partial x} -rV$\n",
    "\n",
    "3. $v = uS= uKe^x$, $v_{\\tau} = u_{\\tau}Ke^x$, $v_x = uKe^x + u_xKe^x$, $v_{xx} = uKe^x + 2u_xKe^x + u_{xx}Ke^x$\n",
    "\n",
    "$-\\frac{\\sigma^2}{2}\\frac{\\partial V}{\\partial \\tau} + \\frac{\\tilde{\\sigma}^2}{2}\\frac{\\partial^2 V}{\\partial x^2} + (r - \\frac{\\tilde{\\sigma}^2}{2})\\frac{\\partial V}{\\partial x} -rV = -\\frac{\\sigma^2}{2}u_{\\tau} + \\frac{\\tilde{\\sigma}^2}{2}(u + 2u_x + u_{xx}) + (r - \\frac{\\tilde{\\sigma}^2}{2})(u + u_x) -ru=$\n",
    "\n",
    "\n",
    "$=-\\frac{\\sigma^2}{2}u_{\\tau} +  \\frac{\\tilde{\\sigma}^2}{2}(u_{xx} + u_x) + ru_x = 0$\n",
    "\n",
    "\n",
    "Получаем:\n",
    "\n",
    "$u_{\\tau} -  \\frac{\\tilde{\\sigma}^2}{\\sigma^2}(u_{xx} + u_x) - \\frac{2r}{\\sigma^2}u_x = 0$\n",
    "\n",
    "с граничными условиями:\n",
    "\n",
    "1. $V(S, T) = (S(T) - K)_{+} = u(x, \\tau)Ke^x = (Ke^x - K)_{+} \\leftrightarrow u(x, \\tau) = (1 - e^{-x})_{+}$, $x\\in R$\n",
    "2. $u(0, t) = 0$, $x\\to-\\infty$\n",
    "3. $V(s,t) = u(x, \\tau)Ke^x  \\sim S-Ke^{-r(T-t)} = Ke^x - Ke^{-r\\frac{2}{\\sigma^2}} \\leftrightarrow u(x, \\tau) \\sim 1 -  Ke^{-\\frac{2r}{\\sigma^2} - x}$, $x\\to\\infty$\n",
    "\n",
    "\n",
    "В итоге:\n",
    "\n",
    "$u_{\\tau} -  \\frac{\\tilde{\\sigma}^2}{\\sigma^2}(u_{xx} + u_x) - \\frac{2r}{\\sigma^2}u_x = 0$\n",
    "\n",
    "1. $u(x, \\tau) = (1 - e^{-x})_{+}$, $x\\in R$\n",
    "2. $u(0, t) = 0$, $x\\to-\\infty$\n",
    "3. $u(x, \\tau) \\sim 1 -  Ke^{-\\frac{2r}{\\sigma^2} - x}$, $x\\to\\infty$"
   ]
  },
  {
   "cell_type": "markdown",
   "metadata": {},
   "source": [
    "---\n",
    "# Task3"
   ]
  },
  {
   "cell_type": "markdown",
   "metadata": {},
   "source": [
    "явную схему"
   ]
  },
  {
   "cell_type": "code",
   "execution_count": null,
   "metadata": {},
   "outputs": [],
   "source": [
    "def d_u_t():\n",
    "    \"\"\"\n",
    "    \"\"\"\n",
    "    pass"
   ]
  },
  {
   "cell_type": "markdown",
   "metadata": {},
   "source": [
    "$u_{\\tau} -  \\frac{\\tilde{\\sigma}^2}{\\sigma^2}(u_{xx} + u_x) - \\frac{2r}{\\sigma^2}u_x = 0$\n",
    "\n",
    "по условию $\\tilde{\\sigma}^2 = \\sigma^2$:\n",
    "\n",
    "$u_{\\tau} -  u_{xx} +(1 - \\frac{2r}{\\sigma^2})u_x = 0$\n",
    "\n",
    "1. $u(x, \\tau) = (1 - e^{-x})_{+}$, $x\\in R$\n",
    "2. $u(0, t) = 0$, $x\\to-\\infty$\n",
    "3. $u(x, \\tau) \\sim 1 -  Ke^{-\\frac{2r}{\\sigma^2} - x}$, $x\\to\\infty$\n",
    "\n",
    "\n",
    "$u_{\\tau} = \\frac{u(x, \\tau+dt) - u(x, \\tau)}{dt}$\n",
    "\n",
    "$u_x = \\frac{u(x+h, \\tau) - u(x, \\tau)}{h}$\n",
    "\n",
    "$u_{xx} = \\frac{u(x+h, \\tau) - 2u(x, \\tau) + u(x-h, \\tau)}{h^2}$"
   ]
  },
  {
   "cell_type": "markdown",
   "metadata": {},
   "source": [
    "$u(x, \\tau + dt) = u(x, \\tau) + dt u_{xx} + dt(\\frac{2r}{\\sigma^2} - 1)u_x$"
   ]
  },
  {
   "cell_type": "code",
   "execution_count": 7,
   "metadata": {},
   "outputs": [],
   "source": [
    "def straigt_path(M, N, r, sigma, S0, K, ST):\n",
    "    \"\"\"\n",
    "\n",
    "        M, int - timepoints\n",
    "        N, int - price points\n",
    "        \n",
    "    \"\"\"\n",
    "    price_steps = np.linspace(np.log(S0/K), np.log(ST / K), N)\n",
    "    h = price_steps[1] - price_steps[0]\n",
    "    taus = (1 - np.linspace(0, 1, M)) * sigma**2 / 2\n",
    "    dt = taus[1] - taus[2]\n",
    "    solution = np.zeros((M, N))\n",
    "\n",
    "    print(dt, h)\n",
    "\n",
    "    #u(0, t) = 0 - учтено\n",
    "\n",
    "    # u(x, tau) = (1 - exp(-x))_{+}\n",
    "    payoffs = 1 - np.exp(-price_steps)\n",
    "    solution[0, :] = np.where(payoffs > 0, payoffs, 0)\n",
    "\n",
    "    for i in range(M-1):\n",
    "        for j in range(2, N):\n",
    "            solution[i+1, j-1] = solution[i, j-1] + dt * (solution[i, j] - 2*solution[i, j-1] + solution[i, j-2]) / h**2 +\\\n",
    "                                    dt * (2*r / sigma**2 - 1) * (solution[i, j] - solution[i, j - 1]) / h\n",
    "\n",
    "    return solution\n",
    "\n"
   ]
  },
  {
   "cell_type": "code",
   "execution_count": 32,
   "metadata": {},
   "outputs": [
    {
     "name": "stdout",
     "output_type": "stream",
     "text": [
      "5.0050050050048575e-06 0.00339870946082034\n"
     ]
    },
    {
     "data": {
      "text/plain": [
       "(8.749885673526085, 2.638930190948564)"
      ]
     },
     "execution_count": 32,
     "metadata": {},
     "output_type": "execute_result"
    }
   ],
   "source": [
    "M = 10**3\n",
    "N = 10**2\n",
    "r = 0.12\n",
    "sigma = 0.1\n",
    "S0 = 50\n",
    "K = 55\n",
    "ST = 70\n",
    "\n",
    "(straigt_path(M, N, r, sigma, S0, K, ST)[-1]*K*np.exp(ST/K)).mean(), Black_Scholes_straight(S0, K, r, sigma)"
   ]
  },
  {
   "cell_type": "code",
   "execution_count": null,
   "metadata": {},
   "outputs": [],
   "source": []
  }
 ],
 "metadata": {
  "kernelspec": {
   "display_name": "AlgoVenv",
   "language": "python",
   "name": "algovenv"
  },
  "language_info": {
   "codemirror_mode": {
    "name": "ipython",
    "version": 3
   },
   "file_extension": ".py",
   "mimetype": "text/x-python",
   "name": "python",
   "nbconvert_exporter": "python",
   "pygments_lexer": "ipython3",
   "version": "3.11.5"
  }
 },
 "nbformat": 4,
 "nbformat_minor": 4
}
