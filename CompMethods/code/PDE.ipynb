{
 "cells": [
  {
   "cell_type": "code",
   "execution_count": 84,
   "metadata": {},
   "outputs": [],
   "source": [
    "import numpy as np\n",
    "import math\n",
    "from scipy.stats import norm\n",
    "import pandas as pd\n",
    "\n",
    "import matplotlib.pyplot as plt"
   ]
  },
  {
   "cell_type": "code",
   "execution_count": 3,
   "metadata": {},
   "outputs": [],
   "source": [
    "def Black_Scholes_straight(S0, K, r, sigma, current=0, T=1):\n",
    "    alpha_pl = (np.log(S0 / K) + (r + sigma**2 / 2) * (T - current)) / sigma / np.sqrt(T - current)\n",
    "    alpha_ms = (np.log(S0 / K) + (r - sigma**2 / 2) * (T - current)) / sigma / np.sqrt(T - current)\n",
    "    \n",
    "    return S0 * norm.cdf(alpha_pl) - K * np.exp(-r * (T-current)) * norm.cdf(alpha_ms)"
   ]
  },
  {
   "cell_type": "markdown",
   "metadata": {},
   "source": [
    "---\n",
    "# Task 2"
   ]
  },
  {
   "cell_type": "markdown",
   "metadata": {},
   "source": [
    "Дифференциальное уравнение Блэка-Шоулза:\n",
    "\n",
    "$\\frac{\\partial V}{\\partial t} + \\frac{\\tilde{\\sigma}^2}{2}S^2\\frac{\\partial^2V}{\\partial S^2}+rS\\frac{\\partial V}{\\partial S} - rV = 0$\n",
    "\n",
    "с граничными условиями:\n",
    "\n",
    "1. $V(S, T) = (S(T) - K)_{+}$, $0 \\leq S \\leq \\infty$\n",
    "2. $V(0, t) = 0$, $0 \\leq t \\leq T$\n",
    "3. $V(s,t) \\sim S-Ke^{-r(T-t)}$, $S\\to\\infty$\n",
    "\n",
    "Сделать замену переменных: $x = ln(\\frac{S}{K})$, $\\tau = \\frac{\\sigma^2}{2}(T-t)$, $u(x,\\tau)=\\frac{V(S, t)}{S}$"
   ]
  },
  {
   "cell_type": "markdown",
   "metadata": {},
   "source": [
    "Solution:\n",
    "\n",
    "Заметим, что $(S\\frac{\\partial}{\\partial S})^2V = S(\\frac{\\partial V}{\\partial S} + S \\frac{\\partial^2 V}{\\partial S^2})$\n",
    "\n",
    "Тогда перепишем уравнение в виде:\n",
    "\n",
    "$\\frac{\\partial V}{\\partial t} + \\frac{\\tilde{\\sigma}^2}{2}S^2\\frac{\\partial^2V}{\\partial S^2}+rS\\frac{\\partial V}{\\partial S} - rV = \\frac{\\partial V}{\\partial t} + \\frac{\\tilde{\\sigma}^2}{2}(S\\frac{\\partial}{\\partial S})^2 V + (r - \\frac{\\tilde{\\sigma}^2}{2})S\\frac{\\partial V}{\\partial S} - rV = 0$\n",
    "\n",
    "\n",
    "1) $x = ln(\\frac{S}{K}) \\Leftrightarrow S = Ke^{x}$,  $dS = Ke^x dx$\n",
    "\n",
    "Тогда:\n",
    "\n",
    "$\\frac{\\partial V}{\\partial t} + \\frac{\\tilde{\\sigma}^2}{2}(S\\frac{\\partial}{\\partial S})^2 V + (r - \\frac{\\tilde{\\sigma}^2}{2})S\\frac{\\partial V}{\\partial S} - rV = \\frac{\\partial V}{\\partial t} + \\frac{\\tilde{\\sigma}^2}{2}(Ke^x\\frac{\\partial}{Ke^x\\partial x})^2 V + (r - \\frac{\\tilde{\\sigma}^2}{2})Ke^x\\frac{\\partial V}{Ke^x\\partial x} -rV = $\n",
    "\n",
    "$= \\frac{\\partial V}{\\partial t} + \\frac{\\tilde{\\sigma}^2}{2}\\frac{\\partial^2 V}{\\partial x^2} + (r - \\frac{\\tilde{\\sigma}^2}{2})\\frac{\\partial V}{\\partial x} -rV=0$\n",
    "\n",
    "2. $\\tau = \\frac{1}{2}\\sigma^2(T-t) \\Leftrightarrow d\\tau = -\\frac{1}{2}\\sigma^2 dt \\Leftrightarrow dt = - \\frac{2}{\\sigma^2}d\\tau$\n",
    "\n",
    "$-\\frac{\\sigma^2}{2}\\frac{\\partial V}{\\partial \\tau} + \\frac{\\tilde{\\sigma}^2}{2}\\frac{\\partial^2 V}{\\partial x^2} + (r - \\frac{\\tilde{\\sigma}^2}{2})\\frac{\\partial V}{\\partial x} -rV$\n",
    "\n",
    "3. $v = uS= uKe^x$, $v_{\\tau} = u_{\\tau}Ke^x$, $v_x = uKe^x + u_xKe^x$, $v_{xx} = uKe^x + 2u_xKe^x + u_{xx}Ke^x$\n",
    "\n",
    "$-\\frac{\\sigma^2}{2}\\frac{\\partial V}{\\partial \\tau} + \\frac{\\tilde{\\sigma}^2}{2}\\frac{\\partial^2 V}{\\partial x^2} + (r - \\frac{\\tilde{\\sigma}^2}{2})\\frac{\\partial V}{\\partial x} -rV = -\\frac{\\sigma^2}{2}u_{\\tau} + \\frac{\\tilde{\\sigma}^2}{2}(u + 2u_x + u_{xx}) + (r - \\frac{\\tilde{\\sigma}^2}{2})(u + u_x) -ru=$\n",
    "\n",
    "\n",
    "$=-\\frac{\\sigma^2}{2}u_{\\tau} +  \\frac{\\tilde{\\sigma}^2}{2}(u_{xx} + u_x) + ru_x = 0$\n",
    "\n",
    "\n",
    "Получаем:\n",
    "\n",
    "$u_{\\tau} -  \\frac{\\tilde{\\sigma}^2}{\\sigma^2}(u_{xx} + u_x) - \\frac{2r}{\\sigma^2}u_x = 0$\n",
    "\n",
    "с граничными условиями:\n",
    "\n",
    "1. $V(S, T) = (S(T) - K)_{+} = u(x, \\tau)Ke^x = (Ke^x - K)_{+} \\leftrightarrow u(x, 0) = (1 - e^{-x})_{+}$, $x\\in R$\n",
    "2. $u(0, \\tau) = 0$, $x\\to-\\infty$\n",
    "3. $V(s,t) = u(x, \\tau)Ke^x  \\sim S-Ke^{-r(T-t)} = Ke^x - Ke^{-r\\frac{2\\tau}{\\sigma^2}} \\leftrightarrow u(x, \\tau) \\sim 1 -  e^{-\\frac{2r\\tau}{\\sigma^2} - x}$, $x\\to\\infty$\n",
    "\n",
    "\n",
    "В итоге:\n",
    "\n",
    "$u_{\\tau} -  \\frac{\\tilde{\\sigma}^2}{\\sigma^2}(u_{xx} + u_x) - \\frac{2r}{\\sigma^2}u_x = 0$\n",
    "\n",
    "1. $u(x, 0) = (1 - e^{-x})_{+}$, $x\\in R$\n",
    "2. $u(0, \\tau) = 0$, $x\\to-\\infty$\n",
    "3. $u(x, \\tau) \\sim 1 -  e^{-\\frac{2r\\tau}{\\sigma^2} - x}$, $x\\to\\infty$"
   ]
  },
  {
   "cell_type": "markdown",
   "metadata": {},
   "source": [
    "---\n",
    "# Task3"
   ]
  },
  {
   "cell_type": "markdown",
   "metadata": {},
   "source": [
    "явную схему"
   ]
  },
  {
   "cell_type": "markdown",
   "metadata": {},
   "source": [
    "$u_{\\tau} -  \\frac{\\tilde{\\sigma}^2}{\\sigma^2}(u_{xx} + u_x) - \\frac{2r}{\\sigma^2}u_x = 0$\n",
    "\n",
    "по условию $\\tilde{\\sigma}^2 = \\sigma^2$:\n",
    "\n",
    "$u_{\\tau} -  u_{xx} +(1 - \\frac{2r}{\\sigma^2})u_x = 0$\n",
    "\n",
    "1. $u(x, 0) = (1 - e^{-x})_{+}$, $x\\in R$\n",
    "2. $u(0, \\tau) = 0$, $x\\to-\\infty$\n",
    "3. $u(x, \\tau) \\sim 1 -  e^{-\\frac{2r\\tau}{\\sigma^2} - x}$, $x\\to\\infty$\n",
    "\n",
    "\n",
    "$u_{\\tau} = \\frac{u(x, \\tau+dt) - u(x, \\tau)}{dt}$\n",
    "\n",
    "$u_x = \\frac{u(x+h, \\tau) - u(x, \\tau)}{h}$\n",
    "\n",
    "$u_{xx} = \\frac{u(x+h, \\tau) - 2u(x, \\tau) + u(x-h, \\tau)}{h^2}$"
   ]
  },
  {
   "cell_type": "markdown",
   "metadata": {},
   "source": [
    "$u(x, \\tau + dt) = u(x, \\tau) + dt u_{xx} + dt(\\frac{2r}{\\sigma^2} + 1)u_x$"
   ]
  },
  {
   "cell_type": "markdown",
   "metadata": {},
   "source": [
    "$\\frac{u_m^{n+1} - u_m^{n+1}}{\\tau} = \\frac{u_{m+1}^{n+1} - 2u^{n+1}_m + 2u_{m+1}^{n+1}}{h^2} + \\phi_m^{n+1}$"
   ]
  },
  {
   "cell_type": "code",
   "execution_count": 542,
   "metadata": {},
   "outputs": [],
   "source": [
    "def explicit_path_v2(S0, ST, K, r, sigma, N, M, T=1, t0=0):\n",
    "\n",
    "    S = np.linspace(S0, ST, N)\n",
    "    t = np.linspace(t0, T, M)\n",
    "    \n",
    "    solution = np.zeros((N, M))\n",
    "    h = S[1] - S[0] \n",
    "    dt = t[1] - t[1]\n",
    "    \n",
    "    solution[:, -1] = np.where(S - K > 0, S - K, 0)                    \n",
    "    solution[0, :] = 0                                       \n",
    "    solution[-1, :] = ST - K * np.exp(-r * (T - t))        \n",
    "    \n",
    "    for n in range(M-2, -1, -1):  \n",
    "        for i in range(1, N-1):  \n",
    "            solution[i, n] = solution[i, n+1] + dt * sigma**2 * (S[i] / h)**2 / 2 * (solution[i+1, n+1] - 2 * solution[i, n+1] + solution[i-1, n+1]) +\\\n",
    "                      dt * r * S[i] / h * (solution[i+1, n+1] - solution[i-1, n]) -dt * r * solution[i, n+1]\n",
    "    \n",
    "    return solution.T"
   ]
  },
  {
   "cell_type": "code",
   "execution_count": 543,
   "metadata": {},
   "outputs": [],
   "source": [
    "def explicit_path(M, N, r, sigma, S0, K, ST):\n",
    "    \n",
    "    \"\"\"\n",
    "        M, int - timepoints\n",
    "        N, int - price points\n",
    "    \"\"\"\n",
    "    \n",
    "    price_steps = np.linspace(np.log(S0/K), np.log(ST / K), N)\n",
    "    h = price_steps[1] - price_steps[0]\n",
    "    taus = (1 - np.linspace(0, 1, M))  * sigma**2 / 2\n",
    "    # print(taus)\n",
    "    dt = taus[1] - taus[2]\n",
    "\n",
    "    payoffs = 1 - np.exp(-2 * r * taus[0] / sigma**2 - price_steps)\n",
    "    solution = []\n",
    "    solution.append(np.where(payoffs > 0, payoffs, 0))\n",
    "    for i in range(1, M-2):\n",
    "        _sol = [max(1 - np.exp(-2 * r * taus[i] / sigma**2-price_steps[0]), 0)]\n",
    "        \n",
    "        for j in range(1, N-1):\n",
    "            u = solution[-1][j] + dt * (solution[-1][j-1] - 2*solution[-1][j] + solution[-1][j+1]) / h**2 +\\\n",
    "                                    dt * (2*r / sigma**2 + 1) * (solution[-1][j+1] - solution[-1][j-1]) / 2 /h\n",
    "            _sol.append(u)\n",
    "        # _sol.append(max(1 - np.exp(-2 * r * taus[-1] / sigma**2-price_steps[0]), 0))\n",
    "        _sol.append(1 - np.exp(-2 * r * taus[-1] / sigma**2 - price_steps[-1]))\n",
    "        \n",
    "        solution.append(_sol)\n",
    "    return np.array(solution)"
   ]
  },
  {
   "cell_type": "code",
   "execution_count": 544,
   "metadata": {},
   "outputs": [
    {
     "name": "stdout",
     "output_type": "stream",
     "text": [
      "tau = 0.0010000 > h^2/2 = 0.0000500\n"
     ]
    },
    {
     "data": {
      "image/png": "[encoded data removed]",
      "text/plain": [
       "<Figure size 640x480 with 1 Axes>"
      ]
     },
     "metadata": {},
     "output_type": "display_data"
    }
   ],
   "source": [
    "r = 0.12\n",
    "sigma = 0.1\n",
    "S0 = 1\n",
    "K = 70\n",
    "ST = 100\n",
    "\n",
    "M = 10**3\n",
    "N = 10**2\n",
    "print(f'tau = {1/M:.7f} {\">\" if 1/M > (1/N)**2 / 2 else \"<\"} h^2/2 = {(1/N)**2 / 2:.7f}')\n",
    "\n",
    "# S0, ST, K, r, sigma, N, M, T=1, t0=0\n",
    "\n",
    "plt.plot(np.linspace(S0, ST, N), explicit_path_v2(S0, ST, K, r, sigma, N, M)[-1], label='explicit, t < h^2/2')\n",
    "\n",
    "plt.plot(np.linspace(S0, ST, N), Black_Scholes_straight(np.linspace(S0, ST, N), K, r, sigma, current=0.99), label='accurate')\n",
    "\n",
    "plt.legend()\n",
    "plt.show()"
   ]
  },
  {
   "cell_type": "code",
   "execution_count": 561,
   "metadata": {},
   "outputs": [],
   "source": [
    "def SLE_solver(a, b):\n",
    "    \"\"\"\n",
    "        метод прогонки\n",
    "    \"\"\"\n",
    "    n = len(a)\n",
    "    x = [0 for _ in range(0, n)]\n",
    "\n",
    "    v = [0 for _ in range(0, n)]\n",
    "    u = [0 for _ in range(0, n)]\n",
    "\n",
    "    # прямой ход\n",
    "    v[0] = a[0][1] / (-a[0][0])\n",
    "    u[0] = (-b[0]) / (-a[0][0])\n",
    "\n",
    "    for i in range(1, n-1):\n",
    "        v[i] = a[i][i+1] / (-a[i][i] - a[i][i-1] * v[i-1])\n",
    "        u[i] = (a[i][i-1] * u[i-1] - b[i]) / (-a[i][i] - a[i][i-1]*v[i-1])\n",
    "\n",
    "    # последняя n-1 строка\n",
    "    v[n-1] = 0\n",
    "    v[n-1] = (a[n-1][n-2]*u[n-2] - b[n-1]) / (-a[n-1][n-1] - a[n-1][n-2]*v[n-2])\n",
    "\n",
    "    # обратный ход\n",
    "    x[n-1] = u[n-1]\n",
    "    for i in range(n-1, 0, -1):\n",
    "        x[i-1] = v[i-1] * x[i] + u[i-1]\n",
    "\n",
    "    return x\n",
    "    "
   ]
  },
  {
   "cell_type": "code",
   "execution_count": 568,
   "metadata": {},
   "outputs": [],
   "source": [
    "def implicit_path(ST, S0,  N, M, K, r, sigma, T=1, t0=0):\n",
    "    S = np.linspace(S0, ST, N + 1)\n",
    "    t = np.linspace(t0, T, M + 1)\n",
    "    \n",
    "    V = np.zeros((N + 1, M + 1))\n",
    "    h = S[1] - S[0]\n",
    "    dt = t[1] - t[0]\n",
    "\n",
    "    # задаем граничные условия\n",
    "    V[:, -1] = np.maximum(S - K, 0)  \n",
    "    V[0, :] = 0  \n",
    "    V[-1, :] = ST - K * np.exp(-r * (T - t))  \n",
    "    \n",
    "    A = np.zeros((N - 1, N - 1))\n",
    "    for i in range(1, N):\n",
    "        if i > 1:\n",
    "            A[i-1, i-2] = -dt * sigma**2 * (S[i] / h)**2 / 2 +  0.5 * dt * r * S[i] / h\n",
    "        A[i-1, i-1] = 1 + dt * sigma**2 * (S[i] / h)**2 + dt * r\n",
    "        if i < N - 1:\n",
    "            A[i-1, i] = -dt * sigma**2 * (S[i] / h)**2 / 2 - 0.5 * dt * r * S[i] / h\n",
    "\n",
    "    \n",
    "    alpha_beta_plus = dt * sigma**2 * (S[1] / h)**2 / 2 - dt * r * S[1] / h / 2\n",
    "    alpha_beta_minus = dt * sigma**2 * (S[-2] / h)**2 / 2 + dt * r * S[-2] / h / 2\n",
    "\n",
    "    for n in range(M-1, -1, -1):\n",
    "        b = V[1:N, n+1].copy()\n",
    "        b[0] += alpha_beta_plus * V[0, n]\n",
    "        b[-1] += alpha_beta_minus * V[-1, n]\n",
    "        V[1:N, n] = SLE_solver(A, b)\n",
    "\n",
    "    return V.T"
   ]
  },
  {
   "cell_type": "code",
   "execution_count": 576,
   "metadata": {},
   "outputs": [],
   "source": [
    "r = 0.12\n",
    "sigma = 0.1\n",
    "S0 = 10\n",
    "K = 70\n",
    "ST = 100\n",
    "\n",
    "M = 10**3\n",
    "N = 10**2\n",
    "\n",
    "V = implicit_path(ST, S0,  N, M, K, r, sigma, T=1, t0=0.99)"
   ]
  },
  {
   "cell_type": "code",
   "execution_count": 578,
   "metadata": {},
   "outputs": [
    {
     "data": {
      "image/png": "[encoded data removed]",
      "text/plain": [
       "<Figure size 640x480 with 1 Axes>"
      ]
     },
     "metadata": {},
     "output_type": "display_data"
    }
   ],
   "source": [
    "plt.plot(np.linspace(0, ST, N+1)[int(ST/(N+1) * S0):], implicit_path(ST, S0,  N, M, K, r, sigma, T=1, t0=0.99)[-1][int(ST/(N+1) * S0):], label='implicit')\n",
    "plt.plot(np.linspace(S0, ST, N), Black_Scholes_straight(np.linspace(S0, ST, N), K, r, sigma, current=0.99, T=1), label='accurate')\n",
    "\n",
    "plt.legend()\n",
    "plt.show()\n",
    "# V.shape"
   ]
  },
  {
   "cell_type": "markdown",
   "metadata": {},
   "source": [
    "$y_{n} = \\frac{d_{n}}{b_{n}}; x_{i}=\\frac{(d_{i} - c_{i}x_{i+1})}{b_{i}}$"
   ]
  },
  {
   "cell_type": "code",
   "execution_count": 575,
   "metadata": {},
   "outputs": [
    {
     "name": "stdout",
     "output_type": "stream",
     "text": [
      "tau = 0.0100000 > h^2/2 = 0.0000005\n",
      "tau = 0.0001000 < h^2/2 = 0.0050000\n"
     ]
    },
    {
     "data": {
      "image/png": "[encoded data removed]",
      "text/plain": [
       "<Figure size 640x480 with 1 Axes>"
      ]
     },
     "metadata": {},
     "output_type": "display_data"
    }
   ],
   "source": [
    "r = 0.12\n",
    "sigma = 0.1\n",
    "S0 = 50\n",
    "K = 70\n",
    "ST = 100\n",
    "\n",
    "M = 10**2\n",
    "N = 10**3\n",
    "print(f'tau = {1/M:.7f} {\">\" if 1/M > (1/N)**2 / 2 else \"<\"} h^2/2 = {(1/N)**2 / 2:.7f}')\n",
    "option = [Black_Scholes_straight(s, K, r, sigma) for s in np.linspace(S0, ST, N)]\n",
    "plt.plot(np.linspace(S0, ST, N), explicit_path_v2(S0, ST, K, r, sigma, N, M)[-1], label='explicit, t > h^2/2')\n",
    "plt.plot(np.linspace(S0, ST, N+1), implicit_path(ST, S0,  N, M, K, r, sigma, T=1, t0=0.99)[-1], label='implicit, t > h^2/2')\n",
    "\n",
    "M = 10**4\n",
    "N = 10**1\n",
    "print(f'tau = {1/M:.7f} {\">\" if 1/M > (1/N)**2 / 2 else \"<\"} h^2/2 = {(1/N)**2 / 2:.7f}')\n",
    "option = [Black_Scholes_straight(s, K, r, sigma) for s in np.linspace(S0, ST, N)]\n",
    "plt.plot(np.linspace(S0, ST, N), explicit_path_v2(S0, ST, K, r, sigma, N, M)[-1], label='explicit, t < h^2/2')\n",
    "plt.plot(np.linspace(S0, ST, N+1), implicit_path(ST, S0,  N, M, K, r, sigma, T=1, t0=0.99)[-1], label='implicit, t < h^2/2')\n",
    "\n",
    "plt.plot(np.linspace(S0, ST, N), Black_Scholes_straight(np.linspace(S0, ST, N), K, r, sigma, current=0.99), label='accurate')\n",
    "\n",
    "plt.legend()\n",
    "plt.show()"
   ]
  },
  {
   "cell_type": "markdown",
   "metadata": {},
   "source": [
    "---\n",
    "# Task4"
   ]
  },
  {
   "cell_type": "markdown",
   "metadata": {},
   "source": [
    "Для непостоянной волатильности $\\tilde{\\sigma}\\ne \\sigma$ реализовать неявную схему и схему Кранка-Николсона. <br> Сравнить ответ в момент экспирации Т со значением, полученным методом (квази-) Монте-Карло для непостоянной волатильности."
   ]
  },
  {
   "cell_type": "markdown",
   "metadata": {},
   "source": [
    "RAPM - Risk Ajusted Pricing Methodology\n",
    "\n",
    "$\\tilde{\\sigma}=\\sigma^2(1 + 3(\\frac{C^2M}{2\\pi}SV_{SS})^{\\frac{1}{3}})$, где $M>=0$ - мера транзакционных издержек, С - мера премии на риск"
   ]
  },
  {
   "cell_type": "code",
   "execution_count": 572,
   "metadata": {},
   "outputs": [],
   "source": [
    "def compute_volatility(S, V_SS, sigma, C, M):\n",
    "    return sigma**2 * (1 + 3 * ((C**2 * M / (2 * np.pi)) * S * V_SS)**(1/3))\n",
    "\n",
    "\n",
    "def implicit_path_variable_volatility(S0, ST, K, r, sigma, T, t0, N_S, N_t, C, M):\n",
    "    S = np.linspace(S0, ST, N_S + 1)\n",
    "    t = np.linspace(t0, T, N_t + 1)\n",
    "    \n",
    "    V = np.zeros((N_S + 1, N_t + 1))\n",
    "    delta_S = ST / N_S\n",
    "    delta_t = T / N_t\n",
    "\n",
    "    \n",
    "    V[:, -1] = np.maximum(S - K, 0)  \n",
    "    V[0, :] = 0  \n",
    "    V[-1, :] = ST - K * np.exp(-r * (T - t))\n",
    "\n",
    "    \n",
    "    for n in range(N_t-1, -1, -1):\n",
    "        alpha = 0.5 * delta_t * sigma**2 * (S / delta_S)**2\n",
    "        beta = 0.5 * delta_t * r * S / delta_S\n",
    "        gamma = -delta_t * r\n",
    "        \n",
    "        A = np.zeros((N_S - 1, N_S - 1))\n",
    "        for i in range(1, N_S):\n",
    "            if i > 1:\n",
    "                A[i-1, i-2] = -alpha[i] + beta[i]\n",
    "            A[i-1, i-1] = 1 + 2 * alpha[i] - gamma\n",
    "            if i < N_S - 1:\n",
    "                A[i-1, i] = -alpha[i] - beta[i]\n",
    "\n",
    "        \n",
    "        alpha_beta_plus = alpha[1] - beta[1]\n",
    "        alpha_beta_minus = alpha[-2] + beta[-2]\n",
    "\n",
    "        b = V[1:N_S, n+1].copy()\n",
    "        b[0] += alpha_beta_plus * V[0, n]\n",
    "        b[-1] += alpha_beta_minus * V[-1, n]\n",
    "        V[1:N_S, n] = np.linalg.solve(A, b)\n",
    "\n",
    "        \n",
    "        for i in range(1, N_S):\n",
    "            V_SS = (V[i+1, n] - 2 * V[i, n] + V[i-1, n]) / delta_S**2\n",
    "            sigma_tilde_sq = compute_volatility(S[i], V_SS, sigma, C, M)\n",
    "            alpha[i] = 0.5 * delta_t * sigma_tilde_sq * (S[i] / delta_S)**2\n",
    "\n",
    "    return np.array(V).T"
   ]
  },
  {
   "cell_type": "code",
   "execution_count": 573,
   "metadata": {},
   "outputs": [],
   "source": [
    "def variable_volatility_Monte_Carlo(S0, ST, K, r, sigma, T, t0, N_S, N_t, C, M):\n",
    "    t_step = (T - t0) / N_t\n",
    "\n",
    "    S = np.zeros((N_S, N_t)) + S0\n",
    "\n",
    "    for i in range(1, N_t):\n",
    "        S[:, i] = S[:, i-1] * np.exp((r - sigma**2 / 2) * (t_step) + sigma * np.sqrt(t_step)*np.random.normal(size=(N_S)))\n",
    "        \n",
    "    barrier_factor = np.ones(N_S)\n",
    "\n",
    "    strike_factor = np.where(S[:, -1] >= K, 1, 0)\n",
    "\n",
    "    payoffs = np.exp(-r * (T - t0)) * (S[:, -1] - K) * strike_factor \n",
    "    return payoffs.mean()"
   ]
  },
  {
   "cell_type": "code",
   "execution_count": 574,
   "metadata": {},
   "outputs": [
    {
     "name": "stderr",
     "output_type": "stream",
     "text": [
      "/var/folders/xx/x_6wt9hs2vq2twldfgptb5840000gn/T/ipykernel_26239/299208392.py:2: RuntimeWarning: invalid value encountered in scalar power\n",
      "  return sigma**2 * (1 + 3 * ((C**2 * M / (2 * np.pi)) * S * V_SS)**(1/3))\n"
     ]
    },
    {
     "data": {
      "text/plain": [
       "0.02405934956565965"
      ]
     },
     "execution_count": 574,
     "metadata": {},
     "output_type": "execute_result"
    }
   ],
   "source": [
    "S0 = 50\n",
    "ST = 100\n",
    "K = 70\n",
    "r = 0.12\n",
    "sigma=0.1\n",
    "T= 1\n",
    "t0=0\n",
    "N_S=10**2\n",
    "N_t = 10**4\n",
    "\n",
    "C = 0.001\n",
    "M = 0.001\n",
    "\n",
    "v = implicit_path_variable_volatility(S0, ST, K, r, sigma, T, t0, N_S, N_t, C, M)\n",
    "variable_volatility_Monte_Carlo(S0, ST, K, r, sigma, T, t0, 10**4, N_t, C, M)"
   ]
  },
  {
   "cell_type": "code",
   "execution_count": 286,
   "metadata": {},
   "outputs": [
    {
     "data": {
      "text/plain": [
       "[<matplotlib.lines.Line2D at 0x2800f79d0>]"
      ]
     },
     "execution_count": 286,
     "metadata": {},
     "output_type": "execute_result"
    },
    {
     "data": {
      "image/png": "[encoded data removed]",
      "text/plain": [
       "<Figure size 640x480 with 1 Axes>"
      ]
     },
     "metadata": {},
     "output_type": "display_data"
    }
   ],
   "source": [
    "plt.plot(np.linspace(S0, ST, N_S+1), v[-1])"
   ]
  },
  {
   "cell_type": "code",
   "execution_count": null,
   "metadata": {},
   "outputs": [],
   "source": []
  }
 ],
 "metadata": {
  "kernelspec": {
   "display_name": "AlgoVenv",
   "language": "python",
   "name": "algovenv"
  },
  "language_info": {
   "codemirror_mode": {
    "name": "ipython",
    "version": 3
   },
   "file_extension": ".py",
   "mimetype": "text/x-python",
   "name": "python",
   "nbconvert_exporter": "python",
   "pygments_lexer": "ipython3",
   "version": "3.11.5"
  }
 },
 "nbformat": 4,
 "nbformat_minor": 4
}
