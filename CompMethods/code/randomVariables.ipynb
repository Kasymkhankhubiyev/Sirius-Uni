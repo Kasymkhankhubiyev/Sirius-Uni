{
 "cells": [
  {
   "cell_type": "code",
   "execution_count": 2,
   "metadata": {},
   "outputs": [],
   "source": [
    "import os\n",
    "import time\n",
    "\n",
    "import numpy as np\n",
    "import matplotlib.pyplot as plt"
   ]
  },
  {
   "cell_type": "markdown",
   "metadata": {},
   "source": [
    "## a lineat congruential generator"
   ]
  },
  {
   "cell_type": "code",
   "execution_count": 15,
   "metadata": {},
   "outputs": [
    {
     "name": "stdout",
     "output_type": "stream",
     "text": [
      "6 2 12 4 7 8 14 16 11 15 5 13 10 9 3 1 6 2 12 4 "
     ]
    }
   ],
   "source": [
    "x0 = 1\n",
    "a = 6\n",
    "m = 17\n",
    "\n",
    "for j in range(20):\n",
    "    x0 = (a * x0) % m\n",
    "    print(x0, end=' ')"
   ]
  },
  {
   "cell_type": "markdown",
   "metadata": {},
   "source": [
    "## an inverse transform method"
   ]
  },
  {
   "cell_type": "markdown",
   "metadata": {},
   "source": [
    "exponential distribution $F(x) = 1 - e^{-\\frac{x}{\\theta}}$\n",
    "\n",
    "inversing the distribution function we get $X = -\\theta\\log{1- U} = -\\theta\\log{U}$"
   ]
  },
  {
   "cell_type": "code",
   "execution_count": 18,
   "metadata": {},
   "outputs": [
    {
     "data": {
      "text/plain": [
       "array([4.48040805e+00, 4.04669032e-01, 5.37238004e-03, 1.83108179e-02,\n",
       "       5.67109991e+00, 3.40796598e-01, 2.36890376e-01, 1.92328103e+00,\n",
       "       8.15807330e-01, 2.68255960e+00, 6.55525328e+00, 1.05065609e+00,\n",
       "       4.68258899e-01, 2.00684061e+00, 3.22688089e+00, 2.07206048e+00,\n",
       "       5.41557592e+00, 1.94579472e+00, 6.36643765e-01, 2.67216197e+00])"
      ]
     },
     "execution_count": 18,
     "metadata": {},
     "output_type": "execute_result"
    }
   ],
   "source": [
    "theta = 2\n",
    "samples_num = 20\n",
    "exp_random_vars = -theta * np.log(np.random.uniform(0, 1, samples_num))\n",
    "exp_random_vars"
   ]
  },
  {
   "cell_type": "markdown",
   "metadata": {},
   "source": [
    "Arcsine Law: The time at which a standart BM attains it maximum over time interval [0, 1] has distribution: <br>\n",
    "$F(x) = \\frac{2}{\\pi}arcsin(\\sqrt{x})$\n",
    "\n",
    "inverse transforming we get $X = \\frac{1}{2} - \\frac{1}{2}cos(U\\pi)$, $U \\sim [0,1]$"
   ]
  },
  {
   "cell_type": "code",
   "execution_count": 20,
   "metadata": {},
   "outputs": [
    {
     "data": {
      "text/plain": [
       "array([9.99998804e-01, 6.64454663e-01, 4.87800946e-01, 5.99432367e-06,\n",
       "       8.12157420e-01, 9.93559593e-01, 9.00420453e-01, 2.91724916e-01,\n",
       "       9.16179629e-01, 9.38906567e-01, 8.16793896e-01, 9.56705613e-01,\n",
       "       2.67237578e-02, 9.14211439e-01, 5.27325473e-01, 1.76894831e-02,\n",
       "       2.61781671e-01, 3.73040144e-01, 7.48482152e-01, 5.70154406e-01])"
      ]
     },
     "execution_count": 20,
     "metadata": {},
     "output_type": "execute_result"
    }
   ],
   "source": [
    "samples_num = 20\n",
    "arcsine_random_vars = 0.5 - 0.5 * np.cos(np.random.uniform(0, 1, samples_num) * np.pi)\n",
    "arcsine_random_vars"
   ]
  }
 ],
 "metadata": {
  "kernelspec": {
   "display_name": "my-venv",
   "language": "python",
   "name": "my-venv"
  },
  "language_info": {
   "codemirror_mode": {
    "name": "ipython",
    "version": 3
   },
   "file_extension": ".py",
   "mimetype": "text/x-python",
   "name": "python",
   "nbconvert_exporter": "python",
   "pygments_lexer": "ipython3",
   "version": "3.9.13"
  }
 },
 "nbformat": 4,
 "nbformat_minor": 2
}
