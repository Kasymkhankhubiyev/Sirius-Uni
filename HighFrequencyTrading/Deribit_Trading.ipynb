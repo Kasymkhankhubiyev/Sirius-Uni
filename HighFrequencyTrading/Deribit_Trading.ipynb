{
 "cells": [
  {
   "cell_type": "code",
   "execution_count": 1,
   "id": "de58eac5-f11b-4187-8425-a31c9ed67f2d",
   "metadata": {},
   "outputs": [],
   "source": [
    "import os\n",
    "import pandas as pd\n",
    "import numpy as np"
   ]
  },
  {
   "cell_type": "code",
   "execution_count": 2,
   "id": "22bd21d8-323e-4149-bb3d-0698a1e3629b",
   "metadata": {},
   "outputs": [
    {
     "data": {
      "text/plain": [
       "['Deribir_Traiding', '.ipynb_checkpoints', 'Deribit_Trading.ipynb']"
      ]
     },
     "execution_count": 2,
     "metadata": {},
     "output_type": "execute_result"
    }
   ],
   "source": [
    "os.listdir()"
   ]
  },
  {
   "cell_type": "code",
   "execution_count": 3,
   "id": "06c62dec-dd82-4c3a-8617-d8e4f42094b5",
   "metadata": {},
   "outputs": [],
   "source": [
    "with open('Deribir_Traiding', 'r') as file:\n",
    "    lines = file.readlines()"
   ]
  },
  {
   "cell_type": "code",
   "execution_count": 5,
   "id": "aec22971-55b8-4422-97ed-032937a27d1c",
   "metadata": {},
   "outputs": [
    {
     "data": {
      "text/plain": [
       "['exchange',\n",
       " 'symbol',\n",
       " 'timestamp',\n",
       " 'local_timestamp',\n",
       " 'id',\n",
       " 'side',\n",
       " 'price',\n",
       " 'amount']"
      ]
     },
     "execution_count": 5,
     "metadata": {},
     "output_type": "execute_result"
    }
   ],
   "source": [
    "columns = lines[0].replace('\\n', '').split(',')\n",
    "columns"
   ]
  },
  {
   "cell_type": "code",
   "execution_count": 11,
   "id": "5bffd469-2dee-4246-aeed-ba59109edc6e",
   "metadata": {},
   "outputs": [],
   "source": [
    "def parse_data(data_lines):\n",
    "    columns = data_lines[0].replace('\\n', '').split(',')\n",
    "    data_dict = {}\n",
    "    for key in columns:\n",
    "        data_dict[key] = []\n",
    "        \n",
    "    for i in range(1, len(data_lines)):\n",
    "        data = data_lines[i].replace('\\n', '').split(',')\n",
    "        for idx, key in enumerate(columns):\n",
    "            data_dict[key].append(data[idx])\n",
    "\n",
    "    return columns, data_dict"
   ]
  },
  {
   "cell_type": "code",
   "execution_count": 26,
   "id": "eb21dc43-98bb-412d-8155-7ee747e4252a",
   "metadata": {},
   "outputs": [],
   "source": [
    "columns, data_dict = parse_data(lines)"
   ]
  },
  {
   "cell_type": "code",
   "execution_count": 27,
   "id": "c4f88b3e-5c57-4280-b0a3-f5bff0387599",
   "metadata": {},
   "outputs": [],
   "source": [
    "df = pd.DataFrame(data_dict)"
   ]
  },
  {
   "cell_type": "code",
   "execution_count": 88,
   "id": "75125849-f7b8-4053-842f-bfa9b0b0a95d",
   "metadata": {},
   "outputs": [
    {
     "data": {
      "text/plain": [
       "timestamp           int64\n",
       "local_timestamp    object\n",
       "side                int64\n",
       "price              object\n",
       "amount             object\n",
       "dtype: object"
      ]
     },
     "execution_count": 88,
     "metadata": {},
     "output_type": "execute_result"
    }
   ],
   "source": [
    "df.dtypes"
   ]
  },
  {
   "cell_type": "code",
   "execution_count": 28,
   "id": "a8e56f4c-3fca-49be-9640-de2360a3d106",
   "metadata": {},
   "outputs": [
    {
     "data": {
      "text/html": [
       "<div>\n",
       "<style scoped>\n",
       "    .dataframe tbody tr th:only-of-type {\n",
       "        vertical-align: middle;\n",
       "    }\n",
       "\n",
       "    .dataframe tbody tr th {\n",
       "        vertical-align: top;\n",
       "    }\n",
       "\n",
       "    .dataframe thead th {\n",
       "        text-align: right;\n",
       "    }\n",
       "</style>\n",
       "<table border=\"1\" class=\"dataframe\">\n",
       "  <thead>\n",
       "    <tr style=\"text-align: right;\">\n",
       "      <th></th>\n",
       "      <th>exchange</th>\n",
       "      <th>symbol</th>\n",
       "      <th>timestamp</th>\n",
       "      <th>local_timestamp</th>\n",
       "      <th>id</th>\n",
       "      <th>side</th>\n",
       "      <th>price</th>\n",
       "      <th>amount</th>\n",
       "    </tr>\n",
       "  </thead>\n",
       "  <tbody>\n",
       "    <tr>\n",
       "      <th>0</th>\n",
       "      <td>deribit</td>\n",
       "      <td>BTC-PERPETUAL</td>\n",
       "      <td>1696204800632000</td>\n",
       "      <td>1696204800640191</td>\n",
       "      <td>265755079</td>\n",
       "      <td>buy</td>\n",
       "      <td>28002.5</td>\n",
       "      <td>10</td>\n",
       "    </tr>\n",
       "    <tr>\n",
       "      <th>1</th>\n",
       "      <td>deribit</td>\n",
       "      <td>BTC-PERPETUAL</td>\n",
       "      <td>1696204800632000</td>\n",
       "      <td>1696204800640191</td>\n",
       "      <td>265755080</td>\n",
       "      <td>buy</td>\n",
       "      <td>28003</td>\n",
       "      <td>200</td>\n",
       "    </tr>\n",
       "    <tr>\n",
       "      <th>2</th>\n",
       "      <td>deribit</td>\n",
       "      <td>BTC-PERPETUAL</td>\n",
       "      <td>1696204800632000</td>\n",
       "      <td>1696204800640191</td>\n",
       "      <td>265755081</td>\n",
       "      <td>buy</td>\n",
       "      <td>28004.5</td>\n",
       "      <td>100</td>\n",
       "    </tr>\n",
       "    <tr>\n",
       "      <th>3</th>\n",
       "      <td>deribit</td>\n",
       "      <td>BTC-PERPETUAL</td>\n",
       "      <td>1696204800632000</td>\n",
       "      <td>1696204800640191</td>\n",
       "      <td>265755082</td>\n",
       "      <td>buy</td>\n",
       "      <td>28004.5</td>\n",
       "      <td>10000</td>\n",
       "    </tr>\n",
       "    <tr>\n",
       "      <th>4</th>\n",
       "      <td>deribit</td>\n",
       "      <td>BTC-PERPETUAL</td>\n",
       "      <td>1696204800632000</td>\n",
       "      <td>1696204800640191</td>\n",
       "      <td>265755083</td>\n",
       "      <td>buy</td>\n",
       "      <td>28005</td>\n",
       "      <td>17690</td>\n",
       "    </tr>\n",
       "  </tbody>\n",
       "</table>\n",
       "</div>"
      ],
      "text/plain": [
       "  exchange         symbol         timestamp   local_timestamp         id side  \\\n",
       "0  deribit  BTC-PERPETUAL  1696204800632000  1696204800640191  265755079  buy   \n",
       "1  deribit  BTC-PERPETUAL  1696204800632000  1696204800640191  265755080  buy   \n",
       "2  deribit  BTC-PERPETUAL  1696204800632000  1696204800640191  265755081  buy   \n",
       "3  deribit  BTC-PERPETUAL  1696204800632000  1696204800640191  265755082  buy   \n",
       "4  deribit  BTC-PERPETUAL  1696204800632000  1696204800640191  265755083  buy   \n",
       "\n",
       "     price amount  \n",
       "0  28002.5     10  \n",
       "1    28003    200  \n",
       "2  28004.5    100  \n",
       "3  28004.5  10000  \n",
       "4    28005  17690  "
      ]
     },
     "execution_count": 28,
     "metadata": {},
     "output_type": "execute_result"
    }
   ],
   "source": [
    "df.head()"
   ]
  },
  {
   "cell_type": "code",
   "execution_count": 29,
   "id": "d21e2fc7-3ae4-43a9-830b-a96d20224570",
   "metadata": {},
   "outputs": [],
   "source": [
    "df.drop(columns=['exchange', 'symbol', 'id'], inplace=True)"
   ]
  },
  {
   "cell_type": "code",
   "execution_count": 30,
   "id": "03b190f1-92a9-4cc2-aab2-1cd27ce761f8",
   "metadata": {},
   "outputs": [
    {
     "data": {
      "text/html": [
       "<div>\n",
       "<style scoped>\n",
       "    .dataframe tbody tr th:only-of-type {\n",
       "        vertical-align: middle;\n",
       "    }\n",
       "\n",
       "    .dataframe tbody tr th {\n",
       "        vertical-align: top;\n",
       "    }\n",
       "\n",
       "    .dataframe thead th {\n",
       "        text-align: right;\n",
       "    }\n",
       "</style>\n",
       "<table border=\"1\" class=\"dataframe\">\n",
       "  <thead>\n",
       "    <tr style=\"text-align: right;\">\n",
       "      <th></th>\n",
       "      <th>timestamp</th>\n",
       "      <th>local_timestamp</th>\n",
       "      <th>side</th>\n",
       "      <th>price</th>\n",
       "      <th>amount</th>\n",
       "    </tr>\n",
       "  </thead>\n",
       "  <tbody>\n",
       "    <tr>\n",
       "      <th>88079</th>\n",
       "      <td>1696291180587000</td>\n",
       "      <td>1696291180590726</td>\n",
       "      <td>sell</td>\n",
       "      <td>27512.5</td>\n",
       "      <td>130</td>\n",
       "    </tr>\n",
       "    <tr>\n",
       "      <th>88080</th>\n",
       "      <td>1696291186430000</td>\n",
       "      <td>1696291186436876</td>\n",
       "      <td>buy</td>\n",
       "      <td>27513</td>\n",
       "      <td>770</td>\n",
       "    </tr>\n",
       "    <tr>\n",
       "      <th>88081</th>\n",
       "      <td>1696291186434000</td>\n",
       "      <td>1696291186439328</td>\n",
       "      <td>buy</td>\n",
       "      <td>27513</td>\n",
       "      <td>2010</td>\n",
       "    </tr>\n",
       "    <tr>\n",
       "      <th>88082</th>\n",
       "      <td>1696291190346000</td>\n",
       "      <td>1696291190353858</td>\n",
       "      <td>buy</td>\n",
       "      <td>27516.5</td>\n",
       "      <td>690</td>\n",
       "    </tr>\n",
       "    <tr>\n",
       "      <th>88083</th>\n",
       "      <td>1696291199296000</td>\n",
       "      <td>1696291199304812</td>\n",
       "      <td>sell</td>\n",
       "      <td>27516</td>\n",
       "      <td>500</td>\n",
       "    </tr>\n",
       "  </tbody>\n",
       "</table>\n",
       "</div>"
      ],
      "text/plain": [
       "              timestamp   local_timestamp  side    price amount\n",
       "88079  1696291180587000  1696291180590726  sell  27512.5    130\n",
       "88080  1696291186430000  1696291186436876   buy    27513    770\n",
       "88081  1696291186434000  1696291186439328   buy    27513   2010\n",
       "88082  1696291190346000  1696291190353858   buy  27516.5    690\n",
       "88083  1696291199296000  1696291199304812  sell    27516    500"
      ]
     },
     "execution_count": 30,
     "metadata": {},
     "output_type": "execute_result"
    }
   ],
   "source": [
    "df.tail()"
   ]
  },
  {
   "cell_type": "code",
   "execution_count": 31,
   "id": "9b332eb8-d702-4c91-a0b2-4907c0e2c17b",
   "metadata": {},
   "outputs": [
    {
     "data": {
      "text/html": [
       "<div>\n",
       "<style scoped>\n",
       "    .dataframe tbody tr th:only-of-type {\n",
       "        vertical-align: middle;\n",
       "    }\n",
       "\n",
       "    .dataframe tbody tr th {\n",
       "        vertical-align: top;\n",
       "    }\n",
       "\n",
       "    .dataframe thead th {\n",
       "        text-align: right;\n",
       "    }\n",
       "</style>\n",
       "<table border=\"1\" class=\"dataframe\">\n",
       "  <thead>\n",
       "    <tr style=\"text-align: right;\">\n",
       "      <th></th>\n",
       "      <th>timestamp</th>\n",
       "      <th>local_timestamp</th>\n",
       "      <th>side</th>\n",
       "      <th>price</th>\n",
       "      <th>amount</th>\n",
       "    </tr>\n",
       "  </thead>\n",
       "  <tbody>\n",
       "    <tr>\n",
       "      <th>0</th>\n",
       "      <td>1696204800632000</td>\n",
       "      <td>1696204800640191</td>\n",
       "      <td>1</td>\n",
       "      <td>28002.5</td>\n",
       "      <td>10</td>\n",
       "    </tr>\n",
       "    <tr>\n",
       "      <th>1</th>\n",
       "      <td>1696204800632000</td>\n",
       "      <td>1696204800640191</td>\n",
       "      <td>1</td>\n",
       "      <td>28003</td>\n",
       "      <td>200</td>\n",
       "    </tr>\n",
       "    <tr>\n",
       "      <th>2</th>\n",
       "      <td>1696204800632000</td>\n",
       "      <td>1696204800640191</td>\n",
       "      <td>1</td>\n",
       "      <td>28004.5</td>\n",
       "      <td>100</td>\n",
       "    </tr>\n",
       "    <tr>\n",
       "      <th>3</th>\n",
       "      <td>1696204800632000</td>\n",
       "      <td>1696204800640191</td>\n",
       "      <td>1</td>\n",
       "      <td>28004.5</td>\n",
       "      <td>10000</td>\n",
       "    </tr>\n",
       "    <tr>\n",
       "      <th>4</th>\n",
       "      <td>1696204800632000</td>\n",
       "      <td>1696204800640191</td>\n",
       "      <td>1</td>\n",
       "      <td>28005</td>\n",
       "      <td>17690</td>\n",
       "    </tr>\n",
       "  </tbody>\n",
       "</table>\n",
       "</div>"
      ],
      "text/plain": [
       "          timestamp   local_timestamp  side    price amount\n",
       "0  1696204800632000  1696204800640191     1  28002.5     10\n",
       "1  1696204800632000  1696204800640191     1    28003    200\n",
       "2  1696204800632000  1696204800640191     1  28004.5    100\n",
       "3  1696204800632000  1696204800640191     1  28004.5  10000\n",
       "4  1696204800632000  1696204800640191     1    28005  17690"
      ]
     },
     "execution_count": 31,
     "metadata": {},
     "output_type": "execute_result"
    }
   ],
   "source": [
    "# заменим sell на -1 и buy на 1\n",
    "\n",
    "d = {'buy': 1, 'sell': -1}\n",
    "df['side'] = df['side'].map(d)\n",
    "df.head()"
   ]
  },
  {
   "cell_type": "code",
   "execution_count": 36,
   "id": "d0868e64-6baf-4fc8-b2c7-05e70aa711bc",
   "metadata": {},
   "outputs": [
    {
     "data": {
      "text/plain": [
       "(88084, 5)"
      ]
     },
     "execution_count": 36,
     "metadata": {},
     "output_type": "execute_result"
    }
   ],
   "source": [
    "df.shape"
   ]
  },
  {
   "cell_type": "code",
   "execution_count": 45,
   "id": "8b623332-5ba2-4355-bd78-98b1ce2e6909",
   "metadata": {},
   "outputs": [],
   "source": [
    "# new_df = df.groupby(['timestamp'])['side', 'price', 'amount']\n",
    "# new_df.head()"
   ]
  },
  {
   "cell_type": "code",
   "execution_count": 89,
   "id": "87896bc2-4a2a-4032-b0a1-aa48bb826e2f",
   "metadata": {},
   "outputs": [],
   "source": [
    "df = df.astype({'timestamp': 'int64', 'price': 'float32', 'amount': 'int32'})"
   ]
  },
  {
   "cell_type": "code",
   "execution_count": 98,
   "id": "4bfcb77b-bc8d-4838-b1de-22dc46a2570a",
   "metadata": {},
   "outputs": [],
   "source": [
    "volume_times_price = df['amount'] * df['price']\n",
    "df.insert(loc = len(df.columns), column='volume_times_price', value = volume_times_price)"
   ]
  },
  {
   "cell_type": "code",
   "execution_count": 99,
   "id": "48cfbd58-5b82-449d-9d6c-07f5647fdfe5",
   "metadata": {},
   "outputs": [
    {
     "data": {
      "text/html": [
       "<div>\n",
       "<style scoped>\n",
       "    .dataframe tbody tr th:only-of-type {\n",
       "        vertical-align: middle;\n",
       "    }\n",
       "\n",
       "    .dataframe tbody tr th {\n",
       "        vertical-align: top;\n",
       "    }\n",
       "\n",
       "    .dataframe thead th {\n",
       "        text-align: right;\n",
       "    }\n",
       "</style>\n",
       "<table border=\"1\" class=\"dataframe\">\n",
       "  <thead>\n",
       "    <tr style=\"text-align: right;\">\n",
       "      <th></th>\n",
       "      <th>timestamp</th>\n",
       "      <th>local_timestamp</th>\n",
       "      <th>side</th>\n",
       "      <th>price</th>\n",
       "      <th>amount</th>\n",
       "      <th>volume_times_price</th>\n",
       "    </tr>\n",
       "  </thead>\n",
       "  <tbody>\n",
       "    <tr>\n",
       "      <th>0</th>\n",
       "      <td>1696204800632000</td>\n",
       "      <td>1696204800640191</td>\n",
       "      <td>1</td>\n",
       "      <td>28002.5</td>\n",
       "      <td>10</td>\n",
       "      <td>280025.0</td>\n",
       "    </tr>\n",
       "    <tr>\n",
       "      <th>1</th>\n",
       "      <td>1696204800632000</td>\n",
       "      <td>1696204800640191</td>\n",
       "      <td>1</td>\n",
       "      <td>28003.0</td>\n",
       "      <td>200</td>\n",
       "      <td>5600600.0</td>\n",
       "    </tr>\n",
       "    <tr>\n",
       "      <th>2</th>\n",
       "      <td>1696204800632000</td>\n",
       "      <td>1696204800640191</td>\n",
       "      <td>1</td>\n",
       "      <td>28004.5</td>\n",
       "      <td>100</td>\n",
       "      <td>2800450.0</td>\n",
       "    </tr>\n",
       "    <tr>\n",
       "      <th>3</th>\n",
       "      <td>1696204800632000</td>\n",
       "      <td>1696204800640191</td>\n",
       "      <td>1</td>\n",
       "      <td>28004.5</td>\n",
       "      <td>10000</td>\n",
       "      <td>280045000.0</td>\n",
       "    </tr>\n",
       "    <tr>\n",
       "      <th>4</th>\n",
       "      <td>1696204800632000</td>\n",
       "      <td>1696204800640191</td>\n",
       "      <td>1</td>\n",
       "      <td>28005.0</td>\n",
       "      <td>17690</td>\n",
       "      <td>495408450.0</td>\n",
       "    </tr>\n",
       "  </tbody>\n",
       "</table>\n",
       "</div>"
      ],
      "text/plain": [
       "          timestamp   local_timestamp  side    price  amount  \\\n",
       "0  1696204800632000  1696204800640191     1  28002.5      10   \n",
       "1  1696204800632000  1696204800640191     1  28003.0     200   \n",
       "2  1696204800632000  1696204800640191     1  28004.5     100   \n",
       "3  1696204800632000  1696204800640191     1  28004.5   10000   \n",
       "4  1696204800632000  1696204800640191     1  28005.0   17690   \n",
       "\n",
       "   volume_times_price  \n",
       "0            280025.0  \n",
       "1           5600600.0  \n",
       "2           2800450.0  \n",
       "3         280045000.0  \n",
       "4         495408450.0  "
      ]
     },
     "execution_count": 99,
     "metadata": {},
     "output_type": "execute_result"
    }
   ],
   "source": [
    "df.head()"
   ]
  },
  {
   "cell_type": "code",
   "execution_count": 104,
   "id": "77cb9be0-c83b-4a13-b655-2f9dc83d946f",
   "metadata": {},
   "outputs": [
    {
     "data": {
      "text/plain": [
       "timestamp\n",
       "1696204800632000    28004.804464\n",
       "1696204800662000    28005.000000\n",
       "1696204800670000    28005.000000\n",
       "1696204807373000    28005.000000\n",
       "1696204808503000    28007.914297\n",
       "                        ...     \n",
       "1696291180587000    27512.500000\n",
       "1696291186430000    27513.000000\n",
       "1696291186434000    27513.000000\n",
       "1696291190346000    27516.500000\n",
       "1696291199296000    27516.000000\n",
       "Length: 45872, dtype: float64"
      ]
     },
     "execution_count": 104,
     "metadata": {},
     "output_type": "execute_result"
    }
   ],
   "source": [
    "amounts = df.groupby(['timestamp'])['amount'].sum()\n",
    "volumes_time_prices =  df.groupby(['timestamp'])['volume_times_price'].sum()\n",
    "vwap = volumes_time_prices / amounts\n",
    "vwap"
   ]
  },
  {
   "cell_type": "code",
   "execution_count": null,
   "id": "7f5a0566-b23c-4461-8d45-431f07075866",
   "metadata": {},
   "outputs": [],
   "source": [
    "amounts = df.groupby(['timestamp'])['amount'].sum()"
   ]
  },
  {
   "cell_type": "code",
   "execution_count": 96,
   "id": "44899225-1593-41a2-8e01-5f65c0862720",
   "metadata": {},
   "outputs": [
    {
     "data": {
      "text/plain": [
       "0       1970-01-20 15:10:04.800632\n",
       "1       1970-01-20 15:10:04.800632\n",
       "2       1970-01-20 15:10:04.800632\n",
       "3       1970-01-20 15:10:04.800632\n",
       "4       1970-01-20 15:10:04.800632\n",
       "                   ...            \n",
       "88079   1970-01-20 15:11:31.180587\n",
       "88080   1970-01-20 15:11:31.186430\n",
       "88081   1970-01-20 15:11:31.186434\n",
       "88082   1970-01-20 15:11:31.190346\n",
       "88083   1970-01-20 15:11:31.199296\n",
       "Name: timestamp, Length: 88084, dtype: datetime64[ns]"
      ]
     },
     "execution_count": 96,
     "metadata": {},
     "output_type": "execute_result"
    }
   ],
   "source": [
    "pd.to_datetime(df['timestamp'])"
   ]
  },
  {
   "cell_type": "code",
   "execution_count": null,
   "id": "53e05d44-b07b-4cb3-85b7-cc08ac5ad1cd",
   "metadata": {},
   "outputs": [],
   "source": [
    "def parse_data(data_frame):\n",
    "    colums = data_frame.columns\n",
    "    unique_dates"
   ]
  }
 ],
 "metadata": {
  "kernelspec": {
   "display_name": "venv",
   "language": "python",
   "name": "venv"
  },
  "language_info": {
   "codemirror_mode": {
    "name": "ipython",
    "version": 3
   },
   "file_extension": ".py",
   "mimetype": "text/x-python",
   "name": "python",
   "nbconvert_exporter": "python",
   "pygments_lexer": "ipython3",
   "version": "3.9.13"
  }
 },
 "nbformat": 4,
 "nbformat_minor": 5
}
