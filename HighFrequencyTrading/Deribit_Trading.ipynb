{
 "cells": [
  {
   "cell_type": "code",
   "execution_count": 1,
   "id": "de58eac5-f11b-4187-8425-a31c9ed67f2d",
   "metadata": {},
   "outputs": [],
   "source": [
    "import os\n",
    "import pandas as pd\n",
    "import numpy as np\n",
    "\n",
    "import matplotlib.pyplot as plt"
   ]
  },
  {
   "cell_type": "code",
   "execution_count": 2,
   "id": "22bd21d8-323e-4149-bb3d-0698a1e3629b",
   "metadata": {},
   "outputs": [
    {
     "data": {
      "text/plain": [
       "['BTC',\n",
       " 'Deribir_Traiding',\n",
       " 'BTC_perpetual',\n",
       " 'BTC_snapshots',\n",
       " '.ipynb_checkpoints',\n",
       " 'Trades Quotes Prices etc.pdf',\n",
       " 'Deribit_Trading.ipynb']"
      ]
     },
     "execution_count": 2,
     "metadata": {},
     "output_type": "execute_result"
    }
   ],
   "source": [
    "os.listdir()"
   ]
  },
  {
   "cell_type": "code",
   "execution_count": 3,
   "id": "06c62dec-dd82-4c3a-8617-d8e4f42094b5",
   "metadata": {},
   "outputs": [],
   "source": [
    "with open('Deribir_Traiding', 'r') as file:\n",
    "    lines = file.readlines()"
   ]
  },
  {
   "cell_type": "code",
   "execution_count": 4,
   "id": "aec22971-55b8-4422-97ed-032937a27d1c",
   "metadata": {},
   "outputs": [
    {
     "data": {
      "text/plain": [
       "['exchange',\n",
       " 'symbol',\n",
       " 'timestamp',\n",
       " 'local_timestamp',\n",
       " 'id',\n",
       " 'side',\n",
       " 'price',\n",
       " 'amount']"
      ]
     },
     "execution_count": 4,
     "metadata": {},
     "output_type": "execute_result"
    }
   ],
   "source": [
    "columns = lines[0].replace('\\n', '').split(',')\n",
    "columns"
   ]
  },
  {
   "cell_type": "code",
   "execution_count": 5,
   "id": "5bffd469-2dee-4246-aeed-ba59109edc6e",
   "metadata": {},
   "outputs": [],
   "source": [
    "def parse_data(data_lines):\n",
    "    columns = data_lines[0].replace('\\n', '').split(',')\n",
    "    data_dict = {}\n",
    "    for key in columns:\n",
    "        data_dict[key] = []\n",
    "        \n",
    "    for i in range(1, len(data_lines)):\n",
    "        data = data_lines[i].replace('\\n', '').split(',')\n",
    "        for idx, key in enumerate(columns):\n",
    "            data_dict[key].append(data[idx])\n",
    "\n",
    "    return columns, data_dict"
   ]
  },
  {
   "cell_type": "code",
   "execution_count": 6,
   "id": "eb21dc43-98bb-412d-8155-7ee747e4252a",
   "metadata": {},
   "outputs": [],
   "source": [
    "columns, data_dict = parse_data(lines)"
   ]
  },
  {
   "cell_type": "code",
   "execution_count": 7,
   "id": "c4f88b3e-5c57-4280-b0a3-f5bff0387599",
   "metadata": {},
   "outputs": [],
   "source": [
    "df = pd.DataFrame(data_dict)"
   ]
  },
  {
   "cell_type": "code",
   "execution_count": 8,
   "id": "75125849-f7b8-4053-842f-bfa9b0b0a95d",
   "metadata": {},
   "outputs": [
    {
     "data": {
      "text/plain": [
       "exchange           object\n",
       "symbol             object\n",
       "timestamp          object\n",
       "local_timestamp    object\n",
       "id                 object\n",
       "side               object\n",
       "price              object\n",
       "amount             object\n",
       "dtype: object"
      ]
     },
     "execution_count": 8,
     "metadata": {},
     "output_type": "execute_result"
    }
   ],
   "source": [
    "df.dtypes"
   ]
  },
  {
   "cell_type": "code",
   "execution_count": 9,
   "id": "a8e56f4c-3fca-49be-9640-de2360a3d106",
   "metadata": {},
   "outputs": [
    {
     "data": {
      "text/html": [
       "<div>\n",
       "<style scoped>\n",
       "    .dataframe tbody tr th:only-of-type {\n",
       "        vertical-align: middle;\n",
       "    }\n",
       "\n",
       "    .dataframe tbody tr th {\n",
       "        vertical-align: top;\n",
       "    }\n",
       "\n",
       "    .dataframe thead th {\n",
       "        text-align: right;\n",
       "    }\n",
       "</style>\n",
       "<table border=\"1\" class=\"dataframe\">\n",
       "  <thead>\n",
       "    <tr style=\"text-align: right;\">\n",
       "      <th></th>\n",
       "      <th>exchange</th>\n",
       "      <th>symbol</th>\n",
       "      <th>timestamp</th>\n",
       "      <th>local_timestamp</th>\n",
       "      <th>id</th>\n",
       "      <th>side</th>\n",
       "      <th>price</th>\n",
       "      <th>amount</th>\n",
       "    </tr>\n",
       "  </thead>\n",
       "  <tbody>\n",
       "    <tr>\n",
       "      <th>0</th>\n",
       "      <td>deribit</td>\n",
       "      <td>BTC-PERPETUAL</td>\n",
       "      <td>1696204800632000</td>\n",
       "      <td>1696204800640191</td>\n",
       "      <td>265755079</td>\n",
       "      <td>buy</td>\n",
       "      <td>28002.5</td>\n",
       "      <td>10</td>\n",
       "    </tr>\n",
       "    <tr>\n",
       "      <th>1</th>\n",
       "      <td>deribit</td>\n",
       "      <td>BTC-PERPETUAL</td>\n",
       "      <td>1696204800632000</td>\n",
       "      <td>1696204800640191</td>\n",
       "      <td>265755080</td>\n",
       "      <td>buy</td>\n",
       "      <td>28003</td>\n",
       "      <td>200</td>\n",
       "    </tr>\n",
       "    <tr>\n",
       "      <th>2</th>\n",
       "      <td>deribit</td>\n",
       "      <td>BTC-PERPETUAL</td>\n",
       "      <td>1696204800632000</td>\n",
       "      <td>1696204800640191</td>\n",
       "      <td>265755081</td>\n",
       "      <td>buy</td>\n",
       "      <td>28004.5</td>\n",
       "      <td>100</td>\n",
       "    </tr>\n",
       "    <tr>\n",
       "      <th>3</th>\n",
       "      <td>deribit</td>\n",
       "      <td>BTC-PERPETUAL</td>\n",
       "      <td>1696204800632000</td>\n",
       "      <td>1696204800640191</td>\n",
       "      <td>265755082</td>\n",
       "      <td>buy</td>\n",
       "      <td>28004.5</td>\n",
       "      <td>10000</td>\n",
       "    </tr>\n",
       "    <tr>\n",
       "      <th>4</th>\n",
       "      <td>deribit</td>\n",
       "      <td>BTC-PERPETUAL</td>\n",
       "      <td>1696204800632000</td>\n",
       "      <td>1696204800640191</td>\n",
       "      <td>265755083</td>\n",
       "      <td>buy</td>\n",
       "      <td>28005</td>\n",
       "      <td>17690</td>\n",
       "    </tr>\n",
       "  </tbody>\n",
       "</table>\n",
       "</div>"
      ],
      "text/plain": [
       "  exchange         symbol         timestamp   local_timestamp         id side  \\\n",
       "0  deribit  BTC-PERPETUAL  1696204800632000  1696204800640191  265755079  buy   \n",
       "1  deribit  BTC-PERPETUAL  1696204800632000  1696204800640191  265755080  buy   \n",
       "2  deribit  BTC-PERPETUAL  1696204800632000  1696204800640191  265755081  buy   \n",
       "3  deribit  BTC-PERPETUAL  1696204800632000  1696204800640191  265755082  buy   \n",
       "4  deribit  BTC-PERPETUAL  1696204800632000  1696204800640191  265755083  buy   \n",
       "\n",
       "     price amount  \n",
       "0  28002.5     10  \n",
       "1    28003    200  \n",
       "2  28004.5    100  \n",
       "3  28004.5  10000  \n",
       "4    28005  17690  "
      ]
     },
     "execution_count": 9,
     "metadata": {},
     "output_type": "execute_result"
    }
   ],
   "source": [
    "df.head()"
   ]
  },
  {
   "cell_type": "code",
   "execution_count": 10,
   "id": "d21e2fc7-3ae4-43a9-830b-a96d20224570",
   "metadata": {},
   "outputs": [],
   "source": [
    "df.drop(columns=['exchange', 'symbol', 'id'], inplace=True)"
   ]
  },
  {
   "cell_type": "code",
   "execution_count": 11,
   "id": "03b190f1-92a9-4cc2-aab2-1cd27ce761f8",
   "metadata": {},
   "outputs": [
    {
     "data": {
      "text/html": [
       "<div>\n",
       "<style scoped>\n",
       "    .dataframe tbody tr th:only-of-type {\n",
       "        vertical-align: middle;\n",
       "    }\n",
       "\n",
       "    .dataframe tbody tr th {\n",
       "        vertical-align: top;\n",
       "    }\n",
       "\n",
       "    .dataframe thead th {\n",
       "        text-align: right;\n",
       "    }\n",
       "</style>\n",
       "<table border=\"1\" class=\"dataframe\">\n",
       "  <thead>\n",
       "    <tr style=\"text-align: right;\">\n",
       "      <th></th>\n",
       "      <th>timestamp</th>\n",
       "      <th>local_timestamp</th>\n",
       "      <th>side</th>\n",
       "      <th>price</th>\n",
       "      <th>amount</th>\n",
       "    </tr>\n",
       "  </thead>\n",
       "  <tbody>\n",
       "    <tr>\n",
       "      <th>88079</th>\n",
       "      <td>1696291180587000</td>\n",
       "      <td>1696291180590726</td>\n",
       "      <td>sell</td>\n",
       "      <td>27512.5</td>\n",
       "      <td>130</td>\n",
       "    </tr>\n",
       "    <tr>\n",
       "      <th>88080</th>\n",
       "      <td>1696291186430000</td>\n",
       "      <td>1696291186436876</td>\n",
       "      <td>buy</td>\n",
       "      <td>27513</td>\n",
       "      <td>770</td>\n",
       "    </tr>\n",
       "    <tr>\n",
       "      <th>88081</th>\n",
       "      <td>1696291186434000</td>\n",
       "      <td>1696291186439328</td>\n",
       "      <td>buy</td>\n",
       "      <td>27513</td>\n",
       "      <td>2010</td>\n",
       "    </tr>\n",
       "    <tr>\n",
       "      <th>88082</th>\n",
       "      <td>1696291190346000</td>\n",
       "      <td>1696291190353858</td>\n",
       "      <td>buy</td>\n",
       "      <td>27516.5</td>\n",
       "      <td>690</td>\n",
       "    </tr>\n",
       "    <tr>\n",
       "      <th>88083</th>\n",
       "      <td>1696291199296000</td>\n",
       "      <td>1696291199304812</td>\n",
       "      <td>sell</td>\n",
       "      <td>27516</td>\n",
       "      <td>500</td>\n",
       "    </tr>\n",
       "  </tbody>\n",
       "</table>\n",
       "</div>"
      ],
      "text/plain": [
       "              timestamp   local_timestamp  side    price amount\n",
       "88079  1696291180587000  1696291180590726  sell  27512.5    130\n",
       "88080  1696291186430000  1696291186436876   buy    27513    770\n",
       "88081  1696291186434000  1696291186439328   buy    27513   2010\n",
       "88082  1696291190346000  1696291190353858   buy  27516.5    690\n",
       "88083  1696291199296000  1696291199304812  sell    27516    500"
      ]
     },
     "execution_count": 11,
     "metadata": {},
     "output_type": "execute_result"
    }
   ],
   "source": [
    "df.tail()"
   ]
  },
  {
   "cell_type": "code",
   "execution_count": 12,
   "id": "9b332eb8-d702-4c91-a0b2-4907c0e2c17b",
   "metadata": {},
   "outputs": [
    {
     "data": {
      "text/html": [
       "<div>\n",
       "<style scoped>\n",
       "    .dataframe tbody tr th:only-of-type {\n",
       "        vertical-align: middle;\n",
       "    }\n",
       "\n",
       "    .dataframe tbody tr th {\n",
       "        vertical-align: top;\n",
       "    }\n",
       "\n",
       "    .dataframe thead th {\n",
       "        text-align: right;\n",
       "    }\n",
       "</style>\n",
       "<table border=\"1\" class=\"dataframe\">\n",
       "  <thead>\n",
       "    <tr style=\"text-align: right;\">\n",
       "      <th></th>\n",
       "      <th>timestamp</th>\n",
       "      <th>local_timestamp</th>\n",
       "      <th>side</th>\n",
       "      <th>price</th>\n",
       "      <th>amount</th>\n",
       "    </tr>\n",
       "  </thead>\n",
       "  <tbody>\n",
       "    <tr>\n",
       "      <th>0</th>\n",
       "      <td>1696204800632000</td>\n",
       "      <td>1696204800640191</td>\n",
       "      <td>1</td>\n",
       "      <td>28002.5</td>\n",
       "      <td>10</td>\n",
       "    </tr>\n",
       "    <tr>\n",
       "      <th>1</th>\n",
       "      <td>1696204800632000</td>\n",
       "      <td>1696204800640191</td>\n",
       "      <td>1</td>\n",
       "      <td>28003</td>\n",
       "      <td>200</td>\n",
       "    </tr>\n",
       "    <tr>\n",
       "      <th>2</th>\n",
       "      <td>1696204800632000</td>\n",
       "      <td>1696204800640191</td>\n",
       "      <td>1</td>\n",
       "      <td>28004.5</td>\n",
       "      <td>100</td>\n",
       "    </tr>\n",
       "    <tr>\n",
       "      <th>3</th>\n",
       "      <td>1696204800632000</td>\n",
       "      <td>1696204800640191</td>\n",
       "      <td>1</td>\n",
       "      <td>28004.5</td>\n",
       "      <td>10000</td>\n",
       "    </tr>\n",
       "    <tr>\n",
       "      <th>4</th>\n",
       "      <td>1696204800632000</td>\n",
       "      <td>1696204800640191</td>\n",
       "      <td>1</td>\n",
       "      <td>28005</td>\n",
       "      <td>17690</td>\n",
       "    </tr>\n",
       "  </tbody>\n",
       "</table>\n",
       "</div>"
      ],
      "text/plain": [
       "          timestamp   local_timestamp  side    price amount\n",
       "0  1696204800632000  1696204800640191     1  28002.5     10\n",
       "1  1696204800632000  1696204800640191     1    28003    200\n",
       "2  1696204800632000  1696204800640191     1  28004.5    100\n",
       "3  1696204800632000  1696204800640191     1  28004.5  10000\n",
       "4  1696204800632000  1696204800640191     1    28005  17690"
      ]
     },
     "execution_count": 12,
     "metadata": {},
     "output_type": "execute_result"
    }
   ],
   "source": [
    "# заменим sell на -1 и buy на 1\n",
    "\n",
    "d = {'buy': 1, 'sell': -1}\n",
    "df['side'] = df['side'].map(d)\n",
    "df.head()"
   ]
  },
  {
   "cell_type": "code",
   "execution_count": 13,
   "id": "d0868e64-6baf-4fc8-b2c7-05e70aa711bc",
   "metadata": {},
   "outputs": [
    {
     "data": {
      "text/plain": [
       "(88084, 5)"
      ]
     },
     "execution_count": 13,
     "metadata": {},
     "output_type": "execute_result"
    }
   ],
   "source": [
    "df.shape"
   ]
  },
  {
   "cell_type": "code",
   "execution_count": 14,
   "id": "8b623332-5ba2-4355-bd78-98b1ce2e6909",
   "metadata": {},
   "outputs": [],
   "source": [
    "# new_df = df.groupby(['timestamp'])['side', 'price', 'amount']\n",
    "# new_df.head()"
   ]
  },
  {
   "cell_type": "code",
   "execution_count": 15,
   "id": "87896bc2-4a2a-4032-b0a1-aa48bb826e2f",
   "metadata": {},
   "outputs": [],
   "source": [
    "df = df.astype({'timestamp': 'int64', 'price': 'float32', 'amount': 'int32'})"
   ]
  },
  {
   "cell_type": "code",
   "execution_count": 16,
   "id": "4bfcb77b-bc8d-4838-b1de-22dc46a2570a",
   "metadata": {},
   "outputs": [],
   "source": [
    "volume_times_price = df['amount'] * df['price']\n",
    "df.insert(loc = len(df.columns), column='volume_times_price', value = volume_times_price)"
   ]
  },
  {
   "cell_type": "code",
   "execution_count": 17,
   "id": "48cfbd58-5b82-449d-9d6c-07f5647fdfe5",
   "metadata": {},
   "outputs": [
    {
     "data": {
      "text/html": [
       "<div>\n",
       "<style scoped>\n",
       "    .dataframe tbody tr th:only-of-type {\n",
       "        vertical-align: middle;\n",
       "    }\n",
       "\n",
       "    .dataframe tbody tr th {\n",
       "        vertical-align: top;\n",
       "    }\n",
       "\n",
       "    .dataframe thead th {\n",
       "        text-align: right;\n",
       "    }\n",
       "</style>\n",
       "<table border=\"1\" class=\"dataframe\">\n",
       "  <thead>\n",
       "    <tr style=\"text-align: right;\">\n",
       "      <th></th>\n",
       "      <th>timestamp</th>\n",
       "      <th>local_timestamp</th>\n",
       "      <th>side</th>\n",
       "      <th>price</th>\n",
       "      <th>amount</th>\n",
       "      <th>volume_times_price</th>\n",
       "    </tr>\n",
       "  </thead>\n",
       "  <tbody>\n",
       "    <tr>\n",
       "      <th>0</th>\n",
       "      <td>1696204800632000</td>\n",
       "      <td>1696204800640191</td>\n",
       "      <td>1</td>\n",
       "      <td>28002.5</td>\n",
       "      <td>10</td>\n",
       "      <td>280025.0</td>\n",
       "    </tr>\n",
       "    <tr>\n",
       "      <th>1</th>\n",
       "      <td>1696204800632000</td>\n",
       "      <td>1696204800640191</td>\n",
       "      <td>1</td>\n",
       "      <td>28003.0</td>\n",
       "      <td>200</td>\n",
       "      <td>5600600.0</td>\n",
       "    </tr>\n",
       "    <tr>\n",
       "      <th>2</th>\n",
       "      <td>1696204800632000</td>\n",
       "      <td>1696204800640191</td>\n",
       "      <td>1</td>\n",
       "      <td>28004.5</td>\n",
       "      <td>100</td>\n",
       "      <td>2800450.0</td>\n",
       "    </tr>\n",
       "    <tr>\n",
       "      <th>3</th>\n",
       "      <td>1696204800632000</td>\n",
       "      <td>1696204800640191</td>\n",
       "      <td>1</td>\n",
       "      <td>28004.5</td>\n",
       "      <td>10000</td>\n",
       "      <td>280045000.0</td>\n",
       "    </tr>\n",
       "    <tr>\n",
       "      <th>4</th>\n",
       "      <td>1696204800632000</td>\n",
       "      <td>1696204800640191</td>\n",
       "      <td>1</td>\n",
       "      <td>28005.0</td>\n",
       "      <td>17690</td>\n",
       "      <td>495408450.0</td>\n",
       "    </tr>\n",
       "  </tbody>\n",
       "</table>\n",
       "</div>"
      ],
      "text/plain": [
       "          timestamp   local_timestamp  side    price  amount  \\\n",
       "0  1696204800632000  1696204800640191     1  28002.5      10   \n",
       "1  1696204800632000  1696204800640191     1  28003.0     200   \n",
       "2  1696204800632000  1696204800640191     1  28004.5     100   \n",
       "3  1696204800632000  1696204800640191     1  28004.5   10000   \n",
       "4  1696204800632000  1696204800640191     1  28005.0   17690   \n",
       "\n",
       "   volume_times_price  \n",
       "0            280025.0  \n",
       "1           5600600.0  \n",
       "2           2800450.0  \n",
       "3         280045000.0  \n",
       "4         495408450.0  "
      ]
     },
     "execution_count": 17,
     "metadata": {},
     "output_type": "execute_result"
    }
   ],
   "source": [
    "df.head()"
   ]
  },
  {
   "cell_type": "code",
   "execution_count": 18,
   "id": "77cb9be0-c83b-4a13-b655-2f9dc83d946f",
   "metadata": {},
   "outputs": [
    {
     "data": {
      "text/plain": [
       "timestamp\n",
       "1696204800632000    28004.804464\n",
       "1696204800662000    28005.000000\n",
       "1696204800670000    28005.000000\n",
       "1696204807373000    28005.000000\n",
       "1696204808503000    28007.914297\n",
       "                        ...     \n",
       "1696291180587000    27512.500000\n",
       "1696291186430000    27513.000000\n",
       "1696291186434000    27513.000000\n",
       "1696291190346000    27516.500000\n",
       "1696291199296000    27516.000000\n",
       "Length: 45872, dtype: float64"
      ]
     },
     "execution_count": 18,
     "metadata": {},
     "output_type": "execute_result"
    }
   ],
   "source": [
    "amounts = df.groupby(['timestamp'])['amount'].sum()\n",
    "volumes_time_prices =  df.groupby(['timestamp'])['volume_times_price'].sum()\n",
    "vwap = volumes_time_prices / amounts\n",
    "vwap"
   ]
  },
  {
   "cell_type": "code",
   "execution_count": 19,
   "id": "7f5a0566-b23c-4461-8d45-431f07075866",
   "metadata": {},
   "outputs": [],
   "source": [
    "amounts_np = df.groupby(['timestamp'])['amount'].sum().to_numpy()"
   ]
  },
  {
   "cell_type": "code",
   "execution_count": 20,
   "id": "44899225-1593-41a2-8e01-5f65c0862720",
   "metadata": {},
   "outputs": [
    {
     "data": {
      "text/plain": [
       "0       1970-01-20 15:10:04.800632\n",
       "1       1970-01-20 15:10:04.800632\n",
       "2       1970-01-20 15:10:04.800632\n",
       "3       1970-01-20 15:10:04.800632\n",
       "4       1970-01-20 15:10:04.800632\n",
       "                   ...            \n",
       "88079   1970-01-20 15:11:31.180587\n",
       "88080   1970-01-20 15:11:31.186430\n",
       "88081   1970-01-20 15:11:31.186434\n",
       "88082   1970-01-20 15:11:31.190346\n",
       "88083   1970-01-20 15:11:31.199296\n",
       "Name: timestamp, Length: 88084, dtype: datetime64[ns]"
      ]
     },
     "execution_count": 20,
     "metadata": {},
     "output_type": "execute_result"
    }
   ],
   "source": [
    "pd.to_datetime(df['timestamp'])"
   ]
  },
  {
   "cell_type": "code",
   "execution_count": 21,
   "id": "e87ea21e-f8b0-491e-ae88-1d0de8b61b1f",
   "metadata": {},
   "outputs": [
    {
     "data": {
      "text/plain": [
       "(45872,)"
      ]
     },
     "execution_count": 21,
     "metadata": {},
     "output_type": "execute_result"
    }
   ],
   "source": [
    "amounts_np.shape"
   ]
  },
  {
   "cell_type": "code",
   "execution_count": 22,
   "id": "7bdcadd6-5c6c-48a5-a644-dee1d174a642",
   "metadata": {},
   "outputs": [],
   "source": [
    "vwap_np = vwap.to_numpy()"
   ]
  },
  {
   "cell_type": "code",
   "execution_count": 23,
   "id": "ac456605-5b2b-4c07-9b4b-50cfcd57d2da",
   "metadata": {},
   "outputs": [
    {
     "data": {
      "text/plain": [
       "array(['MO_1', 'MO_0', 'MO_0', ..., 'MO_0', 'MO_0', 'MO_0'], dtype='<U4')"
      ]
     },
     "execution_count": 23,
     "metadata": {},
     "output_type": "execute_result"
    }
   ],
   "source": [
    "# По каждому уникальному значению timestemp - нужно подсчитать количество цен, если они разные - то M0_1, иначе M0_0\n",
    "\n",
    "date, counts = np.unique(df['timestamp'].to_numpy(), return_counts=True)\n",
    "len(date), len(counts)\n",
    "\n",
    "mo = np.where(counts == 1, 'MO_0', 'MO_1')\n",
    "mo"
   ]
  },
  {
   "cell_type": "code",
   "execution_count": 24,
   "id": "53e05d44-b07b-4cb3-85b7-cc08ac5ad1cd",
   "metadata": {},
   "outputs": [
    {
     "data": {
      "text/plain": [
       "DatetimeIndex(['2023-10-02 03:00:00.632000', '2023-10-02 03:00:00.662000',\n",
       "               '2023-10-02 03:00:00.670000', '2023-10-02 03:00:07.373000',\n",
       "               '2023-10-02 03:00:08.503000', '2023-10-02 03:00:09.672000',\n",
       "               '2023-10-02 03:00:10.470000', '2023-10-02 03:00:15.171000',\n",
       "               '2023-10-02 03:00:15.322000', '2023-10-02 03:00:16.416000',\n",
       "               ...\n",
       "               '2023-10-03 02:59:37.003000', '2023-10-03 02:59:37.113000',\n",
       "               '2023-10-03 02:59:37.114000', '2023-10-03 02:59:37.185000',\n",
       "               '2023-10-03 02:59:37.196000', '2023-10-03 02:59:40.587000',\n",
       "               '2023-10-03 02:59:46.430000', '2023-10-03 02:59:46.434000',\n",
       "               '2023-10-03 02:59:50.346000', '2023-10-03 02:59:59.296000'],\n",
       "              dtype='datetime64[ns]', length=45872, freq=None)"
      ]
     },
     "execution_count": 24,
     "metadata": {},
     "output_type": "execute_result"
    }
   ],
   "source": [
    "time = pd.to_datetime(np.unique(df['timestamp']), unit='us') + pd.Timedelta(hours=3)\n",
    "time"
   ]
  },
  {
   "cell_type": "code",
   "execution_count": 25,
   "id": "71d1ffb6-d374-452a-9fd3-1c9104aa93ef",
   "metadata": {},
   "outputs": [],
   "source": [
    "side = df.groupby(['timestamp'])['side'].mean().to_numpy()"
   ]
  },
  {
   "cell_type": "code",
   "execution_count": 26,
   "id": "274dc7f0-6009-4856-b141-084f57f01942",
   "metadata": {},
   "outputs": [
    {
     "data": {
      "text/html": [
       "<div>\n",
       "<style scoped>\n",
       "    .dataframe tbody tr th:only-of-type {\n",
       "        vertical-align: middle;\n",
       "    }\n",
       "\n",
       "    .dataframe tbody tr th {\n",
       "        vertical-align: top;\n",
       "    }\n",
       "\n",
       "    .dataframe thead th {\n",
       "        text-align: right;\n",
       "    }\n",
       "</style>\n",
       "<table border=\"1\" class=\"dataframe\">\n",
       "  <thead>\n",
       "    <tr style=\"text-align: right;\">\n",
       "      <th></th>\n",
       "      <th>timestamp</th>\n",
       "      <th>local_timestamp</th>\n",
       "      <th>side</th>\n",
       "      <th>price</th>\n",
       "      <th>amount</th>\n",
       "      <th>volume_times_price</th>\n",
       "    </tr>\n",
       "  </thead>\n",
       "  <tbody>\n",
       "    <tr>\n",
       "      <th>0</th>\n",
       "      <td>1696204800632000</td>\n",
       "      <td>1696204800640191</td>\n",
       "      <td>1</td>\n",
       "      <td>28002.5</td>\n",
       "      <td>10</td>\n",
       "      <td>280025.0</td>\n",
       "    </tr>\n",
       "    <tr>\n",
       "      <th>1</th>\n",
       "      <td>1696204800632000</td>\n",
       "      <td>1696204800640191</td>\n",
       "      <td>1</td>\n",
       "      <td>28003.0</td>\n",
       "      <td>200</td>\n",
       "      <td>5600600.0</td>\n",
       "    </tr>\n",
       "    <tr>\n",
       "      <th>2</th>\n",
       "      <td>1696204800632000</td>\n",
       "      <td>1696204800640191</td>\n",
       "      <td>1</td>\n",
       "      <td>28004.5</td>\n",
       "      <td>100</td>\n",
       "      <td>2800450.0</td>\n",
       "    </tr>\n",
       "    <tr>\n",
       "      <th>3</th>\n",
       "      <td>1696204800632000</td>\n",
       "      <td>1696204800640191</td>\n",
       "      <td>1</td>\n",
       "      <td>28004.5</td>\n",
       "      <td>10000</td>\n",
       "      <td>280045000.0</td>\n",
       "    </tr>\n",
       "    <tr>\n",
       "      <th>4</th>\n",
       "      <td>1696204800632000</td>\n",
       "      <td>1696204800640191</td>\n",
       "      <td>1</td>\n",
       "      <td>28005.0</td>\n",
       "      <td>17690</td>\n",
       "      <td>495408450.0</td>\n",
       "    </tr>\n",
       "  </tbody>\n",
       "</table>\n",
       "</div>"
      ],
      "text/plain": [
       "          timestamp   local_timestamp  side    price  amount  \\\n",
       "0  1696204800632000  1696204800640191     1  28002.5      10   \n",
       "1  1696204800632000  1696204800640191     1  28003.0     200   \n",
       "2  1696204800632000  1696204800640191     1  28004.5     100   \n",
       "3  1696204800632000  1696204800640191     1  28004.5   10000   \n",
       "4  1696204800632000  1696204800640191     1  28005.0   17690   \n",
       "\n",
       "   volume_times_price  \n",
       "0            280025.0  \n",
       "1           5600600.0  \n",
       "2           2800450.0  \n",
       "3         280045000.0  \n",
       "4         495408450.0  "
      ]
     },
     "execution_count": 26,
     "metadata": {},
     "output_type": "execute_result"
    }
   ],
   "source": [
    "df.head()"
   ]
  },
  {
   "cell_type": "code",
   "execution_count": 27,
   "id": "08220d24-3db2-4abe-9ee6-c27edb28b46d",
   "metadata": {},
   "outputs": [
    {
     "data": {
      "text/html": [
       "<div>\n",
       "<style scoped>\n",
       "    .dataframe tbody tr th:only-of-type {\n",
       "        vertical-align: middle;\n",
       "    }\n",
       "\n",
       "    .dataframe tbody tr th {\n",
       "        vertical-align: top;\n",
       "    }\n",
       "\n",
       "    .dataframe thead th {\n",
       "        text-align: right;\n",
       "    }\n",
       "</style>\n",
       "<table border=\"1\" class=\"dataframe\">\n",
       "  <thead>\n",
       "    <tr style=\"text-align: right;\">\n",
       "      <th></th>\n",
       "      <th>time</th>\n",
       "      <th>side</th>\n",
       "      <th>amount</th>\n",
       "      <th>order_type</th>\n",
       "      <th>vwap</th>\n",
       "    </tr>\n",
       "  </thead>\n",
       "  <tbody>\n",
       "    <tr>\n",
       "      <th>0</th>\n",
       "      <td>2023-10-02 03:00:00.632</td>\n",
       "      <td>1</td>\n",
       "      <td>28000</td>\n",
       "      <td>MO_1</td>\n",
       "      <td>28004.804464</td>\n",
       "    </tr>\n",
       "    <tr>\n",
       "      <th>1</th>\n",
       "      <td>2023-10-02 03:00:00.662</td>\n",
       "      <td>1</td>\n",
       "      <td>10650</td>\n",
       "      <td>MO_0</td>\n",
       "      <td>28005.000000</td>\n",
       "    </tr>\n",
       "    <tr>\n",
       "      <th>2</th>\n",
       "      <td>2023-10-02 03:00:00.670</td>\n",
       "      <td>1</td>\n",
       "      <td>17370</td>\n",
       "      <td>MO_0</td>\n",
       "      <td>28005.000000</td>\n",
       "    </tr>\n",
       "    <tr>\n",
       "      <th>3</th>\n",
       "      <td>2023-10-02 03:00:07.373</td>\n",
       "      <td>1</td>\n",
       "      <td>50</td>\n",
       "      <td>MO_0</td>\n",
       "      <td>28005.000000</td>\n",
       "    </tr>\n",
       "    <tr>\n",
       "      <th>4</th>\n",
       "      <td>2023-10-02 03:00:08.503</td>\n",
       "      <td>1</td>\n",
       "      <td>166680</td>\n",
       "      <td>MO_1</td>\n",
       "      <td>28007.914297</td>\n",
       "    </tr>\n",
       "  </tbody>\n",
       "</table>\n",
       "</div>"
      ],
      "text/plain": [
       "                     time  side  amount order_type          vwap\n",
       "0 2023-10-02 03:00:00.632     1   28000       MO_1  28004.804464\n",
       "1 2023-10-02 03:00:00.662     1   10650       MO_0  28005.000000\n",
       "2 2023-10-02 03:00:00.670     1   17370       MO_0  28005.000000\n",
       "3 2023-10-02 03:00:07.373     1      50       MO_0  28005.000000\n",
       "4 2023-10-02 03:00:08.503     1  166680       MO_1  28007.914297"
      ]
     },
     "execution_count": 27,
     "metadata": {},
     "output_type": "execute_result"
    }
   ],
   "source": [
    "new_df = pd.DataFrame({'time': time,\n",
    "                       'side': side,\n",
    "                       'amount': amounts_np,\n",
    "                       'order_type': mo,\n",
    "                       'vwap': vwap_np})\n",
    "\n",
    "new_df = new_df.astype({'side': 'int32'})\n",
    "new_df.head()"
   ]
  },
  {
   "cell_type": "code",
   "execution_count": 28,
   "id": "63f01ed0-91d4-4e44-9521-0ae013951ad2",
   "metadata": {},
   "outputs": [],
   "source": [
    "side = new_df['side'].to_numpy()"
   ]
  },
  {
   "cell_type": "code",
   "execution_count": 29,
   "id": "8c2936c3-4f03-4bce-a9eb-5007c44cdaaf",
   "metadata": {},
   "outputs": [],
   "source": [
    "shifts = []\n",
    "corrs = []\n",
    "for shift in range(1, 101):\n",
    "    shifts.append(shift)\n",
    "    corr = ((side[:-shift] - np.mean(side[:-shift]))*(side[shift:] - np.mean(side[shift:]))).mean()\n",
    "    corrs.append(corr)"
   ]
  },
  {
   "cell_type": "code",
   "execution_count": 30,
   "id": "800ac431-c283-4371-ab09-7251b203c9c4",
   "metadata": {},
   "outputs": [
    {
     "data": {
      "text/plain": [
       "Text(0.5, 1.0, 'sides correlation graph')"
      ]
     },
     "execution_count": 30,
     "metadata": {},
     "output_type": "execute_result"
    },
    {
     "data": {
      "image/png": "[encoded data removed]",
      "text/plain": [
       "<Figure size 640x480 with 1 Axes>"
      ]
     },
     "metadata": {},
     "output_type": "display_data"
    }
   ],
   "source": [
    "plt.plot(corrs, shifts)\n",
    "plt.xlabel('correlation')\n",
    "plt.ylabel('shift')\n",
    "plt.title('sides correlation graph')"
   ]
  },
  {
   "cell_type": "code",
   "execution_count": 31,
   "id": "551788d4-2fc4-44ae-a936-59f7be4bbf01",
   "metadata": {},
   "outputs": [
    {
     "data": {
      "text/plain": [
       "Text(0.5, 1.0, 'vwaps correlation graph')"
      ]
     },
     "execution_count": 31,
     "metadata": {},
     "output_type": "execute_result"
    },
    {
     "data": {
      "image/png": "[encoded data removed]",
      "text/plain": [
       "<Figure size 640x480 with 1 Axes>"
      ]
     },
     "metadata": {},
     "output_type": "display_data"
    }
   ],
   "source": [
    "vwaps = new_df['vwap'].to_numpy()\n",
    "corrs = []\n",
    "shifts = []\n",
    "for shift in range(1, 1001):\n",
    "    shifts.append(shift)\n",
    "    corr = ((vwaps[:-shift] - np.mean(vwaps[:-shift]))*(vwaps[shift:] - np.mean(vwaps[shift:]))).mean()\n",
    "    corrs.append(corr)\n",
    "\n",
    "plt.plot(corrs, shifts)\n",
    "plt.xlabel('correlation')\n",
    "plt.ylabel('shift')\n",
    "plt.title('vwaps correlation graph')"
   ]
  },
  {
   "cell_type": "code",
   "execution_count": 32,
   "id": "b27cc341-430f-4827-9008-66a5add0f602",
   "metadata": {},
   "outputs": [
    {
     "data": {
      "text/plain": [
       "Text(0.5, 1.0, 'amounts correlation graph')"
      ]
     },
     "execution_count": 32,
     "metadata": {},
     "output_type": "execute_result"
    },
    {
     "data": {
      "image/png": "[encoded data removed]",
      "text/plain": [
       "<Figure size 640x480 with 1 Axes>"
      ]
     },
     "metadata": {},
     "output_type": "display_data"
    }
   ],
   "source": [
    "amounts = new_df['amount'].to_numpy()\n",
    "corrs = []\n",
    "shifts = []\n",
    "for shift in range(1, 1001):\n",
    "    shifts.append(shift)\n",
    "    corr = ((amounts[:-shift] - np.mean(amounts[:-shift]))*(amounts[shift:] - np.mean(amounts[shift:]))).mean()\n",
    "    corrs.append(corr)\n",
    "\n",
    "plt.plot(corrs, shifts)\n",
    "plt.xlabel('correlation')\n",
    "plt.ylabel('shift')\n",
    "plt.title('amounts correlation graph')"
   ]
  },
  {
   "cell_type": "code",
   "execution_count": 33,
   "id": "17bd37be-31e1-4a01-b3f6-62a4ab321fef",
   "metadata": {},
   "outputs": [],
   "source": [
    "volumes = new_df['amount'].to_numpy()\n",
    "volumes = np.sort(volumes)"
   ]
  },
  {
   "cell_type": "code",
   "execution_count": 34,
   "id": "024059c2-03e0-4565-bff6-6fd694f28aab",
   "metadata": {},
   "outputs": [],
   "source": [
    "indexes = np.linspace(0 ,len(volumes), 20, dtype=np.int32)"
   ]
  },
  {
   "cell_type": "code",
   "execution_count": 35,
   "id": "812d0b5f-9903-4eca-a69f-afe39375bfc0",
   "metadata": {},
   "outputs": [],
   "source": [
    "times = new_df['time'].to_numpy()\n",
    "mid_prices = {}\n",
    "for _time in times:\n",
    "    mid_p = new_df[new_df['time'] == _time]['vwap'].mean()\n",
    "    mid_prices[_time] = mid_p"
   ]
  },
  {
   "cell_type": "code",
   "execution_count": 223,
   "id": "c3ecd1a0-855c-4726-9161-f5a406de9a0a",
   "metadata": {},
   "outputs": [],
   "source": [
    "# for a total dataset\n",
    "\n",
    "volumes_count = []\n",
    "expectations = []\n",
    "expectation = 0\n",
    "mean_volume = []\n",
    "for i in range(1, len(indexes)):\n",
    "    _volumes = volumes[indexes[i-1]:indexes[i]]\n",
    "    _times = new_df[((new_df['amount'] >= _volumes[0]) & (new_df['amount'] <= _volumes[-1]))]['time'].to_numpy()\n",
    "    _sides = new_df[((new_df['amount'] >= _volumes[0]) & (new_df['amount'] <= _volumes[-1]))]['side'].to_numpy()\n",
    "\n",
    "    p = len(_times) / len(volumes)\n",
    "    counter = 0\n",
    "    for i in range(len(_times)-1):\n",
    "        counter += _sides[i] * (mid_prices[_times[i]] - mid_prices[_times[i+1]])\n",
    "        \n",
    "    expectations.append(counter / (len(_times) - 1) * p)\n",
    "    mean_volume.append(np.array(_volumes).mean())\n",
    "    expectation += counter / (len(_times) - 1) * p"
   ]
  },
  {
   "cell_type": "code",
   "execution_count": 224,
   "id": "cf61e437-cf73-4f2b-9afc-c401ce6672bd",
   "metadata": {},
   "outputs": [
    {
     "data": {
      "text/plain": [
       "Text(0.5, 1.0, 'total expectation is -3.5050492668651465')"
      ]
     },
     "execution_count": 224,
     "metadata": {},
     "output_type": "execute_result"
    },
    {
     "data": {
      "image/png": "[encoded data removed]",
      "text/plain": [
       "<Figure size 640x480 with 1 Axes>"
      ]
     },
     "metadata": {},
     "output_type": "display_data"
    }
   ],
   "source": [
    "plt.plot(mean_volume, expectations)\n",
    "plt.xlabel('mean_volume')\n",
    "plt.ylabel('expectation')\n",
    "plt.title(f'total expectation is {expectation}')"
   ]
  },
  {
   "cell_type": "code",
   "execution_count": 225,
   "id": "4c52848f-44d0-4640-9e93-40b6a15cf351",
   "metadata": {},
   "outputs": [],
   "source": [
    "# second version\n",
    "\n",
    "\n",
    "volume_points = []\n",
    "expectations = []\n",
    "\n",
    "for i in range(1, len(indexes)):\n",
    "    _volumes = volumes[indexes[i-1]:indexes[i]]\n",
    "\n",
    "    _unique_volumes, _volume_counts = np.unique(_volumes, return_counts=True)\n",
    "\n",
    "    for _vol, _vol_count in zip(_volumes, _volume_counts):\n",
    "        _times = new_df[new_df['amount'] == _vol]['time'].to_numpy()\n",
    "        _sides = new_df[new_df['amount'] == _vol]['side'].to_numpy()\n",
    "\n",
    "        p = _vol_count / len(_volumes)\n",
    "        counter = 0\n",
    "        for i in range(len(_times)-1):\n",
    "            counter += _sides[i] * (mid_prices[_times[i]] - mid_prices[_times[i+1]])\n",
    "\n",
    "        _expect = counter / (len(_times) - 1) * p if len(_times) > 1 else counter * p\n",
    "        expectations.append(_expect)\n",
    "        volume_points.append(_vol)"
   ]
  },
  {
   "cell_type": "code",
   "execution_count": 226,
   "id": "523a634e-c793-4bdc-87bf-4cbf4a4b1616",
   "metadata": {},
   "outputs": [
    {
     "data": {
      "text/plain": [
       "Text(0.5, 1.0, 'total expectation is -3.5050492668651465')"
      ]
     },
     "execution_count": 226,
     "metadata": {},
     "output_type": "execute_result"
    },
    {
     "data": {
      "image/png": "[encoded data removed]",
      "text/plain": [
       "<Figure size 640x480 with 1 Axes>"
      ]
     },
     "metadata": {},
     "output_type": "display_data"
    }
   ],
   "source": [
    "plt.plot(volume_points, expectations)\n",
    "plt.xlabel('mean_volume')\n",
    "plt.ylabel('expectation')\n",
    "plt.title(f'total expectation is {expectation}')"
   ]
  },
  {
   "cell_type": "code",
   "execution_count": null,
   "id": "ea90b500-a7e7-4e84-b49b-606f2769a5f3",
   "metadata": {},
   "outputs": [],
   "source": [
    "# corr(v_MO_t, v_LO)\n",
    "\n",
    "# BTC_snapshots - состояние стакана\n",
    "\n",
    "# with open('BTC_snapshots', 'r') as file:\n",
    "#     lines = file.readlines()"
   ]
  },
  {
   "cell_type": "code",
   "execution_count": 39,
   "id": "127ffe62-51e4-4848-9fca-4a4f175b5d4f",
   "metadata": {},
   "outputs": [],
   "source": [
    "mid_prices_list = []\n",
    "for key in list(mid_prices.keys()):\n",
    "    mid_prices_list.append(mid_prices[key])\n",
    "\n",
    "mid_prices_list = np.array(mid_prices_list)"
   ]
  },
  {
   "cell_type": "code",
   "execution_count": 42,
   "id": "f9834e4a-42a1-4067-b2ed-fc350e2ad03d",
   "metadata": {},
   "outputs": [],
   "source": [
    "mid_prices_list.shape\n",
    "sides = new_df['side'].to_numpy()"
   ]
  },
  {
   "cell_type": "code",
   "execution_count": 43,
   "id": "139b1c91-945d-4f3e-b009-78e9a1043ff0",
   "metadata": {},
   "outputs": [],
   "source": [
    "# m_t = m_0 + \\Sigma(G(t-n)\\epsilon_n)\n",
    "\n",
    "from sklearn.linear_model import LinearRegression"
   ]
  },
  {
   "cell_type": "code",
   "execution_count": 58,
   "id": "57f37d29-640e-4bf7-949e-8040dae05d37",
   "metadata": {},
   "outputs": [],
   "source": [
    "model = LinearRegression()"
   ]
  },
  {
   "cell_type": "code",
   "execution_count": 70,
   "id": "d3e5cab5-6eaa-4710-b7a7-850dac729f55",
   "metadata": {},
   "outputs": [],
   "source": [
    "trainX = [sides[i:1000+i] for i in range(1000)]\n",
    "trainY = [mid_prices_list[999 + i] - mid_prices_list[i] for i in range(1000)]"
   ]
  },
  {
   "cell_type": "code",
   "execution_count": 71,
   "id": "42a51f32-e6b8-46ad-99fb-96ec579dcb70",
   "metadata": {},
   "outputs": [],
   "source": [
    "res = model.fit(trainX,  trainY)"
   ]
  },
  {
   "cell_type": "code",
   "execution_count": 72,
   "id": "aa20af14-1507-4116-8075-06ee583f6d5b",
   "metadata": {},
   "outputs": [
    {
     "data": {
      "text/plain": [
       "array([ 2.46034892e+00,  3.29382067e+00,  3.84049602e+00,  8.27146159e-01,\n",
       "        1.94268627e-01,  2.20397862e+00,  1.36711589e+00, -3.64826310e-02,\n",
       "       -5.12226786e-01, -2.42591590e+00, -1.67535061e+00, -1.37921433e+00,\n",
       "       -5.15282745e-01, -1.28044379e+00,  6.99089832e-01, -1.24734316e+00,\n",
       "        1.22768292e+00,  3.61248386e+00,  1.84795962e+00,  4.84510122e+00,\n",
       "        2.23468128e+00,  2.08768479e+00,  1.31872643e+00,  1.76388505e+00,\n",
       "       -3.39420367e-01, -1.13482742e+00, -8.92173686e-01, -6.77737774e-02,\n",
       "        1.72510675e+00,  1.49873424e+00,  5.01242906e-01,  2.03872727e+00,\n",
       "        1.58622156e+00,  2.88139006e+00,  2.02303799e+00,  2.60320129e+00,\n",
       "       -7.26629746e-01, -2.27488761e-01, -1.32300795e+00, -1.15297229e+00,\n",
       "       -7.16676007e-02, -1.09513796e+00, -2.06122159e+00, -2.19449899e+00,\n",
       "        2.03839863e+00, -2.41380072e+00,  1.86311283e+00,  3.92771470e-01,\n",
       "        1.46004329e+00,  1.36921060e+00,  2.37778935e+00,  5.17327745e-01,\n",
       "        4.16187256e+00,  1.80504683e+00,  5.10132028e-01,  8.48733443e-01,\n",
       "       -1.64023859e+00,  3.57123760e-01,  1.26260393e+00, -5.47941269e-01,\n",
       "       -2.59782113e+00,  1.40591511e+00, -3.13831371e+00,  2.59097322e+00,\n",
       "       -9.03477449e-01,  3.71817652e-01,  5.19957455e-01, -2.09630032e-01,\n",
       "        1.92291727e-01,  3.15686633e+00, -7.74816220e-01,  7.77052773e-01,\n",
       "        8.61042983e-02, -8.82552981e-03,  1.42689985e+00, -8.45429358e-01,\n",
       "       -1.08531867e+00,  6.28929051e-01,  1.55085473e+00,  2.56667590e+00,\n",
       "        3.65694421e+00, -2.71745064e+00, -6.38910137e-02,  3.41922838e-01,\n",
       "        1.75585166e+00,  4.11674568e-01,  6.65857933e-01, -4.58963998e+00,\n",
       "        1.95171081e-01, -3.44102841e+00,  9.89988816e-01,  5.87577872e-01,\n",
       "       -1.52246939e-01, -5.51552054e-01,  7.46302763e-01,  1.46538197e+00,\n",
       "        1.43531023e+00,  2.66423703e+00, -1.11399653e+00,  1.34788625e+00,\n",
       "        9.87173375e-02,  1.09800186e-01, -2.98270922e-01,  1.20830524e-01,\n",
       "        2.23551075e-01,  1.15480557e+00,  1.14920411e+00,  1.04076878e+00,\n",
       "        3.13076318e+00,  2.49696435e+00,  1.29537189e+00,  1.60300350e+00,\n",
       "        2.63004117e+00,  2.29674803e+00,  3.28308505e+00,  1.38029775e+00,\n",
       "        8.80881837e-03,  1.25406630e-01, -3.28464026e-01, -1.41824042e-01,\n",
       "        2.03760051e+00,  7.39246642e-01, -3.06551319e-01, -6.73017591e-01,\n",
       "        1.16673923e+00,  3.21883522e+00,  3.79090718e+00,  1.51957013e+00,\n",
       "        1.62748436e-02,  1.57950408e+00,  7.95180545e-01,  1.21900461e+00,\n",
       "        1.38493072e+00,  7.53647800e-01, -9.78834310e-01, -1.24610031e+00,\n",
       "       -2.65865429e+00, -4.73246578e-01, -1.26803461e+00,  7.31652963e-01,\n",
       "       -5.21540955e-01,  9.89391436e-01,  1.10540428e-01,  2.98400281e-01,\n",
       "        5.44166779e-01,  1.35858308e+00,  2.10691729e+00,  1.92198455e+00,\n",
       "        1.06703639e-01, -1.56189939e+00, -1.70764707e+00, -5.09584942e-01,\n",
       "       -8.89057692e-01,  6.89940691e-01,  9.46527282e-01,  1.51695712e-01,\n",
       "        4.07238088e-01,  2.16955669e+00,  1.66260267e+00,  3.51510213e+00,\n",
       "        9.07850324e-01, -3.50744736e-01,  1.44752216e+00,  1.35800216e+00,\n",
       "        2.60438855e-01,  1.65303862e+00, -1.06588265e+00,  8.31910109e-01,\n",
       "        7.70065692e-01,  2.71856120e-01, -1.01872499e-01,  1.70671779e+00,\n",
       "        9.69934948e-01,  4.45887041e-01,  2.44448604e+00, -1.29203937e+00,\n",
       "        1.30836996e+00, -9.85848054e-01, -9.78936977e-01, -1.98576487e-01,\n",
       "       -1.98696549e-01,  1.99457620e-01,  2.57672678e+00,  7.16030134e-01,\n",
       "       -7.18615801e-01,  9.61099400e-02,  8.94737149e-01,  3.32259928e+00,\n",
       "        1.87397559e+00,  2.26757801e+00, -1.00247763e+00,  1.57749291e+00,\n",
       "       -2.11750221e-01,  1.56066365e+00,  9.58651488e-01,  7.60708485e-01,\n",
       "        2.60603458e+00,  9.39345469e-01,  1.75163621e+00,  1.46310447e+00,\n",
       "        7.63040451e-01,  1.24805499e+00,  1.69510533e+00,  6.02060058e-01,\n",
       "        2.20247594e+00,  3.43306424e-01,  1.08591541e+00,  1.23398677e+00,\n",
       "        1.48185071e+00,  2.38201730e-01,  4.53134989e+00,  3.76681041e-02,\n",
       "        2.09982239e+00,  1.40359713e+00, -7.56329419e-02,  2.54385485e+00,\n",
       "        1.98568067e+00,  8.47881749e-01,  5.95456329e-01,  1.97166370e+00,\n",
       "       -2.93436778e-01,  2.41152595e+00,  6.52496500e-01,  1.94316289e-01,\n",
       "        7.82232422e-01,  1.03639504e+00,  1.35499303e+00,  1.72067983e+00,\n",
       "        3.02720530e-02,  1.59385776e+00, -3.84407927e-01,  1.06451911e+00,\n",
       "        1.18819638e+00,  5.95681252e-01, -5.08929765e-01,  3.38368722e-01,\n",
       "        7.60401942e-01,  3.79321778e-01,  5.31819918e-01, -2.18626199e+00,\n",
       "       -1.20225538e+00, -7.46864674e-01,  1.17175628e+00,  2.90713071e+00,\n",
       "        2.22714151e+00,  4.46676313e+00,  6.64326704e-02,  5.01621883e-01,\n",
       "        1.42729706e+00,  2.77294000e+00,  4.22580399e+00,  3.62163331e-02,\n",
       "       -5.95978584e-01, -2.18826949e+00, -8.04034652e-01,  9.73924231e-01,\n",
       "        2.09252776e+00, -8.42561590e-02,  1.99309507e+00,  1.29629211e+00,\n",
       "        2.36193940e+00,  3.45309404e+00,  1.87400829e+00,  7.05815106e-01,\n",
       "        1.93973176e+00,  3.19204042e+00,  1.24072662e+00,  3.79562746e+00,\n",
       "       -3.02629415e+00,  2.47269198e+00,  2.43533199e-01,  8.20345292e-01,\n",
       "        2.78765662e+00,  7.26835809e-01,  2.50704228e+00,  1.17484855e+00,\n",
       "        2.73200272e+00,  2.93386470e+00,  5.15911361e+00,  1.90495617e+00,\n",
       "        2.50850188e+00,  1.87829663e+00,  1.12324404e+00,  1.53591475e+00,\n",
       "        2.08726954e+00,  5.55419071e-01,  1.48957939e+00, -1.61433368e+00,\n",
       "        1.13868505e+00,  6.72333657e-02,  2.95605227e+00,  7.32728752e-01,\n",
       "        7.21089603e-01,  1.57644634e+00,  8.09478013e-01,  6.50996291e-01,\n",
       "        1.47086279e-01, -1.49080497e+00, -1.63896231e-01, -3.86774235e-01,\n",
       "       -9.93691832e-01, -1.02676722e+00,  6.99897118e-01,  5.40707408e-02,\n",
       "        1.66933372e+00,  2.01809733e+00, -1.06014143e+00,  2.30929554e+00,\n",
       "       -8.95014884e-01,  2.84060638e+00,  5.79522240e-01,  8.78181091e-01,\n",
       "       -2.18647286e+00, -7.80891371e-01, -2.87280244e+00, -1.18509905e-01,\n",
       "       -1.66696043e+00,  3.17112777e-02,  4.77890616e-01, -5.13231096e-01,\n",
       "        8.79457183e-01,  2.89683846e+00,  2.54956555e+00,  2.49736722e+00,\n",
       "        1.53863493e+00, -6.24270645e-01,  1.40448306e+00,  1.81040397e+00,\n",
       "        1.98236439e+00,  1.03745176e+00, -5.78807117e-01, -4.70327406e-01,\n",
       "        6.80497186e-01,  2.55076558e+00,  4.28872373e+00,  2.94686757e+00,\n",
       "        5.83984711e-01,  6.61780436e-01,  2.95244946e+00,  1.54237206e+00,\n",
       "        4.18167775e+00,  1.18392653e+00,  9.06035544e-01, -6.66304714e-01,\n",
       "        1.28096009e+00, -6.30956666e-01,  9.50702799e-01,  8.89792430e-01,\n",
       "       -1.02987257e+00, -3.23997762e-01, -6.95315440e-01,  2.12473578e+00,\n",
       "        2.07415596e+00,  2.47767072e+00,  1.01384486e+00,  2.51625581e+00,\n",
       "        7.27061895e-01,  8.46435594e-02,  1.49656474e+00,  5.00606109e-01,\n",
       "        2.37010081e+00, -2.91708819e-01,  8.03468689e-02, -8.82715068e-01,\n",
       "        1.31809145e+00, -1.82200188e+00,  2.84324864e+00,  1.00819172e+00,\n",
       "        2.12517570e+00, -3.46822972e-01,  1.15659297e+00,  1.10803232e+00,\n",
       "        3.76775031e+00,  1.51520630e+00,  1.09662701e+00,  5.20445024e-01,\n",
       "       -1.51855279e+00,  1.58810689e+00, -2.44585344e+00,  4.13933835e-01,\n",
       "       -5.52940830e-01,  1.71877731e+00, -2.72071157e+00,  2.95669335e+00,\n",
       "       -1.36157634e+00,  1.56092058e+00,  4.85569677e-01,  4.51948992e-01,\n",
       "        2.19581175e+00,  3.18666391e+00, -5.37217101e-01,  7.43465652e-01,\n",
       "        5.75057960e-01, -1.39002268e+00, -1.20717155e+00, -1.93400417e-01,\n",
       "        5.32829118e-01,  1.98768288e+00, -1.30828931e+00, -1.85100425e+00,\n",
       "        8.64213857e-01,  2.62847347e+00,  1.06267730e+00,  1.92483328e+00,\n",
       "       -7.27114878e-01, -1.21857599e+00,  7.08171299e-01,  3.98557437e-01,\n",
       "        1.05782644e+00, -9.66337280e-02, -2.80491375e+00, -3.43598953e+00,\n",
       "       -1.03938405e+00,  1.51469157e+00, -1.03327271e+00,  2.15412579e+00,\n",
       "       -9.71975348e-01,  2.04993033e+00,  1.00111700e+00,  1.92739070e+00,\n",
       "        2.37711779e+00,  2.43347610e+00,  2.58408006e+00,  1.07606658e+00,\n",
       "        1.49080067e+00, -2.39346621e+00,  5.77360051e-01, -3.53560932e+00,\n",
       "       -1.39668642e-01, -5.45386517e-01,  7.42075034e-01, -7.33693007e-01,\n",
       "        2.82911149e-01, -1.42501857e+00,  2.68130611e-01, -7.17309986e-01,\n",
       "        1.97793263e-01,  2.12624103e-01,  9.26315970e-01, -5.48404283e-01,\n",
       "        2.32584073e-01, -9.18440843e-01,  1.31052230e+00, -1.37383195e+00,\n",
       "       -1.32323441e+00,  2.66797204e-01,  2.43838801e+00,  9.29316331e-01,\n",
       "        1.06258096e+00, -6.60244578e-01,  6.63964600e-01,  1.64074735e+00,\n",
       "       -6.66573311e-03,  2.57363376e+00,  1.90447496e-01, -2.85656632e-02,\n",
       "       -2.35205358e+00, -5.28573608e-01, -1.48752074e+00,  2.87249580e+00,\n",
       "       -2.03498984e+00, -3.69934878e-01, -7.44672072e-01,  7.72713141e-01,\n",
       "        2.96548091e+00,  3.60587073e+00,  2.97849662e-01,  1.34475823e-01,\n",
       "        1.60691106e+00,  1.27762154e+00,  3.16018497e+00,  1.97619145e+00,\n",
       "        1.27764470e+00, -1.21552858e-02,  1.13574962e+00,  9.63119969e-01,\n",
       "        3.61690231e+00,  5.90451107e-01,  2.05443583e+00,  2.34975287e+00,\n",
       "        1.04704097e+00,  3.69588816e+00,  9.86064020e-01,  2.07928756e+00,\n",
       "        7.43517470e-01,  1.34814442e+00, -1.05231452e-01,  1.04947152e+00,\n",
       "       -1.89227505e+00,  1.56039638e-01, -3.26088329e-01,  5.92115040e-01,\n",
       "        1.45425169e+00,  1.63404503e+00,  1.86290566e+00,  1.75775340e+00,\n",
       "        1.69350761e+00, -7.37520914e-01,  3.72833492e+00,  2.30313645e+00,\n",
       "        6.03414633e-01, -1.24812420e+00, -2.72207639e-01, -2.28385607e+00,\n",
       "        6.03620578e-01, -4.95001136e-01, -1.28058665e-01, -1.22901563e-01,\n",
       "       -1.49346206e-01, -1.95403712e+00,  8.88784523e-02,  5.10587342e-01,\n",
       "       -1.05517096e+00,  2.94380812e+00,  1.22287956e+00,  1.46643170e+00,\n",
       "        3.53467534e-02, -5.82204677e-01, -8.29213099e-01,  1.81420396e+00,\n",
       "        7.38474417e-01,  9.19341021e-01, -3.71257728e-01, -3.20733309e+00,\n",
       "        7.13927304e-01,  2.33928039e-01,  2.43601747e+00,  9.35276182e-01,\n",
       "        2.62482057e+00, -2.36976930e+00,  6.04717299e-01,  2.34006454e-01,\n",
       "        8.71934660e-01, -6.67345189e-02, -9.15759533e-01,  5.54217785e-02,\n",
       "       -1.02152787e+00, -4.41767860e-02, -1.68009048e+00,  1.04214408e+00,\n",
       "       -5.31070915e-01,  1.48590804e+00,  5.86833636e-01,  5.54007474e-01,\n",
       "        1.38301628e+00,  1.15378294e+00,  5.45949986e-01,  3.09752732e+00,\n",
       "        1.37755046e-01,  9.81647811e-01, -2.31953314e-01, -1.46382067e+00,\n",
       "       -1.43744006e+00,  1.62051195e+00, -1.49840098e-02,  8.54062880e-01,\n",
       "       -5.46643403e-01, -8.56904541e-02,  2.14596283e+00,  2.47976871e+00,\n",
       "        2.02574741e+00,  1.57612963e+00,  5.70089108e-01, -2.30913677e+00,\n",
       "        7.65927171e-01, -4.42695916e-01,  1.19808062e+00,  2.22415158e+00,\n",
       "       -1.41191103e+00,  7.12589991e-01,  1.29100353e+00,  2.16923157e+00,\n",
       "        1.90853029e+00,  2.87546920e+00,  1.02727238e+00,  2.31082029e+00,\n",
       "        2.19838344e+00,  1.37551846e+00,  1.83633708e+00, -1.25863284e+00,\n",
       "       -6.17267283e-01, -7.39081935e-01,  1.45173168e+00, -8.22308014e-01,\n",
       "        1.12774834e+00, -5.50246064e-01, -1.00701415e+00,  2.31829679e+00,\n",
       "        1.68055937e+00,  4.24995016e+00,  1.11623807e+00,  1.22594384e+00,\n",
       "        1.76843380e+00,  1.35947345e+00,  1.66662398e+00,  4.41333625e-01,\n",
       "        5.24986019e-01, -6.99384639e-01, -4.99467743e-01, -2.36002482e-01,\n",
       "        8.76770402e-04,  2.37330213e-01,  1.29961446e+00,  8.43316212e-01,\n",
       "        9.43143086e-01,  1.19470870e-01,  2.06448034e+00,  1.22320095e+00,\n",
       "        1.66995592e-02, -1.10410462e+00, -7.21953358e-01, -1.65162315e+00,\n",
       "        8.43746953e-01, -2.22608344e+00,  5.05047266e-01, -1.20675833e+00,\n",
       "        5.95009233e-01,  1.36767362e+00,  1.30877590e+00,  1.08599347e+00,\n",
       "        2.08398071e+00,  2.54257483e+00,  1.52309470e+00,  3.32122418e+00,\n",
       "        1.13641416e+00,  1.43216186e+00, -1.83205079e+00,  2.78577150e-02,\n",
       "       -7.18401616e-02,  1.63278248e+00, -9.76450042e-02,  8.28163696e-01,\n",
       "        2.91143414e-02,  3.86730827e-01,  2.25637210e+00,  2.50631500e-01,\n",
       "        3.01977373e+00,  1.00161165e+00,  1.14611885e+00,  9.65399346e-01,\n",
       "        7.88414230e-01, -1.61423734e-01,  2.50980559e+00, -1.45345134e+00,\n",
       "        1.72793173e+00, -3.29768236e-01,  1.73311374e+00,  1.53394301e-01,\n",
       "        9.30199944e-01, -2.40221012e-01,  1.38478540e+00,  1.25617246e+00,\n",
       "        1.86182057e+00,  2.44472911e+00, -3.92067408e-01,  2.71520437e+00,\n",
       "        1.18007339e+00,  1.50315419e+00,  2.70000485e-02,  9.21792619e-01,\n",
       "       -1.15195124e+00,  1.80480280e+00, -1.84362763e+00,  7.76940097e-01,\n",
       "       -1.25883144e+00,  1.24031722e+00,  4.73091634e-01,  5.99332269e-01,\n",
       "        8.77765838e-02,  1.45458595e+00,  1.94354369e+00,  1.12714134e-02,\n",
       "        1.65959827e+00,  1.73306913e+00,  2.58958640e+00,  2.66442524e+00,\n",
       "        1.03339038e-01,  2.49129705e+00, -2.01401276e-01, -4.88697752e-02,\n",
       "        3.26999670e-01, -1.79874726e+00, -5.30875130e-01, -8.12966933e-01,\n",
       "        2.23519313e-01,  1.69470838e+00,  2.47513668e+00,  8.42031983e-01,\n",
       "        3.53686685e-01,  3.72316378e+00,  3.16378913e+00,  3.77658792e+00,\n",
       "        1.16107677e+00,  4.01797550e-01, -1.12626923e+00,  8.42073294e-01,\n",
       "        4.42506058e-01,  7.71189319e-01, -2.27797506e-01, -1.43742483e+00,\n",
       "       -3.03988706e-01,  3.31573596e+00,  2.09434637e+00,  2.96761648e+00,\n",
       "        6.29795955e-01,  2.73101531e+00,  2.12828256e+00,  3.50102818e+00,\n",
       "        9.01002539e-02,  6.12523944e-01, -5.34530658e-01, -2.96838546e+00,\n",
       "       -1.54683147e+00, -1.93900754e+00, -9.16643719e-01, -1.14360259e+00,\n",
       "        5.09565283e-01, -1.23751287e+00,  2.83987615e+00,  1.17027798e+00,\n",
       "        2.40842841e+00,  3.61452342e-03,  2.71890278e+00, -6.27638689e-01,\n",
       "        1.06204785e+00, -6.61748059e-01,  2.46337299e-01, -1.36159972e-01,\n",
       "       -4.84351075e-01, -4.52129702e-01,  1.72030503e+00,  9.20532621e-01,\n",
       "        3.52305298e+00, -9.83805154e-01,  1.33524595e+00,  1.10093248e+00,\n",
       "        1.63502436e+00,  2.01532661e+00, -8.85427445e-01,  2.72081811e+00,\n",
       "        1.90211262e-01,  1.51917070e+00, -4.96537224e-02,  2.85863660e-01,\n",
       "       -1.89644523e+00, -1.07204841e+00,  1.68970444e+00, -5.85778397e-01,\n",
       "        2.77942247e+00, -1.52343447e+00, -3.76011767e-01,  1.07872314e+00,\n",
       "        2.36468728e+00,  1.80330669e+00,  5.47948249e-01, -1.02627509e+00,\n",
       "        4.85065546e-01,  1.28298543e+00,  8.37020657e-01,  1.09082706e+00,\n",
       "       -5.60726723e-01, -9.63563457e-01,  7.38550236e-01,  1.60010624e+00,\n",
       "        1.85773278e+00,  1.52815050e+00, -1.29993738e+00, -7.69316593e-02,\n",
       "       -2.92178533e-01,  3.12619557e+00,  3.86187677e-01,  1.87099903e+00,\n",
       "       -6.22210889e-01, -1.59380130e-01, -2.55345495e+00,  1.40643759e+00,\n",
       "       -8.86570386e-01,  1.63955829e+00, -1.05034258e-01,  9.54408060e-01,\n",
       "       -1.20296042e+00,  3.97878347e+00,  6.27445637e-01,  2.07152832e+00,\n",
       "        1.29459308e+00,  6.35248275e-01,  2.07666168e+00, -2.78926065e-01,\n",
       "        5.67991804e-01, -1.20482673e-01,  3.86262354e-01,  4.16587077e-02,\n",
       "        1.46935647e+00,  6.26509412e-01,  6.89185954e-01,  9.78285038e-01,\n",
       "        1.34878971e+00,  9.03016092e-01,  1.72745542e+00, -7.18478004e-02,\n",
       "       -2.51539675e-01, -3.56252901e-01, -4.71651077e-01,  1.03853383e+00,\n",
       "        4.21320452e-01,  6.91427347e-01, -3.78323835e-01, -1.05719892e+00,\n",
       "        2.25653603e+00, -8.60309257e-02,  1.69590038e+00, -1.29031170e-01,\n",
       "        4.36654410e-01,  1.55002144e+00,  3.09939011e-01,  8.97388511e-01,\n",
       "        4.71253267e-01,  2.50550627e+00,  1.05749629e+00,  2.25152408e-01,\n",
       "        1.51255663e+00, -1.97244784e-01,  2.36229901e+00, -8.55975169e-01,\n",
       "        8.57325369e-02, -2.38249965e-01, -5.58386252e-01,  6.28203914e-01,\n",
       "       -3.11736666e-01,  1.83828525e+00, -9.45832591e-02,  1.86513357e+00,\n",
       "        1.34728497e+00,  4.32131248e-01,  2.76725588e+00, -5.53486606e-01,\n",
       "        4.04515076e-01, -1.33312599e+00,  3.32891840e+00, -6.03913467e-01,\n",
       "        2.21110794e+00, -2.48137401e+00,  7.75644421e-01,  2.41771140e+00,\n",
       "        1.91373644e+00,  1.74563484e+00,  2.31108151e+00,  1.32974418e+00,\n",
       "       -8.38259072e-02,  1.20081121e+00, -1.07390393e+00, -4.46343740e-01,\n",
       "       -1.51926122e+00, -1.29072492e+00, -2.02311554e+00,  5.75214245e-01,\n",
       "       -1.46160583e+00,  2.45114622e-01, -7.76283377e-02,  6.14922721e-01,\n",
       "        2.06496265e+00,  3.13842819e-01,  1.38723056e+00,  2.05527845e+00,\n",
       "        7.20106130e-01, -2.90797848e-01, -6.90019311e-01,  1.17727926e+00,\n",
       "       -7.28894061e-01,  1.54524036e+00,  5.03302366e-01,  1.21552255e+00,\n",
       "       -1.41971107e+00, -9.47811268e-03, -2.86402022e-01, -3.22040772e-01,\n",
       "        9.77907818e-01, -5.59059035e-02,  8.61624296e-01,  2.14572869e+00,\n",
       "        1.68527349e+00,  7.61148288e-01,  1.38317652e+00,  1.59809642e+00,\n",
       "        9.97226450e-01,  6.78192087e-01, -2.30739517e-01, -2.97283745e-01,\n",
       "        2.18307083e-01, -2.18320416e-01, -1.25507569e+00,  1.86005266e+00,\n",
       "        3.37099057e-01,  3.78956298e+00,  1.14556410e+00,  1.92419180e+00,\n",
       "       -5.49118617e-01,  7.34704716e-01,  1.05370773e+00, -2.43563988e-01,\n",
       "        3.38053058e+00, -1.81965675e+00,  2.80928318e+00, -3.12381452e+00,\n",
       "        1.79802823e+00, -9.18752630e-01,  2.80065527e+00,  2.39795444e-01,\n",
       "        2.29499625e+00,  2.14905103e+00,  2.83264515e+00,  2.07502637e+00,\n",
       "        2.73252366e+00,  2.69343619e+00, -1.79835682e-01,  2.39193622e+00,\n",
       "        2.16262699e+00,  4.19333258e+00,  5.74804537e-02,  2.20580096e+00,\n",
       "       -1.97508438e+00,  2.82974678e+00,  1.15310890e+00,  2.53640426e+00,\n",
       "        2.95923461e+00, -2.75858632e+00,  5.46027311e-01, -1.05220757e+00,\n",
       "        9.41568743e-01,  6.87530559e-01, -1.47567903e+00, -1.69012957e+00,\n",
       "        4.08182578e-01,  2.25765720e+00, -4.64720529e-01,  1.19418203e+00,\n",
       "       -6.66447991e-01,  1.33865220e+00,  7.69692257e-01,  1.58275564e+00,\n",
       "        6.77058369e-01,  2.20427175e+00, -2.90915752e+00,  7.34942575e-01,\n",
       "       -2.01554936e+00,  2.09109889e+00, -4.58121862e-01,  1.54269745e+00,\n",
       "       -2.99782315e-01,  1.05452938e-01,  1.98959092e-01,  1.55182709e-01,\n",
       "        2.00906085e-01,  1.03698987e+00,  2.61648852e+00, -1.20243773e-01,\n",
       "        3.96189842e+00, -5.48029425e-01,  2.43363138e+00, -9.49752247e-01,\n",
       "        1.08437187e+00, -1.25654777e+00,  2.66178517e+00, -7.16449254e-01,\n",
       "        1.62232078e+00,  1.68064990e+00,  1.32731940e+00,  1.12382133e+00,\n",
       "        2.76696676e+00,  1.53243366e+00,  5.40197263e+00,  3.34589390e+00,\n",
       "        1.99750691e+00,  3.31757639e+00,  2.62621424e+00, -1.21077028e+00,\n",
       "        1.70095133e-01, -3.88029174e-01, -7.93249272e-02,  1.31470178e-01,\n",
       "        4.21234653e-01, -8.05639085e-01, -1.00435223e+00,  2.34391799e+00,\n",
       "        2.60327569e+00,  6.58322170e+00,  2.64613218e+00,  3.52190204e+00,\n",
       "        1.02634208e+00,  3.50021941e+00,  5.00387688e+00,  3.34485248e+00,\n",
       "        8.31544911e-01, -2.97785414e+00,  1.71577896e-01,  1.71190954e+00,\n",
       "        8.65826325e-01,  2.03141247e+00, -1.19231939e+00,  1.07155454e+00])"
      ]
     },
     "execution_count": 72,
     "metadata": {},
     "output_type": "execute_result"
    }
   ],
   "source": [
    "# res.score(,)\n",
    "res.coef_"
   ]
  },
  {
   "cell_type": "code",
   "execution_count": 73,
   "id": "2d9d6855-c788-4a1e-abe2-b79cce199ac2",
   "metadata": {},
   "outputs": [
    {
     "data": {
      "text/plain": [
       "array([-11.80446429, -12.        , -12.        ])"
      ]
     },
     "execution_count": 73,
     "metadata": {},
     "output_type": "execute_result"
    }
   ],
   "source": [
    "res.predict([sides[:1000], sides[1:1001], sides[2:1002]])"
   ]
  },
  {
   "cell_type": "code",
   "execution_count": 74,
   "id": "f4ab7401-f80e-4fb7-93bf-b38d636d5c35",
   "metadata": {},
   "outputs": [
    {
     "data": {
      "text/plain": [
       "[-11.804464285713038, -12.0, -12.0]"
      ]
     },
     "execution_count": 74,
     "metadata": {},
     "output_type": "execute_result"
    }
   ],
   "source": [
    "[mid_prices_list[999] - mid_prices_list[0],\n",
    "mid_prices_list[1000] - mid_prices_list[1],\n",
    "mid_prices_list[1001] - mid_prices_list[2]]"
   ]
  },
  {
   "cell_type": "code",
   "execution_count": 75,
   "id": "95c98373-f171-41cd-9207-df5af0546ef8",
   "metadata": {},
   "outputs": [
    {
     "data": {
      "text/plain": [
       "[<matplotlib.lines.Line2D at 0x2889c6cd0>]"
      ]
     },
     "execution_count": 75,
     "metadata": {},
     "output_type": "execute_result"
    },
    {
     "data": {
      "image/png": "[encoded data removed]",
      "text/plain": [
       "<Figure size 640x480 with 1 Axes>"
      ]
     },
     "metadata": {},
     "output_type": "display_data"
    }
   ],
   "source": [
    "plt.plot(res.coef_)"
   ]
  },
  {
   "cell_type": "code",
   "execution_count": 96,
   "id": "cf7e31e5-a1ad-4dfa-8eb5-2d73909bbb3c",
   "metadata": {},
   "outputs": [],
   "source": [
    "C_l = [(sides[:1000] * sides[i+1:1000 + i + 1]).mean() for i in range(1000)]\n",
    "S_l = [((np.array(mid_prices_list[:1000]) - np.array(mid_prices_list[i+1:1000+i+1])) * sides[:1000]).mean() for i in range(1000)]"
   ]
  },
  {
   "cell_type": "code",
   "execution_count": 97,
   "id": "3e777093-57e0-4278-b74d-ba58b369b668",
   "metadata": {},
   "outputs": [],
   "source": [
    "G_s = np.zeros(1000)"
   ]
  },
  {
   "cell_type": "code",
   "execution_count": 98,
   "id": "eaf84b3f-29a4-46d9-bc5c-044a7a717860",
   "metadata": {},
   "outputs": [],
   "source": [
    "C_matrix = np.zeros((1000, 1000))\n",
    "                    \n",
    "for i in range(1000):\n",
    "    for j in range(1000):\n",
    "        C_matrix[i, j] = C_l[np.abs(i-j)]"
   ]
  },
  {
   "cell_type": "code",
   "execution_count": 105,
   "id": "ede072c3-840a-42e9-b428-8d321d298098",
   "metadata": {},
   "outputs": [],
   "source": [
    "# K_vec = np.dot(np.linalg.inv(C_matrix), np.array(S_l).T)\n",
    "K_vec = np.dot(C_matrix.T, np.array(S_l))"
   ]
  },
  {
   "cell_type": "code",
   "execution_count": 109,
   "id": "2582f3bc-227c-40a4-870c-a8faa4c82864",
   "metadata": {},
   "outputs": [
    {
     "data": {
      "text/plain": [
       "[<matplotlib.lines.Line2D at 0x28b5c3be0>]"
      ]
     },
     "execution_count": 109,
     "metadata": {},
     "output_type": "execute_result"
    },
    {
     "data": {
      "image/png": "[encoded data removed]",
      "text/plain": [
       "<Figure size 640x480 with 1 Axes>"
      ]
     },
     "metadata": {},
     "output_type": "display_data"
    }
   ],
   "source": [
    "plt.plot(K_vec)\n",
    "# plt.plot(np.cumsum(K_vec))"
   ]
  },
  {
   "cell_type": "code",
   "execution_count": null,
   "id": "ffcb26a1-7190-4c30-8e35-3a5a00953f3e",
   "metadata": {},
   "outputs": [],
   "source": [
    "lags = 100\n",
    "rets = -np.log(pd.DataFrame(price, columns=['ret_0'])).diff(-1).dropna()\n",
    "rets = rets.join(pd.DataFrame.from_records({f'ret_{l}':rets.ret_0.shift(-l) for l in range(1, lags + 1)}).loc[:, [f'ret_{l}' for l in range(1, lags + 1)]])\n",
    "rets\n",
    "\n",
    "side = pd.DataFrame(eps, columns=['eps_0'])\n",
    "side = side.join(pd.DataFrame.from_records({f'eps_{l}':side.eps_0.shift(-l) for l in range(1, lags + 1)}).loc[:, [f'eps_{l}' for l in range(1, lags + 1)]])\n",
    "side\n",
    "\n",
    "S = rets.multiply(side.eps_0, axis=0).mean().values\n",
    "c = side.multiply(side.eps_0, axis=0).mean().values\n",
    "C = np.empty((lags + 1, lags + 1))\n",
    "for i in range(lags + 1):\n",
    "    for j in range(lags + 1):\n",
    "        C[i, j] = c[abs(i - j)]\n",
    "        \n",
    "K = lin.inv(C).dot(S)\n",
    "G_est = np.cumsum(np.concatenate(([0], K)))"
   ]
  }
 ],
 "metadata": {
  "kernelspec": {
   "display_name": "venv",
   "language": "python",
   "name": "venv"
  },
  "language_info": {
   "codemirror_mode": {
    "name": "ipython",
    "version": 3
   },
   "file_extension": ".py",
   "mimetype": "text/x-python",
   "name": "python",
   "nbconvert_exporter": "python",
   "pygments_lexer": "ipython3",
   "version": "3.9.13"
  }
 },
 "nbformat": 4,
 "nbformat_minor": 5
}
