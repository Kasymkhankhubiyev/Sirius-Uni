{
 "cells": [
  {
   "cell_type": "code",
   "execution_count": 1,
   "id": "3f3938b0-7235-40d4-85ca-f2a441b33437",
   "metadata": {},
   "outputs": [],
   "source": [
    "import asyncio\n",
    "import json\n",
    "import pandas as pd\n",
    "from time import sleep\n",
    "import pprint\n",
    "import hmac\n",
    "import hashlib\n",
    "from datetime import datetime\n",
    "import nest_asyncio\n",
    "import numpy as np\n",
    "import websockets\n",
    "\n",
    "\n",
    "from keys import URL, CLIENT_ID, CLIENT_SECRET\n",
    "\n",
    "nest_asyncio.apply()"
   ]
  },
  {
   "cell_type": "code",
   "execution_count": 2,
   "id": "4b92c8fa-ab9a-40a9-a72d-d7afe17ff681",
   "metadata": {},
   "outputs": [],
   "source": [
    "url = URL\n",
    "clientId = CLIENT_ID\n",
    "clientSecret = CLIENT_SECRET"
   ]
  },
  {
   "cell_type": "code",
   "execution_count": 45,
   "id": "2c58c1b7-c222-42b8-b5ef-5bcce3fd0f70",
   "metadata": {},
   "outputs": [],
   "source": [
    "auth_msg = {\n",
    "    \"jsonrpc\":\"2.0\",\n",
    "    \"id\":42,\n",
    "    \"method\":\"public/auth\",\n",
    "    \"params\":{\n",
    "        \"grant_type\":\"client_credentials\",\n",
    "        \"client_id\" : clientId,\n",
    "        \"client_secret\" : clientSecret\n",
    "        \n",
    "    }\n",
    "    \n",
    "}\n",
    "\n",
    "order_book_msg = {\n",
    "    \"jsonrpc\": \"2.0\",\n",
    "    \"id\": 42,\n",
    "    \"method\": \"public/get_order_book\",\n",
    "    \"params\": {\n",
    "        \"instrument_name\": \"BTC-2FEB24\",\n",
    "        \"depth\": 30\n",
    "    }\n",
    "}\n",
    "\n",
    "cancel_msg = {\n",
    "    \"jsonrpc\" : \"2.0\",\n",
    "    \"id\" : 42,\n",
    "    \"method\" : \"private/cancel_all_by_instrument\",\n",
    "    \"params\" : {\n",
    "    \"instrument_name\" : \"BTC-2FEB24\" \n",
    "    }\n",
    "}"
   ]
  },
  {
   "cell_type": "code",
   "execution_count": 29,
   "id": "66fa0d52-dba5-4a78-b393-a0463ad9f086",
   "metadata": {},
   "outputs": [],
   "source": [
    "async def pub_api(msg):\n",
    "        async with websockets.connect(url) as websocket:\n",
    "            await websocket.send(msg)\n",
    "            while websocket.open:\n",
    "                response = await websocket.recv()\n",
    "                return json.loads(response)\n",
    "        \n",
    "async def priv_api(msg):\n",
    "        async with websockets.connect(url) as websocket:\n",
    "            await websocket.send(json.dumps(auth_msg))\n",
    "            while websocket.open:\n",
    "                response = await websocket.recv()\n",
    "                await websocket.send(msg)\n",
    "                response = await websocket.recv()\n",
    "                break\n",
    "            return json.loads(response)"
   ]
  },
  {
   "cell_type": "code",
   "execution_count": 42,
   "id": "9936d3ce-f0e7-4eba-b12f-b18f5a7c83bc",
   "metadata": {},
   "outputs": [],
   "source": [
    "book = asyncio.get_event_loop().run_until_complete(pub_api(json.dumps(order_book_msg)))"
   ]
  },
  {
   "cell_type": "code",
   "execution_count": 43,
   "id": "5e349897-261f-48e5-90ab-ec322a083b21",
   "metadata": {},
   "outputs": [
    {
     "data": {
      "text/plain": [
       "42750.0"
      ]
     },
     "execution_count": 43,
     "metadata": {},
     "output_type": "execute_result"
    }
   ],
   "source": [
    "book['result']['bids'][0][0]"
   ]
  },
  {
   "cell_type": "code",
   "execution_count": 36,
   "id": "8f1b5546-3c2c-40ff-b9cc-1645df531fa6",
   "metadata": {},
   "outputs": [],
   "source": [
    "def order_msg(price,side,weight):\n",
    "    return {\n",
    "      \"jsonrpc\" : \"2.0\",\n",
    "      \"id\" : 42,\n",
    "      \"method\" : \"private/\"+side,\n",
    "      \"params\" : {\n",
    "        \"instrument_name\" : \"BTC-2FEB24\",\n",
    "        \"amount\" : round(weight),\n",
    "        \"type\" : \"limit\",\n",
    "        \"label\" : \"order_\"+side,\n",
    "        \"price\" : price,\n",
    "        \"time_in_force\": \"good_til_cancelled\",\n",
    "        \"post_only\": True\n",
    "      }\n",
    "    }"
   ]
  },
  {
   "cell_type": "code",
   "execution_count": 48,
   "id": "e4e4270d-cbaa-4e87-be81-ebe5780120e7",
   "metadata": {},
   "outputs": [],
   "source": [
    "cancel = asyncio.get_event_loop().run_until_complete(priv_api(json.dumps(cancel_msg)))"
   ]
  },
  {
   "cell_type": "code",
   "execution_count": 51,
   "id": "1aca3055-4f92-4d6d-8a0b-d58aa301d044",
   "metadata": {},
   "outputs": [],
   "source": [
    "# set a limit order\n",
    "book = asyncio.get_event_loop().run_until_complete(pub_api(json.dumps(order_book_msg)))\n",
    "\n",
    "# limit_order = asyncio.get_event_loop().run_until_complete(priv_api(json.dumps(order_msg(book['result']['asks'][0][0], 'buy', 10))))\n",
    "\n",
    "limit_order = asyncio.get_event_loop().run_until_complete(priv_api(json.dumps(order_msg(book['result']['asks'][0][0], 'sell', 10))))\n",
    "\n",
    "# limit_order = asyncio.get_event_loop().run_until_complete(priv_api(json.dumps(order_msg(1, 'sell', 10))))"
   ]
  },
  {
   "cell_type": "code",
   "execution_count": null,
   "id": "dfcf82b8-80f8-4454-a69d-ee1ff7127c51",
   "metadata": {},
   "outputs": [],
   "source": []
  }
 ],
 "metadata": {
  "kernelspec": {
   "display_name": "venv",
   "language": "python",
   "name": "venv"
  },
  "language_info": {
   "codemirror_mode": {
    "name": "ipython",
    "version": 3
   },
   "file_extension": ".py",
   "mimetype": "text/x-python",
   "name": "python",
   "nbconvert_exporter": "python",
   "pygments_lexer": "ipython3",
   "version": "3.9.13"
  }
 },
 "nbformat": 4,
 "nbformat_minor": 5
}
