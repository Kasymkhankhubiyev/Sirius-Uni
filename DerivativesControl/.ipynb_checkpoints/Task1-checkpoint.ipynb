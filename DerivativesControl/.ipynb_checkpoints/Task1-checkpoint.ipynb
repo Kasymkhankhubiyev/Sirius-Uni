{
 "cells": [
  {
   "cell_type": "code",
   "execution_count": 80,
   "id": "9d031419-5179-4c1a-8175-07e3ceb7a1f8",
   "metadata": {},
   "outputs": [],
   "source": [
    "import numpy as np\n",
    "import pandas as pd\n",
    "import matplotlib.pyplot as plt\n",
    "\n",
    "import os\n",
    "import datetime"
   ]
  },
  {
   "cell_type": "code",
   "execution_count": 2,
   "id": "0ff096b2-c2d0-4e6e-b57e-3b81ed2abf58",
   "metadata": {},
   "outputs": [
    {
     "data": {
      "text/plain": [
       "['Open.csv', 'High.csv', 'Close.csv', 'Low.csv', 'Volume.csv']"
      ]
     },
     "execution_count": 2,
     "metadata": {},
     "output_type": "execute_result"
    }
   ],
   "source": [
    "dataset_dir = './dataset_2010_2014'\n",
    "os.listdir(dataset_dir)"
   ]
  },
  {
   "cell_type": "code",
   "execution_count": 3,
   "id": "f3334b4b-0190-4b11-9e7e-44f1dfb280ab",
   "metadata": {},
   "outputs": [],
   "source": [
    "open_df = pd.read_csv(dataset_dir + '/Open.csv')\n",
    "high_df = pd.read_csv(dataset_dir + '/High.csv')\n",
    "close_df = pd.read_csv(dataset_dir + '/Close.csv')\n",
    "low_df = pd.read_csv(dataset_dir + '/Low.csv')\n",
    "volume_df = pd.read_csv(dataset_dir + '/Volume.csv')"
   ]
  },
  {
   "cell_type": "code",
   "execution_count": 4,
   "id": "d943bf88-544f-4738-aaf2-7dc8434fc804",
   "metadata": {},
   "outputs": [
    {
     "data": {
      "text/html": [
       "<div>\n",
       "<style scoped>\n",
       "    .dataframe tbody tr th:only-of-type {\n",
       "        vertical-align: middle;\n",
       "    }\n",
       "\n",
       "    .dataframe tbody tr th {\n",
       "        vertical-align: top;\n",
       "    }\n",
       "\n",
       "    .dataframe thead th {\n",
       "        text-align: right;\n",
       "    }\n",
       "</style>\n",
       "<table border=\"1\" class=\"dataframe\">\n",
       "  <thead>\n",
       "    <tr style=\"text-align: right;\">\n",
       "      <th></th>\n",
       "      <th>Unnamed: 0</th>\n",
       "      <th>2010-01-04</th>\n",
       "      <th>2010-01-05</th>\n",
       "      <th>2010-01-06</th>\n",
       "      <th>2010-01-07</th>\n",
       "      <th>2010-01-08</th>\n",
       "      <th>2010-01-11</th>\n",
       "      <th>2010-01-12</th>\n",
       "      <th>2010-01-13</th>\n",
       "      <th>2010-01-14</th>\n",
       "      <th>...</th>\n",
       "      <th>2014-12-17</th>\n",
       "      <th>2014-12-18</th>\n",
       "      <th>2014-12-19</th>\n",
       "      <th>2014-12-22</th>\n",
       "      <th>2014-12-23</th>\n",
       "      <th>2014-12-24</th>\n",
       "      <th>2014-12-26</th>\n",
       "      <th>2014-12-29</th>\n",
       "      <th>2014-12-30</th>\n",
       "      <th>2014-12-31</th>\n",
       "    </tr>\n",
       "  </thead>\n",
       "  <tbody>\n",
       "    <tr>\n",
       "      <th>0</th>\n",
       "      <td>iba.us</td>\n",
       "      <td>20.9550</td>\n",
       "      <td>20.2590</td>\n",
       "      <td>20.8660</td>\n",
       "      <td>20.6740</td>\n",
       "      <td>20.7960</td>\n",
       "      <td>20.8490</td>\n",
       "      <td>20.2950</td>\n",
       "      <td>20.6640</td>\n",
       "      <td>20.7340</td>\n",
       "      <td>...</td>\n",
       "      <td>47.455</td>\n",
       "      <td>48.479</td>\n",
       "      <td>49.437</td>\n",
       "      <td>49.133</td>\n",
       "      <td>48.308</td>\n",
       "      <td>47.625</td>\n",
       "      <td>48.014</td>\n",
       "      <td>48.101</td>\n",
       "      <td>47.996</td>\n",
       "      <td>47.455</td>\n",
       "    </tr>\n",
       "    <tr>\n",
       "      <th>1</th>\n",
       "      <td>wpz.us</td>\n",
       "      <td>22.0330</td>\n",
       "      <td>22.3830</td>\n",
       "      <td>22.6670</td>\n",
       "      <td>22.6600</td>\n",
       "      <td>22.1040</td>\n",
       "      <td>22.3550</td>\n",
       "      <td>21.9840</td>\n",
       "      <td>22.0560</td>\n",
       "      <td>21.9030</td>\n",
       "      <td>...</td>\n",
       "      <td>37.892</td>\n",
       "      <td>39.579</td>\n",
       "      <td>39.442</td>\n",
       "      <td>39.049</td>\n",
       "      <td>41.309</td>\n",
       "      <td>42.097</td>\n",
       "      <td>41.828</td>\n",
       "      <td>41.145</td>\n",
       "      <td>40.834</td>\n",
       "      <td>40.619</td>\n",
       "    </tr>\n",
       "    <tr>\n",
       "      <th>2</th>\n",
       "      <td>flic.us</td>\n",
       "      <td>9.2675</td>\n",
       "      <td>9.2675</td>\n",
       "      <td>9.1616</td>\n",
       "      <td>9.0283</td>\n",
       "      <td>9.0356</td>\n",
       "      <td>9.0571</td>\n",
       "      <td>9.2792</td>\n",
       "      <td>9.3094</td>\n",
       "      <td>9.2258</td>\n",
       "      <td>...</td>\n",
       "      <td>15.899</td>\n",
       "      <td>16.752</td>\n",
       "      <td>16.993</td>\n",
       "      <td>16.950</td>\n",
       "      <td>16.685</td>\n",
       "      <td>17.024</td>\n",
       "      <td>17.055</td>\n",
       "      <td>17.636</td>\n",
       "      <td>17.926</td>\n",
       "      <td>17.696</td>\n",
       "    </tr>\n",
       "    <tr>\n",
       "      <th>3</th>\n",
       "      <td>ncs.us</td>\n",
       "      <td>9.2500</td>\n",
       "      <td>10.3000</td>\n",
       "      <td>10.4500</td>\n",
       "      <td>10.1000</td>\n",
       "      <td>10.4000</td>\n",
       "      <td>11.6000</td>\n",
       "      <td>11.1000</td>\n",
       "      <td>10.7500</td>\n",
       "      <td>10.6500</td>\n",
       "      <td>...</td>\n",
       "      <td>17.380</td>\n",
       "      <td>18.190</td>\n",
       "      <td>17.820</td>\n",
       "      <td>17.450</td>\n",
       "      <td>17.770</td>\n",
       "      <td>17.680</td>\n",
       "      <td>17.860</td>\n",
       "      <td>17.970</td>\n",
       "      <td>18.600</td>\n",
       "      <td>18.670</td>\n",
       "    </tr>\n",
       "    <tr>\n",
       "      <th>4</th>\n",
       "      <td>gpk.us</td>\n",
       "      <td>3.4102</td>\n",
       "      <td>3.4959</td>\n",
       "      <td>3.4388</td>\n",
       "      <td>3.3435</td>\n",
       "      <td>3.5341</td>\n",
       "      <td>3.4197</td>\n",
       "      <td>3.3624</td>\n",
       "      <td>3.3530</td>\n",
       "      <td>3.2958</td>\n",
       "      <td>...</td>\n",
       "      <td>12.394</td>\n",
       "      <td>12.792</td>\n",
       "      <td>12.868</td>\n",
       "      <td>12.848</td>\n",
       "      <td>13.038</td>\n",
       "      <td>13.097</td>\n",
       "      <td>13.261</td>\n",
       "      <td>13.373</td>\n",
       "      <td>13.232</td>\n",
       "      <td>13.232</td>\n",
       "    </tr>\n",
       "  </tbody>\n",
       "</table>\n",
       "<p>5 rows × 1258 columns</p>\n",
       "</div>"
      ],
      "text/plain": [
       "  Unnamed: 0  2010-01-04  2010-01-05  2010-01-06  2010-01-07  2010-01-08  \\\n",
       "0     iba.us     20.9550     20.2590     20.8660     20.6740     20.7960   \n",
       "1     wpz.us     22.0330     22.3830     22.6670     22.6600     22.1040   \n",
       "2    flic.us      9.2675      9.2675      9.1616      9.0283      9.0356   \n",
       "3     ncs.us      9.2500     10.3000     10.4500     10.1000     10.4000   \n",
       "4     gpk.us      3.4102      3.4959      3.4388      3.3435      3.5341   \n",
       "\n",
       "   2010-01-11  2010-01-12  2010-01-13  2010-01-14  ...  2014-12-17  \\\n",
       "0     20.8490     20.2950     20.6640     20.7340  ...      47.455   \n",
       "1     22.3550     21.9840     22.0560     21.9030  ...      37.892   \n",
       "2      9.0571      9.2792      9.3094      9.2258  ...      15.899   \n",
       "3     11.6000     11.1000     10.7500     10.6500  ...      17.380   \n",
       "4      3.4197      3.3624      3.3530      3.2958  ...      12.394   \n",
       "\n",
       "   2014-12-18  2014-12-19  2014-12-22  2014-12-23  2014-12-24  2014-12-26  \\\n",
       "0      48.479      49.437      49.133      48.308      47.625      48.014   \n",
       "1      39.579      39.442      39.049      41.309      42.097      41.828   \n",
       "2      16.752      16.993      16.950      16.685      17.024      17.055   \n",
       "3      18.190      17.820      17.450      17.770      17.680      17.860   \n",
       "4      12.792      12.868      12.848      13.038      13.097      13.261   \n",
       "\n",
       "   2014-12-29  2014-12-30  2014-12-31  \n",
       "0      48.101      47.996      47.455  \n",
       "1      41.145      40.834      40.619  \n",
       "2      17.636      17.926      17.696  \n",
       "3      17.970      18.600      18.670  \n",
       "4      13.373      13.232      13.232  \n",
       "\n",
       "[5 rows x 1258 columns]"
      ]
     },
     "execution_count": 4,
     "metadata": {},
     "output_type": "execute_result"
    }
   ],
   "source": [
    "close_df.head()"
   ]
  },
  {
   "cell_type": "code",
   "execution_count": 5,
   "id": "14cc52a4-5461-4ae4-9c54-156914f293e7",
   "metadata": {},
   "outputs": [
    {
     "name": "stdout",
     "output_type": "stream",
     "text": [
      "<class 'pandas.core.frame.DataFrame'>\n",
      "RangeIndex: 4872 entries, 0 to 4871\n",
      "Columns: 1258 entries, Unnamed: 0 to 2014-12-31\n",
      "dtypes: float64(1257), object(1)\n",
      "memory usage: 46.8+ MB\n",
      "None\n"
     ]
    }
   ],
   "source": [
    "print(close_df.info())"
   ]
  },
  {
   "cell_type": "code",
   "execution_count": 6,
   "id": "6544cb6a-a8a4-4289-a88f-b0e8aacea0fb",
   "metadata": {},
   "outputs": [
    {
     "data": {
      "text/html": [
       "<div>\n",
       "<style scoped>\n",
       "    .dataframe tbody tr th:only-of-type {\n",
       "        vertical-align: middle;\n",
       "    }\n",
       "\n",
       "    .dataframe tbody tr th {\n",
       "        vertical-align: top;\n",
       "    }\n",
       "\n",
       "    .dataframe thead th {\n",
       "        text-align: right;\n",
       "    }\n",
       "</style>\n",
       "<table border=\"1\" class=\"dataframe\">\n",
       "  <thead>\n",
       "    <tr style=\"text-align: right;\">\n",
       "      <th></th>\n",
       "      <th>Unnamed: 0</th>\n",
       "      <th>2010-01-04</th>\n",
       "      <th>2010-01-05</th>\n",
       "      <th>2010-01-06</th>\n",
       "      <th>2010-01-07</th>\n",
       "      <th>2010-01-08</th>\n",
       "      <th>2010-01-11</th>\n",
       "      <th>2010-01-12</th>\n",
       "      <th>2010-01-13</th>\n",
       "      <th>2010-01-14</th>\n",
       "      <th>...</th>\n",
       "      <th>2014-12-17</th>\n",
       "      <th>2014-12-18</th>\n",
       "      <th>2014-12-19</th>\n",
       "      <th>2014-12-22</th>\n",
       "      <th>2014-12-23</th>\n",
       "      <th>2014-12-24</th>\n",
       "      <th>2014-12-26</th>\n",
       "      <th>2014-12-29</th>\n",
       "      <th>2014-12-30</th>\n",
       "      <th>2014-12-31</th>\n",
       "    </tr>\n",
       "  </thead>\n",
       "  <tbody>\n",
       "    <tr>\n",
       "      <th>0</th>\n",
       "      <td>iba.us</td>\n",
       "      <td>20.9550</td>\n",
       "      <td>20.2590</td>\n",
       "      <td>20.8660</td>\n",
       "      <td>20.6740</td>\n",
       "      <td>20.7960</td>\n",
       "      <td>20.8490</td>\n",
       "      <td>20.2950</td>\n",
       "      <td>20.6640</td>\n",
       "      <td>20.7340</td>\n",
       "      <td>...</td>\n",
       "      <td>47.455</td>\n",
       "      <td>48.479</td>\n",
       "      <td>49.437</td>\n",
       "      <td>49.133</td>\n",
       "      <td>48.308</td>\n",
       "      <td>47.625</td>\n",
       "      <td>48.014</td>\n",
       "      <td>48.101</td>\n",
       "      <td>47.996</td>\n",
       "      <td>47.455</td>\n",
       "    </tr>\n",
       "    <tr>\n",
       "      <th>1</th>\n",
       "      <td>wpz.us</td>\n",
       "      <td>22.0330</td>\n",
       "      <td>22.3830</td>\n",
       "      <td>22.6670</td>\n",
       "      <td>22.6600</td>\n",
       "      <td>22.1040</td>\n",
       "      <td>22.3550</td>\n",
       "      <td>21.9840</td>\n",
       "      <td>22.0560</td>\n",
       "      <td>21.9030</td>\n",
       "      <td>...</td>\n",
       "      <td>37.892</td>\n",
       "      <td>39.579</td>\n",
       "      <td>39.442</td>\n",
       "      <td>39.049</td>\n",
       "      <td>41.309</td>\n",
       "      <td>42.097</td>\n",
       "      <td>41.828</td>\n",
       "      <td>41.145</td>\n",
       "      <td>40.834</td>\n",
       "      <td>40.619</td>\n",
       "    </tr>\n",
       "    <tr>\n",
       "      <th>2</th>\n",
       "      <td>flic.us</td>\n",
       "      <td>9.2675</td>\n",
       "      <td>9.2675</td>\n",
       "      <td>9.1616</td>\n",
       "      <td>9.0283</td>\n",
       "      <td>9.0356</td>\n",
       "      <td>9.0571</td>\n",
       "      <td>9.2792</td>\n",
       "      <td>9.3094</td>\n",
       "      <td>9.2258</td>\n",
       "      <td>...</td>\n",
       "      <td>15.899</td>\n",
       "      <td>16.752</td>\n",
       "      <td>16.993</td>\n",
       "      <td>16.950</td>\n",
       "      <td>16.685</td>\n",
       "      <td>17.024</td>\n",
       "      <td>17.055</td>\n",
       "      <td>17.636</td>\n",
       "      <td>17.926</td>\n",
       "      <td>17.696</td>\n",
       "    </tr>\n",
       "    <tr>\n",
       "      <th>3</th>\n",
       "      <td>ncs.us</td>\n",
       "      <td>9.2500</td>\n",
       "      <td>10.3000</td>\n",
       "      <td>10.4500</td>\n",
       "      <td>10.1000</td>\n",
       "      <td>10.4000</td>\n",
       "      <td>11.6000</td>\n",
       "      <td>11.1000</td>\n",
       "      <td>10.7500</td>\n",
       "      <td>10.6500</td>\n",
       "      <td>...</td>\n",
       "      <td>17.380</td>\n",
       "      <td>18.190</td>\n",
       "      <td>17.820</td>\n",
       "      <td>17.450</td>\n",
       "      <td>17.770</td>\n",
       "      <td>17.680</td>\n",
       "      <td>17.860</td>\n",
       "      <td>17.970</td>\n",
       "      <td>18.600</td>\n",
       "      <td>18.670</td>\n",
       "    </tr>\n",
       "    <tr>\n",
       "      <th>4</th>\n",
       "      <td>gpk.us</td>\n",
       "      <td>3.4102</td>\n",
       "      <td>3.4959</td>\n",
       "      <td>3.4388</td>\n",
       "      <td>3.3435</td>\n",
       "      <td>3.5341</td>\n",
       "      <td>3.4197</td>\n",
       "      <td>3.3624</td>\n",
       "      <td>3.3530</td>\n",
       "      <td>3.2958</td>\n",
       "      <td>...</td>\n",
       "      <td>12.394</td>\n",
       "      <td>12.792</td>\n",
       "      <td>12.868</td>\n",
       "      <td>12.848</td>\n",
       "      <td>13.038</td>\n",
       "      <td>13.097</td>\n",
       "      <td>13.261</td>\n",
       "      <td>13.373</td>\n",
       "      <td>13.232</td>\n",
       "      <td>13.232</td>\n",
       "    </tr>\n",
       "  </tbody>\n",
       "</table>\n",
       "<p>5 rows × 1258 columns</p>\n",
       "</div>"
      ],
      "text/plain": [
       "  Unnamed: 0  2010-01-04  2010-01-05  2010-01-06  2010-01-07  2010-01-08  \\\n",
       "0     iba.us     20.9550     20.2590     20.8660     20.6740     20.7960   \n",
       "1     wpz.us     22.0330     22.3830     22.6670     22.6600     22.1040   \n",
       "2    flic.us      9.2675      9.2675      9.1616      9.0283      9.0356   \n",
       "3     ncs.us      9.2500     10.3000     10.4500     10.1000     10.4000   \n",
       "4     gpk.us      3.4102      3.4959      3.4388      3.3435      3.5341   \n",
       "\n",
       "   2010-01-11  2010-01-12  2010-01-13  2010-01-14  ...  2014-12-17  \\\n",
       "0     20.8490     20.2950     20.6640     20.7340  ...      47.455   \n",
       "1     22.3550     21.9840     22.0560     21.9030  ...      37.892   \n",
       "2      9.0571      9.2792      9.3094      9.2258  ...      15.899   \n",
       "3     11.6000     11.1000     10.7500     10.6500  ...      17.380   \n",
       "4      3.4197      3.3624      3.3530      3.2958  ...      12.394   \n",
       "\n",
       "   2014-12-18  2014-12-19  2014-12-22  2014-12-23  2014-12-24  2014-12-26  \\\n",
       "0      48.479      49.437      49.133      48.308      47.625      48.014   \n",
       "1      39.579      39.442      39.049      41.309      42.097      41.828   \n",
       "2      16.752      16.993      16.950      16.685      17.024      17.055   \n",
       "3      18.190      17.820      17.450      17.770      17.680      17.860   \n",
       "4      12.792      12.868      12.848      13.038      13.097      13.261   \n",
       "\n",
       "   2014-12-29  2014-12-30  2014-12-31  \n",
       "0      48.101      47.996      47.455  \n",
       "1      41.145      40.834      40.619  \n",
       "2      17.636      17.926      17.696  \n",
       "3      17.970      18.600      18.670  \n",
       "4      13.373      13.232      13.232  \n",
       "\n",
       "[5 rows x 1258 columns]"
      ]
     },
     "execution_count": 6,
     "metadata": {},
     "output_type": "execute_result"
    }
   ],
   "source": [
    "close_df.head()"
   ]
  },
  {
   "cell_type": "code",
   "execution_count": 7,
   "id": "36896a71-6f79-4125-afb2-44a77dc1ee4d",
   "metadata": {},
   "outputs": [
    {
     "data": {
      "text/plain": [
       "(4872, 1258)"
      ]
     },
     "execution_count": 7,
     "metadata": {},
     "output_type": "execute_result"
    }
   ],
   "source": [
    "close_df.shape"
   ]
  },
  {
   "cell_type": "markdown",
   "id": "3b550ed2-87d9-42c8-833b-1414bda31f99",
   "metadata": {},
   "source": [
    "**Задача 1**\n",
    "\n",
    "Написать функцию нейтрализации. На вход подается вектор произвольной длины, на выходе нейтрализованный вектор."
   ]
  },
  {
   "cell_type": "code",
   "execution_count": 8,
   "id": "fb53d22f-3492-4750-8c35-6197a859e318",
   "metadata": {},
   "outputs": [],
   "source": [
    "def neutralize(alpha: np.array) -> np.array:\n",
    "    \"\"\"\n",
    "        Функция нейтрализации вектора альфы длины N, т.е. сумма \n",
    "        элементов вектора равна нулю.\n",
    "\n",
    "        math:: `\\alpha_i = \\frac{\\Sigma\\alpha_i}{N}`,\n",
    "\n",
    "        Аргументы:\n",
    "\n",
    "        Возвращаемое значение:\n",
    "        \n",
    "    \"\"\"\n",
    "    return alpha - (alpha.sum() / len(alpha))"
   ]
  },
  {
   "cell_type": "code",
   "execution_count": 9,
   "id": "43ccd1fe-4453-41dd-85b4-520c34831fab",
   "metadata": {},
   "outputs": [
    {
     "name": "stdout",
     "output_type": "stream",
     "text": [
      "[1 2 3 4 5 6 7 8 9]\n",
      "Sum = 45\n"
     ]
    }
   ],
   "source": [
    "alpha = np.arange(1, 10)\n",
    "print(alpha)\n",
    "print(f'Sum = {alpha.sum()}')"
   ]
  },
  {
   "cell_type": "code",
   "execution_count": 10,
   "id": "bc1f986a-5c10-409b-950f-38e4e864d76e",
   "metadata": {},
   "outputs": [
    {
     "name": "stdout",
     "output_type": "stream",
     "text": [
      "[-4. -3. -2. -1.  0.  1.  2.  3.  4.]\n",
      "Sum = 0.0\n"
     ]
    }
   ],
   "source": [
    "alpha = neutralize(alpha)\n",
    "print(alpha)\n",
    "print(f'Sum = {alpha.sum()}')"
   ]
  },
  {
   "cell_type": "markdown",
   "id": "5a993a3e-ec6b-43b0-b9bd-a1063eef7df3",
   "metadata": {},
   "source": [
    "**Задача 2**\n",
    "\n",
    "Написать функцию нейтрализации. На вход подается вектор произвольной длины, на выходе нормализованный вектор."
   ]
  },
  {
   "cell_type": "code",
   "execution_count": 11,
   "id": "613ed889-e093-4272-a4d4-4243dd90ef96",
   "metadata": {},
   "outputs": [],
   "source": [
    "def normalize(alpha: np.array) -> np.array:\n",
    "    \"\"\"\n",
    "        Функция нормализации вектора альфы длины N, преобразует вектора так,\n",
    "        что сумма модулей эдементов равна 1.\n",
    "\n",
    "        math:: `\\alpha_i = \\frac{\\alpha_i}{\\Sigma|\\alpha_i|}`\n",
    "\n",
    "        Аргументы:\n",
    "\n",
    "        Возвращаемое значение:\n",
    "        \n",
    "    \"\"\"\n",
    "    return alpha / np.abs(alpha).sum()"
   ]
  },
  {
   "cell_type": "code",
   "execution_count": 12,
   "id": "5c6ef1fb-e3fc-4c19-af64-05fd46e6f4b3",
   "metadata": {},
   "outputs": [
    {
     "name": "stdout",
     "output_type": "stream",
     "text": [
      "[1 2 3 4 5 6 7 8 9]\n",
      "Module sum = 45\n"
     ]
    }
   ],
   "source": [
    "alpha = np.arange(1, 10)\n",
    "print(alpha)\n",
    "print(f'Module sum = {np.abs(alpha).sum()}')"
   ]
  },
  {
   "cell_type": "code",
   "execution_count": 13,
   "id": "272ff17d-1aa1-4ec2-8d0d-9195b1853118",
   "metadata": {},
   "outputs": [
    {
     "name": "stdout",
     "output_type": "stream",
     "text": [
      "[0.02222222 0.04444444 0.06666667 0.08888889 0.11111111 0.13333333\n",
      " 0.15555556 0.17777778 0.2       ]\n",
      "Module sum = 1.0\n"
     ]
    }
   ],
   "source": [
    "alpha = normalize(alpha)\n",
    "print(alpha)\n",
    "print(f'Module sum = {np.abs(alpha).sum()}')"
   ]
  },
  {
   "cell_type": "markdown",
   "id": "cc8dfd30-f0f9-4fa9-81fd-ce4ed1ccc1a3",
   "metadata": {},
   "source": [
    "**Задание 3**\n",
    "\n",
    "Построить альфу с помощью выражения $-close_i(d-1)/close_i(d-6)$, операций нормализации и нейтрализации. Вывести несколько векторов позиций и проверить, что они нейтрализованы и нормализованы."
   ]
  },
  {
   "cell_type": "code",
   "execution_count": 14,
   "id": "a9768733-5dae-4999-8e4c-92a82b790bea",
   "metadata": {},
   "outputs": [],
   "source": [
    "def reverse_alpha(df: pd.DataFrame, start_date: str, end_date: str) -> np.array:\n",
    "    \"\"\"\n",
    "        Функуция рассчитывает альфы типа Reverse по временному срезу\n",
    "    \"\"\"\n",
    "    return - df[end_date] / df[start_date]  # хранить например как матрицу"
   ]
  },
  {
   "cell_type": "code",
   "execution_count": 15,
   "id": "8be39fa1-7409-4477-93de-73d6a321c9be",
   "metadata": {},
   "outputs": [
    {
     "data": {
      "text/plain": [
       "(1257,)"
      ]
     },
     "execution_count": 15,
     "metadata": {},
     "output_type": "execute_result"
    }
   ],
   "source": [
    "close_df.columns[1:].shape"
   ]
  },
  {
   "cell_type": "code",
   "execution_count": 16,
   "id": "32263848-259f-4e3e-8e3b-d05d9b8be263",
   "metadata": {},
   "outputs": [],
   "source": [
    "def make_alphas_state_matrix(df: pd.DataFrame, days_step: int):\n",
    "    instruments_number = df.shape[0]\n",
    "    dates = df.columns[1:]\n",
    "    alpha_states = np.zeros((df.shape[1]-1, instruments_number))\n",
    "    for i in range(days_step, len(dates)):\n",
    "        alpha_states[i] += normalize(neutralize(reverse_alpha(df, dates[i - days_step], dates[i-1])))\n",
    "\n",
    "    return alpha_states"
   ]
  },
  {
   "cell_type": "code",
   "execution_count": 17,
   "id": "b041f4ad-a2af-4108-b99f-6382fcc794c6",
   "metadata": {},
   "outputs": [
    {
     "data": {
      "text/plain": [
       "(1257, 4872)"
      ]
     },
     "execution_count": 17,
     "metadata": {},
     "output_type": "execute_result"
    }
   ],
   "source": [
    "alpha_states = make_alphas_state_matrix(close_df, 6)\n",
    "alpha_states.shape"
   ]
  },
  {
   "cell_type": "code",
   "execution_count": 18,
   "id": "a419dc36-683e-4a03-af5a-49e2efcacb48",
   "metadata": {},
   "outputs": [
    {
     "data": {
      "text/plain": [
       "Index(['2010-01-04', '2010-01-05', '2010-01-06', '2010-01-07', '2010-01-08',\n",
       "       '2010-01-11', '2010-01-12', '2010-01-13', '2010-01-14', '2010-01-15',\n",
       "       ...\n",
       "       '2014-12-17', '2014-12-18', '2014-12-19', '2014-12-22', '2014-12-23',\n",
       "       '2014-12-24', '2014-12-26', '2014-12-29', '2014-12-30', '2014-12-31'],\n",
       "      dtype='object', length=1257)"
      ]
     },
     "execution_count": 18,
     "metadata": {},
     "output_type": "execute_result"
    }
   ],
   "source": [
    "dates = close_df.columns[1:]\n",
    "dates"
   ]
  },
  {
   "cell_type": "code",
   "execution_count": 19,
   "id": "14963c21-c819-4440-81d0-fa9d691ab3e4",
   "metadata": {},
   "outputs": [],
   "source": [
    "days = [10, 115, 467, 1200]"
   ]
  },
  {
   "cell_type": "code",
   "execution_count": 20,
   "id": "0418a185-419f-4fb2-a504-a225f85e653d",
   "metadata": {},
   "outputs": [
    {
     "data": {
      "text/plain": [
       "(4872,)"
      ]
     },
     "execution_count": 20,
     "metadata": {},
     "output_type": "execute_result"
    }
   ],
   "source": [
    "alpha_1 = reverse_alpha(close_df, dates[days[0]], dates[days[0]-6])\n",
    "alpha_1 = normalize(neutralize(alpha_1))\n",
    "alpha_1.shape"
   ]
  },
  {
   "cell_type": "code",
   "execution_count": 21,
   "id": "82ecbec4-06fb-4208-8173-ace9cedf96d3",
   "metadata": {},
   "outputs": [
    {
     "data": {
      "text/plain": [
       "-7.945033519973776e-16"
      ]
     },
     "execution_count": 21,
     "metadata": {},
     "output_type": "execute_result"
    }
   ],
   "source": [
    "alpha_1.sum()"
   ]
  },
  {
   "cell_type": "code",
   "execution_count": 22,
   "id": "100c6d1e-8fd3-4848-84d8-6047d3c50def",
   "metadata": {},
   "outputs": [
    {
     "data": {
      "text/plain": [
       "1.0"
      ]
     },
     "execution_count": 22,
     "metadata": {},
     "output_type": "execute_result"
    }
   ],
   "source": [
    "np.abs(alpha_1).sum()"
   ]
  },
  {
   "cell_type": "code",
   "execution_count": 23,
   "id": "e1572468-4dd0-4861-b237-d5ad3fdb8fad",
   "metadata": {},
   "outputs": [],
   "source": [
    "alphas = [normalize(neutralize(reverse_alpha(close_df, dates[days[i]], dates[days[i] - 6]))) for i in range(len(days))]"
   ]
  },
  {
   "cell_type": "code",
   "execution_count": 24,
   "id": "771c7e88-4b79-4f1b-a0fc-a2bcdcc93884",
   "metadata": {},
   "outputs": [
    {
     "name": "stdout",
     "output_type": "stream",
     "text": [
      "-7.945033519973776e-16\n",
      "1.0\n",
      "\n",
      "\n",
      "4.440892098500626e-15\n",
      "0.9999999999999998\n",
      "\n",
      "\n",
      "3.70536934468646e-15\n",
      "1.0\n",
      "\n",
      "\n",
      "2.5951463200613034e-15\n",
      "1.0\n",
      "\n",
      "\n"
     ]
    }
   ],
   "source": [
    "for alpha in alphas:\n",
    "    print(alpha.sum())\n",
    "    print(np.abs(alpha).sum())\n",
    "    print('\\n')"
   ]
  },
  {
   "cell_type": "markdown",
   "id": "35158e1e-2c4a-4fb3-a545-00397c5561b4",
   "metadata": {},
   "source": [
    "**Задача 4**\n",
    "\n",
    "Построить матрицу доходностей инструментов. Написать функцию подсчета вектора доходностей альфы. На входе матрица позиций альфы и матрицу доходностей инструментов, на выходе вектор доходностей альфы"
   ]
  },
  {
   "cell_type": "code",
   "execution_count": 25,
   "id": "2f054742-b92d-43e1-bc14-af3f3384b21f",
   "metadata": {},
   "outputs": [
    {
     "data": {
      "text/html": [
       "<div>\n",
       "<style scoped>\n",
       "    .dataframe tbody tr th:only-of-type {\n",
       "        vertical-align: middle;\n",
       "    }\n",
       "\n",
       "    .dataframe tbody tr th {\n",
       "        vertical-align: top;\n",
       "    }\n",
       "\n",
       "    .dataframe thead th {\n",
       "        text-align: right;\n",
       "    }\n",
       "</style>\n",
       "<table border=\"1\" class=\"dataframe\">\n",
       "  <thead>\n",
       "    <tr style=\"text-align: right;\">\n",
       "      <th></th>\n",
       "      <th>Unnamed: 0</th>\n",
       "      <th>2010-01-04</th>\n",
       "      <th>2010-01-05</th>\n",
       "      <th>2010-01-06</th>\n",
       "      <th>2010-01-07</th>\n",
       "      <th>2010-01-08</th>\n",
       "      <th>2010-01-11</th>\n",
       "      <th>2010-01-12</th>\n",
       "      <th>2010-01-13</th>\n",
       "      <th>2010-01-14</th>\n",
       "      <th>...</th>\n",
       "      <th>2014-12-17</th>\n",
       "      <th>2014-12-18</th>\n",
       "      <th>2014-12-19</th>\n",
       "      <th>2014-12-22</th>\n",
       "      <th>2014-12-23</th>\n",
       "      <th>2014-12-24</th>\n",
       "      <th>2014-12-26</th>\n",
       "      <th>2014-12-29</th>\n",
       "      <th>2014-12-30</th>\n",
       "      <th>2014-12-31</th>\n",
       "    </tr>\n",
       "  </thead>\n",
       "  <tbody>\n",
       "    <tr>\n",
       "      <th>0</th>\n",
       "      <td>iba.us</td>\n",
       "      <td>20.9550</td>\n",
       "      <td>20.2590</td>\n",
       "      <td>20.8660</td>\n",
       "      <td>20.6740</td>\n",
       "      <td>20.7960</td>\n",
       "      <td>20.8490</td>\n",
       "      <td>20.2950</td>\n",
       "      <td>20.6640</td>\n",
       "      <td>20.7340</td>\n",
       "      <td>...</td>\n",
       "      <td>47.455</td>\n",
       "      <td>48.479</td>\n",
       "      <td>49.437</td>\n",
       "      <td>49.133</td>\n",
       "      <td>48.308</td>\n",
       "      <td>47.625</td>\n",
       "      <td>48.014</td>\n",
       "      <td>48.101</td>\n",
       "      <td>47.996</td>\n",
       "      <td>47.455</td>\n",
       "    </tr>\n",
       "    <tr>\n",
       "      <th>1</th>\n",
       "      <td>wpz.us</td>\n",
       "      <td>22.0330</td>\n",
       "      <td>22.3830</td>\n",
       "      <td>22.6670</td>\n",
       "      <td>22.6600</td>\n",
       "      <td>22.1040</td>\n",
       "      <td>22.3550</td>\n",
       "      <td>21.9840</td>\n",
       "      <td>22.0560</td>\n",
       "      <td>21.9030</td>\n",
       "      <td>...</td>\n",
       "      <td>37.892</td>\n",
       "      <td>39.579</td>\n",
       "      <td>39.442</td>\n",
       "      <td>39.049</td>\n",
       "      <td>41.309</td>\n",
       "      <td>42.097</td>\n",
       "      <td>41.828</td>\n",
       "      <td>41.145</td>\n",
       "      <td>40.834</td>\n",
       "      <td>40.619</td>\n",
       "    </tr>\n",
       "    <tr>\n",
       "      <th>2</th>\n",
       "      <td>flic.us</td>\n",
       "      <td>9.2675</td>\n",
       "      <td>9.2675</td>\n",
       "      <td>9.1616</td>\n",
       "      <td>9.0283</td>\n",
       "      <td>9.0356</td>\n",
       "      <td>9.0571</td>\n",
       "      <td>9.2792</td>\n",
       "      <td>9.3094</td>\n",
       "      <td>9.2258</td>\n",
       "      <td>...</td>\n",
       "      <td>15.899</td>\n",
       "      <td>16.752</td>\n",
       "      <td>16.993</td>\n",
       "      <td>16.950</td>\n",
       "      <td>16.685</td>\n",
       "      <td>17.024</td>\n",
       "      <td>17.055</td>\n",
       "      <td>17.636</td>\n",
       "      <td>17.926</td>\n",
       "      <td>17.696</td>\n",
       "    </tr>\n",
       "    <tr>\n",
       "      <th>3</th>\n",
       "      <td>ncs.us</td>\n",
       "      <td>9.2500</td>\n",
       "      <td>10.3000</td>\n",
       "      <td>10.4500</td>\n",
       "      <td>10.1000</td>\n",
       "      <td>10.4000</td>\n",
       "      <td>11.6000</td>\n",
       "      <td>11.1000</td>\n",
       "      <td>10.7500</td>\n",
       "      <td>10.6500</td>\n",
       "      <td>...</td>\n",
       "      <td>17.380</td>\n",
       "      <td>18.190</td>\n",
       "      <td>17.820</td>\n",
       "      <td>17.450</td>\n",
       "      <td>17.770</td>\n",
       "      <td>17.680</td>\n",
       "      <td>17.860</td>\n",
       "      <td>17.970</td>\n",
       "      <td>18.600</td>\n",
       "      <td>18.670</td>\n",
       "    </tr>\n",
       "    <tr>\n",
       "      <th>4</th>\n",
       "      <td>gpk.us</td>\n",
       "      <td>3.4102</td>\n",
       "      <td>3.4959</td>\n",
       "      <td>3.4388</td>\n",
       "      <td>3.3435</td>\n",
       "      <td>3.5341</td>\n",
       "      <td>3.4197</td>\n",
       "      <td>3.3624</td>\n",
       "      <td>3.3530</td>\n",
       "      <td>3.2958</td>\n",
       "      <td>...</td>\n",
       "      <td>12.394</td>\n",
       "      <td>12.792</td>\n",
       "      <td>12.868</td>\n",
       "      <td>12.848</td>\n",
       "      <td>13.038</td>\n",
       "      <td>13.097</td>\n",
       "      <td>13.261</td>\n",
       "      <td>13.373</td>\n",
       "      <td>13.232</td>\n",
       "      <td>13.232</td>\n",
       "    </tr>\n",
       "  </tbody>\n",
       "</table>\n",
       "<p>5 rows × 1258 columns</p>\n",
       "</div>"
      ],
      "text/plain": [
       "  Unnamed: 0  2010-01-04  2010-01-05  2010-01-06  2010-01-07  2010-01-08  \\\n",
       "0     iba.us     20.9550     20.2590     20.8660     20.6740     20.7960   \n",
       "1     wpz.us     22.0330     22.3830     22.6670     22.6600     22.1040   \n",
       "2    flic.us      9.2675      9.2675      9.1616      9.0283      9.0356   \n",
       "3     ncs.us      9.2500     10.3000     10.4500     10.1000     10.4000   \n",
       "4     gpk.us      3.4102      3.4959      3.4388      3.3435      3.5341   \n",
       "\n",
       "   2010-01-11  2010-01-12  2010-01-13  2010-01-14  ...  2014-12-17  \\\n",
       "0     20.8490     20.2950     20.6640     20.7340  ...      47.455   \n",
       "1     22.3550     21.9840     22.0560     21.9030  ...      37.892   \n",
       "2      9.0571      9.2792      9.3094      9.2258  ...      15.899   \n",
       "3     11.6000     11.1000     10.7500     10.6500  ...      17.380   \n",
       "4      3.4197      3.3624      3.3530      3.2958  ...      12.394   \n",
       "\n",
       "   2014-12-18  2014-12-19  2014-12-22  2014-12-23  2014-12-24  2014-12-26  \\\n",
       "0      48.479      49.437      49.133      48.308      47.625      48.014   \n",
       "1      39.579      39.442      39.049      41.309      42.097      41.828   \n",
       "2      16.752      16.993      16.950      16.685      17.024      17.055   \n",
       "3      18.190      17.820      17.450      17.770      17.680      17.860   \n",
       "4      12.792      12.868      12.848      13.038      13.097      13.261   \n",
       "\n",
       "   2014-12-29  2014-12-30  2014-12-31  \n",
       "0      48.101      47.996      47.455  \n",
       "1      41.145      40.834      40.619  \n",
       "2      17.636      17.926      17.696  \n",
       "3      17.970      18.600      18.670  \n",
       "4      13.373      13.232      13.232  \n",
       "\n",
       "[5 rows x 1258 columns]"
      ]
     },
     "execution_count": 25,
     "metadata": {},
     "output_type": "execute_result"
    }
   ],
   "source": [
    "close_df.head()"
   ]
  },
  {
   "cell_type": "code",
   "execution_count": 26,
   "id": "e9ad2f07-3d54-4aaf-b070-59d6f87e86dd",
   "metadata": {},
   "outputs": [],
   "source": [
    "def instrument_return(df: pd.DataFrame):\n",
    "\n",
    "    \"\"\"\n",
    "        Income(\\alpha_i) = \\frac{\\alpha_i(d)}{\\alpha_i(d-1)}\n",
    "    \"\"\"\n",
    "    # получим матрицу цен закрытия по всем инструментам за каждый день\n",
    "    close_np = close_df.drop('Unnamed: 0', axis=1).to_numpy().T\n",
    "\n",
    "    # дата начала должна отставать на один день\n",
    "    close_dates_start, close_dates_end = close_np[:len(close_np)-1], close_np[1:]\n",
    "\n",
    "    # расчет инкома\n",
    "    income = close_dates_end / close_dates_start - 1\n",
    "    return np.concatenate((np.zeros((1, income.shape[1])), income), axis=0)\n",
    "    "
   ]
  },
  {
   "cell_type": "code",
   "execution_count": 27,
   "id": "24aae24c-278d-4f34-8295-44c76e8569d4",
   "metadata": {},
   "outputs": [
    {
     "data": {
      "text/plain": [
       "(1257, 4872)"
      ]
     },
     "execution_count": 27,
     "metadata": {},
     "output_type": "execute_result"
    }
   ],
   "source": [
    "instruments_return_matrix = instrument_return(close_df)\n",
    "instruments_return_matrix.shape"
   ]
  },
  {
   "cell_type": "code",
   "execution_count": 28,
   "id": "79325c8f-1785-45da-80e2-a4b65483ca26",
   "metadata": {},
   "outputs": [],
   "source": [
    "def alpha_income(alpha_states, return_vector):\n",
    "    alpha_income_vector = np.zeros(alpha_states.shape[0])\n",
    "    for i in range(len(alpha_states)-2):\n",
    "        alpha_income_vector[i] += np.dot(alpha_states[i],return_vector[i+2])\n",
    "        \n",
    "    return alpha_income_vector"
   ]
  },
  {
   "cell_type": "code",
   "execution_count": 29,
   "id": "a023492f-54f9-4efe-8101-b307fdb5d88d",
   "metadata": {},
   "outputs": [
    {
     "data": {
      "text/plain": [
       "1.0"
      ]
     },
     "execution_count": 29,
     "metadata": {},
     "output_type": "execute_result"
    }
   ],
   "source": [
    "np.abs(alpha_states[100]).sum()"
   ]
  },
  {
   "cell_type": "code",
   "execution_count": 30,
   "id": "d0e04451-b779-4993-a0b5-b2fed001fc23",
   "metadata": {},
   "outputs": [
    {
     "data": {
      "text/plain": [
       "(1257,)"
      ]
     },
     "execution_count": 30,
     "metadata": {},
     "output_type": "execute_result"
    }
   ],
   "source": [
    "alpha_income_vector = alpha_income(alpha_states, instruments_return_matrix)\n",
    "alpha_income_vector.shape"
   ]
  },
  {
   "cell_type": "markdown",
   "id": "2738f9aa-74b4-4fb8-984e-270dce05c4b4",
   "metadata": {},
   "source": [
    "**Задача 5**\n",
    "\n",
    "Написать функцию подсчета оборота (turnover) альфы. На входе матрицы альфы, на выходе вектор оборотов."
   ]
  },
  {
   "cell_type": "code",
   "execution_count": 31,
   "id": "7320c4e2-e857-4bf2-b4af-15f031a15190",
   "metadata": {},
   "outputs": [],
   "source": [
    "def turnover(alpha_states_matrix):\n",
    "    turnover_vec = np.zeros(len(alpha_states_matrix))\n",
    "    for i in range(1, len(alpha_states_matrix)):\n",
    "        turnover_vec[i] += np.sum(np.abs(alpha_states_matrix[i] - alpha_states_matrix[i-1]))\n",
    "\n",
    "    return turnover_vec"
   ]
  },
  {
   "cell_type": "code",
   "execution_count": 32,
   "id": "d0b32d1e-ca08-4a72-a3ee-c48199d35387",
   "metadata": {},
   "outputs": [
    {
     "data": {
      "text/plain": [
       "array([0.        , 0.        , 0.        , ..., 0.73083573, 0.77341966,\n",
       "       0.78026548])"
      ]
     },
     "execution_count": 32,
     "metadata": {},
     "output_type": "execute_result"
    }
   ],
   "source": [
    "turnover_vec=turnover(alpha_states)\n",
    "turnover_vec"
   ]
  },
  {
   "cell_type": "code",
   "execution_count": 33,
   "id": "416e4b96-cf9d-4471-9e55-aefa4f4e248c",
   "metadata": {},
   "outputs": [
    {
     "data": {
      "text/plain": [
       "[<matplotlib.lines.Line2D at 0x136dd4ca0>]"
      ]
     },
     "execution_count": 33,
     "metadata": {},
     "output_type": "execute_result"
    },
    {
     "data": {
      "image/png": "[encoded data removed]",
      "text/plain": [
       "<Figure size 640x480 with 1 Axes>"
      ]
     },
     "metadata": {},
     "output_type": "display_data"
    }
   ],
   "source": [
    "plt.plot(turnover_vec)"
   ]
  },
  {
   "cell_type": "markdown",
   "id": "be9ef44d-96e0-44d0-bef2-02b4d1be1969",
   "metadata": {},
   "source": [
    "**Задача 6**\n",
    "\n",
    "Написать функцию подсчета коэффициента Шарпа альфы. На входе вектор доходностей длины Т = 252, на выходе число."
   ]
  },
  {
   "cell_type": "code",
   "execution_count": 34,
   "id": "c6edb660-a9ba-4974-9ad9-0df07bd6c5ff",
   "metadata": {},
   "outputs": [],
   "source": [
    "def calc_sharpe(alpha_pnl_vec):\n",
    "    \"\"\"\n",
    "        math:: `Sharpe = \\sqrt(T)\\frac{mean(pnl)}{std(pnl)}`\n",
    "        math:: `mean(pnl) = \\frac{\\Sigma_{i=1}^Tpnl_i}{T}`\n",
    "        math:: `std(pnl) = \\sqrt{\\frac{1}{T-1}\\Sigma_{i=0}^T(pnl_i - mean(pnl))^2}`\n",
    "    \"\"\"\n",
    "\n",
    "    std = np.sqrt(np.sum((alpha_pnl_vec - alpha_pnl_vec.mean())**2) / (len(alpha_pnl_vec)))\n",
    "\n",
    "    sharpe = len(alpha_pnl_vec)**0.5 * alpha_pnl_vec.mean() / std\n",
    "    \n",
    "    return sharpe"
   ]
  },
  {
   "cell_type": "code",
   "execution_count": 35,
   "id": "c2d27027-958e-4911-bc73-394463dca23f",
   "metadata": {},
   "outputs": [
    {
     "data": {
      "text/plain": [
       "1.6597042134138023"
      ]
     },
     "execution_count": 35,
     "metadata": {},
     "output_type": "execute_result"
    }
   ],
   "source": [
    "T = 252\n",
    "sharpe = calc_sharpe(alpha_income_vector[:T])\n",
    "sharpe"
   ]
  },
  {
   "cell_type": "markdown",
   "id": "1af8d345-bb5f-48bb-ba9c-f0208d5f568c",
   "metadata": {},
   "source": [
    "**Задача 7**\n",
    "\n",
    "Написать функцию подсчета вектора накопленных (кумулятивных) доходностей. На входе вектор вектор доходностей, на выходе вектор накопленных доходностей. Нарисовать график накопленных доходностей и подписать оси."
   ]
  },
  {
   "cell_type": "code",
   "execution_count": 36,
   "id": "730ba191-6d2c-4b10-b2d8-8d61ed724ca9",
   "metadata": {},
   "outputs": [],
   "source": [
    "def cumulative_pnl(income_vector):\n",
    "    cumpnl = np.zeros(len(income_vector))\n",
    "\n",
    "    for i in range(len(income_vector)):\n",
    "        cumpnl[i] += income_vector[:i+1].sum()\n",
    "\n",
    "    return cumpnl\n",
    "        "
   ]
  },
  {
   "cell_type": "code",
   "execution_count": 127,
   "id": "6a88226a-57db-44ff-8778-0776338d2469",
   "metadata": {},
   "outputs": [],
   "source": [
    "def draw_cumpnl(cumpnl, dates):\n",
    "    dates = close_df.columns[1:]\n",
    "    plt.plot(cumpnl, label='cumpnl')\n",
    "    plt.xlabel('date')\n",
    "    plt.ylabel('cumpnl')\n",
    "    plt.xticks(np.arange(0, len(dates), 100), dates[np.arange(0, len(dates), 100)], rotation=45)\n",
    "    plt.legend()\n",
    "    plt.show()"
   ]
  },
  {
   "cell_type": "code",
   "execution_count": 128,
   "id": "d5f3495b-61fa-4a6a-a231-a9214fd811df",
   "metadata": {},
   "outputs": [],
   "source": [
    "cumpnl = cumulative_pnl(alpha_income_vector)"
   ]
  },
  {
   "cell_type": "code",
   "execution_count": 129,
   "id": "7e35b74f-33c5-4fcf-9652-61cd60317901",
   "metadata": {},
   "outputs": [
    {
     "data": {
      "image/png": "[encoded data removed]",
      "text/plain": [
       "<Figure size 640x480 with 1 Axes>"
      ]
     },
     "metadata": {},
     "output_type": "display_data"
    }
   ],
   "source": [
    "draw_cumpnl(cumpnl, dates)"
   ]
  },
  {
   "cell_type": "markdown",
   "id": "00d43d78-42cb-4a1f-a48d-c6dc888ddca0",
   "metadata": {},
   "source": [
    "**Задача 8**\n",
    "\n",
    "Написать функцию подсчета максимальных просадок (drawdown). На входе вектор накопленных доходностей, на выходе число."
   ]
  },
  {
   "cell_type": "code",
   "execution_count": 52,
   "id": "e77bf992-f812-4d8a-93cd-5dab55ff1c73",
   "metadata": {},
   "outputs": [],
   "source": [
    "def find_drawdown(cumpnl_vec: np.array):\n",
    "    max_drawdown, max_cumpnl = 0, 0\n",
    "    drawdown_start, draw_down_end = 0, 0\n",
    "    \n",
    "    for idx, cumpnl in enumerate(cumpnl_vec):\n",
    "        if cumpnl >= max_cumpnl:\n",
    "            max_cumpnl=cumpnl\n",
    "            # continue\n",
    "        # else:\n",
    "        if max_cumpnl - cumpnl >= max_drawdown:\n",
    "            max_drawdown = max_cumpnl - cumpnl\n",
    "            drawdown_start, draw_down_end = max_cumpnl, cumpnl\n",
    "\n",
    "    return max_drawdown, drawdown_start, draw_down_end"
   ]
  },
  {
   "cell_type": "code",
   "execution_count": 53,
   "id": "50f248b7-41f8-47e1-bdb1-7b2b7b1018a1",
   "metadata": {},
   "outputs": [
    {
     "data": {
      "text/plain": [
       "0.09484558086944658"
      ]
     },
     "execution_count": 53,
     "metadata": {},
     "output_type": "execute_result"
    }
   ],
   "source": [
    "drawdown, drawdown_start, drawdown_end = find_drawdown(cumpnl)\n",
    "drawdown"
   ]
  },
  {
   "cell_type": "code",
   "execution_count": 54,
   "id": "3ed167be-3447-4b20-9579-80d0627471b1",
   "metadata": {},
   "outputs": [
    {
     "data": {
      "text/plain": [
       "(array([142]),)"
      ]
     },
     "execution_count": 54,
     "metadata": {},
     "output_type": "execute_result"
    }
   ],
   "source": [
    "np.where(cumpnl == drawdown_start)"
   ]
  },
  {
   "cell_type": "code",
   "execution_count": 55,
   "id": "4b9a197c-ee27-4c97-ac44-747dea6be86a",
   "metadata": {},
   "outputs": [
    {
     "data": {
      "image/png": "[encoded data removed]",
      "text/plain": [
       "<Figure size 640x480 with 1 Axes>"
      ]
     },
     "metadata": {},
     "output_type": "display_data"
    }
   ],
   "source": [
    "dates = close_df.columns[1:]\n",
    "plt.plot(cumpnl, label='cumpnl', color='blue')\n",
    "plt.plot(np.where(cumpnl == drawdown_start)[0][0], drawdown_start, 'ro', label=f'drawdown = {drawdown}')\n",
    "plt.plot(np.where(cumpnl == drawdown_end)[0][0], drawdown_end, 'ro')\n",
    "# plt.plot(drawdown_start, cumpnl[drawdown_start], 'ro', label=f'drawdown = {drawdown}')\n",
    "# plt.plot(drawdown_end, cumpnl[drawdown_end], 'ro')\n",
    "plt.xlabel('date')\n",
    "plt.ylabel('cumpnl')\n",
    "plt.xticks(np.arange(0, len(dates), 100), dates[np.arange(0, len(dates), 100)], rotation=45)\n",
    "plt.legend()\n",
    "plt.show()"
   ]
  },
  {
   "cell_type": "markdown",
   "id": "59726523-13ef-44a0-97b2-4b7b42e8c002",
   "metadata": {},
   "source": [
    "**Задача 9**\n",
    "\n",
    "Написать функцию AlphaStats, которая рисует график доходности за всю историю и выводит за каждый год: коэф Шарпа, средний оборот за год, суммарную доходность за год, максимальные просадки за год. На выходе матрица позиций альфы, на выходе 1 график и 20 чисел."
   ]
  },
  {
   "cell_type": "code",
   "execution_count": 78,
   "id": "1cf47a1b-7d99-4aea-974f-1ae061520547",
   "metadata": {},
   "outputs": [
    {
     "name": "stdout",
     "output_type": "stream",
     "text": [
      "['2010' '2011' '2012' '2013' '2014']\n"
     ]
    }
   ],
   "source": [
    "dates = close_df.columns[1:]\n",
    "dates_years = np.unique(np.array([date.split('-')[0] for date in dates]))\n",
    "print(dates_years)\n",
    "dates_datetime= pd.to_datetime(dates,format='%Y-%m-%d').date"
   ]
  },
  {
   "cell_type": "code",
   "execution_count": 86,
   "id": "ecda6d11-5ae3-4c30-87f6-a8df4103f72e",
   "metadata": {},
   "outputs": [
    {
     "data": {
      "text/plain": [
       "datetime.date(2010, 1, 1)"
      ]
     },
     "execution_count": 86,
     "metadata": {},
     "output_type": "execute_result"
    }
   ],
   "source": [
    "format = '%Y-%m-%d'\n",
    "year_start = '-01-01'\n",
    "year_end = '-12-31'\n",
    "datetime.datetime.strptime('2010'+year_start, format).date()"
   ]
  },
  {
   "cell_type": "code",
   "execution_count": 89,
   "id": "9e09631e-db1d-4152-b071-fad3588061cf",
   "metadata": {},
   "outputs": [
    {
     "name": "stdout",
     "output_type": "stream",
     "text": [
      "2010-05-27 2010-01-05\n"
     ]
    },
    {
     "data": {
      "text/plain": [
       "True"
      ]
     },
     "execution_count": 89,
     "metadata": {},
     "output_type": "execute_result"
    }
   ],
   "source": [
    "print(dates_datetime[100], dates_datetime[1])\n",
    "dates_datetime[100] > dates_datetime[10] > dates_datetime[1]"
   ]
  },
  {
   "cell_type": "code",
   "execution_count": null,
   "id": "6bb7eda5-892a-4c66-8e8d-8fd2b4c107af",
   "metadata": {},
   "outputs": [],
   "source": []
  },
  {
   "cell_type": "code",
   "execution_count": 148,
   "id": "7c58429d-32d3-4f53-98e1-330b1e933b24",
   "metadata": {},
   "outputs": [],
   "source": [
    "def AlphaStats(alpha_states, df):\n",
    "    # get all dates list\n",
    "    dates = close_df.columns[1:]\n",
    "\n",
    "    # get unique years in dates list\n",
    "    dates_years = np.unique(np.array([date.split('-')[0] for date in dates]))\n",
    "\n",
    "    # convert date strings into datetime.date to compare\n",
    "    dates = np.array(pd.to_datetime(dates,format='%Y-%m-%d').date)\n",
    "\n",
    "    # make years borders\n",
    "    years_borders = np.array([(datetime.datetime.strptime(year+year_start, format).date(), \n",
    "                      datetime.datetime.strptime(year+year_end, format).date()) for year in dates_years])\n",
    "\n",
    "    # get instruments return matrix \n",
    "    return_matrix = instrument_return(df)\n",
    "\n",
    "    cumpnl = np.array([0])\n",
    "\n",
    "    annual_cumpnl = []\n",
    "    annual_sharpe = []\n",
    "    ave_annual_turnover = []\n",
    "    annual_drawdown = []\n",
    "\n",
    "    for idx, year_date in enumerate(years_borders):\n",
    "        start, end = year_date\n",
    "        \n",
    "        # get indexes of the current year\n",
    "        indexes = np.where((start <= dates) & (end >= dates) , True, False)\n",
    "\n",
    "        # get alphas for the specific year\n",
    "        current_year_alpha_states = alpha_states[indexes]\n",
    "\n",
    "        # get return_vectors for the specific time interval\n",
    "        current_income_matrix = return_matrix[indexes]\n",
    "\n",
    "        # get alpha_pnl_vector\n",
    "        current_alpha_pnl = alpha_income(current_year_alpha_states, current_income_matrix)\n",
    "\n",
    "        # get cumpnl_vector\n",
    "        current_alpha_cumpnl_vec = cumulative_pnl(current_alpha_pnl)\n",
    "\n",
    "        # add the year's cumpnl\n",
    "        annual_cumpnl.append(current_alpha_cumpnl_vec[-1])\n",
    "\n",
    "        # add the year's sharpe\n",
    "        annual_sharpe.append(calc_sharpe(current_alpha_pnl))\n",
    "\n",
    "        # get turnover for the current_year\n",
    "        turnover_vec = turnover(current_year_alpha_states)\n",
    "\n",
    "        # add the current year average turnover\n",
    "        ave_annual_turnover.append(turnover_vec.sum() / len(turnover_vec))\n",
    "\n",
    "        # find the current year max drawdown\n",
    "        drawdown, drawdown_start, drawdown_end = find_drawdown(current_alpha_cumpnl_vec)\n",
    "\n",
    "        # add the current year drawdown\n",
    "        annual_drawdown.append(drawdown)\n",
    "\n",
    "        # concate cumpnl_vec\n",
    "        cumpnl = np.concatenate((cumpnl, current_alpha_cumpnl_vec + cumpnl[-1]), axis=None)\n",
    "\n",
    "    # draw cumpnl\n",
    "    draw_cumpnl(cumpnl[1:], close_df.columns[1:])\n",
    "\n",
    "    # return annual data as pd.DataFrame\n",
    "    annual_df = pd.DataFrame({'Year': dates_years,\n",
    "                             'Sharpe': annual_sharpe,\n",
    "                             'Average Turnover': ave_annual_turnover,\n",
    "                             'Max Drawdown': annual_drawdown})\n",
    "\n",
    "    return annual_df\n",
    "    "
   ]
  },
  {
   "cell_type": "code",
   "execution_count": 149,
   "id": "f5aac0ac-68e3-4f17-9ad6-6b246b091755",
   "metadata": {},
   "outputs": [
    {
     "data": {
      "image/png": "[encoded data removed]",
      "text/plain": [
       "<Figure size 640x480 with 1 Axes>"
      ]
     },
     "metadata": {},
     "output_type": "display_data"
    },
    {
     "data": {
      "text/html": [
       "<div>\n",
       "<style scoped>\n",
       "    .dataframe tbody tr th:only-of-type {\n",
       "        vertical-align: middle;\n",
       "    }\n",
       "\n",
       "    .dataframe tbody tr th {\n",
       "        vertical-align: top;\n",
       "    }\n",
       "\n",
       "    .dataframe thead th {\n",
       "        text-align: right;\n",
       "    }\n",
       "</style>\n",
       "<table border=\"1\" class=\"dataframe\">\n",
       "  <thead>\n",
       "    <tr style=\"text-align: right;\">\n",
       "      <th></th>\n",
       "      <th>Year</th>\n",
       "      <th>Sharpe</th>\n",
       "      <th>Average Turnover</th>\n",
       "      <th>Max Drawdown</th>\n",
       "    </tr>\n",
       "  </thead>\n",
       "  <tbody>\n",
       "    <tr>\n",
       "      <th>0</th>\n",
       "      <td>2010</td>\n",
       "      <td>1.510528</td>\n",
       "      <td>0.670130</td>\n",
       "      <td>0.068175</td>\n",
       "    </tr>\n",
       "    <tr>\n",
       "      <th>1</th>\n",
       "      <td>2011</td>\n",
       "      <td>1.551319</td>\n",
       "      <td>0.698333</td>\n",
       "      <td>0.086494</td>\n",
       "    </tr>\n",
       "    <tr>\n",
       "      <th>2</th>\n",
       "      <td>2012</td>\n",
       "      <td>3.317733</td>\n",
       "      <td>0.674307</td>\n",
       "      <td>0.027444</td>\n",
       "    </tr>\n",
       "    <tr>\n",
       "      <th>3</th>\n",
       "      <td>2013</td>\n",
       "      <td>1.541341</td>\n",
       "      <td>0.665832</td>\n",
       "      <td>0.024400</td>\n",
       "    </tr>\n",
       "    <tr>\n",
       "      <th>4</th>\n",
       "      <td>2014</td>\n",
       "      <td>1.102553</td>\n",
       "      <td>0.667774</td>\n",
       "      <td>0.062002</td>\n",
       "    </tr>\n",
       "  </tbody>\n",
       "</table>\n",
       "</div>"
      ],
      "text/plain": [
       "   Year    Sharpe  Average Turnover  Max Drawdown\n",
       "0  2010  1.510528          0.670130      0.068175\n",
       "1  2011  1.551319          0.698333      0.086494\n",
       "2  2012  3.317733          0.674307      0.027444\n",
       "3  2013  1.541341          0.665832      0.024400\n",
       "4  2014  1.102553          0.667774      0.062002"
      ]
     },
     "execution_count": 149,
     "metadata": {},
     "output_type": "execute_result"
    }
   ],
   "source": [
    "annual_df = AlphaStats(alpha_states, close_df)\n",
    "annual_df.head()"
   ]
  },
  {
   "cell_type": "markdown",
   "id": "71ebe68a-2500-4d14-9b97-55f12f5f7898",
   "metadata": {},
   "source": [
    "**Задача 10**\n",
    "\n",
    "Написать функцию усечения (truncate). На входе вектор произвольной длины и параметр threshold, на выходе вектор"
   ]
  },
  {
   "cell_type": "code",
   "execution_count": 208,
   "id": "f2fb4c4e-0f61-4ea7-b020-ae54127387f6",
   "metadata": {},
   "outputs": [],
   "source": [
    "def truncate_alpha(alpha, treshold=0.1):\n",
    "\n",
    "    # we take it a little smaller in advance\n",
    "    _treshold = treshold * 0.9\n",
    "    \n",
    "    while len(np.where(np.abs(alpha) > treshold)[0]): # while there is at list one\n",
    "        alpha = np.where(np.abs(alpha) > _treshold, _treshold * np.sign(alpha), alpha)\n",
    "    \n",
    "        sum_long = alpha[np.where(alpha > 0, True, False)].sum()\n",
    "        sum_short = - alpha[np.where(alpha < 0, True, False)].sum()\n",
    "    \n",
    "        alpha = np.where(alpha > 0, alpha / (2 * sum_long), alpha / (2 * sum_short))\n",
    "\n",
    "    return alpha"
   ]
  },
  {
   "cell_type": "code",
   "execution_count": 209,
   "id": "39bcad50-f322-4f14-a301-2eac7579e1da",
   "metadata": {},
   "outputs": [
    {
     "data": {
      "text/plain": [
       "array([ 0.25      ,  0.125     ,  0.0625    ,  0.03125   ,  0.015625  ,\n",
       "        0.0078125 ,  0.00390625,  0.00390625, -0.25      , -0.125     ,\n",
       "       -0.0625    , -0.03125   , -0.015625  , -0.0078125 , -0.00390625,\n",
       "       -0.00390625])"
      ]
     },
     "execution_count": 209,
     "metadata": {},
     "output_type": "execute_result"
    }
   ],
   "source": [
    "alpha_serias = np.concatenate((np.array([1 / (2**(i+1)) for i in range(1, 8)]), [1 / 2**8], \n",
    "                               np.array([ - 1 / (2**(i+1)) for i in range(1, 8)]), [-1 / 2**8]), \n",
    "                              axis=None)\n",
    "alpha_serias"
   ]
  },
  {
   "cell_type": "code",
   "execution_count": 210,
   "id": "3e61c978-f78d-4901-9e5f-e0442c46c4d2",
   "metadata": {},
   "outputs": [
    {
     "name": "stdout",
     "output_type": "stream",
     "text": [
      "Alpha Sum = 0.0\n",
      "Alpha Abs Sum = 1.0\n"
     ]
    }
   ],
   "source": [
    "print(f'Alpha Sum = {alpha_serias.sum()}')\n",
    "print(f'Alpha Abs Sum = {np.abs(alpha_serias).sum()}')"
   ]
  },
  {
   "cell_type": "code",
   "execution_count": 212,
   "id": "2a11aa33-61b5-4196-954c-27cfd8193bb5",
   "metadata": {},
   "outputs": [
    {
     "name": "stdout",
     "output_type": "stream",
     "text": [
      "[ 0.09865112  0.09865112  0.09865112  0.09865112  0.05269776  0.02634888\n",
      "  0.01317444  0.01317444 -0.09865112 -0.09865112 -0.09865112 -0.09865112\n",
      " -0.05269776 -0.02634888 -0.01317444 -0.01317444]\n",
      "Alpha Sum = 0.0\n",
      "Alpha Abs Sum = 1.0\n",
      "Elements more than treshold = 0\n"
     ]
    }
   ],
   "source": [
    "treshold = 0.1\n",
    "\n",
    "alpha_truncated = truncate_alpha(alpha_serias, treshold, 10)\n",
    "print(alpha_truncated)\n",
    "\n",
    "print(f'Alpha Sum = {alpha_truncated.sum()}')\n",
    "print(f'Alpha Abs Sum = {np.abs(alpha_truncated).sum()}')\n",
    "print(f'Elements more than treshold = {len(np.where(np.abs(alpha) > treshold)[0])}')"
   ]
  },
  {
   "cell_type": "markdown",
   "id": "b6dab541-f35f-4914-b2ac-ca6ce19cc971",
   "metadata": {},
   "source": [
    "**Задача 11**\n",
    "\n",
    "Написать фукнцию ранжирования (rank). На входе вектор произвольной длины, на выходе вектор с компонентами от 0 до 1."
   ]
  },
  {
   "cell_type": "code",
   "execution_count": 246,
   "id": "3b27a6fb-8255-4ffa-b4c2-93127080873f",
   "metadata": {},
   "outputs": [],
   "source": [
    "def rank (alpha):\n",
    "    # получаем индексы по которым сортируется массив\n",
    "    sorted_indexes = np.argsort(alpha)\n",
    "\n",
    "    for _idx, index in enumerate(sorted_indexes):\n",
    "        alpha[index] = _idx / (len(alpha) - 1)\n",
    "\n",
    "    return alpha    "
   ]
  },
  {
   "cell_type": "code",
   "execution_count": 252,
   "id": "a4f95a89-7f8f-4a07-ab6a-c34f53f7aa76",
   "metadata": {},
   "outputs": [
    {
     "name": "stdout",
     "output_type": "stream",
     "text": [
      "[-6, 10, -23, 0.5, 0, 123, -17, -8, 9]\n",
      "[-23.  -17.   -8.   -6.    0.    0.5   9.   10.  123. ]\n",
      "[0.    0.125 0.25  0.375 0.5   0.625 0.75  0.875 1.   ]\n",
      "[0.375, 0.875, 0.0, 0.625, 0.5, 1.0, 0.125, 0.25, 0.75]\n"
     ]
    }
   ],
   "source": [
    "# alpha_random = [np.random.rand() * (-1)**np.random.randint(10) * 10**(np.random.randint(3) - 1) for i in range(7)]\n",
    "alpha_random = [-6, 10, -23, 0.5, 0, 123, -17, -8, 9]\n",
    "print(alpha_random)\n",
    "print(np.sort(alpha_random))\n",
    "\n",
    "alpha_ranked = rank(alpha_random)\n",
    "print(np.sort(alpha_ranked))\n",
    "print(alpha_ranked)"
   ]
  },
  {
   "cell_type": "markdown",
   "id": "6ea71f0f-df5a-4a1f-bead-4794314420ea",
   "metadata": {},
   "source": [
    "**Задача 12**\n",
    "\n",
    "Для каждого инструмента найти его волатитьность как стандартное отклонение доходностей. Отсортировать инструменты по валотильности и нарисовать график отсортированных волатильностей. "
   ]
  },
  {
   "cell_type": "code",
   "execution_count": 253,
   "id": "9aa861d4-14f7-42f8-9a1f-c09efcb3f098",
   "metadata": {},
   "outputs": [],
   "source": [
    "def count_instruments_volatility (instruments_incomes):\n",
    "    \n",
    "    def std (vector):\n",
    "        return np.sqrt(np.sum((vector - vector.mean())**2) / (len(vector) - 1))\n",
    "\n",
    "    volatility = np.array([std(vector) for vector in instruments_income])\n",
    "\n",
    "    return volatility"
   ]
  },
  {
   "cell_type": "markdown",
   "id": "89f27d08-79dd-41fd-adf7-10e5470c3cd1",
   "metadata": {},
   "source": [
    "**Задача 13**\n",
    "\n",
    "Написать функцию CutOutliers (удаление выбросов). На входе вектор произвольной длины и число n. Среди компонент вектора n самых больших и n самых маленьких заменяются нулями."
   ]
  },
  {
   "cell_type": "code",
   "execution_count": null,
   "id": "f3080f5f-4c46-4247-9198-9c295980ab8b",
   "metadata": {},
   "outputs": [],
   "source": []
  },
  {
   "cell_type": "markdown",
   "id": "ac12fa00-a2c7-4f8a-8954-3b896f9e25fe",
   "metadata": {},
   "source": [
    "**Задача 14**\n",
    "\n",
    "Написать функцию CutMiddle (удаление средних). На входе вектор произвольной длины и число n. Среди компонент вектора n средних заменяются нулями."
   ]
  },
  {
   "cell_type": "code",
   "execution_count": null,
   "id": "64f57773-0faf-4611-8845-53932b268fdc",
   "metadata": {},
   "outputs": [],
   "source": []
  },
  {
   "cell_type": "markdown",
   "id": "431f7a81-0ae5-487a-bcfd-fe716c065815",
   "metadata": {},
   "source": [
    "**Задача 15**\n",
    "\n",
    "Написать функцию корреляции между векторами доходности двух альф. На входе два вектора одинаковой длины, на выходе число."
   ]
  },
  {
   "cell_type": "code",
   "execution_count": null,
   "id": "ffca596a-322b-478a-8ecf-93f04f9a455d",
   "metadata": {},
   "outputs": [],
   "source": []
  },
  {
   "cell_type": "markdown",
   "id": "22802ca6-336e-4bad-8617-918f58357856",
   "metadata": {},
   "source": [
    "**Задча 16**\n",
    "\n",
    "Написать функцию замедления альфы (decay). На входе матрица позиций альфы и параметр n. На выходе матрица позиций замедленной альфы. Проверить, что оборот альфы уменьшается при замедлении. "
   ]
  },
  {
   "cell_type": "code",
   "execution_count": null,
   "id": "b85f3647-42c1-4470-ae23-491d23d6d866",
   "metadata": {},
   "outputs": [],
   "source": []
  }
 ],
 "metadata": {
  "kernelspec": {
   "display_name": "Python 3 (ipykernel)",
   "language": "python",
   "name": "python3"
  },
  "language_info": {
   "codemirror_mode": {
    "name": "ipython",
    "version": 3
   },
   "file_extension": ".py",
   "mimetype": "text/x-python",
   "name": "python",
   "nbconvert_exporter": "python",
   "pygments_lexer": "ipython3",
   "version": "3.9.13"
  }
 },
 "nbformat": 4,
 "nbformat_minor": 5
}
