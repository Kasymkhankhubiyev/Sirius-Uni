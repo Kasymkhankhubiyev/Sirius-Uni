{
 "cells": [
  {
   "cell_type": "code",
   "execution_count": 2,
   "id": "9d031419-5179-4c1a-8175-07e3ceb7a1f8",
   "metadata": {},
   "outputs": [],
   "source": [
    "import numpy as np\n",
    "import pandas as pd\n",
    "import matplotlib.pyplot as plt\n",
    "\n",
    "import os"
   ]
  },
  {
   "cell_type": "code",
   "execution_count": 3,
   "id": "0ff096b2-c2d0-4e6e-b57e-3b81ed2abf58",
   "metadata": {},
   "outputs": [
    {
     "data": {
      "text/plain": [
       "['Open.csv', 'High.csv', 'Close.csv', 'Low.csv', 'Volume.csv']"
      ]
     },
     "execution_count": 3,
     "metadata": {},
     "output_type": "execute_result"
    }
   ],
   "source": [
    "dataset_dir = './dataset_2010_2014'\n",
    "os.listdir(dataset_dir)"
   ]
  },
  {
   "cell_type": "code",
   "execution_count": 4,
   "id": "f3334b4b-0190-4b11-9e7e-44f1dfb280ab",
   "metadata": {},
   "outputs": [],
   "source": [
    "open_df = pd.read_csv(dataset_dir + '/Open.csv')\n",
    "high_df = pd.read_csv(dataset_dir + '/High.csv')\n",
    "close_df = pd.read_csv(dataset_dir + '/Close.csv')\n",
    "low_df = pd.read_csv(dataset_dir + '/Low.csv')\n",
    "volume_df = pd.read_csv(dataset_dir + '/Volume.csv')"
   ]
  },
  {
   "cell_type": "code",
   "execution_count": 5,
   "id": "d943bf88-544f-4738-aaf2-7dc8434fc804",
   "metadata": {},
   "outputs": [
    {
     "data": {
      "text/html": [
       "<div>\n",
       "<style scoped>\n",
       "    .dataframe tbody tr th:only-of-type {\n",
       "        vertical-align: middle;\n",
       "    }\n",
       "\n",
       "    .dataframe tbody tr th {\n",
       "        vertical-align: top;\n",
       "    }\n",
       "\n",
       "    .dataframe thead th {\n",
       "        text-align: right;\n",
       "    }\n",
       "</style>\n",
       "<table border=\"1\" class=\"dataframe\">\n",
       "  <thead>\n",
       "    <tr style=\"text-align: right;\">\n",
       "      <th></th>\n",
       "      <th>Unnamed: 0</th>\n",
       "      <th>2010-01-04</th>\n",
       "      <th>2010-01-05</th>\n",
       "      <th>2010-01-06</th>\n",
       "      <th>2010-01-07</th>\n",
       "      <th>2010-01-08</th>\n",
       "      <th>2010-01-11</th>\n",
       "      <th>2010-01-12</th>\n",
       "      <th>2010-01-13</th>\n",
       "      <th>2010-01-14</th>\n",
       "      <th>...</th>\n",
       "      <th>2014-12-17</th>\n",
       "      <th>2014-12-18</th>\n",
       "      <th>2014-12-19</th>\n",
       "      <th>2014-12-22</th>\n",
       "      <th>2014-12-23</th>\n",
       "      <th>2014-12-24</th>\n",
       "      <th>2014-12-26</th>\n",
       "      <th>2014-12-29</th>\n",
       "      <th>2014-12-30</th>\n",
       "      <th>2014-12-31</th>\n",
       "    </tr>\n",
       "  </thead>\n",
       "  <tbody>\n",
       "    <tr>\n",
       "      <th>0</th>\n",
       "      <td>iba.us</td>\n",
       "      <td>20.9550</td>\n",
       "      <td>20.2590</td>\n",
       "      <td>20.8660</td>\n",
       "      <td>20.6740</td>\n",
       "      <td>20.7960</td>\n",
       "      <td>20.8490</td>\n",
       "      <td>20.2950</td>\n",
       "      <td>20.6640</td>\n",
       "      <td>20.7340</td>\n",
       "      <td>...</td>\n",
       "      <td>47.455</td>\n",
       "      <td>48.479</td>\n",
       "      <td>49.437</td>\n",
       "      <td>49.133</td>\n",
       "      <td>48.308</td>\n",
       "      <td>47.625</td>\n",
       "      <td>48.014</td>\n",
       "      <td>48.101</td>\n",
       "      <td>47.996</td>\n",
       "      <td>47.455</td>\n",
       "    </tr>\n",
       "    <tr>\n",
       "      <th>1</th>\n",
       "      <td>wpz.us</td>\n",
       "      <td>22.0330</td>\n",
       "      <td>22.3830</td>\n",
       "      <td>22.6670</td>\n",
       "      <td>22.6600</td>\n",
       "      <td>22.1040</td>\n",
       "      <td>22.3550</td>\n",
       "      <td>21.9840</td>\n",
       "      <td>22.0560</td>\n",
       "      <td>21.9030</td>\n",
       "      <td>...</td>\n",
       "      <td>37.892</td>\n",
       "      <td>39.579</td>\n",
       "      <td>39.442</td>\n",
       "      <td>39.049</td>\n",
       "      <td>41.309</td>\n",
       "      <td>42.097</td>\n",
       "      <td>41.828</td>\n",
       "      <td>41.145</td>\n",
       "      <td>40.834</td>\n",
       "      <td>40.619</td>\n",
       "    </tr>\n",
       "    <tr>\n",
       "      <th>2</th>\n",
       "      <td>flic.us</td>\n",
       "      <td>9.2675</td>\n",
       "      <td>9.2675</td>\n",
       "      <td>9.1616</td>\n",
       "      <td>9.0283</td>\n",
       "      <td>9.0356</td>\n",
       "      <td>9.0571</td>\n",
       "      <td>9.2792</td>\n",
       "      <td>9.3094</td>\n",
       "      <td>9.2258</td>\n",
       "      <td>...</td>\n",
       "      <td>15.899</td>\n",
       "      <td>16.752</td>\n",
       "      <td>16.993</td>\n",
       "      <td>16.950</td>\n",
       "      <td>16.685</td>\n",
       "      <td>17.024</td>\n",
       "      <td>17.055</td>\n",
       "      <td>17.636</td>\n",
       "      <td>17.926</td>\n",
       "      <td>17.696</td>\n",
       "    </tr>\n",
       "    <tr>\n",
       "      <th>3</th>\n",
       "      <td>ncs.us</td>\n",
       "      <td>9.2500</td>\n",
       "      <td>10.3000</td>\n",
       "      <td>10.4500</td>\n",
       "      <td>10.1000</td>\n",
       "      <td>10.4000</td>\n",
       "      <td>11.6000</td>\n",
       "      <td>11.1000</td>\n",
       "      <td>10.7500</td>\n",
       "      <td>10.6500</td>\n",
       "      <td>...</td>\n",
       "      <td>17.380</td>\n",
       "      <td>18.190</td>\n",
       "      <td>17.820</td>\n",
       "      <td>17.450</td>\n",
       "      <td>17.770</td>\n",
       "      <td>17.680</td>\n",
       "      <td>17.860</td>\n",
       "      <td>17.970</td>\n",
       "      <td>18.600</td>\n",
       "      <td>18.670</td>\n",
       "    </tr>\n",
       "    <tr>\n",
       "      <th>4</th>\n",
       "      <td>gpk.us</td>\n",
       "      <td>3.4102</td>\n",
       "      <td>3.4959</td>\n",
       "      <td>3.4388</td>\n",
       "      <td>3.3435</td>\n",
       "      <td>3.5341</td>\n",
       "      <td>3.4197</td>\n",
       "      <td>3.3624</td>\n",
       "      <td>3.3530</td>\n",
       "      <td>3.2958</td>\n",
       "      <td>...</td>\n",
       "      <td>12.394</td>\n",
       "      <td>12.792</td>\n",
       "      <td>12.868</td>\n",
       "      <td>12.848</td>\n",
       "      <td>13.038</td>\n",
       "      <td>13.097</td>\n",
       "      <td>13.261</td>\n",
       "      <td>13.373</td>\n",
       "      <td>13.232</td>\n",
       "      <td>13.232</td>\n",
       "    </tr>\n",
       "  </tbody>\n",
       "</table>\n",
       "<p>5 rows × 1258 columns</p>\n",
       "</div>"
      ],
      "text/plain": [
       "  Unnamed: 0  2010-01-04  2010-01-05  2010-01-06  2010-01-07  2010-01-08  \\\n",
       "0     iba.us     20.9550     20.2590     20.8660     20.6740     20.7960   \n",
       "1     wpz.us     22.0330     22.3830     22.6670     22.6600     22.1040   \n",
       "2    flic.us      9.2675      9.2675      9.1616      9.0283      9.0356   \n",
       "3     ncs.us      9.2500     10.3000     10.4500     10.1000     10.4000   \n",
       "4     gpk.us      3.4102      3.4959      3.4388      3.3435      3.5341   \n",
       "\n",
       "   2010-01-11  2010-01-12  2010-01-13  2010-01-14  ...  2014-12-17  \\\n",
       "0     20.8490     20.2950     20.6640     20.7340  ...      47.455   \n",
       "1     22.3550     21.9840     22.0560     21.9030  ...      37.892   \n",
       "2      9.0571      9.2792      9.3094      9.2258  ...      15.899   \n",
       "3     11.6000     11.1000     10.7500     10.6500  ...      17.380   \n",
       "4      3.4197      3.3624      3.3530      3.2958  ...      12.394   \n",
       "\n",
       "   2014-12-18  2014-12-19  2014-12-22  2014-12-23  2014-12-24  2014-12-26  \\\n",
       "0      48.479      49.437      49.133      48.308      47.625      48.014   \n",
       "1      39.579      39.442      39.049      41.309      42.097      41.828   \n",
       "2      16.752      16.993      16.950      16.685      17.024      17.055   \n",
       "3      18.190      17.820      17.450      17.770      17.680      17.860   \n",
       "4      12.792      12.868      12.848      13.038      13.097      13.261   \n",
       "\n",
       "   2014-12-29  2014-12-30  2014-12-31  \n",
       "0      48.101      47.996      47.455  \n",
       "1      41.145      40.834      40.619  \n",
       "2      17.636      17.926      17.696  \n",
       "3      17.970      18.600      18.670  \n",
       "4      13.373      13.232      13.232  \n",
       "\n",
       "[5 rows x 1258 columns]"
      ]
     },
     "execution_count": 5,
     "metadata": {},
     "output_type": "execute_result"
    }
   ],
   "source": [
    "open_df.head()"
   ]
  },
  {
   "cell_type": "code",
   "execution_count": 6,
   "id": "14cc52a4-5461-4ae4-9c54-156914f293e7",
   "metadata": {},
   "outputs": [
    {
     "name": "stdout",
     "output_type": "stream",
     "text": [
      "<class 'pandas.core.frame.DataFrame'>\n",
      "RangeIndex: 2436 entries, 0 to 2435\n",
      "Columns: 1258 entries, Unnamed: 0 to 2014-12-31\n",
      "dtypes: float64(1257), object(1)\n",
      "memory usage: 23.4+ MB\n",
      "None\n"
     ]
    }
   ],
   "source": [
    "print(open_df.info())"
   ]
  },
  {
   "cell_type": "code",
   "execution_count": 7,
   "id": "6544cb6a-a8a4-4289-a88f-b0e8aacea0fb",
   "metadata": {},
   "outputs": [
    {
     "data": {
      "text/html": [
       "<div>\n",
       "<style scoped>\n",
       "    .dataframe tbody tr th:only-of-type {\n",
       "        vertical-align: middle;\n",
       "    }\n",
       "\n",
       "    .dataframe tbody tr th {\n",
       "        vertical-align: top;\n",
       "    }\n",
       "\n",
       "    .dataframe thead th {\n",
       "        text-align: right;\n",
       "    }\n",
       "</style>\n",
       "<table border=\"1\" class=\"dataframe\">\n",
       "  <thead>\n",
       "    <tr style=\"text-align: right;\">\n",
       "      <th></th>\n",
       "      <th>Unnamed: 0</th>\n",
       "      <th>2010-01-04</th>\n",
       "      <th>2010-01-05</th>\n",
       "      <th>2010-01-06</th>\n",
       "      <th>2010-01-07</th>\n",
       "      <th>2010-01-08</th>\n",
       "      <th>2010-01-11</th>\n",
       "      <th>2010-01-12</th>\n",
       "      <th>2010-01-13</th>\n",
       "      <th>2010-01-14</th>\n",
       "      <th>...</th>\n",
       "      <th>2014-12-17</th>\n",
       "      <th>2014-12-18</th>\n",
       "      <th>2014-12-19</th>\n",
       "      <th>2014-12-22</th>\n",
       "      <th>2014-12-23</th>\n",
       "      <th>2014-12-24</th>\n",
       "      <th>2014-12-26</th>\n",
       "      <th>2014-12-29</th>\n",
       "      <th>2014-12-30</th>\n",
       "      <th>2014-12-31</th>\n",
       "    </tr>\n",
       "  </thead>\n",
       "  <tbody>\n",
       "    <tr>\n",
       "      <th>0</th>\n",
       "      <td>iba.us</td>\n",
       "      <td>20.9550</td>\n",
       "      <td>20.2590</td>\n",
       "      <td>20.8660</td>\n",
       "      <td>20.6740</td>\n",
       "      <td>20.7960</td>\n",
       "      <td>20.8490</td>\n",
       "      <td>20.2950</td>\n",
       "      <td>20.6640</td>\n",
       "      <td>20.7340</td>\n",
       "      <td>...</td>\n",
       "      <td>47.455</td>\n",
       "      <td>48.479</td>\n",
       "      <td>49.437</td>\n",
       "      <td>49.133</td>\n",
       "      <td>48.308</td>\n",
       "      <td>47.625</td>\n",
       "      <td>48.014</td>\n",
       "      <td>48.101</td>\n",
       "      <td>47.996</td>\n",
       "      <td>47.455</td>\n",
       "    </tr>\n",
       "    <tr>\n",
       "      <th>1</th>\n",
       "      <td>wpz.us</td>\n",
       "      <td>22.0330</td>\n",
       "      <td>22.3830</td>\n",
       "      <td>22.6670</td>\n",
       "      <td>22.6600</td>\n",
       "      <td>22.1040</td>\n",
       "      <td>22.3550</td>\n",
       "      <td>21.9840</td>\n",
       "      <td>22.0560</td>\n",
       "      <td>21.9030</td>\n",
       "      <td>...</td>\n",
       "      <td>37.892</td>\n",
       "      <td>39.579</td>\n",
       "      <td>39.442</td>\n",
       "      <td>39.049</td>\n",
       "      <td>41.309</td>\n",
       "      <td>42.097</td>\n",
       "      <td>41.828</td>\n",
       "      <td>41.145</td>\n",
       "      <td>40.834</td>\n",
       "      <td>40.619</td>\n",
       "    </tr>\n",
       "    <tr>\n",
       "      <th>2</th>\n",
       "      <td>flic.us</td>\n",
       "      <td>9.2675</td>\n",
       "      <td>9.2675</td>\n",
       "      <td>9.1616</td>\n",
       "      <td>9.0283</td>\n",
       "      <td>9.0356</td>\n",
       "      <td>9.0571</td>\n",
       "      <td>9.2792</td>\n",
       "      <td>9.3094</td>\n",
       "      <td>9.2258</td>\n",
       "      <td>...</td>\n",
       "      <td>15.899</td>\n",
       "      <td>16.752</td>\n",
       "      <td>16.993</td>\n",
       "      <td>16.950</td>\n",
       "      <td>16.685</td>\n",
       "      <td>17.024</td>\n",
       "      <td>17.055</td>\n",
       "      <td>17.636</td>\n",
       "      <td>17.926</td>\n",
       "      <td>17.696</td>\n",
       "    </tr>\n",
       "    <tr>\n",
       "      <th>3</th>\n",
       "      <td>ncs.us</td>\n",
       "      <td>9.2500</td>\n",
       "      <td>10.3000</td>\n",
       "      <td>10.4500</td>\n",
       "      <td>10.1000</td>\n",
       "      <td>10.4000</td>\n",
       "      <td>11.6000</td>\n",
       "      <td>11.1000</td>\n",
       "      <td>10.7500</td>\n",
       "      <td>10.6500</td>\n",
       "      <td>...</td>\n",
       "      <td>17.380</td>\n",
       "      <td>18.190</td>\n",
       "      <td>17.820</td>\n",
       "      <td>17.450</td>\n",
       "      <td>17.770</td>\n",
       "      <td>17.680</td>\n",
       "      <td>17.860</td>\n",
       "      <td>17.970</td>\n",
       "      <td>18.600</td>\n",
       "      <td>18.670</td>\n",
       "    </tr>\n",
       "    <tr>\n",
       "      <th>4</th>\n",
       "      <td>gpk.us</td>\n",
       "      <td>3.4102</td>\n",
       "      <td>3.4959</td>\n",
       "      <td>3.4388</td>\n",
       "      <td>3.3435</td>\n",
       "      <td>3.5341</td>\n",
       "      <td>3.4197</td>\n",
       "      <td>3.3624</td>\n",
       "      <td>3.3530</td>\n",
       "      <td>3.2958</td>\n",
       "      <td>...</td>\n",
       "      <td>12.394</td>\n",
       "      <td>12.792</td>\n",
       "      <td>12.868</td>\n",
       "      <td>12.848</td>\n",
       "      <td>13.038</td>\n",
       "      <td>13.097</td>\n",
       "      <td>13.261</td>\n",
       "      <td>13.373</td>\n",
       "      <td>13.232</td>\n",
       "      <td>13.232</td>\n",
       "    </tr>\n",
       "  </tbody>\n",
       "</table>\n",
       "<p>5 rows × 1258 columns</p>\n",
       "</div>"
      ],
      "text/plain": [
       "  Unnamed: 0  2010-01-04  2010-01-05  2010-01-06  2010-01-07  2010-01-08  \\\n",
       "0     iba.us     20.9550     20.2590     20.8660     20.6740     20.7960   \n",
       "1     wpz.us     22.0330     22.3830     22.6670     22.6600     22.1040   \n",
       "2    flic.us      9.2675      9.2675      9.1616      9.0283      9.0356   \n",
       "3     ncs.us      9.2500     10.3000     10.4500     10.1000     10.4000   \n",
       "4     gpk.us      3.4102      3.4959      3.4388      3.3435      3.5341   \n",
       "\n",
       "   2010-01-11  2010-01-12  2010-01-13  2010-01-14  ...  2014-12-17  \\\n",
       "0     20.8490     20.2950     20.6640     20.7340  ...      47.455   \n",
       "1     22.3550     21.9840     22.0560     21.9030  ...      37.892   \n",
       "2      9.0571      9.2792      9.3094      9.2258  ...      15.899   \n",
       "3     11.6000     11.1000     10.7500     10.6500  ...      17.380   \n",
       "4      3.4197      3.3624      3.3530      3.2958  ...      12.394   \n",
       "\n",
       "   2014-12-18  2014-12-19  2014-12-22  2014-12-23  2014-12-24  2014-12-26  \\\n",
       "0      48.479      49.437      49.133      48.308      47.625      48.014   \n",
       "1      39.579      39.442      39.049      41.309      42.097      41.828   \n",
       "2      16.752      16.993      16.950      16.685      17.024      17.055   \n",
       "3      18.190      17.820      17.450      17.770      17.680      17.860   \n",
       "4      12.792      12.868      12.848      13.038      13.097      13.261   \n",
       "\n",
       "   2014-12-29  2014-12-30  2014-12-31  \n",
       "0      48.101      47.996      47.455  \n",
       "1      41.145      40.834      40.619  \n",
       "2      17.636      17.926      17.696  \n",
       "3      17.970      18.600      18.670  \n",
       "4      13.373      13.232      13.232  \n",
       "\n",
       "[5 rows x 1258 columns]"
      ]
     },
     "execution_count": 7,
     "metadata": {},
     "output_type": "execute_result"
    }
   ],
   "source": [
    "high_df.head()"
   ]
  },
  {
   "cell_type": "markdown",
   "id": "3b550ed2-87d9-42c8-833b-1414bda31f99",
   "metadata": {},
   "source": [
    "**Задача 1**\n",
    "\n",
    "Написать функцию нейтрализации. На вход подается вектор произвольной длины, на выходе нейтрализованный вектор."
   ]
  },
  {
   "cell_type": "code",
   "execution_count": 8,
   "id": "fb53d22f-3492-4750-8c35-6197a859e318",
   "metadata": {},
   "outputs": [],
   "source": [
    "def neutralize(alpha: np.array) -> np.array:\n",
    "    return alpha - (alpha.sum() / len(alpha))"
   ]
  },
  {
   "cell_type": "code",
   "execution_count": 9,
   "id": "43ccd1fe-4453-41dd-85b4-520c34831fab",
   "metadata": {},
   "outputs": [
    {
     "name": "stdout",
     "output_type": "stream",
     "text": [
      "[1 2 3 4 5 6 7 8 9]\n",
      "Sum = 45\n"
     ]
    }
   ],
   "source": [
    "alpha = np.arange(1, 10)\n",
    "print(alpha)\n",
    "print(f'Sum = {alpha.sum()}')"
   ]
  },
  {
   "cell_type": "code",
   "execution_count": 10,
   "id": "bc1f986a-5c10-409b-950f-38e4e864d76e",
   "metadata": {},
   "outputs": [
    {
     "name": "stdout",
     "output_type": "stream",
     "text": [
      "[-4. -3. -2. -1.  0.  1.  2.  3.  4.]\n",
      "Sum = 0.0\n"
     ]
    }
   ],
   "source": [
    "alpha = neutralize(alpha)\n",
    "print(alpha)\n",
    "print(f'Sum = {alpha.sum()}')"
   ]
  },
  {
   "cell_type": "markdown",
   "id": "5a993a3e-ec6b-43b0-b9bd-a1063eef7df3",
   "metadata": {},
   "source": [
    "**Задача 2**\n",
    "\n",
    "Написать функцию нейтрализации. На вход подается вектор произвольной длины, на выходе нормализованный вектор."
   ]
  },
  {
   "cell_type": "code",
   "execution_count": 11,
   "id": "613ed889-e093-4272-a4d4-4243dd90ef96",
   "metadata": {},
   "outputs": [],
   "source": [
    "def normalize(alpha: np.array) -> np.array:\n",
    "    return alpha / np.abs(alpha).sum()"
   ]
  },
  {
   "cell_type": "code",
   "execution_count": 12,
   "id": "5c6ef1fb-e3fc-4c19-af64-05fd46e6f4b3",
   "metadata": {},
   "outputs": [
    {
     "name": "stdout",
     "output_type": "stream",
     "text": [
      "[1 2 3 4 5 6 7 8 9]\n",
      "Module sum = 45\n"
     ]
    }
   ],
   "source": [
    "alpha = np.arange(1, 10)\n",
    "print(alpha)\n",
    "print(f'Module sum = {np.abs(alpha).sum()}')"
   ]
  },
  {
   "cell_type": "code",
   "execution_count": 13,
   "id": "272ff17d-1aa1-4ec2-8d0d-9195b1853118",
   "metadata": {},
   "outputs": [
    {
     "name": "stdout",
     "output_type": "stream",
     "text": [
      "[0.02222222 0.04444444 0.06666667 0.08888889 0.11111111 0.13333333\n",
      " 0.15555556 0.17777778 0.2       ]\n",
      "Module sum = 1.0\n"
     ]
    }
   ],
   "source": [
    "alpha = normalize(alpha)\n",
    "print(alpha)\n",
    "print(f'Module sum = {np.abs(alpha).sum()}')"
   ]
  },
  {
   "cell_type": "markdown",
   "id": "cc8dfd30-f0f9-4fa9-81fd-ce4ed1ccc1a3",
   "metadata": {},
   "source": [
    "**Задание 3**\n",
    "\n",
    "Построить альфу с помощью выражения $-close_i(d-1)/close_i(d-6)$, операций нормализации и нейтрализации. Вывести несколько векторов позиций и проверить, что они нейтрализованы и нормализованы."
   ]
  },
  {
   "cell_type": "code",
   "execution_count": 21,
   "id": "a9768733-5dae-4999-8e4c-92a82b790bea",
   "metadata": {},
   "outputs": [],
   "source": [
    "def reverse_alpha(df: pd.DataFrame, d_min_1: str, d_min_6: str) -> np.array:\n",
    "    close_d_min_1 = df[d_min_1]\n",
    "    close_d_min_6 = df[d_min_6]\n",
    "    return - close_d_min_1 / close_d_min_6"
   ]
  },
  {
   "cell_type": "code",
   "execution_count": 22,
   "id": "a419dc36-683e-4a03-af5a-49e2efcacb48",
   "metadata": {},
   "outputs": [
    {
     "data": {
      "text/plain": [
       "Index(['2010-01-04', '2010-01-05', '2010-01-06', '2010-01-07', '2010-01-08',\n",
       "       '2010-01-11', '2010-01-12', '2010-01-13', '2010-01-14', '2010-01-15',\n",
       "       ...\n",
       "       '2014-12-17', '2014-12-18', '2014-12-19', '2014-12-22', '2014-12-23',\n",
       "       '2014-12-24', '2014-12-26', '2014-12-29', '2014-12-30', '2014-12-31'],\n",
       "      dtype='object', length=1257)"
      ]
     },
     "execution_count": 22,
     "metadata": {},
     "output_type": "execute_result"
    }
   ],
   "source": [
    "dates = close_df.columns[1:]\n",
    "dates"
   ]
  },
  {
   "cell_type": "code",
   "execution_count": 20,
   "id": "14963c21-c819-4440-81d0-fa9d691ab3e4",
   "metadata": {},
   "outputs": [],
   "source": [
    "days = [10, 115, 467, 1200]"
   ]
  },
  {
   "cell_type": "code",
   "execution_count": null,
   "id": "0418a185-419f-4fb2-a504-a225f85e653d",
   "metadata": {},
   "outputs": [],
   "source": [
    "alpha_1 = reverse_alpha(close_df, dates[days[0]], dates[days[0]-6])"
   ]
  },
  {
   "cell_type": "code",
   "execution_count": null,
   "id": "64d98712-2265-4ba9-952c-b3d785192b04",
   "metadata": {},
   "outputs": [],
   "source": [
    "alpha = [1, 2, 3, 4, 5, 6, 7, 8]"
   ]
  },
  {
   "cell_type": "code",
   "execution_count": null,
   "id": "079c25cf-fd56-4c28-b15f-d302c9431b9c",
   "metadata": {},
   "outputs": [],
   "source": [
    "def neutralize (alpha):\n",
    "    total = 0\n",
    "    \n",
    "    for i in range(0, len(alpha), 1):\n",
    "        total = total + alpha[i] # мы посчитали сумму всех элементов массива\n",
    "\n",
    "    average = \n",
    "        \n",
    "        "
   ]
  }
 ],
 "metadata": {
  "kernelspec": {
   "display_name": "Python 3 (ipykernel)",
   "language": "python",
   "name": "python3"
  },
  "language_info": {
   "codemirror_mode": {
    "name": "ipython",
    "version": 3
   },
   "file_extension": ".py",
   "mimetype": "text/x-python",
   "name": "python",
   "nbconvert_exporter": "python",
   "pygments_lexer": "ipython3",
   "version": "3.9.13"
  }
 },
 "nbformat": 4,
 "nbformat_minor": 5
}
