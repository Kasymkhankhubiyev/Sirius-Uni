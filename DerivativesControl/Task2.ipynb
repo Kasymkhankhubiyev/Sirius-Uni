{
 "cells": [
  {
   "cell_type": "code",
   "execution_count": 1,
   "id": "229b3631-49f5-436f-a20d-8c222400966d",
   "metadata": {},
   "outputs": [],
   "source": [
    "import numpy as np\n",
    "import pandas as pd\n",
    "import matplotlib.pyplot as plt\n",
    "\n",
    "import os\n",
    "import datetime\n",
    "\n",
    "from helper import make_alphas_state_matrix_with_day_step\n",
    "from helper import instrument_return\n",
    "from helper import AlphaStats\n",
    "from helper import normalize, neutralize, neutralize_with_dropout\n",
    "\n",
    "import manipulate_alpha as mpa\n",
    "\n",
    "from test import test1, test2, test3\n",
    "\n",
    "SLICE_INDEX = 2436"
   ]
  },
  {
   "cell_type": "markdown",
   "id": "9dd04cfb-c567-43a1-92a0-9a5ed5639ee9",
   "metadata": {},
   "source": [
    "## Getting data and preparation"
   ]
  },
  {
   "cell_type": "code",
   "execution_count": 2,
   "id": "788b95e7-4789-4e4b-989c-fc5bba10d583",
   "metadata": {},
   "outputs": [
    {
     "data": {
      "text/plain": [
       "['Open.csv', 'High.csv', 'Close.csv', 'Low.csv', 'Volume.csv']"
      ]
     },
     "execution_count": 2,
     "metadata": {},
     "output_type": "execute_result"
    }
   ],
   "source": [
    "dataset_dir = './dataset_2010_2014'\n",
    "os.listdir(dataset_dir)"
   ]
  },
  {
   "cell_type": "code",
   "execution_count": 3,
   "id": "d52b8c91-dd3d-4f06-8d0f-551af5844c6e",
   "metadata": {},
   "outputs": [],
   "source": [
    "open_df = pd.read_csv(dataset_dir + '/Open.csv')\n",
    "high_df = pd.read_csv(dataset_dir + '/High.csv')\n",
    "close_df = pd.read_csv(dataset_dir + '/Close.csv')\n",
    "low_df = pd.read_csv(dataset_dir + '/Low.csv')\n",
    "volume_df = pd.read_csv(dataset_dir + '/Volume.csv')"
   ]
  },
  {
   "cell_type": "code",
   "execution_count": 4,
   "id": "f0880010-ed3b-401c-9957-74c734d4558f",
   "metadata": {},
   "outputs": [],
   "source": [
    "close_df = close_df[SLICE_INDEX: 2*SLICE_INDEX]"
   ]
  },
  {
   "cell_type": "code",
   "execution_count": 5,
   "id": "b7c174a5-7cfc-471a-a4fd-53a6bbd1cca0",
   "metadata": {},
   "outputs": [
    {
     "data": {
      "text/plain": [
       "(2436, 1258)"
      ]
     },
     "execution_count": 5,
     "metadata": {},
     "output_type": "execute_result"
    }
   ],
   "source": [
    "close_df.shape"
   ]
  },
  {
   "cell_type": "code",
   "execution_count": 6,
   "id": "65cdeb9b-6fef-46d5-9c31-9f73a40f88f1",
   "metadata": {},
   "outputs": [],
   "source": [
    "# high_df.shape\n",
    "high_df = high_df[2*SLICE_INDEX: 3*SLICE_INDEX]"
   ]
  },
  {
   "cell_type": "code",
   "execution_count": 7,
   "id": "05b16d42-b9be-4b9d-abb7-6c63ea53015d",
   "metadata": {},
   "outputs": [],
   "source": [
    "low_df = low_df[3*SLICE_INDEX: 4*SLICE_INDEX]"
   ]
  },
  {
   "cell_type": "code",
   "execution_count": 8,
   "id": "c9e679b9-c561-4ad5-87f9-238745dcd5da",
   "metadata": {},
   "outputs": [
    {
     "data": {
      "text/plain": [
       "(2436, 1258)"
      ]
     },
     "execution_count": 8,
     "metadata": {},
     "output_type": "execute_result"
    }
   ],
   "source": [
    "volume_df.shape"
   ]
  },
  {
   "cell_type": "code",
   "execution_count": 9,
   "id": "c1a298f5-4096-4018-900e-e425f62db6f5",
   "metadata": {},
   "outputs": [
    {
     "data": {
      "text/html": [
       "<div>\n",
       "<style scoped>\n",
       "    .dataframe tbody tr th:only-of-type {\n",
       "        vertical-align: middle;\n",
       "    }\n",
       "\n",
       "    .dataframe tbody tr th {\n",
       "        vertical-align: top;\n",
       "    }\n",
       "\n",
       "    .dataframe thead th {\n",
       "        text-align: right;\n",
       "    }\n",
       "</style>\n",
       "<table border=\"1\" class=\"dataframe\">\n",
       "  <thead>\n",
       "    <tr style=\"text-align: right;\">\n",
       "      <th></th>\n",
       "      <th>Unnamed: 0</th>\n",
       "      <th>2010-01-04</th>\n",
       "      <th>2010-01-05</th>\n",
       "      <th>2010-01-06</th>\n",
       "      <th>2010-01-07</th>\n",
       "      <th>2010-01-08</th>\n",
       "      <th>2010-01-11</th>\n",
       "      <th>2010-01-12</th>\n",
       "      <th>2010-01-13</th>\n",
       "      <th>2010-01-14</th>\n",
       "      <th>...</th>\n",
       "      <th>2014-12-17</th>\n",
       "      <th>2014-12-18</th>\n",
       "      <th>2014-12-19</th>\n",
       "      <th>2014-12-22</th>\n",
       "      <th>2014-12-23</th>\n",
       "      <th>2014-12-24</th>\n",
       "      <th>2014-12-26</th>\n",
       "      <th>2014-12-29</th>\n",
       "      <th>2014-12-30</th>\n",
       "      <th>2014-12-31</th>\n",
       "    </tr>\n",
       "  </thead>\n",
       "  <tbody>\n",
       "    <tr>\n",
       "      <th>4872</th>\n",
       "      <td>iba.us</td>\n",
       "      <td>20.9550</td>\n",
       "      <td>21.0930</td>\n",
       "      <td>21.4550</td>\n",
       "      <td>21.0930</td>\n",
       "      <td>21.0850</td>\n",
       "      <td>21.0930</td>\n",
       "      <td>20.7790</td>\n",
       "      <td>20.8300</td>\n",
       "      <td>20.8300</td>\n",
       "      <td>...</td>\n",
       "      <td>49.683</td>\n",
       "      <td>49.778</td>\n",
       "      <td>49.731</td>\n",
       "      <td>49.133</td>\n",
       "      <td>48.357</td>\n",
       "      <td>48.145</td>\n",
       "      <td>48.421</td>\n",
       "      <td>48.234</td>\n",
       "      <td>48.042</td>\n",
       "      <td>47.976</td>\n",
       "    </tr>\n",
       "    <tr>\n",
       "      <th>4873</th>\n",
       "      <td>wpz.us</td>\n",
       "      <td>22.4110</td>\n",
       "      <td>22.6600</td>\n",
       "      <td>22.8230</td>\n",
       "      <td>22.6950</td>\n",
       "      <td>22.4190</td>\n",
       "      <td>22.4110</td>\n",
       "      <td>22.2410</td>\n",
       "      <td>22.0560</td>\n",
       "      <td>22.1830</td>\n",
       "      <td>...</td>\n",
       "      <td>39.784</td>\n",
       "      <td>40.744</td>\n",
       "      <td>39.883</td>\n",
       "      <td>41.540</td>\n",
       "      <td>42.894</td>\n",
       "      <td>42.722</td>\n",
       "      <td>42.205</td>\n",
       "      <td>41.560</td>\n",
       "      <td>41.353</td>\n",
       "      <td>40.770</td>\n",
       "    </tr>\n",
       "    <tr>\n",
       "      <th>4874</th>\n",
       "      <td>flic.us</td>\n",
       "      <td>9.3094</td>\n",
       "      <td>9.2675</td>\n",
       "      <td>9.2492</td>\n",
       "      <td>9.2296</td>\n",
       "      <td>9.0356</td>\n",
       "      <td>9.3596</td>\n",
       "      <td>9.4185</td>\n",
       "      <td>9.3162</td>\n",
       "      <td>9.2361</td>\n",
       "      <td>...</td>\n",
       "      <td>16.666</td>\n",
       "      <td>16.895</td>\n",
       "      <td>17.277</td>\n",
       "      <td>16.950</td>\n",
       "      <td>17.494</td>\n",
       "      <td>17.184</td>\n",
       "      <td>17.767</td>\n",
       "      <td>18.020</td>\n",
       "      <td>18.093</td>\n",
       "      <td>17.767</td>\n",
       "    </tr>\n",
       "    <tr>\n",
       "      <th>4875</th>\n",
       "      <td>ncs.us</td>\n",
       "      <td>10.2500</td>\n",
       "      <td>10.4000</td>\n",
       "      <td>10.4500</td>\n",
       "      <td>10.5000</td>\n",
       "      <td>11.7500</td>\n",
       "      <td>12.2000</td>\n",
       "      <td>11.2500</td>\n",
       "      <td>10.8500</td>\n",
       "      <td>10.7500</td>\n",
       "      <td>...</td>\n",
       "      <td>17.910</td>\n",
       "      <td>18.190</td>\n",
       "      <td>17.940</td>\n",
       "      <td>17.640</td>\n",
       "      <td>18.080</td>\n",
       "      <td>17.900</td>\n",
       "      <td>18.050</td>\n",
       "      <td>18.660</td>\n",
       "      <td>18.660</td>\n",
       "      <td>18.810</td>\n",
       "    </tr>\n",
       "    <tr>\n",
       "      <th>4876</th>\n",
       "      <td>gpk.us</td>\n",
       "      <td>3.5531</td>\n",
       "      <td>3.6196</td>\n",
       "      <td>3.5243</td>\n",
       "      <td>3.5341</td>\n",
       "      <td>3.6006</td>\n",
       "      <td>3.4197</td>\n",
       "      <td>3.3814</td>\n",
       "      <td>3.3722</td>\n",
       "      <td>3.3814</td>\n",
       "      <td>...</td>\n",
       "      <td>12.613</td>\n",
       "      <td>12.917</td>\n",
       "      <td>12.956</td>\n",
       "      <td>13.023</td>\n",
       "      <td>13.164</td>\n",
       "      <td>13.222</td>\n",
       "      <td>13.383</td>\n",
       "      <td>13.421</td>\n",
       "      <td>13.281</td>\n",
       "      <td>13.232</td>\n",
       "    </tr>\n",
       "  </tbody>\n",
       "</table>\n",
       "<p>5 rows × 1258 columns</p>\n",
       "</div>"
      ],
      "text/plain": [
       "     Unnamed: 0  2010-01-04  2010-01-05  2010-01-06  2010-01-07  2010-01-08  \\\n",
       "4872     iba.us     20.9550     21.0930     21.4550     21.0930     21.0850   \n",
       "4873     wpz.us     22.4110     22.6600     22.8230     22.6950     22.4190   \n",
       "4874    flic.us      9.3094      9.2675      9.2492      9.2296      9.0356   \n",
       "4875     ncs.us     10.2500     10.4000     10.4500     10.5000     11.7500   \n",
       "4876     gpk.us      3.5531      3.6196      3.5243      3.5341      3.6006   \n",
       "\n",
       "      2010-01-11  2010-01-12  2010-01-13  2010-01-14  ...  2014-12-17  \\\n",
       "4872     21.0930     20.7790     20.8300     20.8300  ...      49.683   \n",
       "4873     22.4110     22.2410     22.0560     22.1830  ...      39.784   \n",
       "4874      9.3596      9.4185      9.3162      9.2361  ...      16.666   \n",
       "4875     12.2000     11.2500     10.8500     10.7500  ...      17.910   \n",
       "4876      3.4197      3.3814      3.3722      3.3814  ...      12.613   \n",
       "\n",
       "      2014-12-18  2014-12-19  2014-12-22  2014-12-23  2014-12-24  2014-12-26  \\\n",
       "4872      49.778      49.731      49.133      48.357      48.145      48.421   \n",
       "4873      40.744      39.883      41.540      42.894      42.722      42.205   \n",
       "4874      16.895      17.277      16.950      17.494      17.184      17.767   \n",
       "4875      18.190      17.940      17.640      18.080      17.900      18.050   \n",
       "4876      12.917      12.956      13.023      13.164      13.222      13.383   \n",
       "\n",
       "      2014-12-29  2014-12-30  2014-12-31  \n",
       "4872      48.234      48.042      47.976  \n",
       "4873      41.560      41.353      40.770  \n",
       "4874      18.020      18.093      17.767  \n",
       "4875      18.660      18.660      18.810  \n",
       "4876      13.421      13.281      13.232  \n",
       "\n",
       "[5 rows x 1258 columns]"
      ]
     },
     "execution_count": 9,
     "metadata": {},
     "output_type": "execute_result"
    }
   ],
   "source": [
    "high_df.head()"
   ]
  },
  {
   "cell_type": "code",
   "execution_count": 10,
   "id": "b85fa7c4-4876-47dd-b747-b69348bec365",
   "metadata": {},
   "outputs": [
    {
     "data": {
      "text/html": [
       "<div>\n",
       "<style scoped>\n",
       "    .dataframe tbody tr th:only-of-type {\n",
       "        vertical-align: middle;\n",
       "    }\n",
       "\n",
       "    .dataframe tbody tr th {\n",
       "        vertical-align: top;\n",
       "    }\n",
       "\n",
       "    .dataframe thead th {\n",
       "        text-align: right;\n",
       "    }\n",
       "</style>\n",
       "<table border=\"1\" class=\"dataframe\">\n",
       "  <thead>\n",
       "    <tr style=\"text-align: right;\">\n",
       "      <th></th>\n",
       "      <th>Unnamed: 0</th>\n",
       "      <th>2010-01-04</th>\n",
       "      <th>2010-01-05</th>\n",
       "      <th>2010-01-06</th>\n",
       "      <th>2010-01-07</th>\n",
       "      <th>2010-01-08</th>\n",
       "      <th>2010-01-11</th>\n",
       "      <th>2010-01-12</th>\n",
       "      <th>2010-01-13</th>\n",
       "      <th>2010-01-14</th>\n",
       "      <th>...</th>\n",
       "      <th>2014-12-17</th>\n",
       "      <th>2014-12-18</th>\n",
       "      <th>2014-12-19</th>\n",
       "      <th>2014-12-22</th>\n",
       "      <th>2014-12-23</th>\n",
       "      <th>2014-12-24</th>\n",
       "      <th>2014-12-26</th>\n",
       "      <th>2014-12-29</th>\n",
       "      <th>2014-12-30</th>\n",
       "      <th>2014-12-31</th>\n",
       "    </tr>\n",
       "  </thead>\n",
       "  <tbody>\n",
       "    <tr>\n",
       "      <th>7308</th>\n",
       "      <td>iba.us</td>\n",
       "      <td>20.2250</td>\n",
       "      <td>20.2590</td>\n",
       "      <td>20.4890</td>\n",
       "      <td>20.6740</td>\n",
       "      <td>20.6830</td>\n",
       "      <td>20.2170</td>\n",
       "      <td>19.9250</td>\n",
       "      <td>20.4890</td>\n",
       "      <td>20.4100</td>\n",
       "      <td>...</td>\n",
       "      <td>46.810</td>\n",
       "      <td>47.407</td>\n",
       "      <td>48.479</td>\n",
       "      <td>48.024</td>\n",
       "      <td>47.464</td>\n",
       "      <td>47.321</td>\n",
       "      <td>47.910</td>\n",
       "      <td>47.720</td>\n",
       "      <td>47.390</td>\n",
       "      <td>47.246</td>\n",
       "    </tr>\n",
       "    <tr>\n",
       "      <th>7309</th>\n",
       "      <td>wpz.us</td>\n",
       "      <td>21.9210</td>\n",
       "      <td>22.1920</td>\n",
       "      <td>22.4110</td>\n",
       "      <td>22.1620</td>\n",
       "      <td>22.0760</td>\n",
       "      <td>22.0640</td>\n",
       "      <td>21.8470</td>\n",
       "      <td>21.3490</td>\n",
       "      <td>21.7000</td>\n",
       "      <td>...</td>\n",
       "      <td>37.739</td>\n",
       "      <td>38.869</td>\n",
       "      <td>38.781</td>\n",
       "      <td>38.861</td>\n",
       "      <td>40.905</td>\n",
       "      <td>41.775</td>\n",
       "      <td>41.209</td>\n",
       "      <td>40.770</td>\n",
       "      <td>40.421</td>\n",
       "      <td>40.073</td>\n",
       "    </tr>\n",
       "    <tr>\n",
       "      <th>7310</th>\n",
       "      <td>flic.us</td>\n",
       "      <td>9.1839</td>\n",
       "      <td>9.1159</td>\n",
       "      <td>8.7931</td>\n",
       "      <td>8.7819</td>\n",
       "      <td>8.8440</td>\n",
       "      <td>8.8008</td>\n",
       "      <td>9.2400</td>\n",
       "      <td>9.1420</td>\n",
       "      <td>8.8335</td>\n",
       "      <td>...</td>\n",
       "      <td>15.603</td>\n",
       "      <td>16.290</td>\n",
       "      <td>16.802</td>\n",
       "      <td>15.882</td>\n",
       "      <td>16.685</td>\n",
       "      <td>16.653</td>\n",
       "      <td>16.931</td>\n",
       "      <td>17.193</td>\n",
       "      <td>17.012</td>\n",
       "      <td>17.116</td>\n",
       "    </tr>\n",
       "    <tr>\n",
       "      <th>7311</th>\n",
       "      <td>ncs.us</td>\n",
       "      <td>9.2000</td>\n",
       "      <td>9.9500</td>\n",
       "      <td>10.0000</td>\n",
       "      <td>9.8500</td>\n",
       "      <td>10.2500</td>\n",
       "      <td>11.1500</td>\n",
       "      <td>10.4000</td>\n",
       "      <td>10.3000</td>\n",
       "      <td>10.4000</td>\n",
       "      <td>...</td>\n",
       "      <td>17.320</td>\n",
       "      <td>17.590</td>\n",
       "      <td>17.130</td>\n",
       "      <td>17.220</td>\n",
       "      <td>17.460</td>\n",
       "      <td>17.580</td>\n",
       "      <td>17.830</td>\n",
       "      <td>17.970</td>\n",
       "      <td>18.420</td>\n",
       "      <td>18.460</td>\n",
       "    </tr>\n",
       "    <tr>\n",
       "      <th>7312</th>\n",
       "      <td>gpk.us</td>\n",
       "      <td>3.3722</td>\n",
       "      <td>3.4388</td>\n",
       "      <td>3.2958</td>\n",
       "      <td>3.2958</td>\n",
       "      <td>3.3624</td>\n",
       "      <td>3.2863</td>\n",
       "      <td>3.2863</td>\n",
       "      <td>3.2673</td>\n",
       "      <td>3.2958</td>\n",
       "      <td>...</td>\n",
       "      <td>12.288</td>\n",
       "      <td>12.660</td>\n",
       "      <td>12.756</td>\n",
       "      <td>12.782</td>\n",
       "      <td>13.013</td>\n",
       "      <td>13.097</td>\n",
       "      <td>13.183</td>\n",
       "      <td>13.222</td>\n",
       "      <td>13.136</td>\n",
       "      <td>12.966</td>\n",
       "    </tr>\n",
       "  </tbody>\n",
       "</table>\n",
       "<p>5 rows × 1258 columns</p>\n",
       "</div>"
      ],
      "text/plain": [
       "     Unnamed: 0  2010-01-04  2010-01-05  2010-01-06  2010-01-07  2010-01-08  \\\n",
       "7308     iba.us     20.2250     20.2590     20.4890     20.6740     20.6830   \n",
       "7309     wpz.us     21.9210     22.1920     22.4110     22.1620     22.0760   \n",
       "7310    flic.us      9.1839      9.1159      8.7931      8.7819      8.8440   \n",
       "7311     ncs.us      9.2000      9.9500     10.0000      9.8500     10.2500   \n",
       "7312     gpk.us      3.3722      3.4388      3.2958      3.2958      3.3624   \n",
       "\n",
       "      2010-01-11  2010-01-12  2010-01-13  2010-01-14  ...  2014-12-17  \\\n",
       "7308     20.2170     19.9250     20.4890     20.4100  ...      46.810   \n",
       "7309     22.0640     21.8470     21.3490     21.7000  ...      37.739   \n",
       "7310      8.8008      9.2400      9.1420      8.8335  ...      15.603   \n",
       "7311     11.1500     10.4000     10.3000     10.4000  ...      17.320   \n",
       "7312      3.2863      3.2863      3.2673      3.2958  ...      12.288   \n",
       "\n",
       "      2014-12-18  2014-12-19  2014-12-22  2014-12-23  2014-12-24  2014-12-26  \\\n",
       "7308      47.407      48.479      48.024      47.464      47.321      47.910   \n",
       "7309      38.869      38.781      38.861      40.905      41.775      41.209   \n",
       "7310      16.290      16.802      15.882      16.685      16.653      16.931   \n",
       "7311      17.590      17.130      17.220      17.460      17.580      17.830   \n",
       "7312      12.660      12.756      12.782      13.013      13.097      13.183   \n",
       "\n",
       "      2014-12-29  2014-12-30  2014-12-31  \n",
       "7308      47.720      47.390      47.246  \n",
       "7309      40.770      40.421      40.073  \n",
       "7310      17.193      17.012      17.116  \n",
       "7311      17.970      18.420      18.460  \n",
       "7312      13.222      13.136      12.966  \n",
       "\n",
       "[5 rows x 1258 columns]"
      ]
     },
     "execution_count": 10,
     "metadata": {},
     "output_type": "execute_result"
    }
   ],
   "source": [
    "low_df.head()"
   ]
  },
  {
   "cell_type": "code",
   "execution_count": 11,
   "id": "f7f429c9-60a7-4ff7-a999-668a799502fa",
   "metadata": {},
   "outputs": [
    {
     "name": "stdout",
     "output_type": "stream",
     "text": [
      "Neutrality test passed\n",
      "Normality test passed\n"
     ]
    }
   ],
   "source": [
    "alpha = np.random.rand(2,10)\n",
    "\n",
    "true_false_vec = np.ones(alpha.shape)\n",
    "true_false_vec[0][3:6] = 0\n",
    "alpha[0][3:6] = 0\n",
    "true_false_vec[1][4:7] = 0\n",
    "alpha[1][4:7] = 0\n",
    "\n",
    "alpha = normalize(neutralize_with_dropout(alpha, true_false_vec))\n",
    "\n",
    "test1(alpha)\n",
    "test2(alpha)"
   ]
  },
  {
   "cell_type": "markdown",
   "id": "6a63b1cf-fcb5-4232-b3d5-a8df96a937e6",
   "metadata": {},
   "source": [
    "# The First strategy - reverse alpha\n",
    "$\\frac{close(d-n)}{close(d-1)}$"
   ]
  },
  {
   "cell_type": "code",
   "execution_count": 12,
   "id": "c26385d4-1f4c-4062-a167-c1b72c88b75b",
   "metadata": {},
   "outputs": [],
   "source": [
    "day_step = 6"
   ]
  },
  {
   "cell_type": "code",
   "execution_count": 13,
   "id": "9664a28e-ff41-431e-be20-1d4bff9e8a9e",
   "metadata": {},
   "outputs": [],
   "source": [
    "def close_prices_ratio_alpha(df, start_date, end_date):\n",
    "    return df[start_date] / df[end_date] "
   ]
  },
  {
   "cell_type": "code",
   "execution_count": 14,
   "id": "e43e2462-e051-4bc4-9bdf-95d63e12603a",
   "metadata": {},
   "outputs": [],
   "source": [
    "alpha_matrix1 = make_alphas_state_matrix_with_day_step(close_df, day_step, strategy=close_prices_ratio_alpha)"
   ]
  },
  {
   "cell_type": "code",
   "execution_count": 15,
   "id": "f3dcbba0-a784-4ec4-9d81-d32c27b5b8d4",
   "metadata": {},
   "outputs": [
    {
     "name": "stdout",
     "output_type": "stream",
     "text": [
      "Neutrality test passed\n",
      "Normality test passed\n"
     ]
    }
   ],
   "source": [
    "test1(alpha_matrix1[0])\n",
    "test2(alpha_matrix1[day_step-1:]) # потому что альфы там просто нулевые"
   ]
  },
  {
   "cell_type": "code",
   "execution_count": 16,
   "id": "7abb2fb1-8bd6-473d-976a-bf4b3bf37ab2",
   "metadata": {},
   "outputs": [
    {
     "data": {
      "text/plain": [
       "(1257, 2436)"
      ]
     },
     "execution_count": 16,
     "metadata": {},
     "output_type": "execute_result"
    }
   ],
   "source": [
    "instrument_returns = instrument_return(close_df)\n",
    "instrument_returns.shape"
   ]
  },
  {
   "cell_type": "code",
   "execution_count": 17,
   "id": "6f27336c-e163-4b09-8b1e-a0532c6926cb",
   "metadata": {},
   "outputs": [
    {
     "data": {
      "image/png": "[encoded data removed]",
      "text/plain": [
       "<Figure size 640x480 with 1 Axes>"
      ]
     },
     "metadata": {},
     "output_type": "display_data"
    },
    {
     "name": "stdout",
     "output_type": "stream",
     "text": [
      "[0.15126160799622568, 0.36685398455338847, 0.47991698720092024, 0.5500386272471951, 0.5850667353618831]\n"
     ]
    },
    {
     "data": {
      "text/html": [
       "<div>\n",
       "<style scoped>\n",
       "    .dataframe tbody tr th:only-of-type {\n",
       "        vertical-align: middle;\n",
       "    }\n",
       "\n",
       "    .dataframe tbody tr th {\n",
       "        vertical-align: top;\n",
       "    }\n",
       "\n",
       "    .dataframe thead th {\n",
       "        text-align: right;\n",
       "    }\n",
       "</style>\n",
       "<table border=\"1\" class=\"dataframe\">\n",
       "  <thead>\n",
       "    <tr style=\"text-align: right;\">\n",
       "      <th></th>\n",
       "      <th>Year</th>\n",
       "      <th>Sharpe</th>\n",
       "      <th>Average Turnover</th>\n",
       "      <th>Max Drawdown</th>\n",
       "      <th>Cumpnl</th>\n",
       "    </tr>\n",
       "  </thead>\n",
       "  <tbody>\n",
       "    <tr>\n",
       "      <th>0</th>\n",
       "      <td>2010</td>\n",
       "      <td>1.959421</td>\n",
       "      <td>0.633571</td>\n",
       "      <td>0.062926</td>\n",
       "      <td>0.151262</td>\n",
       "    </tr>\n",
       "    <tr>\n",
       "      <th>1</th>\n",
       "      <td>2011</td>\n",
       "      <td>2.732189</td>\n",
       "      <td>0.644023</td>\n",
       "      <td>0.040099</td>\n",
       "      <td>0.366854</td>\n",
       "    </tr>\n",
       "    <tr>\n",
       "      <th>2</th>\n",
       "      <td>2012</td>\n",
       "      <td>2.578861</td>\n",
       "      <td>0.635127</td>\n",
       "      <td>0.028878</td>\n",
       "      <td>0.479917</td>\n",
       "    </tr>\n",
       "    <tr>\n",
       "      <th>3</th>\n",
       "      <td>2013</td>\n",
       "      <td>1.684395</td>\n",
       "      <td>0.633646</td>\n",
       "      <td>0.018161</td>\n",
       "      <td>0.550039</td>\n",
       "    </tr>\n",
       "    <tr>\n",
       "      <th>4</th>\n",
       "      <td>2014</td>\n",
       "      <td>0.531852</td>\n",
       "      <td>0.628814</td>\n",
       "      <td>0.077792</td>\n",
       "      <td>0.585067</td>\n",
       "    </tr>\n",
       "  </tbody>\n",
       "</table>\n",
       "</div>"
      ],
      "text/plain": [
       "   Year    Sharpe  Average Turnover  Max Drawdown    Cumpnl\n",
       "0  2010  1.959421          0.633571      0.062926  0.151262\n",
       "1  2011  2.732189          0.644023      0.040099  0.366854\n",
       "2  2012  2.578861          0.635127      0.028878  0.479917\n",
       "3  2013  1.684395          0.633646      0.018161  0.550039\n",
       "4  2014  0.531852          0.628814      0.077792  0.585067"
      ]
     },
     "execution_count": 17,
     "metadata": {},
     "output_type": "execute_result"
    }
   ],
   "source": [
    "alpha_1_data = AlphaStats(alpha_matrix1, close_df)\n",
    "alpha_1_data.head()"
   ]
  },
  {
   "cell_type": "code",
   "execution_count": 18,
   "id": "55b782e2-ea1a-4117-bedd-9e320eec1f01",
   "metadata": {},
   "outputs": [
    {
     "name": "stdout",
     "output_type": "stream",
     "text": [
      "Sharpe test passed\n",
      "Turnover test passed\n",
      "Cumpnl test passed\n",
      "passed 3 out of 3 tests\n"
     ]
    }
   ],
   "source": [
    "test3(alpha_1_data)"
   ]
  },
  {
   "cell_type": "markdown",
   "id": "770d85d4-137f-4d39-8b71-b3d67f7ba320",
   "metadata": {},
   "source": [
    "## The second strategy: Foma & French\n",
    "\n",
    "$SMB - small minus big$\n",
    "\n",
    "цена на маленькие компании растет быстрее, чем на большие,\n",
    "сортируем акции по капитализации, больше капитализация - ставим в шорт,\n",
    "меньше капитализация - в лонг.\n",
    "\n",
    "Капитализация = кол-во акций (объем торгов) * цена акции"
   ]
  },
  {
   "cell_type": "code",
   "execution_count": 19,
   "id": "42b7b6b8-985b-4067-a56a-a42578fe19c6",
   "metadata": {},
   "outputs": [],
   "source": [
    "def make_SMB_alpha(close_df, volume_df, proportion=[33, 34, 33]):\n",
    "    \"\"\"\n",
    "        Фама и Фенч предложили сортировать компании по капитализации, и выставлять соответственно\n",
    "        лонг или шорт. Акции больших компаний растут медленнее, чем акции маленьких, поэтому\n",
    "        на большие ставим шорт, на маленькие лонг, на среднечок ставим нули.\n",
    "\n",
    "        Аргументы:\n",
    "            close_df, pandas.DataFrame - кадр данных о ценах закрытия инструментов за каждый день\n",
    "            volume_df, pandas.DataFrame - кадр данных об объемах торгов за каждый день\n",
    "            proportion, 'list[int]' - пропорция по которой разделяются инструменты соответственно маленькие, средние и большие.\n",
    "                                      по умолчанию принимает значение [33, 34, 33], что означает - разделить поровну.\n",
    "                                      можно выбрать и другое соотношение, важно чтобы суммарно получалось 100(%).\n",
    "\n",
    "        Возвращаемое значение:\n",
    "            alpha_states_matrix, numpy.array - матрица состояний альфы на каждый день\n",
    "    \"\"\"\n",
    "    \n",
    "    def calc_capitalization(close_price, volume):\n",
    "        \"\"\"\n",
    "            Calculates capitalization as a result of close prices and volume multiplication\n",
    "\n",
    "            Arguments:\n",
    "                close_price, numpy.array - an array of close prices with a size of (days, instruments_number)\n",
    "                volume, numpy.array - an array of trading volume with a size of (days, instruments_number)\n",
    "\n",
    "            Return value:\n",
    "                capitalization, numpy.array - a matrix of instruments capitalization by days\n",
    "        \"\"\"\n",
    "        return close_price * volume\n",
    "\n",
    "    # checks if the sum of proportion elemts equals 100 %\n",
    "    assert np.sum(proportion) == 100\n",
    "\n",
    "    # get close and volume values\n",
    "    close = close_df.drop(close_df.columns[0], axis=1).to_numpy().T\n",
    "    volume = volume_df.drop(volume_df.columns[0], axis=1).to_numpy().T\n",
    "\n",
    "    # get capitalization\n",
    "    capitalization = calc_capitalization(close, volume)\n",
    "\n",
    "    alpha = np.zeros(close.shape)\n",
    "    true_false_vec = np.ones(close.shape)\n",
    "\n",
    "    for i in range(close.shape[0]):\n",
    "\n",
    "        indexes = np.argsort(capitalization[i])\n",
    "\n",
    "        small_upper_border = round(len(indexes) * proportion[0] / 100)\n",
    "        big_bottom_border = round(len(indexes) * (proportion[0] + proportion[1]) / 100)\n",
    "    \n",
    "        # get indexes\n",
    "        small_indexes = indexes[:small_upper_border]\n",
    "        middle_indexes = indexes[small_upper_border:big_bottom_border]\n",
    "        big_indexes = indexes[big_bottom_border:]\n",
    "        \n",
    "        alpha[i][middle_indexes] = 0\n",
    "        true_false_vec[i][middle_indexes] = 0\n",
    "        alpha[i][big_indexes] *= 1\n",
    "\n",
    "    alpha = normalize(neutralize_with_dropout(alpha, true_false_vec))\n",
    "    \n",
    "    return alpha"
   ]
  },
  {
   "cell_type": "code",
   "execution_count": 20,
   "id": "b1e41a60-752b-42ed-8a96-5440dba74f10",
   "metadata": {},
   "outputs": [
    {
     "name": "stdout",
     "output_type": "stream",
     "text": [
      "Neutrality test passed\n",
      "Normality test passed\n"
     ]
    },
    {
     "name": "stderr",
     "output_type": "stream",
     "text": [
      "/Users/hubievkasym/Desktop/Sirius Uni/DerivativesControl/helper.py:69: RuntimeWarning: invalid value encountered in divide\n",
      "  alpha_states_normalized = np.array([_alpha / np.abs(_alpha).sum() for _alpha in alpha])\n"
     ]
    }
   ],
   "source": [
    "alpha_matrix2 = make_SMB_alpha(close_df, volume_df)\n",
    "\n",
    "test1(alpha_matrix2)\n",
    "test2(alpha_matrix2[1:])  # первый нулевой"
   ]
  },
  {
   "cell_type": "code",
   "execution_count": 21,
   "id": "fed1edb1-95b3-4e20-8634-2e56acff7a45",
   "metadata": {},
   "outputs": [
    {
     "data": {
      "image/png": "[encoded data removed]",
      "text/plain": [
       "<Figure size 640x480 with 1 Axes>"
      ]
     },
     "metadata": {},
     "output_type": "display_data"
    },
    {
     "name": "stdout",
     "output_type": "stream",
     "text": [
      "[nan, nan, nan, nan, nan]\n"
     ]
    },
    {
     "data": {
      "text/html": [
       "<div>\n",
       "<style scoped>\n",
       "    .dataframe tbody tr th:only-of-type {\n",
       "        vertical-align: middle;\n",
       "    }\n",
       "\n",
       "    .dataframe tbody tr th {\n",
       "        vertical-align: top;\n",
       "    }\n",
       "\n",
       "    .dataframe thead th {\n",
       "        text-align: right;\n",
       "    }\n",
       "</style>\n",
       "<table border=\"1\" class=\"dataframe\">\n",
       "  <thead>\n",
       "    <tr style=\"text-align: right;\">\n",
       "      <th></th>\n",
       "      <th>Year</th>\n",
       "      <th>Sharpe</th>\n",
       "      <th>Average Turnover</th>\n",
       "      <th>Max Drawdown</th>\n",
       "      <th>Cumpnl</th>\n",
       "    </tr>\n",
       "  </thead>\n",
       "  <tbody>\n",
       "    <tr>\n",
       "      <th>0</th>\n",
       "      <td>2010</td>\n",
       "      <td>NaN</td>\n",
       "      <td>NaN</td>\n",
       "      <td>0</td>\n",
       "      <td>NaN</td>\n",
       "    </tr>\n",
       "    <tr>\n",
       "      <th>1</th>\n",
       "      <td>2011</td>\n",
       "      <td>NaN</td>\n",
       "      <td>NaN</td>\n",
       "      <td>0</td>\n",
       "      <td>NaN</td>\n",
       "    </tr>\n",
       "    <tr>\n",
       "      <th>2</th>\n",
       "      <td>2012</td>\n",
       "      <td>NaN</td>\n",
       "      <td>NaN</td>\n",
       "      <td>0</td>\n",
       "      <td>NaN</td>\n",
       "    </tr>\n",
       "    <tr>\n",
       "      <th>3</th>\n",
       "      <td>2013</td>\n",
       "      <td>NaN</td>\n",
       "      <td>NaN</td>\n",
       "      <td>0</td>\n",
       "      <td>NaN</td>\n",
       "    </tr>\n",
       "    <tr>\n",
       "      <th>4</th>\n",
       "      <td>2014</td>\n",
       "      <td>NaN</td>\n",
       "      <td>NaN</td>\n",
       "      <td>0</td>\n",
       "      <td>NaN</td>\n",
       "    </tr>\n",
       "  </tbody>\n",
       "</table>\n",
       "</div>"
      ],
      "text/plain": [
       "   Year  Sharpe  Average Turnover  Max Drawdown  Cumpnl\n",
       "0  2010     NaN               NaN             0     NaN\n",
       "1  2011     NaN               NaN             0     NaN\n",
       "2  2012     NaN               NaN             0     NaN\n",
       "3  2013     NaN               NaN             0     NaN\n",
       "4  2014     NaN               NaN             0     NaN"
      ]
     },
     "execution_count": 21,
     "metadata": {},
     "output_type": "execute_result"
    }
   ],
   "source": [
    "alpha_2_data = AlphaStats(alpha_matrix2, close_df)\n",
    "alpha_2_data.head()"
   ]
  },
  {
   "cell_type": "code",
   "execution_count": 22,
   "id": "f48b5348-9af0-4596-ba6f-d60c15f7eeaf",
   "metadata": {},
   "outputs": [
    {
     "name": "stdout",
     "output_type": "stream",
     "text": [
      "Sharpe test not passed\n",
      "Turnover tets not passed\n",
      "Cumpnl test not passed\n",
      "passed 0 out of 3 tests\n"
     ]
    }
   ],
   "source": [
    "test3(alpha_2_data)"
   ]
  },
  {
   "cell_type": "markdown",
   "id": "65845d46-39e2-4145-a021-6adeb14bc8d1",
   "metadata": {},
   "source": [
    "## The third strategy\n",
    "\n",
    "$alpha = \\frac{high-low}{close}$"
   ]
  },
  {
   "cell_type": "code",
   "execution_count": 50,
   "id": "7c18f41e-a7ad-46c3-804f-0409702a8201",
   "metadata": {},
   "outputs": [],
   "source": [
    "def make_high_minus_low_ratio_close_alpha(high_df, low_df, close_df):\n",
    "    high = high_df.drop(high_df.columns[0], axis=1).to_numpy().T\n",
    "    low = low_df.drop(low_df.columns[0], axis=1).to_numpy().T\n",
    "    close = close_df.drop(close_df.columns[0], axis=1).to_numpy().T\n",
    "\n",
    "    alpha = np.zeros((close.shape))\n",
    "\n",
    "    for i in range(1, close.shape[0]):\n",
    "        alpha[i] = normalize(neutralize((high[i-1] - low[i-1]) / close[i-1]))\n",
    "\n",
    "    return alpha"
   ]
  },
  {
   "cell_type": "code",
   "execution_count": 51,
   "id": "26764c73-787c-4acb-83b2-03c71f867a5b",
   "metadata": {},
   "outputs": [
    {
     "name": "stdout",
     "output_type": "stream",
     "text": [
      "(1257, 2436)\n"
     ]
    }
   ],
   "source": [
    "alpha_matrix3 = make_high_minus_low_ratio_close_alpha(high_df, low_df, close_df)\n",
    "print(alpha_matrix3.shape)"
   ]
  },
  {
   "cell_type": "code",
   "execution_count": 52,
   "id": "e7f82b3d-ee55-403f-9163-44203edada51",
   "metadata": {},
   "outputs": [
    {
     "name": "stdout",
     "output_type": "stream",
     "text": [
      "Neutrality test passed\n",
      "Normality test passed\n"
     ]
    }
   ],
   "source": [
    "test1(alpha_matrix3[0])\n",
    "test2(alpha_matrix3[1:]) # потому что альфы там просто нулевые"
   ]
  },
  {
   "cell_type": "code",
   "execution_count": 53,
   "id": "70c746c0-05fe-4208-8954-13fe7be86abb",
   "metadata": {},
   "outputs": [],
   "source": [
    "alpha_matrix3 = mpa.truncate_alpha(alpha_matrix3)\n",
    "alpha_matrix3 = mpa.CutOutliers(alpha_matrix3[1:], 1)"
   ]
  },
  {
   "cell_type": "code",
   "execution_count": 54,
   "id": "9f3a2dcc-8818-4aec-87ae-0f840b50ae7f",
   "metadata": {},
   "outputs": [],
   "source": [
    "alpha_matrix3 = np.concatenate((np.zeros((1, alpha_matrix3.shape[1])), alpha_matrix3))"
   ]
  },
  {
   "cell_type": "code",
   "execution_count": 55,
   "id": "a8e76101-d31e-48d2-bace-1606c76a641b",
   "metadata": {},
   "outputs": [
    {
     "data": {
      "text/plain": [
       "(1257, 2436)"
      ]
     },
     "execution_count": 55,
     "metadata": {},
     "output_type": "execute_result"
    }
   ],
   "source": [
    "alpha_matrix3.shape"
   ]
  },
  {
   "cell_type": "code",
   "execution_count": 56,
   "id": "adcae000-b17f-46d1-a9a3-43a7a6f127b9",
   "metadata": {},
   "outputs": [
    {
     "name": "stdout",
     "output_type": "stream",
     "text": [
      "Neutrality test passed\n",
      "Normality test passed\n"
     ]
    }
   ],
   "source": [
    "test1(alpha_matrix3[0])\n",
    "test2(alpha_matrix3[1:])"
   ]
  },
  {
   "cell_type": "code",
   "execution_count": 57,
   "id": "ca8f5fb6-3c47-41fb-9d51-86e20e45d9a0",
   "metadata": {},
   "outputs": [
    {
     "data": {
      "image/png": "[encoded data removed]",
      "text/plain": [
       "<Figure size 640x480 with 1 Axes>"
      ]
     },
     "metadata": {},
     "output_type": "display_data"
    },
    {
     "name": "stdout",
     "output_type": "stream",
     "text": [
      "[0.14230030190427279, 0.1082765871628867, 0.12239300469734299, 0.21295244020554707, 0.14892605545340704]\n"
     ]
    },
    {
     "data": {
      "text/html": [
       "<div>\n",
       "<style scoped>\n",
       "    .dataframe tbody tr th:only-of-type {\n",
       "        vertical-align: middle;\n",
       "    }\n",
       "\n",
       "    .dataframe tbody tr th {\n",
       "        vertical-align: top;\n",
       "    }\n",
       "\n",
       "    .dataframe thead th {\n",
       "        text-align: right;\n",
       "    }\n",
       "</style>\n",
       "<table border=\"1\" class=\"dataframe\">\n",
       "  <thead>\n",
       "    <tr style=\"text-align: right;\">\n",
       "      <th></th>\n",
       "      <th>Year</th>\n",
       "      <th>Sharpe</th>\n",
       "      <th>Average Turnover</th>\n",
       "      <th>Max Drawdown</th>\n",
       "      <th>Cumpnl</th>\n",
       "    </tr>\n",
       "  </thead>\n",
       "  <tbody>\n",
       "    <tr>\n",
       "      <th>0</th>\n",
       "      <td>2010</td>\n",
       "      <td>1.986546</td>\n",
       "      <td>0.844724</td>\n",
       "      <td>0.059818</td>\n",
       "      <td>0.142300</td>\n",
       "    </tr>\n",
       "    <tr>\n",
       "      <th>1</th>\n",
       "      <td>2011</td>\n",
       "      <td>-0.361215</td>\n",
       "      <td>0.829570</td>\n",
       "      <td>0.124797</td>\n",
       "      <td>0.108277</td>\n",
       "    </tr>\n",
       "    <tr>\n",
       "      <th>2</th>\n",
       "      <td>2012</td>\n",
       "      <td>0.265375</td>\n",
       "      <td>0.813100</td>\n",
       "      <td>0.080820</td>\n",
       "      <td>0.122393</td>\n",
       "    </tr>\n",
       "    <tr>\n",
       "      <th>3</th>\n",
       "      <td>2013</td>\n",
       "      <td>1.872417</td>\n",
       "      <td>0.828502</td>\n",
       "      <td>0.027938</td>\n",
       "      <td>0.212952</td>\n",
       "    </tr>\n",
       "    <tr>\n",
       "      <th>4</th>\n",
       "      <td>2014</td>\n",
       "      <td>-0.838402</td>\n",
       "      <td>0.747093</td>\n",
       "      <td>0.155692</td>\n",
       "      <td>0.148926</td>\n",
       "    </tr>\n",
       "  </tbody>\n",
       "</table>\n",
       "</div>"
      ],
      "text/plain": [
       "   Year    Sharpe  Average Turnover  Max Drawdown    Cumpnl\n",
       "0  2010  1.986546          0.844724      0.059818  0.142300\n",
       "1  2011 -0.361215          0.829570      0.124797  0.108277\n",
       "2  2012  0.265375          0.813100      0.080820  0.122393\n",
       "3  2013  1.872417          0.828502      0.027938  0.212952\n",
       "4  2014 -0.838402          0.747093      0.155692  0.148926"
      ]
     },
     "execution_count": 57,
     "metadata": {},
     "output_type": "execute_result"
    }
   ],
   "source": [
    "alpha_3_data = AlphaStats(alpha_matrix3, close_df)\n",
    "alpha_3_data.head()"
   ]
  },
  {
   "cell_type": "code",
   "execution_count": 58,
   "id": "d9a63c46-34e5-4144-b249-d2f2169ecdd5",
   "metadata": {},
   "outputs": [
    {
     "name": "stdout",
     "output_type": "stream",
     "text": [
      "Sharpe test not passed\n",
      "Turnover tets not passed\n",
      "Cumpnl test not passed\n",
      "passed 0 out of 3 tests\n"
     ]
    }
   ],
   "source": [
    "test3(alpha_3_data)"
   ]
  },
  {
   "cell_type": "markdown",
   "id": "689ffe4f-af2c-46cd-8812-bdd50a326b1a",
   "metadata": {},
   "source": [
    "## The fourth strategy\n",
    "\n",
    "**$alpha  = \\frac{high}{low}$**"
   ]
  },
  {
   "cell_type": "code",
   "execution_count": 59,
   "id": "a4329eb9-834e-4012-8a8b-b5608749f311",
   "metadata": {},
   "outputs": [],
   "source": [
    "def make_high_low_ratio_alpha(high_df, low_df):\n",
    "    high = high_df.drop(high_df.columns[0], axis=1).to_numpy().T\n",
    "    low = low_df.drop(low_df.columns[0], axis=1).to_numpy().T\n",
    "\n",
    "    low = np.where(low == 0., 1e-12, low)\n",
    "\n",
    "    alpha = neutralize(high / low)\n",
    "\n",
    "    alpha = np.concatenate((np.zeros((1, alpha.shape[1])), normalize(alpha[:-1])))\n",
    "    return alpha"
   ]
  },
  {
   "cell_type": "code",
   "execution_count": 60,
   "id": "a7fdb688-037a-4912-bbc5-7b8b0bac8613",
   "metadata": {},
   "outputs": [],
   "source": [
    "alpha_matrix4 = make_high_low_ratio_alpha(high_df, low_df)"
   ]
  },
  {
   "cell_type": "code",
   "execution_count": 61,
   "id": "fa4a0d84-19c0-4666-b867-55204ec13599",
   "metadata": {},
   "outputs": [
    {
     "name": "stdout",
     "output_type": "stream",
     "text": [
      "Neutrality test passed\n",
      "Normality test passed\n"
     ]
    }
   ],
   "source": [
    "test1(alpha_matrix4)\n",
    "test2(alpha_matrix4[1:])  # first is zero"
   ]
  },
  {
   "cell_type": "code",
   "execution_count": 62,
   "id": "bc591761-76e5-4485-9aef-925e37f4d9bc",
   "metadata": {},
   "outputs": [
    {
     "data": {
      "image/png": "[encoded data removed]",
      "text/plain": [
       "<Figure size 640x480 with 1 Axes>"
      ]
     },
     "metadata": {},
     "output_type": "display_data"
    },
    {
     "name": "stdout",
     "output_type": "stream",
     "text": [
      "[0.13214034055932386, 0.16787308492571956, 0.1686520925458254, 0.23580497413202792, 0.11549187104099827]\n"
     ]
    },
    {
     "data": {
      "text/html": [
       "<div>\n",
       "<style scoped>\n",
       "    .dataframe tbody tr th:only-of-type {\n",
       "        vertical-align: middle;\n",
       "    }\n",
       "\n",
       "    .dataframe tbody tr th {\n",
       "        vertical-align: top;\n",
       "    }\n",
       "\n",
       "    .dataframe thead th {\n",
       "        text-align: right;\n",
       "    }\n",
       "</style>\n",
       "<table border=\"1\" class=\"dataframe\">\n",
       "  <thead>\n",
       "    <tr style=\"text-align: right;\">\n",
       "      <th></th>\n",
       "      <th>Year</th>\n",
       "      <th>Sharpe</th>\n",
       "      <th>Average Turnover</th>\n",
       "      <th>Max Drawdown</th>\n",
       "      <th>Cumpnl</th>\n",
       "    </tr>\n",
       "  </thead>\n",
       "  <tbody>\n",
       "    <tr>\n",
       "      <th>0</th>\n",
       "      <td>2010</td>\n",
       "      <td>1.350807</td>\n",
       "      <td>0.858005</td>\n",
       "      <td>0.068739</td>\n",
       "      <td>0.132140</td>\n",
       "    </tr>\n",
       "    <tr>\n",
       "      <th>1</th>\n",
       "      <td>2011</td>\n",
       "      <td>0.288555</td>\n",
       "      <td>0.833968</td>\n",
       "      <td>0.124882</td>\n",
       "      <td>0.167873</td>\n",
       "    </tr>\n",
       "    <tr>\n",
       "      <th>2</th>\n",
       "      <td>2012</td>\n",
       "      <td>0.014114</td>\n",
       "      <td>0.815247</td>\n",
       "      <td>0.068965</td>\n",
       "      <td>0.168652</td>\n",
       "    </tr>\n",
       "    <tr>\n",
       "      <th>3</th>\n",
       "      <td>2013</td>\n",
       "      <td>1.261929</td>\n",
       "      <td>0.816165</td>\n",
       "      <td>0.030024</td>\n",
       "      <td>0.235805</td>\n",
       "    </tr>\n",
       "    <tr>\n",
       "      <th>4</th>\n",
       "      <td>2014</td>\n",
       "      <td>-1.452514</td>\n",
       "      <td>0.739797</td>\n",
       "      <td>0.203828</td>\n",
       "      <td>0.115492</td>\n",
       "    </tr>\n",
       "  </tbody>\n",
       "</table>\n",
       "</div>"
      ],
      "text/plain": [
       "   Year    Sharpe  Average Turnover  Max Drawdown    Cumpnl\n",
       "0  2010  1.350807          0.858005      0.068739  0.132140\n",
       "1  2011  0.288555          0.833968      0.124882  0.167873\n",
       "2  2012  0.014114          0.815247      0.068965  0.168652\n",
       "3  2013  1.261929          0.816165      0.030024  0.235805\n",
       "4  2014 -1.452514          0.739797      0.203828  0.115492"
      ]
     },
     "execution_count": 62,
     "metadata": {},
     "output_type": "execute_result"
    }
   ],
   "source": [
    "alpha_4_data = AlphaStats(alpha_matrix4, close_df)\n",
    "alpha_4_data.head()"
   ]
  },
  {
   "cell_type": "code",
   "execution_count": 63,
   "id": "f3d42756-a327-4ed7-beb7-c84de4a2e44e",
   "metadata": {},
   "outputs": [
    {
     "name": "stdout",
     "output_type": "stream",
     "text": [
      "Sharpe test not passed\n",
      "Turnover tets not passed\n",
      "Cumpnl test not passed\n",
      "passed 0 out of 3 tests\n"
     ]
    }
   ],
   "source": [
    "test3(alpha_4_data)"
   ]
  },
  {
   "cell_type": "markdown",
   "id": "505a108b-4bb1-4d66-82d4-6300150f7220",
   "metadata": {},
   "source": [
    "## The fifth strategy\n",
    "\n",
    "$alpha = (high + low - 2close) / close$"
   ]
  },
  {
   "cell_type": "code",
   "execution_count": 64,
   "id": "aa250bc5-d63f-4606-b079-276d4cb05fcb",
   "metadata": {},
   "outputs": [],
   "source": [
    "def make_alpha_the_fifth_way(high_df, low_df, close_df):\n",
    "    high = high_df.drop(high_df.columns[0], axis=1).to_numpy().T\n",
    "    low = low_df.drop(low_df.columns[0], axis=1).to_numpy().T\n",
    "    close = close_df.drop(close_df.columns[0], axis=1).to_numpy().T\n",
    "\n",
    "    close = np.where(close == 0., 1e-14, close)\n",
    "\n",
    "    alpha = neutralize((high + low - 2*close) / close)\n",
    "\n",
    "    alpha = np.concatenate((np.zeros((1, alpha.shape[1])), normalize(alpha[:-1])))\n",
    "\n",
    "    return alpha\n",
    "    "
   ]
  },
  {
   "cell_type": "code",
   "execution_count": 65,
   "id": "3fd05703-9613-4b43-804a-a84a09e2170d",
   "metadata": {},
   "outputs": [
    {
     "name": "stdout",
     "output_type": "stream",
     "text": [
      "Neutrality test passed\n",
      "Normality test passed\n"
     ]
    }
   ],
   "source": [
    "alpha_matrix5 = make_alpha_the_fifth_way(high_df, low_df, close_df)\n",
    "\n",
    "test1(alpha_matrix5)\n",
    "test2(alpha_matrix5[1:])  # first is zero"
   ]
  },
  {
   "cell_type": "code",
   "execution_count": 66,
   "id": "e519dc96-2e52-4455-9303-6ce61b5989ba",
   "metadata": {},
   "outputs": [],
   "source": [
    "# how to use decay for a matrix?"
   ]
  },
  {
   "cell_type": "code",
   "execution_count": 67,
   "id": "536cdfb1-a937-41a2-ad4b-702f34870d11",
   "metadata": {},
   "outputs": [
    {
     "data": {
      "image/png": "[encoded data removed]",
      "text/plain": [
       "<Figure size 640x480 with 1 Axes>"
      ]
     },
     "metadata": {},
     "output_type": "display_data"
    },
    {
     "name": "stdout",
     "output_type": "stream",
     "text": [
      "[0.14498721154547242, 3.1451720319871317, 3.261991818104435, 3.3446689290275877, 3.3827996740490613]\n"
     ]
    },
    {
     "data": {
      "text/html": [
       "<div>\n",
       "<style scoped>\n",
       "    .dataframe tbody tr th:only-of-type {\n",
       "        vertical-align: middle;\n",
       "    }\n",
       "\n",
       "    .dataframe tbody tr th {\n",
       "        vertical-align: top;\n",
       "    }\n",
       "\n",
       "    .dataframe thead th {\n",
       "        text-align: right;\n",
       "    }\n",
       "</style>\n",
       "<table border=\"1\" class=\"dataframe\">\n",
       "  <thead>\n",
       "    <tr style=\"text-align: right;\">\n",
       "      <th></th>\n",
       "      <th>Year</th>\n",
       "      <th>Sharpe</th>\n",
       "      <th>Average Turnover</th>\n",
       "      <th>Max Drawdown</th>\n",
       "      <th>Cumpnl</th>\n",
       "    </tr>\n",
       "  </thead>\n",
       "  <tbody>\n",
       "    <tr>\n",
       "      <th>0</th>\n",
       "      <td>2010</td>\n",
       "      <td>1.656474</td>\n",
       "      <td>1.383158</td>\n",
       "      <td>0.043544</td>\n",
       "      <td>0.144987</td>\n",
       "    </tr>\n",
       "    <tr>\n",
       "      <th>1</th>\n",
       "      <td>2011</td>\n",
       "      <td>1.070189</td>\n",
       "      <td>1.374867</td>\n",
       "      <td>0.086665</td>\n",
       "      <td>3.145172</td>\n",
       "    </tr>\n",
       "    <tr>\n",
       "      <th>2</th>\n",
       "      <td>2012</td>\n",
       "      <td>2.919671</td>\n",
       "      <td>1.370960</td>\n",
       "      <td>0.027061</td>\n",
       "      <td>3.261992</td>\n",
       "    </tr>\n",
       "    <tr>\n",
       "      <th>3</th>\n",
       "      <td>2013</td>\n",
       "      <td>2.328940</td>\n",
       "      <td>1.343180</td>\n",
       "      <td>0.016819</td>\n",
       "      <td>3.344669</td>\n",
       "    </tr>\n",
       "    <tr>\n",
       "      <th>4</th>\n",
       "      <td>2014</td>\n",
       "      <td>0.842843</td>\n",
       "      <td>1.352394</td>\n",
       "      <td>0.034766</td>\n",
       "      <td>3.382800</td>\n",
       "    </tr>\n",
       "  </tbody>\n",
       "</table>\n",
       "</div>"
      ],
      "text/plain": [
       "   Year    Sharpe  Average Turnover  Max Drawdown    Cumpnl\n",
       "0  2010  1.656474          1.383158      0.043544  0.144987\n",
       "1  2011  1.070189          1.374867      0.086665  3.145172\n",
       "2  2012  2.919671          1.370960      0.027061  3.261992\n",
       "3  2013  2.328940          1.343180      0.016819  3.344669\n",
       "4  2014  0.842843          1.352394      0.034766  3.382800"
      ]
     },
     "execution_count": 67,
     "metadata": {},
     "output_type": "execute_result"
    }
   ],
   "source": [
    "alpha_5_data = AlphaStats(alpha_matrix5, close_df)\n",
    "alpha_5_data.head()"
   ]
  },
  {
   "cell_type": "code",
   "execution_count": 68,
   "id": "cb0441ce-4ca5-414d-bc01-72efcff6f38c",
   "metadata": {},
   "outputs": [
    {
     "name": "stdout",
     "output_type": "stream",
     "text": [
      "Sharpe test passed\n",
      "Turnover tets not passed\n",
      "Cumpnl test passed\n",
      "passed 2 out of 3 tests\n"
     ]
    }
   ],
   "source": [
    "test3(alpha_5_data)"
   ]
  },
  {
   "cell_type": "markdown",
   "id": "edd80ebf-6a8c-4ea4-ae93-6cdf4ec154d1",
   "metadata": {},
   "source": [
    "## The sixth strategy\n",
    "\n",
    "$high \\times low / close^2$"
   ]
  },
  {
   "cell_type": "code",
   "execution_count": 37,
   "id": "3bcb82b7-9c04-4f55-9e1d-fc5d374099a2",
   "metadata": {},
   "outputs": [],
   "source": [
    "def make_sixth_strategy_alpha(high_df, low_df, close_df):\n",
    "    high = high_df.drop(high_df.columns[0], axis=1).to_numpy().T\n",
    "    low = low_df.drop(low_df.columns[0], axis=1).to_numpy().T\n",
    "    close = close_df.drop(close_df.columns[0], axis=1).to_numpy().T\n",
    "\n",
    "    close = np.where(close == 0., 1e-14, close)\n",
    "\n",
    "    alpha = neutralize(high * low / close**2)\n",
    "\n",
    "    alpha = np.concatenate((np.zeros((1, alpha.shape[1])), normalize(alpha[:-1])))\n",
    "\n",
    "    return alpha"
   ]
  },
  {
   "cell_type": "code",
   "execution_count": 38,
   "id": "db13227f-fc81-46f3-a33c-6f28d42a4850",
   "metadata": {},
   "outputs": [],
   "source": [
    "alpha_matrix6 = make_sixth_strategy_alpha(high_df, low_df, close_df)"
   ]
  },
  {
   "cell_type": "code",
   "execution_count": 39,
   "id": "5812e77e-4750-41fc-9ad3-ce963dc0aa69",
   "metadata": {},
   "outputs": [
    {
     "name": "stdout",
     "output_type": "stream",
     "text": [
      "Neutrality test passed\n",
      "Normality test passed\n"
     ]
    }
   ],
   "source": [
    "test1(alpha_matrix6)\n",
    "test2(alpha_matrix6[1:]) # the first is zero"
   ]
  },
  {
   "cell_type": "code",
   "execution_count": 40,
   "id": "8593e664-767f-4387-b9a6-272f66f2f0cb",
   "metadata": {},
   "outputs": [
    {
     "data": {
      "image/png": "[encoded data removed]",
      "text/plain": [
       "<Figure size 640x480 with 1 Axes>"
      ]
     },
     "metadata": {},
     "output_type": "display_data"
    },
    {
     "name": "stdout",
     "output_type": "stream",
     "text": [
      "[0.1343565125645407, 4.501646626059017, 4.618995103616227, 4.702193223135929, 4.745043843411268]\n"
     ]
    },
    {
     "data": {
      "text/html": [
       "<div>\n",
       "<style scoped>\n",
       "    .dataframe tbody tr th:only-of-type {\n",
       "        vertical-align: middle;\n",
       "    }\n",
       "\n",
       "    .dataframe tbody tr th {\n",
       "        vertical-align: top;\n",
       "    }\n",
       "\n",
       "    .dataframe thead th {\n",
       "        text-align: right;\n",
       "    }\n",
       "</style>\n",
       "<table border=\"1\" class=\"dataframe\">\n",
       "  <thead>\n",
       "    <tr style=\"text-align: right;\">\n",
       "      <th></th>\n",
       "      <th>Year</th>\n",
       "      <th>Sharpe</th>\n",
       "      <th>Average Turnover</th>\n",
       "      <th>Max Drawdown</th>\n",
       "      <th>Cumpnl</th>\n",
       "    </tr>\n",
       "  </thead>\n",
       "  <tbody>\n",
       "    <tr>\n",
       "      <th>0</th>\n",
       "      <td>2010</td>\n",
       "      <td>1.497185</td>\n",
       "      <td>1.383735</td>\n",
       "      <td>0.050683</td>\n",
       "      <td>0.134357</td>\n",
       "    </tr>\n",
       "    <tr>\n",
       "      <th>1</th>\n",
       "      <td>2011</td>\n",
       "      <td>1.054367</td>\n",
       "      <td>1.364570</td>\n",
       "      <td>0.086713</td>\n",
       "      <td>4.501647</td>\n",
       "    </tr>\n",
       "    <tr>\n",
       "      <th>2</th>\n",
       "      <td>2012</td>\n",
       "      <td>2.938505</td>\n",
       "      <td>1.371640</td>\n",
       "      <td>0.027441</td>\n",
       "      <td>4.618995</td>\n",
       "    </tr>\n",
       "    <tr>\n",
       "      <th>3</th>\n",
       "      <td>2013</td>\n",
       "      <td>2.340640</td>\n",
       "      <td>1.344026</td>\n",
       "      <td>0.016475</td>\n",
       "      <td>4.702193</td>\n",
       "    </tr>\n",
       "    <tr>\n",
       "      <th>4</th>\n",
       "      <td>2014</td>\n",
       "      <td>0.958726</td>\n",
       "      <td>1.353454</td>\n",
       "      <td>0.034509</td>\n",
       "      <td>4.745044</td>\n",
       "    </tr>\n",
       "  </tbody>\n",
       "</table>\n",
       "</div>"
      ],
      "text/plain": [
       "   Year    Sharpe  Average Turnover  Max Drawdown    Cumpnl\n",
       "0  2010  1.497185          1.383735      0.050683  0.134357\n",
       "1  2011  1.054367          1.364570      0.086713  4.501647\n",
       "2  2012  2.938505          1.371640      0.027441  4.618995\n",
       "3  2013  2.340640          1.344026      0.016475  4.702193\n",
       "4  2014  0.958726          1.353454      0.034509  4.745044"
      ]
     },
     "execution_count": 40,
     "metadata": {},
     "output_type": "execute_result"
    }
   ],
   "source": [
    "alpha_6_data = AlphaStats(alpha_matrix6, close_df)\n",
    "alpha_6_data.head()"
   ]
  },
  {
   "cell_type": "code",
   "execution_count": 41,
   "id": "f0ad6740-ac55-4bf8-87b9-df02fd432167",
   "metadata": {},
   "outputs": [
    {
     "name": "stdout",
     "output_type": "stream",
     "text": [
      "Sharpe test passed\n",
      "Turnover tets not passed\n",
      "Cumpnl test passed\n",
      "passed 2 out of 3 tests\n"
     ]
    }
   ],
   "source": [
    "test3(alpha_6_data)"
   ]
  },
  {
   "cell_type": "markdown",
   "id": "62886a9b-9175-45cb-a7a3-f3b4b973a369",
   "metadata": {},
   "source": [
    "# The seventh strategy\n",
    "\n",
    "$alpha = (high + low) / close $ с каким множителем 1 или -1?"
   ]
  },
  {
   "cell_type": "code",
   "execution_count": null,
   "id": "40ba3fc9-71fd-4f11-bae9-861bb44a8ea9",
   "metadata": {},
   "outputs": [],
   "source": []
  },
  {
   "cell_type": "markdown",
   "id": "9ab210e0-ab8d-4731-b8b8-3180174e43f0",
   "metadata": {},
   "source": [
    "# The eighth strategy\n",
    "\n",
    "$alpha = open/close$"
   ]
  },
  {
   "cell_type": "code",
   "execution_count": 42,
   "id": "8d9136c0-698f-49fc-a0fd-47a47cb54083",
   "metadata": {},
   "outputs": [],
   "source": [
    "def make_open_close_ration_alpha(open_df, close_df):\n",
    "    open = open_df.drop(open_df.columns[0], axis=1).to_numpy().T\n",
    "    close = close_df.drop(close_df.columns[0], axis=1).to_numpy().T\n",
    "\n",
    "    close = np.where(close == 0., 1e-14, close)  #  можно применить фильтр выбросов\n",
    "\n",
    "    alpha = neutralize(open / close)\n",
    "\n",
    "    alpha = np.concatenate((np.zeros((1, alpha.shape[1])), normalize(alpha[:-1])))\n",
    "\n",
    "    return alpha"
   ]
  },
  {
   "cell_type": "code",
   "execution_count": 43,
   "id": "8ed3eefc-733f-4f54-8504-6a894c45adbb",
   "metadata": {},
   "outputs": [],
   "source": [
    "alpha_matrix8 = make_open_close_ration_alpha(open_df, close_df)"
   ]
  },
  {
   "cell_type": "code",
   "execution_count": 44,
   "id": "d7416efe-5f15-40a9-9d6c-ed1d79766158",
   "metadata": {},
   "outputs": [
    {
     "name": "stdout",
     "output_type": "stream",
     "text": [
      "Neutrality test passed\n",
      "Normality test passed\n"
     ]
    }
   ],
   "source": [
    "test1(alpha_matrix8)\n",
    "test2(alpha_matrix8[1:])  # the first is zero"
   ]
  },
  {
   "cell_type": "code",
   "execution_count": 45,
   "id": "abb5aae6-0bb0-4306-8c56-a69474713d5e",
   "metadata": {},
   "outputs": [
    {
     "data": {
      "image/png": "[encoded data removed]",
      "text/plain": [
       "<Figure size 640x480 with 1 Axes>"
      ]
     },
     "metadata": {},
     "output_type": "display_data"
    },
    {
     "name": "stdout",
     "output_type": "stream",
     "text": [
      "[0.16795179663538798, 2.3684591704896443, 2.474947706980971, 2.5281229283297897, 2.5381983679033326]\n"
     ]
    },
    {
     "data": {
      "text/html": [
       "<div>\n",
       "<style scoped>\n",
       "    .dataframe tbody tr th:only-of-type {\n",
       "        vertical-align: middle;\n",
       "    }\n",
       "\n",
       "    .dataframe tbody tr th {\n",
       "        vertical-align: top;\n",
       "    }\n",
       "\n",
       "    .dataframe thead th {\n",
       "        text-align: right;\n",
       "    }\n",
       "</style>\n",
       "<table border=\"1\" class=\"dataframe\">\n",
       "  <thead>\n",
       "    <tr style=\"text-align: right;\">\n",
       "      <th></th>\n",
       "      <th>Year</th>\n",
       "      <th>Sharpe</th>\n",
       "      <th>Average Turnover</th>\n",
       "      <th>Max Drawdown</th>\n",
       "      <th>Cumpnl</th>\n",
       "    </tr>\n",
       "  </thead>\n",
       "  <tbody>\n",
       "    <tr>\n",
       "      <th>0</th>\n",
       "      <td>2010</td>\n",
       "      <td>2.650128</td>\n",
       "      <td>1.417142</td>\n",
       "      <td>0.026563</td>\n",
       "      <td>0.167952</td>\n",
       "    </tr>\n",
       "    <tr>\n",
       "      <th>1</th>\n",
       "      <td>2011</td>\n",
       "      <td>1.074125</td>\n",
       "      <td>1.409107</td>\n",
       "      <td>0.069920</td>\n",
       "      <td>2.368459</td>\n",
       "    </tr>\n",
       "    <tr>\n",
       "      <th>2</th>\n",
       "      <td>2012</td>\n",
       "      <td>2.534677</td>\n",
       "      <td>1.417023</td>\n",
       "      <td>0.024316</td>\n",
       "      <td>2.474948</td>\n",
       "    </tr>\n",
       "    <tr>\n",
       "      <th>3</th>\n",
       "      <td>2013</td>\n",
       "      <td>1.339711</td>\n",
       "      <td>1.419907</td>\n",
       "      <td>0.024857</td>\n",
       "      <td>2.528123</td>\n",
       "    </tr>\n",
       "    <tr>\n",
       "      <th>4</th>\n",
       "      <td>2014</td>\n",
       "      <td>0.211129</td>\n",
       "      <td>1.421757</td>\n",
       "      <td>0.063158</td>\n",
       "      <td>2.538198</td>\n",
       "    </tr>\n",
       "  </tbody>\n",
       "</table>\n",
       "</div>"
      ],
      "text/plain": [
       "   Year    Sharpe  Average Turnover  Max Drawdown    Cumpnl\n",
       "0  2010  2.650128          1.417142      0.026563  0.167952\n",
       "1  2011  1.074125          1.409107      0.069920  2.368459\n",
       "2  2012  2.534677          1.417023      0.024316  2.474948\n",
       "3  2013  1.339711          1.419907      0.024857  2.528123\n",
       "4  2014  0.211129          1.421757      0.063158  2.538198"
      ]
     },
     "execution_count": 45,
     "metadata": {},
     "output_type": "execute_result"
    }
   ],
   "source": [
    "alpha_8_data = AlphaStats(alpha_matrix8, close_df)\n",
    "alpha_8_data.head()"
   ]
  },
  {
   "cell_type": "code",
   "execution_count": 46,
   "id": "d8b3e6c6-aea4-429e-a12c-4d9a6920ce1a",
   "metadata": {},
   "outputs": [
    {
     "name": "stdout",
     "output_type": "stream",
     "text": [
      "Sharpe test passed\n",
      "Turnover tets not passed\n",
      "Cumpnl test passed\n",
      "passed 2 out of 3 tests\n"
     ]
    }
   ],
   "source": [
    "test3(alpha_8_data)"
   ]
  },
  {
   "cell_type": "markdown",
   "id": "6d4520d7-8c7c-431b-ace2-c75ec3a2d14e",
   "metadata": {},
   "source": [
    "# The ninth strategy\n",
    "\n",
    "$alpha = high / close$"
   ]
  },
  {
   "cell_type": "code",
   "execution_count": 47,
   "id": "d86a99fc-65d1-4c76-8929-db25298d2584",
   "metadata": {},
   "outputs": [],
   "source": [
    "def make_high_close_ratio_alpha(high_df, close_df):\n",
    "    high = high_df.drop(high_df.columns[0], axis=1).to_numpy().T\n",
    "    close = close_df.drop(close_df.columns[0], axis=1).to_numpy().T\n",
    "\n",
    "    close = np.where(close == 0., 1e-14, close)  #  можно применить фильтр выбросов\n",
    "\n",
    "    alpha = neutralize(high / close)\n",
    "\n",
    "    alpha = np.concatenate((np.zeros((1, alpha.shape[1])), normalize(alpha[:-1])))\n",
    "\n",
    "    return alpha"
   ]
  },
  {
   "cell_type": "code",
   "execution_count": 48,
   "id": "5d05b59e-2862-48c6-b8e1-63251901656e",
   "metadata": {},
   "outputs": [],
   "source": [
    "alpha_matrix9 = make_high_close_ratio_alpha(high_df, close_df)"
   ]
  },
  {
   "cell_type": "code",
   "execution_count": 49,
   "id": "be852af1-b4a9-423e-8cb2-bc4e80c8639f",
   "metadata": {},
   "outputs": [
    {
     "name": "stdout",
     "output_type": "stream",
     "text": [
      "Neutrality test passed\n",
      "Normality test passed\n"
     ]
    }
   ],
   "source": [
    "test1(alpha_matrix9)\n",
    "test2(alpha_matrix9[1:]) # the first is zero"
   ]
  },
  {
   "cell_type": "code",
   "execution_count": 50,
   "id": "807c904f-cbc9-4e59-b91f-eb2bbeebf386",
   "metadata": {},
   "outputs": [
    {
     "data": {
      "image/png": "[encoded data removed]",
      "text/plain": [
       "<Figure size 640x480 with 1 Axes>"
      ]
     },
     "metadata": {},
     "output_type": "display_data"
    },
    {
     "name": "stdout",
     "output_type": "stream",
     "text": [
      "[0.1994923775349173, 2.8187935278420224, 2.924270398386406, 3.048208969615987, 3.0124828200855327]\n"
     ]
    },
    {
     "data": {
      "text/html": [
       "<div>\n",
       "<style scoped>\n",
       "    .dataframe tbody tr th:only-of-type {\n",
       "        vertical-align: middle;\n",
       "    }\n",
       "\n",
       "    .dataframe tbody tr th {\n",
       "        vertical-align: top;\n",
       "    }\n",
       "\n",
       "    .dataframe thead th {\n",
       "        text-align: right;\n",
       "    }\n",
       "</style>\n",
       "<table border=\"1\" class=\"dataframe\">\n",
       "  <thead>\n",
       "    <tr style=\"text-align: right;\">\n",
       "      <th></th>\n",
       "      <th>Year</th>\n",
       "      <th>Sharpe</th>\n",
       "      <th>Average Turnover</th>\n",
       "      <th>Max Drawdown</th>\n",
       "      <th>Cumpnl</th>\n",
       "    </tr>\n",
       "  </thead>\n",
       "  <tbody>\n",
       "    <tr>\n",
       "      <th>0</th>\n",
       "      <td>2010</td>\n",
       "      <td>2.105241</td>\n",
       "      <td>1.114238</td>\n",
       "      <td>0.058284</td>\n",
       "      <td>0.199492</td>\n",
       "    </tr>\n",
       "    <tr>\n",
       "      <th>1</th>\n",
       "      <td>2011</td>\n",
       "      <td>1.060690</td>\n",
       "      <td>1.094884</td>\n",
       "      <td>0.089691</td>\n",
       "      <td>2.818794</td>\n",
       "    </tr>\n",
       "    <tr>\n",
       "      <th>2</th>\n",
       "      <td>2012</td>\n",
       "      <td>2.079221</td>\n",
       "      <td>1.077579</td>\n",
       "      <td>0.036473</td>\n",
       "      <td>2.924270</td>\n",
       "    </tr>\n",
       "    <tr>\n",
       "      <th>3</th>\n",
       "      <td>2013</td>\n",
       "      <td>2.681273</td>\n",
       "      <td>1.061638</td>\n",
       "      <td>0.029707</td>\n",
       "      <td>3.048209</td>\n",
       "    </tr>\n",
       "    <tr>\n",
       "      <th>4</th>\n",
       "      <td>2014</td>\n",
       "      <td>-0.497918</td>\n",
       "      <td>1.025107</td>\n",
       "      <td>0.121631</td>\n",
       "      <td>3.012483</td>\n",
       "    </tr>\n",
       "  </tbody>\n",
       "</table>\n",
       "</div>"
      ],
      "text/plain": [
       "   Year    Sharpe  Average Turnover  Max Drawdown    Cumpnl\n",
       "0  2010  2.105241          1.114238      0.058284  0.199492\n",
       "1  2011  1.060690          1.094884      0.089691  2.818794\n",
       "2  2012  2.079221          1.077579      0.036473  2.924270\n",
       "3  2013  2.681273          1.061638      0.029707  3.048209\n",
       "4  2014 -0.497918          1.025107      0.121631  3.012483"
      ]
     },
     "execution_count": 50,
     "metadata": {},
     "output_type": "execute_result"
    }
   ],
   "source": [
    "alpha_9_data = AlphaStats(alpha_matrix9, close_df)\n",
    "alpha_9_data.head()"
   ]
  },
  {
   "cell_type": "code",
   "execution_count": 51,
   "id": "8033969f-5711-4e2c-b81c-d72585c22fe8",
   "metadata": {},
   "outputs": [
    {
     "name": "stdout",
     "output_type": "stream",
     "text": [
      "Sharpe test passed\n",
      "Turnover tets not passed\n",
      "Cumpnl test passed\n",
      "passed 2 out of 3 tests\n"
     ]
    }
   ],
   "source": [
    "test3(alpha_9_data)"
   ]
  },
  {
   "cell_type": "markdown",
   "id": "1c7acb23-7dba-4886-aed6-8690c4299c44",
   "metadata": {},
   "source": [
    "# The tenth strategy\n",
    "\n",
    "$alpha = (close - low) / (high - low)$"
   ]
  },
  {
   "cell_type": "code",
   "execution_count": 52,
   "id": "b2cce9bd-83df-4546-847b-7a7e9978d34a",
   "metadata": {},
   "outputs": [],
   "source": [
    "def make_tenth_strategy_alpha(high_df, low_df, close_df):\n",
    "    high = high_df.drop(high_df.columns[0], axis=1).to_numpy().T\n",
    "    low = low_df.drop(low_df.columns[0], axis=1).to_numpy().T\n",
    "    close = close_df.drop(close_df.columns[0], axis=1).to_numpy().T\n",
    "\n",
    "    close_min_low = close - low\n",
    "    high_min_low = high - low\n",
    "    high_min_low = np.where(high_min_low == 0.0, 1e-14, high_min_low)\n",
    "\n",
    "    alpha = neutralize(close_min_low / high_min_low)\n",
    "\n",
    "    alpha = np.concatenate((np.zeros((1, alpha.shape[1])), normalize(alpha[:-1])))\n",
    "\n",
    "    return alpha"
   ]
  },
  {
   "cell_type": "code",
   "execution_count": 53,
   "id": "15fd529c-4cac-4ad1-935e-8c70adb14675",
   "metadata": {},
   "outputs": [],
   "source": [
    "alpha_matrix10 = make_tenth_strategy_alpha(high_df, low_df, close_df)"
   ]
  },
  {
   "cell_type": "code",
   "execution_count": 54,
   "id": "81b30be7-a95b-456c-8b9e-261e6d6b8cc9",
   "metadata": {},
   "outputs": [
    {
     "name": "stdout",
     "output_type": "stream",
     "text": [
      "Neutrality test passed\n",
      "Normality test passed\n"
     ]
    }
   ],
   "source": [
    "test1(alpha_matrix10)\n",
    "test2(alpha_matrix10[1:]) # the first is null"
   ]
  },
  {
   "cell_type": "code",
   "execution_count": 55,
   "id": "7590df1c-987b-4a79-8e89-22849eb74451",
   "metadata": {},
   "outputs": [
    {
     "data": {
      "image/png": "[encoded data removed]",
      "text/plain": [
       "<Figure size 640x480 with 1 Axes>"
      ]
     },
     "metadata": {},
     "output_type": "display_data"
    },
    {
     "name": "stdout",
     "output_type": "stream",
     "text": [
      "[0.1994923775349173, 2.8187935278420224, 2.924270398386406, 3.048208969615987, 3.0124828200855327]\n"
     ]
    },
    {
     "data": {
      "text/html": [
       "<div>\n",
       "<style scoped>\n",
       "    .dataframe tbody tr th:only-of-type {\n",
       "        vertical-align: middle;\n",
       "    }\n",
       "\n",
       "    .dataframe tbody tr th {\n",
       "        vertical-align: top;\n",
       "    }\n",
       "\n",
       "    .dataframe thead th {\n",
       "        text-align: right;\n",
       "    }\n",
       "</style>\n",
       "<table border=\"1\" class=\"dataframe\">\n",
       "  <thead>\n",
       "    <tr style=\"text-align: right;\">\n",
       "      <th></th>\n",
       "      <th>Year</th>\n",
       "      <th>Sharpe</th>\n",
       "      <th>Average Turnover</th>\n",
       "      <th>Max Drawdown</th>\n",
       "      <th>Cumpnl</th>\n",
       "    </tr>\n",
       "  </thead>\n",
       "  <tbody>\n",
       "    <tr>\n",
       "      <th>0</th>\n",
       "      <td>2010</td>\n",
       "      <td>2.105241</td>\n",
       "      <td>1.114238</td>\n",
       "      <td>0.058284</td>\n",
       "      <td>0.199492</td>\n",
       "    </tr>\n",
       "    <tr>\n",
       "      <th>1</th>\n",
       "      <td>2011</td>\n",
       "      <td>1.060690</td>\n",
       "      <td>1.094884</td>\n",
       "      <td>0.089691</td>\n",
       "      <td>2.818794</td>\n",
       "    </tr>\n",
       "    <tr>\n",
       "      <th>2</th>\n",
       "      <td>2012</td>\n",
       "      <td>2.079221</td>\n",
       "      <td>1.077579</td>\n",
       "      <td>0.036473</td>\n",
       "      <td>2.924270</td>\n",
       "    </tr>\n",
       "    <tr>\n",
       "      <th>3</th>\n",
       "      <td>2013</td>\n",
       "      <td>2.681273</td>\n",
       "      <td>1.061638</td>\n",
       "      <td>0.029707</td>\n",
       "      <td>3.048209</td>\n",
       "    </tr>\n",
       "    <tr>\n",
       "      <th>4</th>\n",
       "      <td>2014</td>\n",
       "      <td>-0.497918</td>\n",
       "      <td>1.025107</td>\n",
       "      <td>0.121631</td>\n",
       "      <td>3.012483</td>\n",
       "    </tr>\n",
       "  </tbody>\n",
       "</table>\n",
       "</div>"
      ],
      "text/plain": [
       "   Year    Sharpe  Average Turnover  Max Drawdown    Cumpnl\n",
       "0  2010  2.105241          1.114238      0.058284  0.199492\n",
       "1  2011  1.060690          1.094884      0.089691  2.818794\n",
       "2  2012  2.079221          1.077579      0.036473  2.924270\n",
       "3  2013  2.681273          1.061638      0.029707  3.048209\n",
       "4  2014 -0.497918          1.025107      0.121631  3.012483"
      ]
     },
     "execution_count": 55,
     "metadata": {},
     "output_type": "execute_result"
    }
   ],
   "source": [
    "alpha_10_data = AlphaStats(alpha_matrix9, close_df)\n",
    "alpha_10_data.head()"
   ]
  },
  {
   "cell_type": "code",
   "execution_count": 56,
   "id": "f95f9e3b-65c9-40d6-8693-339b68c65ae5",
   "metadata": {},
   "outputs": [
    {
     "name": "stdout",
     "output_type": "stream",
     "text": [
      "Sharpe test passed\n",
      "Turnover tets not passed\n",
      "Cumpnl test passed\n",
      "passed 2 out of 3 tests\n"
     ]
    }
   ],
   "source": [
    "test3(alpha_10_data)"
   ]
  },
  {
   "cell_type": "markdown",
   "id": "989984d3-7f75-41da-868f-2b960f94d1af",
   "metadata": {},
   "source": [
    "# The eleventh strategy\n",
    "\n",
    "$alpha = (close - low) / (high - low) < 0.5$ Нужно решить какой знак"
   ]
  },
  {
   "cell_type": "code",
   "execution_count": null,
   "id": "db3508d6-5a61-4af1-ac76-cccf5dc722bc",
   "metadata": {},
   "outputs": [],
   "source": []
  },
  {
   "cell_type": "markdown",
   "id": "05857169-630a-4cec-af71-cf15e7f2b9f7",
   "metadata": {},
   "source": [
    "# The twelveth strategy\n",
    "$alpha = ts\\_correlation(colume, close)$"
   ]
  },
  {
   "cell_type": "code",
   "execution_count": null,
   "id": "3b1f6089-6dd6-4241-9782-39cd1f0604c7",
   "metadata": {},
   "outputs": [],
   "source": []
  },
  {
   "cell_type": "code",
   "execution_count": null,
   "id": "95de7ac1-8ec9-4c7d-bfe0-2d413f6911eb",
   "metadata": {},
   "outputs": [],
   "source": []
  },
  {
   "cell_type": "code",
   "execution_count": null,
   "id": "765bd285-f0f2-4e9a-a6fb-7c2a72e7c56e",
   "metadata": {},
   "outputs": [],
   "source": []
  }
 ],
 "metadata": {
  "kernelspec": {
   "display_name": "venv",
   "language": "python",
   "name": "venv"
  },
  "language_info": {
   "codemirror_mode": {
    "name": "ipython",
    "version": 3
   },
   "file_extension": ".py",
   "mimetype": "text/x-python",
   "name": "python",
   "nbconvert_exporter": "python",
   "pygments_lexer": "ipython3",
   "version": "3.9.13"
  }
 },
 "nbformat": 4,
 "nbformat_minor": 5
}
