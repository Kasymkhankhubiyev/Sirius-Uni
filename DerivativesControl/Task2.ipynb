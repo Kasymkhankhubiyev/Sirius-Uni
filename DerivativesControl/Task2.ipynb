{
 "cells": [
  {
   "cell_type": "code",
   "execution_count": 1,
   "id": "229b3631-49f5-436f-a20d-8c222400966d",
   "metadata": {},
   "outputs": [],
   "source": [
    "import numpy as np\n",
    "import pandas as pd\n",
    "import matplotlib.pyplot as plt\n",
    "\n",
    "import os\n",
    "import datetime\n",
    "\n",
    "from helper import make_alphas_state_matrix_with_day_step\n",
    "from helper import instrument_return, merge_zeros\n",
    "from helper import AlphaStats, calc_alphas_corr\n",
    "from helper import normalize, neutralize, neutralize_with_dropout\n",
    "\n",
    "import manipulate_alpha as mpa\n",
    "\n",
    "from test import test1, test2, test3\n",
    "from typing import NamedTuple\n",
    "\n",
    "SLICE_INDEX = 2436"
   ]
  },
  {
   "cell_type": "code",
   "execution_count": 163,
   "id": "7b59c213-f0bd-4a21-87c3-ab7167517573",
   "metadata": {},
   "outputs": [],
   "source": [
    "def decay (alpha_matrix, n): # decrease turnover\n",
    "    \n",
    "    factors = (np.arange(1, n + 2)) / (n+1)\n",
    "\n",
    "    _new_alpha_states = alpha_matrix.copy()\n",
    "\n",
    "    for idx in range(n+1, len(alpha_matrix)):\n",
    "        _alpha = alpha_matrix[idx-n-1:idx] * np.array([factors]).T\n",
    "        if not np.array_equal(_alpha, np.zeros_like(_alpha)):\n",
    "            _new_alpha_states[idx] = _alpha.sum(axis=0)\n",
    "    \n",
    "    # return _alpha\n",
    "    return _new_alpha_states "
   ]
  },
  {
   "cell_type": "code",
   "execution_count": 3,
   "id": "7d9fa3b3-afef-44bb-a95c-8f3664a7c9bf",
   "metadata": {},
   "outputs": [],
   "source": [
    "class Alphas_Data(NamedTuple):\n",
    "    name: str\n",
    "    cumpnl: np.array"
   ]
  },
  {
   "cell_type": "code",
   "execution_count": 4,
   "id": "7db12e75-62b4-4731-8d24-6c0547b8a51e",
   "metadata": {},
   "outputs": [],
   "source": [
    "alphas = []"
   ]
  },
  {
   "cell_type": "markdown",
   "id": "9dd04cfb-c567-43a1-92a0-9a5ed5639ee9",
   "metadata": {},
   "source": [
    "## Getting data and preparation"
   ]
  },
  {
   "cell_type": "code",
   "execution_count": 5,
   "id": "788b95e7-4789-4e4b-989c-fc5bba10d583",
   "metadata": {},
   "outputs": [
    {
     "data": {
      "text/plain": [
       "['Open.csv', 'High.csv', 'Close.csv', 'Low.csv', 'Volume.csv']"
      ]
     },
     "execution_count": 5,
     "metadata": {},
     "output_type": "execute_result"
    }
   ],
   "source": [
    "dataset_dir = './USA_2010-2014_HLOCV'\n",
    "os.listdir(dataset_dir)"
   ]
  },
  {
   "cell_type": "code",
   "execution_count": 6,
   "id": "d52b8c91-dd3d-4f06-8d0f-551af5844c6e",
   "metadata": {},
   "outputs": [],
   "source": [
    "open_df = pd.read_csv(dataset_dir + '/Open.csv')\n",
    "high_df = pd.read_csv(dataset_dir + '/High.csv')\n",
    "close_df = pd.read_csv(dataset_dir + '/Close.csv')\n",
    "low_df = pd.read_csv(dataset_dir + '/Low.csv')\n",
    "volume_df = pd.read_csv(dataset_dir + '/Volume.csv')"
   ]
  },
  {
   "cell_type": "code",
   "execution_count": 7,
   "id": "e4ef8e70-d7ea-4aa0-8787-d7e700e71daa",
   "metadata": {},
   "outputs": [
    {
     "data": {
      "text/plain": [
       "(2436, 1258)"
      ]
     },
     "execution_count": 7,
     "metadata": {},
     "output_type": "execute_result"
    }
   ],
   "source": [
    "open_df.shape"
   ]
  },
  {
   "cell_type": "code",
   "execution_count": 8,
   "id": "c1a298f5-4096-4018-900e-e425f62db6f5",
   "metadata": {},
   "outputs": [
    {
     "data": {
      "text/html": [
       "<div>\n",
       "<style scoped>\n",
       "    .dataframe tbody tr th:only-of-type {\n",
       "        vertical-align: middle;\n",
       "    }\n",
       "\n",
       "    .dataframe tbody tr th {\n",
       "        vertical-align: top;\n",
       "    }\n",
       "\n",
       "    .dataframe thead th {\n",
       "        text-align: right;\n",
       "    }\n",
       "</style>\n",
       "<table border=\"1\" class=\"dataframe\">\n",
       "  <thead>\n",
       "    <tr style=\"text-align: right;\">\n",
       "      <th></th>\n",
       "      <th>Unnamed: 0</th>\n",
       "      <th>2010-01-04</th>\n",
       "      <th>2010-01-05</th>\n",
       "      <th>2010-01-06</th>\n",
       "      <th>2010-01-07</th>\n",
       "      <th>2010-01-08</th>\n",
       "      <th>2010-01-11</th>\n",
       "      <th>2010-01-12</th>\n",
       "      <th>2010-01-13</th>\n",
       "      <th>2010-01-14</th>\n",
       "      <th>...</th>\n",
       "      <th>2014-12-17</th>\n",
       "      <th>2014-12-18</th>\n",
       "      <th>2014-12-19</th>\n",
       "      <th>2014-12-22</th>\n",
       "      <th>2014-12-23</th>\n",
       "      <th>2014-12-24</th>\n",
       "      <th>2014-12-26</th>\n",
       "      <th>2014-12-29</th>\n",
       "      <th>2014-12-30</th>\n",
       "      <th>2014-12-31</th>\n",
       "    </tr>\n",
       "  </thead>\n",
       "  <tbody>\n",
       "    <tr>\n",
       "      <th>0</th>\n",
       "      <td>iba.us</td>\n",
       "      <td>20.9550</td>\n",
       "      <td>21.0930</td>\n",
       "      <td>21.4550</td>\n",
       "      <td>21.0930</td>\n",
       "      <td>21.0850</td>\n",
       "      <td>21.0930</td>\n",
       "      <td>20.7790</td>\n",
       "      <td>20.8300</td>\n",
       "      <td>20.8300</td>\n",
       "      <td>...</td>\n",
       "      <td>49.683</td>\n",
       "      <td>49.778</td>\n",
       "      <td>49.731</td>\n",
       "      <td>49.133</td>\n",
       "      <td>48.357</td>\n",
       "      <td>48.145</td>\n",
       "      <td>48.421</td>\n",
       "      <td>48.234</td>\n",
       "      <td>48.042</td>\n",
       "      <td>47.976</td>\n",
       "    </tr>\n",
       "    <tr>\n",
       "      <th>1</th>\n",
       "      <td>wpz.us</td>\n",
       "      <td>22.4110</td>\n",
       "      <td>22.6600</td>\n",
       "      <td>22.8230</td>\n",
       "      <td>22.6950</td>\n",
       "      <td>22.4190</td>\n",
       "      <td>22.4110</td>\n",
       "      <td>22.2410</td>\n",
       "      <td>22.0560</td>\n",
       "      <td>22.1830</td>\n",
       "      <td>...</td>\n",
       "      <td>39.784</td>\n",
       "      <td>40.744</td>\n",
       "      <td>39.883</td>\n",
       "      <td>41.540</td>\n",
       "      <td>42.894</td>\n",
       "      <td>42.722</td>\n",
       "      <td>42.205</td>\n",
       "      <td>41.560</td>\n",
       "      <td>41.353</td>\n",
       "      <td>40.770</td>\n",
       "    </tr>\n",
       "    <tr>\n",
       "      <th>2</th>\n",
       "      <td>flic.us</td>\n",
       "      <td>9.3094</td>\n",
       "      <td>9.2675</td>\n",
       "      <td>9.2492</td>\n",
       "      <td>9.2296</td>\n",
       "      <td>9.0356</td>\n",
       "      <td>9.3596</td>\n",
       "      <td>9.4185</td>\n",
       "      <td>9.3162</td>\n",
       "      <td>9.2361</td>\n",
       "      <td>...</td>\n",
       "      <td>16.666</td>\n",
       "      <td>16.895</td>\n",
       "      <td>17.277</td>\n",
       "      <td>16.950</td>\n",
       "      <td>17.494</td>\n",
       "      <td>17.184</td>\n",
       "      <td>17.767</td>\n",
       "      <td>18.020</td>\n",
       "      <td>18.093</td>\n",
       "      <td>17.767</td>\n",
       "    </tr>\n",
       "    <tr>\n",
       "      <th>3</th>\n",
       "      <td>ncs.us</td>\n",
       "      <td>10.2500</td>\n",
       "      <td>10.4000</td>\n",
       "      <td>10.4500</td>\n",
       "      <td>10.5000</td>\n",
       "      <td>11.7500</td>\n",
       "      <td>12.2000</td>\n",
       "      <td>11.2500</td>\n",
       "      <td>10.8500</td>\n",
       "      <td>10.7500</td>\n",
       "      <td>...</td>\n",
       "      <td>17.910</td>\n",
       "      <td>18.190</td>\n",
       "      <td>17.940</td>\n",
       "      <td>17.640</td>\n",
       "      <td>18.080</td>\n",
       "      <td>17.900</td>\n",
       "      <td>18.050</td>\n",
       "      <td>18.660</td>\n",
       "      <td>18.660</td>\n",
       "      <td>18.810</td>\n",
       "    </tr>\n",
       "    <tr>\n",
       "      <th>4</th>\n",
       "      <td>gpk.us</td>\n",
       "      <td>3.5531</td>\n",
       "      <td>3.6196</td>\n",
       "      <td>3.5243</td>\n",
       "      <td>3.5341</td>\n",
       "      <td>3.6006</td>\n",
       "      <td>3.4197</td>\n",
       "      <td>3.3814</td>\n",
       "      <td>3.3722</td>\n",
       "      <td>3.3814</td>\n",
       "      <td>...</td>\n",
       "      <td>12.613</td>\n",
       "      <td>12.917</td>\n",
       "      <td>12.956</td>\n",
       "      <td>13.023</td>\n",
       "      <td>13.164</td>\n",
       "      <td>13.222</td>\n",
       "      <td>13.383</td>\n",
       "      <td>13.421</td>\n",
       "      <td>13.281</td>\n",
       "      <td>13.232</td>\n",
       "    </tr>\n",
       "  </tbody>\n",
       "</table>\n",
       "<p>5 rows × 1258 columns</p>\n",
       "</div>"
      ],
      "text/plain": [
       "  Unnamed: 0  2010-01-04  2010-01-05  2010-01-06  2010-01-07  2010-01-08  \\\n",
       "0     iba.us     20.9550     21.0930     21.4550     21.0930     21.0850   \n",
       "1     wpz.us     22.4110     22.6600     22.8230     22.6950     22.4190   \n",
       "2    flic.us      9.3094      9.2675      9.2492      9.2296      9.0356   \n",
       "3     ncs.us     10.2500     10.4000     10.4500     10.5000     11.7500   \n",
       "4     gpk.us      3.5531      3.6196      3.5243      3.5341      3.6006   \n",
       "\n",
       "   2010-01-11  2010-01-12  2010-01-13  2010-01-14  ...  2014-12-17  \\\n",
       "0     21.0930     20.7790     20.8300     20.8300  ...      49.683   \n",
       "1     22.4110     22.2410     22.0560     22.1830  ...      39.784   \n",
       "2      9.3596      9.4185      9.3162      9.2361  ...      16.666   \n",
       "3     12.2000     11.2500     10.8500     10.7500  ...      17.910   \n",
       "4      3.4197      3.3814      3.3722      3.3814  ...      12.613   \n",
       "\n",
       "   2014-12-18  2014-12-19  2014-12-22  2014-12-23  2014-12-24  2014-12-26  \\\n",
       "0      49.778      49.731      49.133      48.357      48.145      48.421   \n",
       "1      40.744      39.883      41.540      42.894      42.722      42.205   \n",
       "2      16.895      17.277      16.950      17.494      17.184      17.767   \n",
       "3      18.190      17.940      17.640      18.080      17.900      18.050   \n",
       "4      12.917      12.956      13.023      13.164      13.222      13.383   \n",
       "\n",
       "   2014-12-29  2014-12-30  2014-12-31  \n",
       "0      48.234      48.042      47.976  \n",
       "1      41.560      41.353      40.770  \n",
       "2      18.020      18.093      17.767  \n",
       "3      18.660      18.660      18.810  \n",
       "4      13.421      13.281      13.232  \n",
       "\n",
       "[5 rows x 1258 columns]"
      ]
     },
     "execution_count": 8,
     "metadata": {},
     "output_type": "execute_result"
    }
   ],
   "source": [
    "high_df.head()"
   ]
  },
  {
   "cell_type": "code",
   "execution_count": 9,
   "id": "b85fa7c4-4876-47dd-b747-b69348bec365",
   "metadata": {},
   "outputs": [
    {
     "data": {
      "text/html": [
       "<div>\n",
       "<style scoped>\n",
       "    .dataframe tbody tr th:only-of-type {\n",
       "        vertical-align: middle;\n",
       "    }\n",
       "\n",
       "    .dataframe tbody tr th {\n",
       "        vertical-align: top;\n",
       "    }\n",
       "\n",
       "    .dataframe thead th {\n",
       "        text-align: right;\n",
       "    }\n",
       "</style>\n",
       "<table border=\"1\" class=\"dataframe\">\n",
       "  <thead>\n",
       "    <tr style=\"text-align: right;\">\n",
       "      <th></th>\n",
       "      <th>Unnamed: 0</th>\n",
       "      <th>2010-01-04</th>\n",
       "      <th>2010-01-05</th>\n",
       "      <th>2010-01-06</th>\n",
       "      <th>2010-01-07</th>\n",
       "      <th>2010-01-08</th>\n",
       "      <th>2010-01-11</th>\n",
       "      <th>2010-01-12</th>\n",
       "      <th>2010-01-13</th>\n",
       "      <th>2010-01-14</th>\n",
       "      <th>...</th>\n",
       "      <th>2014-12-17</th>\n",
       "      <th>2014-12-18</th>\n",
       "      <th>2014-12-19</th>\n",
       "      <th>2014-12-22</th>\n",
       "      <th>2014-12-23</th>\n",
       "      <th>2014-12-24</th>\n",
       "      <th>2014-12-26</th>\n",
       "      <th>2014-12-29</th>\n",
       "      <th>2014-12-30</th>\n",
       "      <th>2014-12-31</th>\n",
       "    </tr>\n",
       "  </thead>\n",
       "  <tbody>\n",
       "    <tr>\n",
       "      <th>0</th>\n",
       "      <td>iba.us</td>\n",
       "      <td>20.2250</td>\n",
       "      <td>20.2590</td>\n",
       "      <td>20.4890</td>\n",
       "      <td>20.6740</td>\n",
       "      <td>20.6830</td>\n",
       "      <td>20.2170</td>\n",
       "      <td>19.9250</td>\n",
       "      <td>20.4890</td>\n",
       "      <td>20.4100</td>\n",
       "      <td>...</td>\n",
       "      <td>46.810</td>\n",
       "      <td>47.407</td>\n",
       "      <td>48.479</td>\n",
       "      <td>48.024</td>\n",
       "      <td>47.464</td>\n",
       "      <td>47.321</td>\n",
       "      <td>47.910</td>\n",
       "      <td>47.720</td>\n",
       "      <td>47.390</td>\n",
       "      <td>47.246</td>\n",
       "    </tr>\n",
       "    <tr>\n",
       "      <th>1</th>\n",
       "      <td>wpz.us</td>\n",
       "      <td>21.9210</td>\n",
       "      <td>22.1920</td>\n",
       "      <td>22.4110</td>\n",
       "      <td>22.1620</td>\n",
       "      <td>22.0760</td>\n",
       "      <td>22.0640</td>\n",
       "      <td>21.8470</td>\n",
       "      <td>21.3490</td>\n",
       "      <td>21.7000</td>\n",
       "      <td>...</td>\n",
       "      <td>37.739</td>\n",
       "      <td>38.869</td>\n",
       "      <td>38.781</td>\n",
       "      <td>38.861</td>\n",
       "      <td>40.905</td>\n",
       "      <td>41.775</td>\n",
       "      <td>41.209</td>\n",
       "      <td>40.770</td>\n",
       "      <td>40.421</td>\n",
       "      <td>40.073</td>\n",
       "    </tr>\n",
       "    <tr>\n",
       "      <th>2</th>\n",
       "      <td>flic.us</td>\n",
       "      <td>9.1839</td>\n",
       "      <td>9.1159</td>\n",
       "      <td>8.7931</td>\n",
       "      <td>8.7819</td>\n",
       "      <td>8.8440</td>\n",
       "      <td>8.8008</td>\n",
       "      <td>9.2400</td>\n",
       "      <td>9.1420</td>\n",
       "      <td>8.8335</td>\n",
       "      <td>...</td>\n",
       "      <td>15.603</td>\n",
       "      <td>16.290</td>\n",
       "      <td>16.802</td>\n",
       "      <td>15.882</td>\n",
       "      <td>16.685</td>\n",
       "      <td>16.653</td>\n",
       "      <td>16.931</td>\n",
       "      <td>17.193</td>\n",
       "      <td>17.012</td>\n",
       "      <td>17.116</td>\n",
       "    </tr>\n",
       "    <tr>\n",
       "      <th>3</th>\n",
       "      <td>ncs.us</td>\n",
       "      <td>9.2000</td>\n",
       "      <td>9.9500</td>\n",
       "      <td>10.0000</td>\n",
       "      <td>9.8500</td>\n",
       "      <td>10.2500</td>\n",
       "      <td>11.1500</td>\n",
       "      <td>10.4000</td>\n",
       "      <td>10.3000</td>\n",
       "      <td>10.4000</td>\n",
       "      <td>...</td>\n",
       "      <td>17.320</td>\n",
       "      <td>17.590</td>\n",
       "      <td>17.130</td>\n",
       "      <td>17.220</td>\n",
       "      <td>17.460</td>\n",
       "      <td>17.580</td>\n",
       "      <td>17.830</td>\n",
       "      <td>17.970</td>\n",
       "      <td>18.420</td>\n",
       "      <td>18.460</td>\n",
       "    </tr>\n",
       "    <tr>\n",
       "      <th>4</th>\n",
       "      <td>gpk.us</td>\n",
       "      <td>3.3722</td>\n",
       "      <td>3.4388</td>\n",
       "      <td>3.2958</td>\n",
       "      <td>3.2958</td>\n",
       "      <td>3.3624</td>\n",
       "      <td>3.2863</td>\n",
       "      <td>3.2863</td>\n",
       "      <td>3.2673</td>\n",
       "      <td>3.2958</td>\n",
       "      <td>...</td>\n",
       "      <td>12.288</td>\n",
       "      <td>12.660</td>\n",
       "      <td>12.756</td>\n",
       "      <td>12.782</td>\n",
       "      <td>13.013</td>\n",
       "      <td>13.097</td>\n",
       "      <td>13.183</td>\n",
       "      <td>13.222</td>\n",
       "      <td>13.136</td>\n",
       "      <td>12.966</td>\n",
       "    </tr>\n",
       "  </tbody>\n",
       "</table>\n",
       "<p>5 rows × 1258 columns</p>\n",
       "</div>"
      ],
      "text/plain": [
       "  Unnamed: 0  2010-01-04  2010-01-05  2010-01-06  2010-01-07  2010-01-08  \\\n",
       "0     iba.us     20.2250     20.2590     20.4890     20.6740     20.6830   \n",
       "1     wpz.us     21.9210     22.1920     22.4110     22.1620     22.0760   \n",
       "2    flic.us      9.1839      9.1159      8.7931      8.7819      8.8440   \n",
       "3     ncs.us      9.2000      9.9500     10.0000      9.8500     10.2500   \n",
       "4     gpk.us      3.3722      3.4388      3.2958      3.2958      3.3624   \n",
       "\n",
       "   2010-01-11  2010-01-12  2010-01-13  2010-01-14  ...  2014-12-17  \\\n",
       "0     20.2170     19.9250     20.4890     20.4100  ...      46.810   \n",
       "1     22.0640     21.8470     21.3490     21.7000  ...      37.739   \n",
       "2      8.8008      9.2400      9.1420      8.8335  ...      15.603   \n",
       "3     11.1500     10.4000     10.3000     10.4000  ...      17.320   \n",
       "4      3.2863      3.2863      3.2673      3.2958  ...      12.288   \n",
       "\n",
       "   2014-12-18  2014-12-19  2014-12-22  2014-12-23  2014-12-24  2014-12-26  \\\n",
       "0      47.407      48.479      48.024      47.464      47.321      47.910   \n",
       "1      38.869      38.781      38.861      40.905      41.775      41.209   \n",
       "2      16.290      16.802      15.882      16.685      16.653      16.931   \n",
       "3      17.590      17.130      17.220      17.460      17.580      17.830   \n",
       "4      12.660      12.756      12.782      13.013      13.097      13.183   \n",
       "\n",
       "   2014-12-29  2014-12-30  2014-12-31  \n",
       "0      47.720      47.390      47.246  \n",
       "1      40.770      40.421      40.073  \n",
       "2      17.193      17.012      17.116  \n",
       "3      17.970      18.420      18.460  \n",
       "4      13.222      13.136      12.966  \n",
       "\n",
       "[5 rows x 1258 columns]"
      ]
     },
     "execution_count": 9,
     "metadata": {},
     "output_type": "execute_result"
    }
   ],
   "source": [
    "low_df.head()"
   ]
  },
  {
   "cell_type": "code",
   "execution_count": 10,
   "id": "f7f429c9-60a7-4ff7-a999-668a799502fa",
   "metadata": {},
   "outputs": [
    {
     "name": "stdout",
     "output_type": "stream",
     "text": [
      "Neutrality test passed\n",
      "Normality test passed\n"
     ]
    }
   ],
   "source": [
    "alpha = np.random.rand(2,10)\n",
    "\n",
    "true_false_vec = np.ones(alpha.shape)\n",
    "true_false_vec[0][3:6] = 0\n",
    "alpha[0][3:6] = 0\n",
    "true_false_vec[1][4:7] = 0\n",
    "alpha[1][4:7] = 0\n",
    "\n",
    "alpha = normalize(neutralize_with_dropout(alpha, true_false_vec))\n",
    "\n",
    "test1(alpha)\n",
    "test2(alpha)"
   ]
  },
  {
   "cell_type": "markdown",
   "id": "6a63b1cf-fcb5-4232-b3d5-a8df96a937e6",
   "metadata": {
    "jp-MarkdownHeadingCollapsed": true
   },
   "source": [
    "## The First strategy - reverse alpha\n",
    "$\\frac{close(d-n)}{close(d-1)}$"
   ]
  },
  {
   "cell_type": "code",
   "execution_count": 11,
   "id": "c26385d4-1f4c-4062-a167-c1b72c88b75b",
   "metadata": {},
   "outputs": [],
   "source": [
    "day_step = 6"
   ]
  },
  {
   "cell_type": "code",
   "execution_count": 12,
   "id": "9664a28e-ff41-431e-be20-1d4bff9e8a9e",
   "metadata": {},
   "outputs": [],
   "source": [
    "def close_prices_ratio_alpha(df, start_date, end_date):\n",
    "    return df[start_date] / df[end_date]"
   ]
  },
  {
   "cell_type": "code",
   "execution_count": 13,
   "id": "e43e2462-e051-4bc4-9bdf-95d63e12603a",
   "metadata": {},
   "outputs": [],
   "source": [
    "alpha_matrix1 = make_alphas_state_matrix_with_day_step(close_df, day_step, strategy=close_prices_ratio_alpha)"
   ]
  },
  {
   "cell_type": "code",
   "execution_count": 14,
   "id": "f3dcbba0-a784-4ec4-9d81-d32c27b5b8d4",
   "metadata": {},
   "outputs": [
    {
     "name": "stdout",
     "output_type": "stream",
     "text": [
      "Neutrality test passed\n",
      "Normality test passed\n"
     ]
    }
   ],
   "source": [
    "test1(alpha_matrix1[0])\n",
    "test2(alpha_matrix1[day_step-1:]) # потому что альфы там просто нулевые"
   ]
  },
  {
   "cell_type": "code",
   "execution_count": 15,
   "id": "7abb2fb1-8bd6-473d-976a-bf4b3bf37ab2",
   "metadata": {},
   "outputs": [
    {
     "data": {
      "text/plain": [
       "(1257, 2436)"
      ]
     },
     "execution_count": 15,
     "metadata": {},
     "output_type": "execute_result"
    }
   ],
   "source": [
    "instrument_returns = instrument_return(close_df)\n",
    "instrument_returns.shape"
   ]
  },
  {
   "cell_type": "code",
   "execution_count": 16,
   "id": "6f27336c-e163-4b09-8b1e-a0532c6926cb",
   "metadata": {},
   "outputs": [
    {
     "data": {
      "image/png": "[encoded data removed]",
      "text/plain": [
       "<Figure size 640x480 with 1 Axes>"
      ]
     },
     "metadata": {},
     "output_type": "display_data"
    },
    {
     "name": "stdout",
     "output_type": "stream",
     "text": [
      "[0.17153272674624798, 0.3837789440431676, 0.4952046675107539, 0.5488982647991731, 0.5466361266412333]\n"
     ]
    },
    {
     "data": {
      "text/html": [
       "<div>\n",
       "<style scoped>\n",
       "    .dataframe tbody tr th:only-of-type {\n",
       "        vertical-align: middle;\n",
       "    }\n",
       "\n",
       "    .dataframe tbody tr th {\n",
       "        vertical-align: top;\n",
       "    }\n",
       "\n",
       "    .dataframe thead th {\n",
       "        text-align: right;\n",
       "    }\n",
       "</style>\n",
       "<table border=\"1\" class=\"dataframe\">\n",
       "  <thead>\n",
       "    <tr style=\"text-align: right;\">\n",
       "      <th></th>\n",
       "      <th>Year</th>\n",
       "      <th>Sharpe</th>\n",
       "      <th>Average Turnover</th>\n",
       "      <th>Max Drawdown</th>\n",
       "      <th>Cumpnl</th>\n",
       "    </tr>\n",
       "  </thead>\n",
       "  <tbody>\n",
       "    <tr>\n",
       "      <th>0</th>\n",
       "      <td>2010</td>\n",
       "      <td>2.810019</td>\n",
       "      <td>0.640936</td>\n",
       "      <td>0.034603</td>\n",
       "      <td>0.171533</td>\n",
       "    </tr>\n",
       "    <tr>\n",
       "      <th>1</th>\n",
       "      <td>2011</td>\n",
       "      <td>2.868507</td>\n",
       "      <td>0.644960</td>\n",
       "      <td>0.040099</td>\n",
       "      <td>0.383779</td>\n",
       "    </tr>\n",
       "    <tr>\n",
       "      <th>2</th>\n",
       "      <td>2012</td>\n",
       "      <td>2.522248</td>\n",
       "      <td>0.637571</td>\n",
       "      <td>0.028996</td>\n",
       "      <td>0.495205</td>\n",
       "    </tr>\n",
       "    <tr>\n",
       "      <th>3</th>\n",
       "      <td>2013</td>\n",
       "      <td>1.203801</td>\n",
       "      <td>0.636768</td>\n",
       "      <td>0.030688</td>\n",
       "      <td>0.548898</td>\n",
       "    </tr>\n",
       "    <tr>\n",
       "      <th>4</th>\n",
       "      <td>2014</td>\n",
       "      <td>-0.030304</td>\n",
       "      <td>0.634479</td>\n",
       "      <td>0.077792</td>\n",
       "      <td>0.546636</td>\n",
       "    </tr>\n",
       "  </tbody>\n",
       "</table>\n",
       "</div>"
      ],
      "text/plain": [
       "   Year    Sharpe  Average Turnover  Max Drawdown    Cumpnl\n",
       "0  2010  2.810019          0.640936      0.034603  0.171533\n",
       "1  2011  2.868507          0.644960      0.040099  0.383779\n",
       "2  2012  2.522248          0.637571      0.028996  0.495205\n",
       "3  2013  1.203801          0.636768      0.030688  0.548898\n",
       "4  2014 -0.030304          0.634479      0.077792  0.546636"
      ]
     },
     "execution_count": 16,
     "metadata": {},
     "output_type": "execute_result"
    }
   ],
   "source": [
    "alpha_1_data, alpha_1_cumpnl = AlphaStats(alpha_matrix1, close_df)\n",
    "alpha_1_data.head()"
   ]
  },
  {
   "cell_type": "code",
   "execution_count": 17,
   "id": "55b782e2-ea1a-4117-bedd-9e320eec1f01",
   "metadata": {},
   "outputs": [
    {
     "name": "stdout",
     "output_type": "stream",
     "text": [
      "Sharpe test passed\n",
      "Turnover test passed\n",
      "Cumpnl test passed\n",
      "passed 3 out of 3 tests\n"
     ]
    }
   ],
   "source": [
    "test3(alpha_1_data)"
   ]
  },
  {
   "cell_type": "code",
   "execution_count": 18,
   "id": "7aa194fe-1918-44bb-8d9b-363fb02c8da1",
   "metadata": {},
   "outputs": [],
   "source": [
    "alphas.append(Alphas_Data('alpha1', alpha_1_cumpnl))"
   ]
  },
  {
   "cell_type": "markdown",
   "id": "770d85d4-137f-4d39-8b71-b3d67f7ba320",
   "metadata": {
    "jp-MarkdownHeadingCollapsed": true
   },
   "source": [
    "## The second strategy: Foma & French\n",
    "\n",
    "$SMB - small minus big$\n",
    "\n",
    "цена на маленькие компании растет быстрее, чем на большие,\n",
    "сортируем акции по капитализации, больше капитализация - ставим в шорт,\n",
    "меньше капитализация - в лонг.\n",
    "\n",
    "Капитализация = кол-во акций (объем торгов) * цена акции"
   ]
  },
  {
   "cell_type": "code",
   "execution_count": 16,
   "id": "42b7b6b8-985b-4067-a56a-a42578fe19c6",
   "metadata": {},
   "outputs": [],
   "source": [
    "def make_SMB_alpha(close_df, volume_df, proportion=[33, 34, 33]):\n",
    "    \"\"\"\n",
    "        Фама и Фенч предложили сортировать компании по капитализации, и выставлять соответственно\n",
    "        лонг или шорт. Акции больших компаний растут медленнее, чем акции маленьких, поэтому\n",
    "        на большие ставим шорт, на маленькие лонг, на среднечок ставим нули.\n",
    "\n",
    "        Аргументы:\n",
    "            close_df, pandas.DataFrame - кадр данных о ценах закрытия инструментов за каждый день\n",
    "            volume_df, pandas.DataFrame - кадр данных об объемах торгов за каждый день\n",
    "            proportion, 'list[int]' - пропорция по которой разделяются инструменты соответственно маленькие, средние и большие.\n",
    "                                      по умолчанию принимает значение [33, 34, 33], что означает - разделить поровну.\n",
    "                                      можно выбрать и другое соотношение, важно чтобы суммарно получалось 100(%).\n",
    "\n",
    "        Возвращаемое значение:\n",
    "            alpha_states_matrix, numpy.array - матрица состояний альфы на каждый день\n",
    "    \"\"\"\n",
    "    \n",
    "    def calc_capitalization(close_price, volume):\n",
    "        \"\"\"\n",
    "            Calculates capitalization as a result of close prices and volume multiplication\n",
    "\n",
    "            Arguments:\n",
    "                close_price, numpy.array - an array of close prices with a size of (days, instruments_number)\n",
    "                volume, numpy.array - an array of trading volume with a size of (days, instruments_number)\n",
    "\n",
    "            Return value:\n",
    "                capitalization, numpy.array - a matrix of instruments capitalization by days\n",
    "        \"\"\"\n",
    "        return close_price * volume\n",
    "\n",
    "    # checks if the sum of proportion elemts equals 100 %\n",
    "    assert np.sum(proportion) == 100\n",
    "\n",
    "    # get close and volume values\n",
    "    close = close_df.drop(close_df.columns[0], axis=1).to_numpy().T\n",
    "    volume = volume_df.drop(volume_df.columns[0], axis=1).to_numpy().T\n",
    "\n",
    "    # get capitalization\n",
    "    capitalization = calc_capitalization(close, volume)\n",
    "\n",
    "    alpha = np.zeros(close.shape)\n",
    "    true_false_vec = np.ones(close.shape)\n",
    "\n",
    "    for i in range(close.shape[0]):\n",
    "\n",
    "        indexes = np.argsort(capitalization[i])\n",
    "\n",
    "        small_upper_border = round(len(indexes) * proportion[0] / 100)\n",
    "        big_bottom_border = round(len(indexes) * (proportion[0] + proportion[1]) / 100)\n",
    "    \n",
    "        # get indexes\n",
    "        small_indexes = indexes[:small_upper_border]\n",
    "        middle_indexes = indexes[small_upper_border:big_bottom_border]\n",
    "        big_indexes = indexes[big_bottom_border:]\n",
    "        \n",
    "        alpha[i][middle_indexes] = 0\n",
    "        true_false_vec[i][middle_indexes] = 0\n",
    "        alpha[i][big_indexes] *= 1\n",
    "\n",
    "    alpha = normalize(neutralize_with_dropout(alpha, true_false_vec))\n",
    "    \n",
    "    return alpha"
   ]
  },
  {
   "cell_type": "code",
   "execution_count": 17,
   "id": "b1e41a60-752b-42ed-8a96-5440dba74f10",
   "metadata": {},
   "outputs": [
    {
     "name": "stdout",
     "output_type": "stream",
     "text": [
      "Neutrality test passed\n",
      "Normality test is not passed\n"
     ]
    }
   ],
   "source": [
    "alpha_matrix2 = make_SMB_alpha(close_df, volume_df)\n",
    "\n",
    "test1(alpha_matrix2)\n",
    "test2(alpha_matrix2[1:])  # первый нулевой"
   ]
  },
  {
   "cell_type": "code",
   "execution_count": 18,
   "id": "fed1edb1-95b3-4e20-8634-2e56acff7a45",
   "metadata": {},
   "outputs": [
    {
     "name": "stderr",
     "output_type": "stream",
     "text": [
      "/Users/hubievkasym/Desktop/Sirius Uni/DerivativesControl/helper.py:176: RuntimeWarning: invalid value encountered in scalar divide\n",
      "  sharpe = len(alpha_pnl_vec)**0.5 * alpha_pnl_vec.mean() / std\n"
     ]
    },
    {
     "data": {
      "image/png": "[encoded data removed]",
      "text/plain": [
       "<Figure size 640x480 with 1 Axes>"
      ]
     },
     "metadata": {},
     "output_type": "display_data"
    },
    {
     "name": "stdout",
     "output_type": "stream",
     "text": [
      "[0.0, 0.0, 0.0, 0.0, 0.0]\n"
     ]
    },
    {
     "data": {
      "text/html": [
       "<div>\n",
       "<style scoped>\n",
       "    .dataframe tbody tr th:only-of-type {\n",
       "        vertical-align: middle;\n",
       "    }\n",
       "\n",
       "    .dataframe tbody tr th {\n",
       "        vertical-align: top;\n",
       "    }\n",
       "\n",
       "    .dataframe thead th {\n",
       "        text-align: right;\n",
       "    }\n",
       "</style>\n",
       "<table border=\"1\" class=\"dataframe\">\n",
       "  <thead>\n",
       "    <tr style=\"text-align: right;\">\n",
       "      <th></th>\n",
       "      <th>Year</th>\n",
       "      <th>Sharpe</th>\n",
       "      <th>Average Turnover</th>\n",
       "      <th>Max Drawdown</th>\n",
       "      <th>Cumpnl</th>\n",
       "    </tr>\n",
       "  </thead>\n",
       "  <tbody>\n",
       "    <tr>\n",
       "      <th>0</th>\n",
       "      <td>2010</td>\n",
       "      <td>NaN</td>\n",
       "      <td>0.0</td>\n",
       "      <td>0.0</td>\n",
       "      <td>0.0</td>\n",
       "    </tr>\n",
       "    <tr>\n",
       "      <th>1</th>\n",
       "      <td>2011</td>\n",
       "      <td>NaN</td>\n",
       "      <td>0.0</td>\n",
       "      <td>0.0</td>\n",
       "      <td>0.0</td>\n",
       "    </tr>\n",
       "    <tr>\n",
       "      <th>2</th>\n",
       "      <td>2012</td>\n",
       "      <td>NaN</td>\n",
       "      <td>0.0</td>\n",
       "      <td>0.0</td>\n",
       "      <td>0.0</td>\n",
       "    </tr>\n",
       "    <tr>\n",
       "      <th>3</th>\n",
       "      <td>2013</td>\n",
       "      <td>NaN</td>\n",
       "      <td>0.0</td>\n",
       "      <td>0.0</td>\n",
       "      <td>0.0</td>\n",
       "    </tr>\n",
       "    <tr>\n",
       "      <th>4</th>\n",
       "      <td>2014</td>\n",
       "      <td>NaN</td>\n",
       "      <td>0.0</td>\n",
       "      <td>0.0</td>\n",
       "      <td>0.0</td>\n",
       "    </tr>\n",
       "  </tbody>\n",
       "</table>\n",
       "</div>"
      ],
      "text/plain": [
       "   Year  Sharpe  Average Turnover  Max Drawdown  Cumpnl\n",
       "0  2010     NaN               0.0           0.0     0.0\n",
       "1  2011     NaN               0.0           0.0     0.0\n",
       "2  2012     NaN               0.0           0.0     0.0\n",
       "3  2013     NaN               0.0           0.0     0.0\n",
       "4  2014     NaN               0.0           0.0     0.0"
      ]
     },
     "execution_count": 18,
     "metadata": {},
     "output_type": "execute_result"
    }
   ],
   "source": [
    "alpha_2_data, alpha_2_cumpnl = AlphaStats(alpha_matrix2, close_df)\n",
    "alpha_2_data.head()"
   ]
  },
  {
   "cell_type": "code",
   "execution_count": 19,
   "id": "f48b5348-9af0-4596-ba6f-d60c15f7eeaf",
   "metadata": {},
   "outputs": [
    {
     "name": "stdout",
     "output_type": "stream",
     "text": [
      "Sharpe test not passed\n",
      "Turnover test passed\n",
      "Cumpnl test not passed\n",
      "passed 1 out of 3 tests\n"
     ]
    }
   ],
   "source": [
    "test3(alpha_2_data)"
   ]
  },
  {
   "cell_type": "markdown",
   "id": "65845d46-39e2-4145-a021-6adeb14bc8d1",
   "metadata": {
    "jp-MarkdownHeadingCollapsed": true
   },
   "source": [
    "## The third strategy\n",
    "\n",
    "$alpha = \\frac{high-low}{close} + delta$"
   ]
  },
  {
   "cell_type": "code",
   "execution_count": 49,
   "id": "71b9aa90-45bb-4f16-8c55-43b3a2f54ae5",
   "metadata": {},
   "outputs": [],
   "source": [
    "day_step = 5\n",
    "delta = 0"
   ]
  },
  {
   "cell_type": "code",
   "execution_count": 50,
   "id": "7c18f41e-a7ad-46c3-804f-0409702a8201",
   "metadata": {},
   "outputs": [],
   "source": [
    "def make_high_minus_low_ratio_close_alpha(high_df, low_df, close_df, n, delta):\n",
    "    high = high_df.drop(high_df.columns[0], axis=1).to_numpy().T\n",
    "    low = low_df.drop(low_df.columns[0], axis=1).to_numpy().T\n",
    "    close = close_df.drop(close_df.columns[0], axis=1).to_numpy().T\n",
    "\n",
    "    alpha = np.zeros((close.shape))\n",
    "\n",
    "    for i in range(n, close.shape[0]):\n",
    "        alpha[i] = (high[i-1] - low[i-1]) / close[i-n] + delta\n",
    "\n",
    "    return alpha"
   ]
  },
  {
   "cell_type": "code",
   "execution_count": 51,
   "id": "26764c73-787c-4acb-83b2-03c71f867a5b",
   "metadata": {},
   "outputs": [
    {
     "name": "stdout",
     "output_type": "stream",
     "text": [
      "(1257, 2436)\n"
     ]
    }
   ],
   "source": [
    "alpha_matrix3 = make_high_minus_low_ratio_close_alpha(high_df, low_df, close_df, day_step, delta)\n",
    "print(alpha_matrix3.shape)"
   ]
  },
  {
   "cell_type": "code",
   "execution_count": 52,
   "id": "70c746c0-05fe-4208-8954-13fe7be86abb",
   "metadata": {},
   "outputs": [],
   "source": [
    "alpha_matrix3, zeros_outliers = mpa.CutOutliers(alpha_matrix3, 3)\n",
    "alpha_matrix3, zeros_middles = mpa.CutMiddle(alpha_matrix3, 7)\n",
    "alpha_matrix3 = mpa.truncate_alpha(alpha_matrix3, 0.5)\n",
    "# alpha_matrix3 = mpa.crop(alpha_matrix3, 0.1)\n",
    "zeros_merged = merge_zeros(zeros_outliers, zeros_middles)"
   ]
  },
  {
   "cell_type": "code",
   "execution_count": 53,
   "id": "9a2a2f08-1ac4-43e7-8712-29b71d5099ac",
   "metadata": {},
   "outputs": [],
   "source": [
    "alpha_matrix3 = neutralize_with_dropout(alpha_matrix3, zeros_merged)\n",
    "alpha_matrix3 = normalize(alpha_matrix3)"
   ]
  },
  {
   "cell_type": "code",
   "execution_count": 54,
   "id": "adcae000-b17f-46d1-a9a3-43a7a6f127b9",
   "metadata": {},
   "outputs": [
    {
     "name": "stdout",
     "output_type": "stream",
     "text": [
      "Neutrality test passed\n",
      "Normality test passed\n"
     ]
    }
   ],
   "source": [
    "test1(alpha_matrix3)\n",
    "test2(alpha_matrix3[day_step:])"
   ]
  },
  {
   "cell_type": "code",
   "execution_count": 55,
   "id": "ca8f5fb6-3c47-41fb-9d51-86e20e45d9a0",
   "metadata": {},
   "outputs": [
    {
     "data": {
      "image/png": "[encoded data removed]",
      "text/plain": [
       "<Figure size 640x480 with 1 Axes>"
      ]
     },
     "metadata": {},
     "output_type": "display_data"
    },
    {
     "name": "stdout",
     "output_type": "stream",
     "text": [
      "[0.103840976528332, 0.09398545228670938, 0.09244630994062565, 0.21237519651309278, 0.11483349423682741]\n"
     ]
    },
    {
     "data": {
      "text/html": [
       "<div>\n",
       "<style scoped>\n",
       "    .dataframe tbody tr th:only-of-type {\n",
       "        vertical-align: middle;\n",
       "    }\n",
       "\n",
       "    .dataframe tbody tr th {\n",
       "        vertical-align: top;\n",
       "    }\n",
       "\n",
       "    .dataframe thead th {\n",
       "        text-align: right;\n",
       "    }\n",
       "</style>\n",
       "<table border=\"1\" class=\"dataframe\">\n",
       "  <thead>\n",
       "    <tr style=\"text-align: right;\">\n",
       "      <th></th>\n",
       "      <th>Year</th>\n",
       "      <th>Sharpe</th>\n",
       "      <th>Average Turnover</th>\n",
       "      <th>Max Drawdown</th>\n",
       "      <th>Cumpnl</th>\n",
       "    </tr>\n",
       "  </thead>\n",
       "  <tbody>\n",
       "    <tr>\n",
       "      <th>0</th>\n",
       "      <td>2010</td>\n",
       "      <td>1.451114</td>\n",
       "      <td>0.837644</td>\n",
       "      <td>0.059197</td>\n",
       "      <td>0.103841</td>\n",
       "    </tr>\n",
       "    <tr>\n",
       "      <th>1</th>\n",
       "      <td>2011</td>\n",
       "      <td>-0.100817</td>\n",
       "      <td>0.839243</td>\n",
       "      <td>0.134236</td>\n",
       "      <td>0.093985</td>\n",
       "    </tr>\n",
       "    <tr>\n",
       "      <th>2</th>\n",
       "      <td>2012</td>\n",
       "      <td>-0.030055</td>\n",
       "      <td>0.822309</td>\n",
       "      <td>0.084699</td>\n",
       "      <td>0.092446</td>\n",
       "    </tr>\n",
       "    <tr>\n",
       "      <th>3</th>\n",
       "      <td>2013</td>\n",
       "      <td>2.548089</td>\n",
       "      <td>0.838317</td>\n",
       "      <td>0.026853</td>\n",
       "      <td>0.212375</td>\n",
       "    </tr>\n",
       "    <tr>\n",
       "      <th>4</th>\n",
       "      <td>2014</td>\n",
       "      <td>-1.217587</td>\n",
       "      <td>0.757753</td>\n",
       "      <td>0.180886</td>\n",
       "      <td>0.114833</td>\n",
       "    </tr>\n",
       "  </tbody>\n",
       "</table>\n",
       "</div>"
      ],
      "text/plain": [
       "   Year    Sharpe  Average Turnover  Max Drawdown    Cumpnl\n",
       "0  2010  1.451114          0.837644      0.059197  0.103841\n",
       "1  2011 -0.100817          0.839243      0.134236  0.093985\n",
       "2  2012 -0.030055          0.822309      0.084699  0.092446\n",
       "3  2013  2.548089          0.838317      0.026853  0.212375\n",
       "4  2014 -1.217587          0.757753      0.180886  0.114833"
      ]
     },
     "execution_count": 55,
     "metadata": {},
     "output_type": "execute_result"
    }
   ],
   "source": [
    "alpha_3_data, alpha_3_cumpnl = AlphaStats(alpha_matrix3, close_df)\n",
    "alpha_3_data.head()"
   ]
  },
  {
   "cell_type": "code",
   "execution_count": 56,
   "id": "d9a63c46-34e5-4144-b249-d2f2169ecdd5",
   "metadata": {},
   "outputs": [
    {
     "name": "stdout",
     "output_type": "stream",
     "text": [
      "Sharpe test not passed\n",
      "Turnover tets not passed\n",
      "Cumpnl test not passed\n",
      "passed 0 out of 3 tests\n"
     ]
    }
   ],
   "source": [
    "test3(alpha_3_data)"
   ]
  },
  {
   "cell_type": "code",
   "execution_count": 57,
   "id": "fc0e6fee-661d-4f8c-977f-bdc1f5a672ab",
   "metadata": {},
   "outputs": [
    {
     "name": "stdout",
     "output_type": "stream",
     "text": [
      "alpha1 :\t 0.6556672507275503\n"
     ]
    }
   ],
   "source": [
    "for alpha in alphas:\n",
    "    print(alpha.name, \":\\t\", calc_alphas_corr(alpha.cumpnl, alpha_3_cumpnl))"
   ]
  },
  {
   "cell_type": "markdown",
   "id": "689ffe4f-af2c-46cd-8812-bdd50a326b1a",
   "metadata": {
    "jp-MarkdownHeadingCollapsed": true
   },
   "source": [
    "## The fourth strategy\n",
    "\n",
    "**$alpha  = \\frac{high}{low}$**"
   ]
  },
  {
   "cell_type": "code",
   "execution_count": 329,
   "id": "94159298-be17-4663-9e4d-d97278b26e40",
   "metadata": {},
   "outputs": [],
   "source": [
    "day_step = 5\n",
    "delta = -1"
   ]
  },
  {
   "cell_type": "code",
   "execution_count": 330,
   "id": "a4329eb9-834e-4012-8a8b-b5608749f311",
   "metadata": {},
   "outputs": [],
   "source": [
    "def make_high_low_ratio_alpha(high_df, low_df, window, delta):\n",
    "    \n",
    "    high = high_df.drop(high_df.columns[0], axis=1).to_numpy().T\n",
    "    low = low_df.drop(low_df.columns[0], axis=1).to_numpy().T\n",
    "\n",
    "    low = np.where(low == 0., 1e-12, low)\n",
    "\n",
    "    alpha = np.zeros((high.shape))\n",
    "\n",
    "    print(alpha.shape)\n",
    "\n",
    "    for i in range(window, len(high)):\n",
    "        alpha[i] += high[i-1] / low[i-window] + delta\n",
    "\n",
    "    return alpha"
   ]
  },
  {
   "cell_type": "code",
   "execution_count": 331,
   "id": "a7fdb688-037a-4912-bbc5-7b8b0bac8613",
   "metadata": {},
   "outputs": [
    {
     "name": "stdout",
     "output_type": "stream",
     "text": [
      "(1257, 2436)\n"
     ]
    }
   ],
   "source": [
    "alpha_matrix4 = make_high_low_ratio_alpha(high_df, low_df, day_step, delta)"
   ]
  },
  {
   "cell_type": "code",
   "execution_count": 336,
   "id": "c2778328-d299-428f-b985-f2eab6e37f96",
   "metadata": {},
   "outputs": [],
   "source": [
    "# alpha_matrix4 = decay(alpha_matrix4, 3)\n",
    "alpha_matrix4, zeros_outliers = mpa.CutOutliers(alpha_matrix4, 5)\n",
    "alpha_matrix4, zeros_middles = mpa.CutMiddle(alpha_matrix4, 7)\n",
    "alpha_matrix4 = mpa.truncate_alpha(alpha_matrix4, 0.1)\n",
    "\n",
    "zeros_merged = merge_zeros(zeros_outliers, zeros_middles)\n",
    "alpha_matrix4 = neutralize_with_dropout(-alpha_matrix4, zeros_merged)\n",
    "alpha_matrix4 = normalize(alpha_matrix4)"
   ]
  },
  {
   "cell_type": "code",
   "execution_count": 337,
   "id": "fa4a0d84-19c0-4666-b867-55204ec13599",
   "metadata": {},
   "outputs": [
    {
     "name": "stdout",
     "output_type": "stream",
     "text": [
      "Neutrality test passed\n",
      "Normality test passed\n"
     ]
    }
   ],
   "source": [
    "test1(alpha_matrix4)\n",
    "test2(alpha_matrix4[day_step:])"
   ]
  },
  {
   "cell_type": "code",
   "execution_count": 338,
   "id": "bc591761-76e5-4485-9aef-925e37f4d9bc",
   "metadata": {},
   "outputs": [
    {
     "data": {
      "image/png": "[encoded data removed]",
      "text/plain": [
       "<Figure size 640x480 with 1 Axes>"
      ]
     },
     "metadata": {},
     "output_type": "display_data"
    },
    {
     "name": "stdout",
     "output_type": "stream",
     "text": [
      "[0.06076426380139926, 0.16939227212887256, 0.263327559049348, 0.3194395789289166, 0.3202212855101604]\n"
     ]
    },
    {
     "data": {
      "text/html": [
       "<div>\n",
       "<style scoped>\n",
       "    .dataframe tbody tr th:only-of-type {\n",
       "        vertical-align: middle;\n",
       "    }\n",
       "\n",
       "    .dataframe tbody tr th {\n",
       "        vertical-align: top;\n",
       "    }\n",
       "\n",
       "    .dataframe thead th {\n",
       "        text-align: right;\n",
       "    }\n",
       "</style>\n",
       "<table border=\"1\" class=\"dataframe\">\n",
       "  <thead>\n",
       "    <tr style=\"text-align: right;\">\n",
       "      <th></th>\n",
       "      <th>Year</th>\n",
       "      <th>Sharpe</th>\n",
       "      <th>Average Turnover</th>\n",
       "      <th>Max Drawdown</th>\n",
       "      <th>Cumpnl</th>\n",
       "    </tr>\n",
       "  </thead>\n",
       "  <tbody>\n",
       "    <tr>\n",
       "      <th>0</th>\n",
       "      <td>2010</td>\n",
       "      <td>1.202845</td>\n",
       "      <td>0.818833</td>\n",
       "      <td>0.064747</td>\n",
       "      <td>0.060764</td>\n",
       "    </tr>\n",
       "    <tr>\n",
       "      <th>1</th>\n",
       "      <td>2011</td>\n",
       "      <td>1.906235</td>\n",
       "      <td>0.859107</td>\n",
       "      <td>0.022877</td>\n",
       "      <td>0.169392</td>\n",
       "    </tr>\n",
       "    <tr>\n",
       "      <th>2</th>\n",
       "      <td>2012</td>\n",
       "      <td>2.473162</td>\n",
       "      <td>0.811304</td>\n",
       "      <td>0.018490</td>\n",
       "      <td>0.263328</td>\n",
       "    </tr>\n",
       "    <tr>\n",
       "      <th>3</th>\n",
       "      <td>2013</td>\n",
       "      <td>1.419811</td>\n",
       "      <td>0.802176</td>\n",
       "      <td>0.019786</td>\n",
       "      <td>0.319440</td>\n",
       "    </tr>\n",
       "    <tr>\n",
       "      <th>4</th>\n",
       "      <td>2014</td>\n",
       "      <td>0.015285</td>\n",
       "      <td>0.804357</td>\n",
       "      <td>0.054160</td>\n",
       "      <td>0.320221</td>\n",
       "    </tr>\n",
       "  </tbody>\n",
       "</table>\n",
       "</div>"
      ],
      "text/plain": [
       "   Year    Sharpe  Average Turnover  Max Drawdown    Cumpnl\n",
       "0  2010  1.202845          0.818833      0.064747  0.060764\n",
       "1  2011  1.906235          0.859107      0.022877  0.169392\n",
       "2  2012  2.473162          0.811304      0.018490  0.263328\n",
       "3  2013  1.419811          0.802176      0.019786  0.319440\n",
       "4  2014  0.015285          0.804357      0.054160  0.320221"
      ]
     },
     "execution_count": 338,
     "metadata": {},
     "output_type": "execute_result"
    }
   ],
   "source": [
    "alpha_4_data, alpha_4_cumpnl = AlphaStats(alpha_matrix4, close_df)\n",
    "alpha_4_data.head()"
   ]
  },
  {
   "cell_type": "code",
   "execution_count": 339,
   "id": "f3d42756-a327-4ed7-beb7-c84de4a2e44e",
   "metadata": {},
   "outputs": [
    {
     "name": "stdout",
     "output_type": "stream",
     "text": [
      "Sharpe test passed\n",
      "Turnover tets not passed\n",
      "Cumpnl test passed\n",
      "passed 2 out of 3 tests\n"
     ]
    }
   ],
   "source": [
    "test3(alpha_4_data)"
   ]
  },
  {
   "cell_type": "code",
   "execution_count": 340,
   "id": "2fea9d41-5b81-4b19-87e7-7969ab9b8213",
   "metadata": {},
   "outputs": [
    {
     "name": "stdout",
     "output_type": "stream",
     "text": [
      "alpha1 :\t 0.970429511646013\n"
     ]
    }
   ],
   "source": [
    "for alpha in alphas:\n",
    "    print(alpha.name, \":\\t\", calc_alphas_corr(alpha.cumpnl, alpha_4_cumpnl))"
   ]
  },
  {
   "cell_type": "markdown",
   "id": "505a108b-4bb1-4d66-82d4-6300150f7220",
   "metadata": {
    "jp-MarkdownHeadingCollapsed": true
   },
   "source": [
    "## The fifth strategy\n",
    "\n",
    "$alpha = (high + low - 2close) / close$"
   ]
  },
  {
   "cell_type": "code",
   "execution_count": 67,
   "id": "2247306b-ba9d-4b3b-bbfb-22ea38cda03e",
   "metadata": {},
   "outputs": [],
   "source": [
    "day_step = 1\n",
    "close_window = day_step\n",
    "delta = 0"
   ]
  },
  {
   "cell_type": "code",
   "execution_count": 68,
   "id": "aa250bc5-d63f-4606-b079-276d4cb05fcb",
   "metadata": {},
   "outputs": [],
   "source": [
    "def make_alpha_the_fifth_way(high_df, low_df, close_df, window, window_cl, delta):\n",
    "    high = high_df.drop(high_df.columns[0], axis=1).to_numpy().T\n",
    "    low = low_df.drop(low_df.columns[0], axis=1).to_numpy().T\n",
    "    close = close_df.drop(close_df.columns[0], axis=1).to_numpy().T\n",
    "\n",
    "    close = np.where(close == 0., 1e-14, close)\n",
    "\n",
    "    alpha = np.zeros((high.shape))\n",
    "\n",
    "    for i in range(window, len(high)):\n",
    "        alpha[i] += (high[i-window] + low[i-window] - 2*close[i-window]) / close[i-window_cl] + delta\n",
    "\n",
    "    return alpha    "
   ]
  },
  {
   "cell_type": "code",
   "execution_count": 69,
   "id": "3fd05703-9613-4b43-804a-a84a09e2170d",
   "metadata": {},
   "outputs": [],
   "source": [
    "alpha_matrix5 = make_alpha_the_fifth_way(high_df, low_df, close_df, day_step, close_window, delta)\n",
    "alpha_matrix5 = decay(alpha_matrix5, 3)"
   ]
  },
  {
   "cell_type": "code",
   "execution_count": 70,
   "id": "14a33323-4df4-4eac-94e7-2faae3b7f410",
   "metadata": {},
   "outputs": [],
   "source": [
    "alpha_matrix5 = normalize(neutralize(alpha_matrix5))"
   ]
  },
  {
   "cell_type": "code",
   "execution_count": 71,
   "id": "025ff67a-b116-4a37-a137-d664c3732eb2",
   "metadata": {},
   "outputs": [
    {
     "name": "stdout",
     "output_type": "stream",
     "text": [
      "Neutrality test passed\n",
      "Normality test passed\n"
     ]
    }
   ],
   "source": [
    "# first four are zero\n",
    "test1(alpha_matrix5)\n",
    "test2(alpha_matrix5[4:])"
   ]
  },
  {
   "cell_type": "code",
   "execution_count": 72,
   "id": "536cdfb1-a937-41a2-ad4b-702f34870d11",
   "metadata": {},
   "outputs": [
    {
     "data": {
      "image/png": "[encoded data removed]",
      "text/plain": [
       "<Figure size 640x480 with 1 Axes>"
      ]
     },
     "metadata": {},
     "output_type": "display_data"
    },
    {
     "name": "stdout",
     "output_type": "stream",
     "text": [
      "[0.0029698130273298766, 0.16219270679697007, 0.24883947645478677, 0.33289495167028854, 0.4486994727985196]\n"
     ]
    },
    {
     "data": {
      "text/html": [
       "<div>\n",
       "<style scoped>\n",
       "    .dataframe tbody tr th:only-of-type {\n",
       "        vertical-align: middle;\n",
       "    }\n",
       "\n",
       "    .dataframe tbody tr th {\n",
       "        vertical-align: top;\n",
       "    }\n",
       "\n",
       "    .dataframe thead th {\n",
       "        text-align: right;\n",
       "    }\n",
       "</style>\n",
       "<table border=\"1\" class=\"dataframe\">\n",
       "  <thead>\n",
       "    <tr style=\"text-align: right;\">\n",
       "      <th></th>\n",
       "      <th>Year</th>\n",
       "      <th>Sharpe</th>\n",
       "      <th>Average Turnover</th>\n",
       "      <th>Max Drawdown</th>\n",
       "      <th>Cumpnl</th>\n",
       "    </tr>\n",
       "  </thead>\n",
       "  <tbody>\n",
       "    <tr>\n",
       "      <th>0</th>\n",
       "      <td>2010</td>\n",
       "      <td>0.048892</td>\n",
       "      <td>0.785424</td>\n",
       "      <td>0.089377</td>\n",
       "      <td>0.002970</td>\n",
       "    </tr>\n",
       "    <tr>\n",
       "      <th>1</th>\n",
       "      <td>2011</td>\n",
       "      <td>2.262974</td>\n",
       "      <td>0.782052</td>\n",
       "      <td>0.028149</td>\n",
       "      <td>0.162193</td>\n",
       "    </tr>\n",
       "    <tr>\n",
       "      <th>2</th>\n",
       "      <td>2012</td>\n",
       "      <td>2.146653</td>\n",
       "      <td>0.766652</td>\n",
       "      <td>0.026939</td>\n",
       "      <td>0.248839</td>\n",
       "    </tr>\n",
       "    <tr>\n",
       "      <th>3</th>\n",
       "      <td>2013</td>\n",
       "      <td>2.473542</td>\n",
       "      <td>0.772067</td>\n",
       "      <td>0.027631</td>\n",
       "      <td>0.332895</td>\n",
       "    </tr>\n",
       "    <tr>\n",
       "      <th>4</th>\n",
       "      <td>2014</td>\n",
       "      <td>1.873052</td>\n",
       "      <td>0.784055</td>\n",
       "      <td>0.046202</td>\n",
       "      <td>0.448699</td>\n",
       "    </tr>\n",
       "  </tbody>\n",
       "</table>\n",
       "</div>"
      ],
      "text/plain": [
       "   Year    Sharpe  Average Turnover  Max Drawdown    Cumpnl\n",
       "0  2010  0.048892          0.785424      0.089377  0.002970\n",
       "1  2011  2.262974          0.782052      0.028149  0.162193\n",
       "2  2012  2.146653          0.766652      0.026939  0.248839\n",
       "3  2013  2.473542          0.772067      0.027631  0.332895\n",
       "4  2014  1.873052          0.784055      0.046202  0.448699"
      ]
     },
     "execution_count": 72,
     "metadata": {},
     "output_type": "execute_result"
    }
   ],
   "source": [
    "alpha_5_data, alpha_5_cumpnl = AlphaStats(alpha_matrix5, close_df)\n",
    "alpha_5_data.head()"
   ]
  },
  {
   "cell_type": "code",
   "execution_count": 73,
   "id": "cb0441ce-4ca5-414d-bc01-72efcff6f38c",
   "metadata": {},
   "outputs": [
    {
     "name": "stdout",
     "output_type": "stream",
     "text": [
      "Sharpe test passed\n",
      "Turnover test passed\n",
      "Cumpnl test passed\n",
      "passed 3 out of 3 tests\n"
     ]
    }
   ],
   "source": [
    "test3(alpha_5_data)"
   ]
  },
  {
   "cell_type": "code",
   "execution_count": 83,
   "id": "eb39ce36-7f22-483c-8f34-1ccc8d50ef8f",
   "metadata": {},
   "outputs": [
    {
     "name": "stdout",
     "output_type": "stream",
     "text": [
      "alpha1 :\t 0.9305486966148369\n"
     ]
    }
   ],
   "source": [
    "for alpha in alphas:\n",
    "    print(alpha.name, \":\\t\", calc_alphas_corr(alpha.cumpnl, alpha_5_cumpnl))"
   ]
  },
  {
   "cell_type": "markdown",
   "id": "edd80ebf-6a8c-4ea4-ae93-6cdf4ec154d1",
   "metadata": {
    "jp-MarkdownHeadingCollapsed": true
   },
   "source": [
    "## The sixth strategy\n",
    "\n",
    "$high \\times low / close^2$"
   ]
  },
  {
   "cell_type": "code",
   "execution_count": 75,
   "id": "96c5f43b-9f2f-487b-a188-3f4d5bcf832f",
   "metadata": {},
   "outputs": [],
   "source": [
    "day_step = 5\n",
    "cl_day_step = day_step\n",
    "factor = 1\n",
    "delta = 0"
   ]
  },
  {
   "cell_type": "code",
   "execution_count": 76,
   "id": "3bcb82b7-9c04-4f55-9e1d-fc5d374099a2",
   "metadata": {},
   "outputs": [],
   "source": [
    "def make_sixth_strategy_alpha(high_df, low_df, close_df, window, cl_window, factor, delta):\n",
    "    high = high_df.drop(high_df.columns[0], axis=1).to_numpy().T\n",
    "    low = low_df.drop(low_df.columns[0], axis=1).to_numpy().T\n",
    "    close = close_df.drop(close_df.columns[0], axis=1).to_numpy().T\n",
    "\n",
    "    alpha = np.zeros_like((close))\n",
    "\n",
    "    for i in range(window, len(close)):\n",
    "        alpha[i] = factor * high[i]*low[i] / close[i]**2 + delta\n",
    "\n",
    "    return alpha"
   ]
  },
  {
   "cell_type": "code",
   "execution_count": 77,
   "id": "db13227f-fc81-46f3-a33c-6f28d42a4850",
   "metadata": {},
   "outputs": [],
   "source": [
    "alpha_matrix6 = make_sixth_strategy_alpha(high_df, low_df, close_df, day_step, cl_day_step, factor, delta)"
   ]
  },
  {
   "cell_type": "code",
   "execution_count": 78,
   "id": "32df8c9f-e559-4416-8a2e-35741e43b1dc",
   "metadata": {},
   "outputs": [],
   "source": [
    "alpha_matrix6 = decay(alpha_matrix6, 5)\n",
    "alpha_matrix6, zeros_outliers = mpa.CutOutliers(alpha_matrix6, 10)\n",
    "alpha_matrix6 = neutralize_with_dropout(alpha_matrix6, zeros_outliers)\n",
    "\n",
    "alpha_matrix6 = normalize(alpha_matrix6)"
   ]
  },
  {
   "cell_type": "code",
   "execution_count": 79,
   "id": "5812e77e-4750-41fc-9ad3-ce963dc0aa69",
   "metadata": {},
   "outputs": [
    {
     "name": "stdout",
     "output_type": "stream",
     "text": [
      "Neutrality test passed\n",
      "Normality test passed\n"
     ]
    }
   ],
   "source": [
    "# test1(neutralize(alpha_matrix6))\n",
    "test1(alpha_matrix6)\n",
    "test2(alpha_matrix6[day_step:]) # the first is zero"
   ]
  },
  {
   "cell_type": "code",
   "execution_count": 80,
   "id": "8593e664-767f-4387-b9a6-272f66f2f0cb",
   "metadata": {},
   "outputs": [
    {
     "data": {
      "image/png": "[encoded data removed]",
      "text/plain": [
       "<Figure size 640x480 with 1 Axes>"
      ]
     },
     "metadata": {},
     "output_type": "display_data"
    },
    {
     "name": "stdout",
     "output_type": "stream",
     "text": [
      "[0.028052840107062632, 0.1914226437812785, 0.3020182018066613, 0.390228074006115, 0.4697825134894237]\n"
     ]
    },
    {
     "data": {
      "text/html": [
       "<div>\n",
       "<style scoped>\n",
       "    .dataframe tbody tr th:only-of-type {\n",
       "        vertical-align: middle;\n",
       "    }\n",
       "\n",
       "    .dataframe tbody tr th {\n",
       "        vertical-align: top;\n",
       "    }\n",
       "\n",
       "    .dataframe thead th {\n",
       "        text-align: right;\n",
       "    }\n",
       "</style>\n",
       "<table border=\"1\" class=\"dataframe\">\n",
       "  <thead>\n",
       "    <tr style=\"text-align: right;\">\n",
       "      <th></th>\n",
       "      <th>Year</th>\n",
       "      <th>Sharpe</th>\n",
       "      <th>Average Turnover</th>\n",
       "      <th>Max Drawdown</th>\n",
       "      <th>Cumpnl</th>\n",
       "    </tr>\n",
       "  </thead>\n",
       "  <tbody>\n",
       "    <tr>\n",
       "      <th>0</th>\n",
       "      <td>2010</td>\n",
       "      <td>0.480709</td>\n",
       "      <td>0.667183</td>\n",
       "      <td>0.063182</td>\n",
       "      <td>0.028053</td>\n",
       "    </tr>\n",
       "    <tr>\n",
       "      <th>1</th>\n",
       "      <td>2011</td>\n",
       "      <td>2.322993</td>\n",
       "      <td>0.680233</td>\n",
       "      <td>0.040691</td>\n",
       "      <td>0.191423</td>\n",
       "    </tr>\n",
       "    <tr>\n",
       "      <th>2</th>\n",
       "      <td>2012</td>\n",
       "      <td>3.289032</td>\n",
       "      <td>0.664682</td>\n",
       "      <td>0.010680</td>\n",
       "      <td>0.302018</td>\n",
       "    </tr>\n",
       "    <tr>\n",
       "      <th>3</th>\n",
       "      <td>2013</td>\n",
       "      <td>3.004424</td>\n",
       "      <td>0.670935</td>\n",
       "      <td>0.013804</td>\n",
       "      <td>0.390228</td>\n",
       "    </tr>\n",
       "    <tr>\n",
       "      <th>4</th>\n",
       "      <td>2014</td>\n",
       "      <td>1.633775</td>\n",
       "      <td>0.684969</td>\n",
       "      <td>0.046817</td>\n",
       "      <td>0.469783</td>\n",
       "    </tr>\n",
       "  </tbody>\n",
       "</table>\n",
       "</div>"
      ],
      "text/plain": [
       "   Year    Sharpe  Average Turnover  Max Drawdown    Cumpnl\n",
       "0  2010  0.480709          0.667183      0.063182  0.028053\n",
       "1  2011  2.322993          0.680233      0.040691  0.191423\n",
       "2  2012  3.289032          0.664682      0.010680  0.302018\n",
       "3  2013  3.004424          0.670935      0.013804  0.390228\n",
       "4  2014  1.633775          0.684969      0.046817  0.469783"
      ]
     },
     "execution_count": 80,
     "metadata": {},
     "output_type": "execute_result"
    }
   ],
   "source": [
    "alpha_6_data, alpha_6_cumpnl = AlphaStats(alpha_matrix6, close_df)\n",
    "alpha_6_data.head()"
   ]
  },
  {
   "cell_type": "code",
   "execution_count": 81,
   "id": "f0ad6740-ac55-4bf8-87b9-df02fd432167",
   "metadata": {},
   "outputs": [
    {
     "name": "stdout",
     "output_type": "stream",
     "text": [
      "Sharpe test passed\n",
      "Turnover test passed\n",
      "Cumpnl test passed\n",
      "passed 3 out of 3 tests\n"
     ]
    }
   ],
   "source": [
    "test3(alpha_6_data)"
   ]
  },
  {
   "cell_type": "code",
   "execution_count": 84,
   "id": "aa00cabb-34d2-421d-a2a9-19939e977062",
   "metadata": {},
   "outputs": [
    {
     "name": "stdout",
     "output_type": "stream",
     "text": [
      "alpha1 :\t 0.9525808332807394\n"
     ]
    }
   ],
   "source": [
    "for alpha in alphas:\n",
    "    print(alpha.name, \":\\t\", calc_alphas_corr(alpha.cumpnl, alpha_6_cumpnl))"
   ]
  },
  {
   "cell_type": "markdown",
   "id": "62886a9b-9175-45cb-a7a3-f3b4b973a369",
   "metadata": {
    "jp-MarkdownHeadingCollapsed": true
   },
   "source": [
    "# The seventh strategy\n",
    "\n",
    "$alpha = (high + low) / close \\pm 1$"
   ]
  },
  {
   "cell_type": "code",
   "execution_count": 85,
   "id": "cacf8e9e-59cc-4f45-af37-82289a1a3dec",
   "metadata": {},
   "outputs": [],
   "source": [
    "day_step=1\n",
    "delta = -1"
   ]
  },
  {
   "cell_type": "code",
   "execution_count": 86,
   "id": "40ba3fc9-71fd-4f11-bae9-861bb44a8ea9",
   "metadata": {},
   "outputs": [],
   "source": [
    "def make_high_low_close_ration_seventh_alpha(high_df, low_df, close_df, n, delta):\n",
    "    high = high_df.drop(high_df.columns[0], axis=1).to_numpy().T\n",
    "    low = low_df.drop(low_df.columns[0], axis=1).to_numpy().T\n",
    "    close = close_df.drop(close_df.columns[0], axis=1).to_numpy().T\n",
    "\n",
    "    _new_alpha_matrix = np.zeros((close.shape))\n",
    "\n",
    "    for i in range(n, len(close)):\n",
    "        _new_alpha_matrix[i] = (high[i-n] + low[i-n]) / close[i-1] + delta\n",
    "\n",
    "    return _new_alpha_matrix"
   ]
  },
  {
   "cell_type": "code",
   "execution_count": 87,
   "id": "69abd75b-ea1b-4ccb-9528-1098d55715dc",
   "metadata": {},
   "outputs": [
    {
     "name": "stdout",
     "output_type": "stream",
     "text": [
      "Neutrality test passed\n",
      "Normality test passed\n"
     ]
    }
   ],
   "source": [
    "alpha_matrix7 = make_high_low_close_ration_seventh_alpha(high_df, low_df, close_df, day_step, delta)\n",
    "alpha_matrix7 = normalize(neutralize(decay(alpha_matrix7, 5)))\n",
    "\n",
    "test1(alpha_matrix7)\n",
    "test2(alpha_matrix7[day_step:])"
   ]
  },
  {
   "cell_type": "code",
   "execution_count": 88,
   "id": "d24893cc-abc5-4da7-add8-b1ea73baa801",
   "metadata": {},
   "outputs": [
    {
     "data": {
      "image/png": "[encoded data removed]",
      "text/plain": [
       "<Figure size 640x480 with 1 Axes>"
      ]
     },
     "metadata": {},
     "output_type": "display_data"
    },
    {
     "name": "stdout",
     "output_type": "stream",
     "text": [
      "[0.013225261151225746, 0.17748325145068042, 0.27007475177007495, 0.35786986728305403, 0.46075455393490244]\n"
     ]
    },
    {
     "data": {
      "text/html": [
       "<div>\n",
       "<style scoped>\n",
       "    .dataframe tbody tr th:only-of-type {\n",
       "        vertical-align: middle;\n",
       "    }\n",
       "\n",
       "    .dataframe tbody tr th {\n",
       "        vertical-align: top;\n",
       "    }\n",
       "\n",
       "    .dataframe thead th {\n",
       "        text-align: right;\n",
       "    }\n",
       "</style>\n",
       "<table border=\"1\" class=\"dataframe\">\n",
       "  <thead>\n",
       "    <tr style=\"text-align: right;\">\n",
       "      <th></th>\n",
       "      <th>Year</th>\n",
       "      <th>Sharpe</th>\n",
       "      <th>Average Turnover</th>\n",
       "      <th>Max Drawdown</th>\n",
       "      <th>Cumpnl</th>\n",
       "    </tr>\n",
       "  </thead>\n",
       "  <tbody>\n",
       "    <tr>\n",
       "      <th>0</th>\n",
       "      <td>2010</td>\n",
       "      <td>0.245776</td>\n",
       "      <td>0.649604</td>\n",
       "      <td>0.087355</td>\n",
       "      <td>0.013225</td>\n",
       "    </tr>\n",
       "    <tr>\n",
       "      <th>1</th>\n",
       "      <td>2011</td>\n",
       "      <td>2.390189</td>\n",
       "      <td>0.641220</td>\n",
       "      <td>0.032313</td>\n",
       "      <td>0.177483</td>\n",
       "    </tr>\n",
       "    <tr>\n",
       "      <th>2</th>\n",
       "      <td>2012</td>\n",
       "      <td>2.353910</td>\n",
       "      <td>0.624242</td>\n",
       "      <td>0.017411</td>\n",
       "      <td>0.270075</td>\n",
       "    </tr>\n",
       "    <tr>\n",
       "      <th>3</th>\n",
       "      <td>2013</td>\n",
       "      <td>2.635018</td>\n",
       "      <td>0.629688</td>\n",
       "      <td>0.015723</td>\n",
       "      <td>0.357870</td>\n",
       "    </tr>\n",
       "    <tr>\n",
       "      <th>4</th>\n",
       "      <td>2014</td>\n",
       "      <td>1.713215</td>\n",
       "      <td>0.639996</td>\n",
       "      <td>0.045008</td>\n",
       "      <td>0.460755</td>\n",
       "    </tr>\n",
       "  </tbody>\n",
       "</table>\n",
       "</div>"
      ],
      "text/plain": [
       "   Year    Sharpe  Average Turnover  Max Drawdown    Cumpnl\n",
       "0  2010  0.245776          0.649604      0.087355  0.013225\n",
       "1  2011  2.390189          0.641220      0.032313  0.177483\n",
       "2  2012  2.353910          0.624242      0.017411  0.270075\n",
       "3  2013  2.635018          0.629688      0.015723  0.357870\n",
       "4  2014  1.713215          0.639996      0.045008  0.460755"
      ]
     },
     "execution_count": 88,
     "metadata": {},
     "output_type": "execute_result"
    }
   ],
   "source": [
    "alpha_7_data, alpha_7_cumpnl = AlphaStats(alpha_matrix7, close_df)\n",
    "alpha_7_data.head()"
   ]
  },
  {
   "cell_type": "code",
   "execution_count": 89,
   "id": "9aa93854-24f7-488b-aff0-0bb5d5f4791b",
   "metadata": {},
   "outputs": [
    {
     "name": "stdout",
     "output_type": "stream",
     "text": [
      "Sharpe test passed\n",
      "Turnover test passed\n",
      "Cumpnl test passed\n",
      "passed 3 out of 3 tests\n"
     ]
    }
   ],
   "source": [
    "test3(alpha_7_data)"
   ]
  },
  {
   "cell_type": "code",
   "execution_count": 90,
   "id": "964bba96-7338-4a36-a01a-b4d6a1ddca14",
   "metadata": {},
   "outputs": [
    {
     "name": "stdout",
     "output_type": "stream",
     "text": [
      "alpha1 :\t 0.9391643772777148\n"
     ]
    }
   ],
   "source": [
    "for alpha in alphas:\n",
    "    print(alpha.name, \":\\t\", calc_alphas_corr(alpha.cumpnl, alpha_7_cumpnl))"
   ]
  },
  {
   "cell_type": "markdown",
   "id": "9ab210e0-ab8d-4731-b8b8-3180174e43f0",
   "metadata": {
    "jp-MarkdownHeadingCollapsed": true
   },
   "source": [
    "# The eighth strategy\n",
    "\n",
    "$alpha = open/close$"
   ]
  },
  {
   "cell_type": "code",
   "execution_count": 91,
   "id": "8d9136c0-698f-49fc-a0fd-47a47cb54083",
   "metadata": {},
   "outputs": [],
   "source": [
    "def make_open_close_ration_alpha(open_df, close_df):\n",
    "    open = open_df.drop(open_df.columns[0], axis=1).to_numpy().T\n",
    "    close = close_df.drop(close_df.columns[0], axis=1).to_numpy().T\n",
    "\n",
    "    close = np.where(close == 0., 1e-14, close)  #  можно применить фильтр выбросов\n",
    "\n",
    "    alpha = open / close\n",
    "\n",
    "    alpha = np.concatenate((np.zeros((1, alpha.shape[1])), alpha[:-1]))\n",
    "\n",
    "    return alpha"
   ]
  },
  {
   "cell_type": "code",
   "execution_count": 92,
   "id": "8ed3eefc-733f-4f54-8504-6a894c45adbb",
   "metadata": {},
   "outputs": [],
   "source": [
    "alpha_matrix8 = make_open_close_ration_alpha(open_df, close_df)\n",
    "alpha_matrix8 = normalize(neutralize(decay(alpha_matrix8, 4)))"
   ]
  },
  {
   "cell_type": "code",
   "execution_count": 93,
   "id": "d7416efe-5f15-40a9-9d6c-ed1d79766158",
   "metadata": {},
   "outputs": [
    {
     "name": "stdout",
     "output_type": "stream",
     "text": [
      "Neutrality test passed\n",
      "Normality test passed\n"
     ]
    }
   ],
   "source": [
    "test1(alpha_matrix8)\n",
    "test2(alpha_matrix8[1:])  # the first is zero"
   ]
  },
  {
   "cell_type": "code",
   "execution_count": 94,
   "id": "abb5aae6-0bb0-4306-8c56-a69474713d5e",
   "metadata": {},
   "outputs": [
    {
     "data": {
      "image/png": "[encoded data removed]",
      "text/plain": [
       "<Figure size 640x480 with 1 Axes>"
      ]
     },
     "metadata": {},
     "output_type": "display_data"
    },
    {
     "name": "stdout",
     "output_type": "stream",
     "text": [
      "[0.05538023075762157, 0.21928064517661777, 0.32518874744458953, 0.4038497440272784, 0.4754959225779923]\n"
     ]
    },
    {
     "data": {
      "text/html": [
       "<div>\n",
       "<style scoped>\n",
       "    .dataframe tbody tr th:only-of-type {\n",
       "        vertical-align: middle;\n",
       "    }\n",
       "\n",
       "    .dataframe tbody tr th {\n",
       "        vertical-align: top;\n",
       "    }\n",
       "\n",
       "    .dataframe thead th {\n",
       "        text-align: right;\n",
       "    }\n",
       "</style>\n",
       "<table border=\"1\" class=\"dataframe\">\n",
       "  <thead>\n",
       "    <tr style=\"text-align: right;\">\n",
       "      <th></th>\n",
       "      <th>Year</th>\n",
       "      <th>Sharpe</th>\n",
       "      <th>Average Turnover</th>\n",
       "      <th>Max Drawdown</th>\n",
       "      <th>Cumpnl</th>\n",
       "    </tr>\n",
       "  </thead>\n",
       "  <tbody>\n",
       "    <tr>\n",
       "      <th>0</th>\n",
       "      <td>2010</td>\n",
       "      <td>1.031744</td>\n",
       "      <td>0.729662</td>\n",
       "      <td>0.066717</td>\n",
       "      <td>0.055380</td>\n",
       "    </tr>\n",
       "    <tr>\n",
       "      <th>1</th>\n",
       "      <td>2011</td>\n",
       "      <td>2.374632</td>\n",
       "      <td>0.717823</td>\n",
       "      <td>0.028916</td>\n",
       "      <td>0.219281</td>\n",
       "    </tr>\n",
       "    <tr>\n",
       "      <th>2</th>\n",
       "      <td>2012</td>\n",
       "      <td>2.653975</td>\n",
       "      <td>0.712914</td>\n",
       "      <td>0.020291</td>\n",
       "      <td>0.325189</td>\n",
       "    </tr>\n",
       "    <tr>\n",
       "      <th>3</th>\n",
       "      <td>2013</td>\n",
       "      <td>2.131362</td>\n",
       "      <td>0.715731</td>\n",
       "      <td>0.019877</td>\n",
       "      <td>0.403850</td>\n",
       "    </tr>\n",
       "    <tr>\n",
       "      <th>4</th>\n",
       "      <td>2014</td>\n",
       "      <td>1.264289</td>\n",
       "      <td>0.722283</td>\n",
       "      <td>0.050510</td>\n",
       "      <td>0.475496</td>\n",
       "    </tr>\n",
       "  </tbody>\n",
       "</table>\n",
       "</div>"
      ],
      "text/plain": [
       "   Year    Sharpe  Average Turnover  Max Drawdown    Cumpnl\n",
       "0  2010  1.031744          0.729662      0.066717  0.055380\n",
       "1  2011  2.374632          0.717823      0.028916  0.219281\n",
       "2  2012  2.653975          0.712914      0.020291  0.325189\n",
       "3  2013  2.131362          0.715731      0.019877  0.403850\n",
       "4  2014  1.264289          0.722283      0.050510  0.475496"
      ]
     },
     "execution_count": 94,
     "metadata": {},
     "output_type": "execute_result"
    }
   ],
   "source": [
    "alpha_8_data, alpha_8_cumpnl = AlphaStats(alpha_matrix8, close_df)\n",
    "alpha_8_data.head()"
   ]
  },
  {
   "cell_type": "code",
   "execution_count": 95,
   "id": "d8b3e6c6-aea4-429e-a12c-4d9a6920ce1a",
   "metadata": {},
   "outputs": [
    {
     "name": "stdout",
     "output_type": "stream",
     "text": [
      "Sharpe test passed\n",
      "Turnover test passed\n",
      "Cumpnl test passed\n",
      "passed 3 out of 3 tests\n"
     ]
    }
   ],
   "source": [
    "test3(alpha_8_data)"
   ]
  },
  {
   "cell_type": "code",
   "execution_count": 97,
   "id": "e8b53729-9903-47bb-8c04-1caa16a39d3e",
   "metadata": {},
   "outputs": [
    {
     "name": "stdout",
     "output_type": "stream",
     "text": [
      "alpha1 :\t 0.965181932593404\n"
     ]
    }
   ],
   "source": [
    "for alpha in alphas:\n",
    "    print(alpha.name, \":\\t\", calc_alphas_corr(alpha.cumpnl, alpha_8_cumpnl))"
   ]
  },
  {
   "cell_type": "markdown",
   "id": "6d4520d7-8c7c-431b-ace2-c75ec3a2d14e",
   "metadata": {
    "jp-MarkdownHeadingCollapsed": true
   },
   "source": [
    "# The ninth strategy\n",
    "\n",
    "$alpha = high / close$"
   ]
  },
  {
   "cell_type": "code",
   "execution_count": 98,
   "id": "d86a99fc-65d1-4c76-8929-db25298d2584",
   "metadata": {},
   "outputs": [],
   "source": [
    "def make_high_close_ratio_alpha(high_df, close_df):\n",
    "    high = high_df.drop(high_df.columns[0], axis=1).to_numpy().T\n",
    "    close = close_df.drop(close_df.columns[0], axis=1).to_numpy().T\n",
    "\n",
    "    close = np.where(close == 0., 1e-14, close)  #  можно применить фильтр выбросов\n",
    "\n",
    "    alpha = high / close\n",
    "\n",
    "    alpha = np.concatenate((np.zeros((1, alpha.shape[1])), alpha[:-1]))\n",
    "\n",
    "    return alpha"
   ]
  },
  {
   "cell_type": "code",
   "execution_count": 99,
   "id": "5d05b59e-2862-48c6-b8e1-63251901656e",
   "metadata": {},
   "outputs": [],
   "source": [
    "alpha_matrix9 = make_high_close_ratio_alpha(high_df, close_df)\n",
    "alpha_matrix9 = normalize(neutralize(decay(alpha_matrix9, 3)))"
   ]
  },
  {
   "cell_type": "code",
   "execution_count": 100,
   "id": "be852af1-b4a9-423e-8cb2-bc4e80c8639f",
   "metadata": {},
   "outputs": [
    {
     "name": "stdout",
     "output_type": "stream",
     "text": [
      "Neutrality test passed\n",
      "Normality test passed\n"
     ]
    }
   ],
   "source": [
    "test1(alpha_matrix9)\n",
    "test2(alpha_matrix9[1:]) # the first is zero"
   ]
  },
  {
   "cell_type": "code",
   "execution_count": 101,
   "id": "807c904f-cbc9-4e59-b91f-eb2bbeebf386",
   "metadata": {},
   "outputs": [
    {
     "data": {
      "image/png": "[encoded data removed]",
      "text/plain": [
       "<Figure size 640x480 with 1 Axes>"
      ]
     },
     "metadata": {},
     "output_type": "display_data"
    },
    {
     "name": "stdout",
     "output_type": "stream",
     "text": [
      "[0.08257171244127678, 0.19411216945753332, 0.25980797486286006, 0.41871490634912223, 0.40817023393152857]\n"
     ]
    },
    {
     "data": {
      "text/html": [
       "<div>\n",
       "<style scoped>\n",
       "    .dataframe tbody tr th:only-of-type {\n",
       "        vertical-align: middle;\n",
       "    }\n",
       "\n",
       "    .dataframe tbody tr th {\n",
       "        vertical-align: top;\n",
       "    }\n",
       "\n",
       "    .dataframe thead th {\n",
       "        text-align: right;\n",
       "    }\n",
       "</style>\n",
       "<table border=\"1\" class=\"dataframe\">\n",
       "  <thead>\n",
       "    <tr style=\"text-align: right;\">\n",
       "      <th></th>\n",
       "      <th>Year</th>\n",
       "      <th>Sharpe</th>\n",
       "      <th>Average Turnover</th>\n",
       "      <th>Max Drawdown</th>\n",
       "      <th>Cumpnl</th>\n",
       "    </tr>\n",
       "  </thead>\n",
       "  <tbody>\n",
       "    <tr>\n",
       "      <th>0</th>\n",
       "      <td>2010</td>\n",
       "      <td>0.977550</td>\n",
       "      <td>0.490815</td>\n",
       "      <td>0.072633</td>\n",
       "      <td>0.082572</td>\n",
       "    </tr>\n",
       "    <tr>\n",
       "      <th>1</th>\n",
       "      <td>2011</td>\n",
       "      <td>1.089827</td>\n",
       "      <td>0.471074</td>\n",
       "      <td>0.071764</td>\n",
       "      <td>0.194112</td>\n",
       "    </tr>\n",
       "    <tr>\n",
       "      <th>2</th>\n",
       "      <td>2012</td>\n",
       "      <td>1.274664</td>\n",
       "      <td>0.463514</td>\n",
       "      <td>0.066260</td>\n",
       "      <td>0.259808</td>\n",
       "    </tr>\n",
       "    <tr>\n",
       "      <th>3</th>\n",
       "      <td>2013</td>\n",
       "      <td>3.339109</td>\n",
       "      <td>0.469423</td>\n",
       "      <td>0.028594</td>\n",
       "      <td>0.418715</td>\n",
       "    </tr>\n",
       "    <tr>\n",
       "      <th>4</th>\n",
       "      <td>2014</td>\n",
       "      <td>-0.127945</td>\n",
       "      <td>0.433352</td>\n",
       "      <td>0.114072</td>\n",
       "      <td>0.408170</td>\n",
       "    </tr>\n",
       "  </tbody>\n",
       "</table>\n",
       "</div>"
      ],
      "text/plain": [
       "   Year    Sharpe  Average Turnover  Max Drawdown    Cumpnl\n",
       "0  2010  0.977550          0.490815      0.072633  0.082572\n",
       "1  2011  1.089827          0.471074      0.071764  0.194112\n",
       "2  2012  1.274664          0.463514      0.066260  0.259808\n",
       "3  2013  3.339109          0.469423      0.028594  0.418715\n",
       "4  2014 -0.127945          0.433352      0.114072  0.408170"
      ]
     },
     "execution_count": 101,
     "metadata": {},
     "output_type": "execute_result"
    }
   ],
   "source": [
    "alpha_9_data, alpha_9_cumpnl = AlphaStats(alpha_matrix9, close_df)\n",
    "alpha_9_data.head()"
   ]
  },
  {
   "cell_type": "code",
   "execution_count": 102,
   "id": "8033969f-5711-4e2c-b81c-d72585c22fe8",
   "metadata": {},
   "outputs": [
    {
     "name": "stdout",
     "output_type": "stream",
     "text": [
      "Sharpe test passed\n",
      "Turnover test passed\n",
      "Cumpnl test passed\n",
      "passed 3 out of 3 tests\n"
     ]
    }
   ],
   "source": [
    "test3(alpha_9_data)"
   ]
  },
  {
   "cell_type": "code",
   "execution_count": 103,
   "id": "e0a58c92-28df-46c3-bc4f-54c33fe1dfab",
   "metadata": {},
   "outputs": [
    {
     "name": "stdout",
     "output_type": "stream",
     "text": [
      "alpha1 :\t 0.9302009877072537\n"
     ]
    }
   ],
   "source": [
    "for alpha in alphas:\n",
    "    print(alpha.name, \":\\t\", calc_alphas_corr(alpha.cumpnl, alpha_9_cumpnl))"
   ]
  },
  {
   "cell_type": "markdown",
   "id": "1c7acb23-7dba-4886-aed6-8690c4299c44",
   "metadata": {
    "jp-MarkdownHeadingCollapsed": true
   },
   "source": [
    "# The tenth strategy\n",
    "\n",
    "$alpha = (close - low) / (high - low)$"
   ]
  },
  {
   "cell_type": "code",
   "execution_count": 104,
   "id": "b2cce9bd-83df-4546-847b-7a7e9978d34a",
   "metadata": {},
   "outputs": [],
   "source": [
    "def make_tenth_strategy_alpha(high_df, low_df, close_df):\n",
    "    high = high_df.drop(high_df.columns[0], axis=1).to_numpy().T\n",
    "    low = low_df.drop(low_df.columns[0], axis=1).to_numpy().T\n",
    "    close = close_df.drop(close_df.columns[0], axis=1).to_numpy().T\n",
    "\n",
    "    close_min_low = close - low\n",
    "    high_min_low = high - low\n",
    "    high_min_low = np.where(high_min_low == 0.0, 1e-14, high_min_low)\n",
    "\n",
    "    alpha = - close_min_low / high_min_low\n",
    "\n",
    "    alpha = np.concatenate((np.zeros((1, alpha.shape[1])), alpha[:-1]))\n",
    "\n",
    "    return alpha"
   ]
  },
  {
   "cell_type": "code",
   "execution_count": 105,
   "id": "15fd529c-4cac-4ad1-935e-8c70adb14675",
   "metadata": {},
   "outputs": [],
   "source": [
    "alpha_matrix10 = make_tenth_strategy_alpha(high_df, low_df, close_df)\n",
    "alpha_matrix10 = normalize(neutralize(alpha_matrix10))"
   ]
  },
  {
   "cell_type": "code",
   "execution_count": 106,
   "id": "81b30be7-a95b-456c-8b9e-261e6d6b8cc9",
   "metadata": {},
   "outputs": [
    {
     "name": "stdout",
     "output_type": "stream",
     "text": [
      "Neutrality test passed\n",
      "Normality test passed\n"
     ]
    }
   ],
   "source": [
    "test1(alpha_matrix10)\n",
    "test2(alpha_matrix10[1:]) # the first is null"
   ]
  },
  {
   "cell_type": "code",
   "execution_count": 107,
   "id": "7590df1c-987b-4a79-8e89-22849eb74451",
   "metadata": {},
   "outputs": [
    {
     "data": {
      "image/png": "[encoded data removed]",
      "text/plain": [
       "<Figure size 640x480 with 1 Axes>"
      ]
     },
     "metadata": {},
     "output_type": "display_data"
    },
    {
     "name": "stdout",
     "output_type": "stream",
     "text": [
      "[0.004546366929331899, 0.06654502490069641, 0.10981393578483299, 0.14120436478413723, 0.10558799166862848]\n"
     ]
    },
    {
     "data": {
      "text/html": [
       "<div>\n",
       "<style scoped>\n",
       "    .dataframe tbody tr th:only-of-type {\n",
       "        vertical-align: middle;\n",
       "    }\n",
       "\n",
       "    .dataframe tbody tr th {\n",
       "        vertical-align: top;\n",
       "    }\n",
       "\n",
       "    .dataframe thead th {\n",
       "        text-align: right;\n",
       "    }\n",
       "</style>\n",
       "<table border=\"1\" class=\"dataframe\">\n",
       "  <thead>\n",
       "    <tr style=\"text-align: right;\">\n",
       "      <th></th>\n",
       "      <th>Year</th>\n",
       "      <th>Sharpe</th>\n",
       "      <th>Average Turnover</th>\n",
       "      <th>Max Drawdown</th>\n",
       "      <th>Cumpnl</th>\n",
       "    </tr>\n",
       "  </thead>\n",
       "  <tbody>\n",
       "    <tr>\n",
       "      <th>0</th>\n",
       "      <td>2010</td>\n",
       "      <td>0.069740</td>\n",
       "      <td>1.314477</td>\n",
       "      <td>0.059115</td>\n",
       "      <td>0.004546</td>\n",
       "    </tr>\n",
       "    <tr>\n",
       "      <th>1</th>\n",
       "      <td>2011</td>\n",
       "      <td>1.221992</td>\n",
       "      <td>1.317017</td>\n",
       "      <td>0.060159</td>\n",
       "      <td>0.066545</td>\n",
       "    </tr>\n",
       "    <tr>\n",
       "      <th>2</th>\n",
       "      <td>2012</td>\n",
       "      <td>1.725020</td>\n",
       "      <td>1.296326</td>\n",
       "      <td>0.013001</td>\n",
       "      <td>0.109814</td>\n",
       "    </tr>\n",
       "    <tr>\n",
       "      <th>3</th>\n",
       "      <td>2013</td>\n",
       "      <td>1.328577</td>\n",
       "      <td>1.296003</td>\n",
       "      <td>0.018138</td>\n",
       "      <td>0.141204</td>\n",
       "    </tr>\n",
       "    <tr>\n",
       "      <th>4</th>\n",
       "      <td>2014</td>\n",
       "      <td>-0.667149</td>\n",
       "      <td>1.305958</td>\n",
       "      <td>0.058835</td>\n",
       "      <td>0.105588</td>\n",
       "    </tr>\n",
       "  </tbody>\n",
       "</table>\n",
       "</div>"
      ],
      "text/plain": [
       "   Year    Sharpe  Average Turnover  Max Drawdown    Cumpnl\n",
       "0  2010  0.069740          1.314477      0.059115  0.004546\n",
       "1  2011  1.221992          1.317017      0.060159  0.066545\n",
       "2  2012  1.725020          1.296326      0.013001  0.109814\n",
       "3  2013  1.328577          1.296003      0.018138  0.141204\n",
       "4  2014 -0.667149          1.305958      0.058835  0.105588"
      ]
     },
     "execution_count": 107,
     "metadata": {},
     "output_type": "execute_result"
    }
   ],
   "source": [
    "alpha_10_data, alpha_10_cumpnl = AlphaStats(alpha_matrix10, close_df)\n",
    "alpha_10_data.head()"
   ]
  },
  {
   "cell_type": "code",
   "execution_count": 108,
   "id": "f95f9e3b-65c9-40d6-8693-339b68c65ae5",
   "metadata": {},
   "outputs": [
    {
     "name": "stdout",
     "output_type": "stream",
     "text": [
      "Sharpe test passed\n",
      "Turnover tets not passed\n",
      "Cumpnl test not passed\n",
      "passed 1 out of 3 tests\n"
     ]
    }
   ],
   "source": [
    "test3(alpha_10_data)"
   ]
  },
  {
   "cell_type": "code",
   "execution_count": 109,
   "id": "4fc38c25-21d6-4353-9a5c-bda812c20327",
   "metadata": {},
   "outputs": [
    {
     "name": "stdout",
     "output_type": "stream",
     "text": [
      "alpha1 :\t 0.9185314602992911\n"
     ]
    }
   ],
   "source": [
    "for alpha in alphas:\n",
    "    print(alpha.name, \":\\t\", calc_alphas_corr(alpha.cumpnl, alpha_10_cumpnl))"
   ]
  },
  {
   "cell_type": "markdown",
   "id": "989984d3-7f75-41da-868f-2b960f94d1af",
   "metadata": {
    "jp-MarkdownHeadingCollapsed": true
   },
   "source": [
    "# The eleventh strategy\n",
    "\n",
    "$alpha = (close - low) / (high - low) < 0.5$ Нужно решить какой знак"
   ]
  },
  {
   "cell_type": "code",
   "execution_count": null,
   "id": "db3508d6-5a61-4af1-ac76-cccf5dc722bc",
   "metadata": {},
   "outputs": [],
   "source": [
    "def make_alpha_eleventh(close_df, low_df, high_df):\n",
    "    high = high_df.drop(high_df.columns[0], axis=1).to_numpy().T\n",
    "    low = low_df.drop(low_df.columns[0], axis=1).to_numpy().T\n",
    "    close = close_df.drop(close_df.columns[0], axis=1).to_numpy().T\n",
    "\n",
    "    close_min_low = close - low\n",
    "    high_min_low = high - low\n",
    "    high_min_low = np.where(high_min_low == 0.0, 1e-14, high_min_low)\n",
    "\n",
    "    alpha = close_min_low / high_min_low\n",
    "    alpha = neutralize(np.where(alpha < 0.5, alpha, 0))\n",
    "    alpha = np.concatenate((np.zeros((1, alpha.shape[1])), normalize(alpha[:-1])))\n",
    "    \n",
    "    return alpha"
   ]
  },
  {
   "cell_type": "code",
   "execution_count": null,
   "id": "d547de76-397b-4358-b12c-51fc9369d2bd",
   "metadata": {},
   "outputs": [],
   "source": [
    "alpha_matrix11 = make_alpha_eleventh(close_df, low_df, high_df)\n",
    "\n",
    "test1(alpha_matrix11)\n",
    "test2(alpha_matrix11[1:])"
   ]
  },
  {
   "cell_type": "code",
   "execution_count": null,
   "id": "2917c58f-e489-4e3c-b2d7-6b87d7747f57",
   "metadata": {},
   "outputs": [],
   "source": [
    "def count_instruments_volatility (instruments_incomes):\n",
    "    \n",
    "    def std (vector):\n",
    "        return np.sqrt(np.sum((vector - vector.mean())**2) / (len(vector) - 1))\n",
    "\n",
    "    # транспонируем матрицу доходностей, потому что сейчас каждая строка - это \n",
    "    # доходность каждого инструмента в конкретный день\n",
    "    volatility = np.array([std(vector) for vector in instruments_incomes.T]) \n",
    "\n",
    "    return volatility"
   ]
  },
  {
   "cell_type": "code",
   "execution_count": null,
   "id": "07f6d562-b884-48ec-8149-1f10a31ee514",
   "metadata": {},
   "outputs": [],
   "source": [
    "volatility_by_instrument = count_instruments_volatility(instrument_return(close_df))\n",
    "print(volatility_by_instrument.shape)\n",
    "\n",
    "indexes = np.argsort(volatility_by_instrument)\n",
    "print(volatility_by_instrument[indexes][0:10])\n",
    "plt.plot(np.arange(1, len(indexes)+1), volatility_by_instrument[indexes], label='sorted', color='red')\n",
    "# plt.plot(volatility_by_instrument, label='not sorted', color='blue')\n",
    "plt.legend()\n",
    "plt.show()"
   ]
  },
  {
   "cell_type": "code",
   "execution_count": null,
   "id": "58ab7fbb-94e6-4f72-a44f-bfa626c6e88b",
   "metadata": {},
   "outputs": [],
   "source": [
    "alpha_11_data, alpha_11_cumpnl = AlphaStats(alpha_matrix11, close_df)\n",
    "alpha_11_data.head()"
   ]
  },
  {
   "cell_type": "code",
   "execution_count": null,
   "id": "2f21f08d-0d2d-4e33-85c7-0adabbec54bd",
   "metadata": {},
   "outputs": [],
   "source": [
    "test3(alpha_11_data)"
   ]
  },
  {
   "cell_type": "markdown",
   "id": "05857169-630a-4cec-af71-cf15e7f2b9f7",
   "metadata": {
    "jp-MarkdownHeadingCollapsed": true
   },
   "source": [
    "# The twelveth strategy\n",
    "$alpha = ts\\_correlation(volume, close)$"
   ]
  },
  {
   "cell_type": "code",
   "execution_count": null,
   "id": "3b1f6089-6dd6-4241-9782-39cd1f0604c7",
   "metadata": {},
   "outputs": [],
   "source": []
  },
  {
   "cell_type": "code",
   "execution_count": null,
   "id": "95de7ac1-8ec9-4c7d-bfe0-2d413f6911eb",
   "metadata": {},
   "outputs": [],
   "source": []
  },
  {
   "cell_type": "markdown",
   "id": "840b51ce-e1ff-46df-9f66-6b26226740fa",
   "metadata": {},
   "source": [
    "# Alphas from Kakushadze"
   ]
  },
  {
   "cell_type": "markdown",
   "id": "db375973-1daf-4d3c-a42f-66ed47e0b208",
   "metadata": {},
   "source": [
    "## Mean-reversion alpha\n",
    "\n",
    "$-ln\\frac{open(d)}{close(d-1)}$"
   ]
  },
  {
   "cell_type": "code",
   "execution_count": 206,
   "id": "daa814ce-d2f0-410b-9f0f-701b83cba0b7",
   "metadata": {},
   "outputs": [],
   "source": [
    "day_step = 5"
   ]
  },
  {
   "cell_type": "code",
   "execution_count": 207,
   "id": "0eb5af48-d37e-4b6c-973c-6755c8e08e03",
   "metadata": {},
   "outputs": [],
   "source": [
    "def make_mean_reversion_alpha(close_df, open_df, day_step):\n",
    "    close = close_df.drop(close_df.columns[0], axis=1).to_numpy().T\n",
    "    open = open_df.drop(open_df.columns[0], axis=1).to_numpy().T\n",
    "\n",
    "    alpha = -np.log(open[day_step:] / close[:-day_step])\n",
    "    return np.concatenate((np.zeros((day_step, alpha.shape[1])), alpha))"
   ]
  },
  {
   "cell_type": "code",
   "execution_count": 214,
   "id": "17028a43-4e56-4b0e-a9d0-e983f3d63206",
   "metadata": {},
   "outputs": [],
   "source": [
    "mean_reversion_alpha = make_mean_reversion_alpha(close_df, open_df, day_step)\n",
    "\n",
    "# mean_reversion_alpha, zeros_outliers = mpa.CutOutliers(mean_reversion_alpha, 1)\n",
    "# mean_reversion_alpha, zeros_middles = mpa.CutMiddle(mean_reversion_alpha, 10)\n",
    "\n",
    "# mean_reversion_alpha = mpa.truncate_alpha(mean_reversion_alpha, 0.05)\n",
    "# mean_reversion_alpha = decay(mean_reversion_alpha, 10)\n",
    "\n",
    "# mean_reversion_alpha = mpa.crop(mean_reversion_alpha, 0.1)\n",
    "# zeros_merged = merge_zeros(zeros_outliers, zeros_middles) \n",
    "\n",
    "# mean_reversion_alpha = neutralize_with_dropout(mean_reversion_alpha, zeros_outliers)\n",
    "# mean_reversion_alpha = neutralize_with_dropout(mean_reversion_alpha,zeros_middles)\n",
    "\n",
    "mean_reversion_alpha = neutralize(mean_reversion_alpha)\n",
    "mean_reversion_alpha = normalize(mean_reversion_alpha)"
   ]
  },
  {
   "cell_type": "code",
   "execution_count": 215,
   "id": "a2449c05-08ce-4baa-b139-26946e1a6d4b",
   "metadata": {},
   "outputs": [
    {
     "name": "stdout",
     "output_type": "stream",
     "text": [
      "Neutrality test passed\n",
      "Normality test passed\n"
     ]
    }
   ],
   "source": [
    "test1(mean_reversion_alpha)\n",
    "test2(mean_reversion_alpha[day_step:])"
   ]
  },
  {
   "cell_type": "code",
   "execution_count": 216,
   "id": "94a6c435-4c59-4b4e-bd15-8da3232fc1b2",
   "metadata": {},
   "outputs": [
    {
     "data": {
      "image/png": "[encoded data removed]",
      "text/plain": [
       "<Figure size 640x480 with 1 Axes>"
      ]
     },
     "metadata": {},
     "output_type": "display_data"
    },
    {
     "name": "stdout",
     "output_type": "stream",
     "text": [
      "[0.13013280477519074, 0.3397833709379966, 0.4478529330706973, 0.4751585233529981, 0.5534736520708535]\n"
     ]
    },
    {
     "data": {
      "text/html": [
       "<div>\n",
       "<style scoped>\n",
       "    .dataframe tbody tr th:only-of-type {\n",
       "        vertical-align: middle;\n",
       "    }\n",
       "\n",
       "    .dataframe tbody tr th {\n",
       "        vertical-align: top;\n",
       "    }\n",
       "\n",
       "    .dataframe thead th {\n",
       "        text-align: right;\n",
       "    }\n",
       "</style>\n",
       "<table border=\"1\" class=\"dataframe\">\n",
       "  <thead>\n",
       "    <tr style=\"text-align: right;\">\n",
       "      <th></th>\n",
       "      <th>Year</th>\n",
       "      <th>Sharpe</th>\n",
       "      <th>Average Turnover</th>\n",
       "      <th>Max Drawdown</th>\n",
       "      <th>Cumpnl</th>\n",
       "    </tr>\n",
       "  </thead>\n",
       "  <tbody>\n",
       "    <tr>\n",
       "      <th>0</th>\n",
       "      <td>2010</td>\n",
       "      <td>1.826766</td>\n",
       "      <td>0.703284</td>\n",
       "      <td>0.049820</td>\n",
       "      <td>0.130133</td>\n",
       "    </tr>\n",
       "    <tr>\n",
       "      <th>1</th>\n",
       "      <td>2011</td>\n",
       "      <td>2.661697</td>\n",
       "      <td>0.715459</td>\n",
       "      <td>0.035109</td>\n",
       "      <td>0.339783</td>\n",
       "    </tr>\n",
       "    <tr>\n",
       "      <th>2</th>\n",
       "      <td>2012</td>\n",
       "      <td>2.382048</td>\n",
       "      <td>0.712227</td>\n",
       "      <td>0.022373</td>\n",
       "      <td>0.447853</td>\n",
       "    </tr>\n",
       "    <tr>\n",
       "      <th>3</th>\n",
       "      <td>2013</td>\n",
       "      <td>0.601442</td>\n",
       "      <td>0.706987</td>\n",
       "      <td>0.043365</td>\n",
       "      <td>0.475159</td>\n",
       "    </tr>\n",
       "    <tr>\n",
       "      <th>4</th>\n",
       "      <td>2014</td>\n",
       "      <td>1.197006</td>\n",
       "      <td>0.704996</td>\n",
       "      <td>0.061401</td>\n",
       "      <td>0.553474</td>\n",
       "    </tr>\n",
       "  </tbody>\n",
       "</table>\n",
       "</div>"
      ],
      "text/plain": [
       "   Year    Sharpe  Average Turnover  Max Drawdown    Cumpnl\n",
       "0  2010  1.826766          0.703284      0.049820  0.130133\n",
       "1  2011  2.661697          0.715459      0.035109  0.339783\n",
       "2  2012  2.382048          0.712227      0.022373  0.447853\n",
       "3  2013  0.601442          0.706987      0.043365  0.475159\n",
       "4  2014  1.197006          0.704996      0.061401  0.553474"
      ]
     },
     "execution_count": 216,
     "metadata": {},
     "output_type": "execute_result"
    }
   ],
   "source": [
    "mean_rev_alpha_data, mean_rev_alpha_cumpnl = AlphaStats(mean_reversion_alpha, close_df)\n",
    "mean_rev_alpha_data.head()"
   ]
  },
  {
   "cell_type": "code",
   "execution_count": 217,
   "id": "b2e254fe-80d0-40d7-a188-ebf67148fa1c",
   "metadata": {},
   "outputs": [
    {
     "name": "stdout",
     "output_type": "stream",
     "text": [
      "Sharpe test passed\n",
      "Turnover test passed\n",
      "Cumpnl test passed\n",
      "passed 3 out of 3 tests\n"
     ]
    }
   ],
   "source": [
    "test3(mean_rev_alpha_data)"
   ]
  },
  {
   "cell_type": "code",
   "execution_count": 218,
   "id": "f667b5df-338c-4137-a198-11092a4c90c0",
   "metadata": {},
   "outputs": [],
   "source": [
    "alphas.append(Alphas_Data('mean_reverse', mean_rev_alpha_cumpnl))"
   ]
  },
  {
   "cell_type": "markdown",
   "id": "76bdab3b-8272-4e81-8014-03b6936a9a19",
   "metadata": {},
   "source": [
    "## Momentum alpha\n",
    "\n",
    "$ln\\frac{close(d-1)}{open(d-1)}$"
   ]
  },
  {
   "cell_type": "code",
   "execution_count": 219,
   "id": "db08be44-2fd8-4270-8fdc-deb39f6c5257",
   "metadata": {},
   "outputs": [],
   "source": [
    "def make_momentum_alpha(close_df, open_df, day_step):\n",
    "    close = close_df.drop(close_df.columns[0], axis=1).to_numpy().T\n",
    "    open = open_df.drop(open_df.columns[0], axis=1).to_numpy().T\n",
    "\n",
    "    alpha = -np.log(close[day_step:] / open[day_step:])\n",
    "    return np.concatenate((np.zeros((day_step, alpha.shape[1])), alpha))"
   ]
  },
  {
   "cell_type": "code",
   "execution_count": 270,
   "id": "9f823d9d-eafc-4143-bba6-8174c1f67803",
   "metadata": {},
   "outputs": [],
   "source": [
    "day_step = 1\n",
    "\n",
    "momentum_alpha = make_momentum_alpha(close_df, open_df, day_step)\n",
    "# momentum_alpha, zeros_outliers = mpa.CutOutliers(momentum_alpha, 10)\n",
    "# momentum_alpha = mpa.truncate_alpha(momentum_alpha, 0.01)\n",
    "momentum_alpha = decay(momentum_alpha, 10)\n",
    "\n",
    "# mean_reversion_alpha = neutralize_with_dropout(mean_reversion_alpha, zeros_outliers)\n",
    "momentum_alpha = neutralize(momentum_alpha)\n",
    "momentum_alpha = normalize(momentum_alpha)"
   ]
  },
  {
   "cell_type": "code",
   "execution_count": 271,
   "id": "54a82d3a-8fa0-44ce-96ae-1c783acb85c0",
   "metadata": {},
   "outputs": [
    {
     "name": "stdout",
     "output_type": "stream",
     "text": [
      "Neutrality test passed\n",
      "Normality test passed\n"
     ]
    }
   ],
   "source": [
    "test1(momentum_alpha)\n",
    "test2(momentum_alpha[day_step:])"
   ]
  },
  {
   "cell_type": "code",
   "execution_count": 272,
   "id": "4ae1fa0e-083c-4636-898b-82e305e89437",
   "metadata": {},
   "outputs": [
    {
     "data": {
      "image/png": "[encoded data removed]",
      "text/plain": [
       "<Figure size 640x480 with 1 Axes>"
      ]
     },
     "metadata": {},
     "output_type": "display_data"
    },
    {
     "name": "stdout",
     "output_type": "stream",
     "text": [
      "[0.10661293792031856, 0.3002020191697033, 0.41216837396106537, 0.4888151010074261, 0.5013727770371479]\n"
     ]
    },
    {
     "data": {
      "text/html": [
       "<div>\n",
       "<style scoped>\n",
       "    .dataframe tbody tr th:only-of-type {\n",
       "        vertical-align: middle;\n",
       "    }\n",
       "\n",
       "    .dataframe tbody tr th {\n",
       "        vertical-align: top;\n",
       "    }\n",
       "\n",
       "    .dataframe thead th {\n",
       "        text-align: right;\n",
       "    }\n",
       "</style>\n",
       "<table border=\"1\" class=\"dataframe\">\n",
       "  <thead>\n",
       "    <tr style=\"text-align: right;\">\n",
       "      <th></th>\n",
       "      <th>Year</th>\n",
       "      <th>Sharpe</th>\n",
       "      <th>Average Turnover</th>\n",
       "      <th>Max Drawdown</th>\n",
       "      <th>Cumpnl</th>\n",
       "    </tr>\n",
       "  </thead>\n",
       "  <tbody>\n",
       "    <tr>\n",
       "      <th>0</th>\n",
       "      <td>2010</td>\n",
       "      <td>2.039785</td>\n",
       "      <td>0.525302</td>\n",
       "      <td>0.040283</td>\n",
       "      <td>0.106613</td>\n",
       "    </tr>\n",
       "    <tr>\n",
       "      <th>1</th>\n",
       "      <td>2011</td>\n",
       "      <td>2.744481</td>\n",
       "      <td>0.485311</td>\n",
       "      <td>0.033744</td>\n",
       "      <td>0.300202</td>\n",
       "    </tr>\n",
       "    <tr>\n",
       "      <th>2</th>\n",
       "      <td>2012</td>\n",
       "      <td>2.879972</td>\n",
       "      <td>0.477292</td>\n",
       "      <td>0.016937</td>\n",
       "      <td>0.412168</td>\n",
       "    </tr>\n",
       "    <tr>\n",
       "      <th>3</th>\n",
       "      <td>2013</td>\n",
       "      <td>1.992797</td>\n",
       "      <td>0.479547</td>\n",
       "      <td>0.015440</td>\n",
       "      <td>0.488815</td>\n",
       "    </tr>\n",
       "    <tr>\n",
       "      <th>4</th>\n",
       "      <td>2014</td>\n",
       "      <td>0.199084</td>\n",
       "      <td>0.487745</td>\n",
       "      <td>0.078618</td>\n",
       "      <td>0.501373</td>\n",
       "    </tr>\n",
       "  </tbody>\n",
       "</table>\n",
       "</div>"
      ],
      "text/plain": [
       "   Year    Sharpe  Average Turnover  Max Drawdown    Cumpnl\n",
       "0  2010  2.039785          0.525302      0.040283  0.106613\n",
       "1  2011  2.744481          0.485311      0.033744  0.300202\n",
       "2  2012  2.879972          0.477292      0.016937  0.412168\n",
       "3  2013  1.992797          0.479547      0.015440  0.488815\n",
       "4  2014  0.199084          0.487745      0.078618  0.501373"
      ]
     },
     "execution_count": 272,
     "metadata": {},
     "output_type": "execute_result"
    }
   ],
   "source": [
    "momentum_alpha_data, momentum_alpha_cumpnl = AlphaStats(momentum_alpha, close_df)\n",
    "momentum_alpha_data.head()"
   ]
  },
  {
   "cell_type": "code",
   "execution_count": 273,
   "id": "c4937a32-324d-4d7c-9d91-3eec404958db",
   "metadata": {},
   "outputs": [
    {
     "name": "stdout",
     "output_type": "stream",
     "text": [
      "Sharpe test passed\n",
      "Turnover test passed\n",
      "Cumpnl test passed\n",
      "passed 3 out of 3 tests\n"
     ]
    }
   ],
   "source": [
    "test3(momentum_alpha_data)"
   ]
  },
  {
   "cell_type": "code",
   "execution_count": 274,
   "id": "a775b895-f4ea-4719-8775-90376b10b151",
   "metadata": {},
   "outputs": [
    {
     "name": "stdout",
     "output_type": "stream",
     "text": [
      "mean_reverse:\t0.9926339585133639\n"
     ]
    }
   ],
   "source": [
    "for alpha in alphas:\n",
    "    print(f'{alpha.name}:\\t{calc_alphas_corr(alpha.cumpnl, momentum_alpha_cumpnl)}')"
   ]
  },
  {
   "cell_type": "markdown",
   "id": "7a97d7fa-410a-48d9-adcc-932105806254",
   "metadata": {},
   "source": [
    "## Alpha 1\n",
    "\n",
    "(rank(Ts_ArgMax(SignedPower(((returns < 0) ? stddev(returns, 20) : close), 2.), 5)) - 0.5)"
   ]
  },
  {
   "cell_type": "code",
   "execution_count": null,
   "id": "8b62af0c-f246-4924-abc9-98333f7a1de0",
   "metadata": {},
   "outputs": [],
   "source": []
  }
 ],
 "metadata": {
  "kernelspec": {
   "display_name": "venv",
   "language": "python",
   "name": "venv"
  },
  "language_info": {
   "codemirror_mode": {
    "name": "ipython",
    "version": 3
   },
   "file_extension": ".py",
   "mimetype": "text/x-python",
   "name": "python",
   "nbconvert_exporter": "python",
   "pygments_lexer": "ipython3",
   "version": "3.9.13"
  }
 },
 "nbformat": 4,
 "nbformat_minor": 5
}
