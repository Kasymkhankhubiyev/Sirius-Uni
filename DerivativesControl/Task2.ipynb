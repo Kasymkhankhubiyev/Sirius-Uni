{
 "cells": [
  {
   "cell_type": "code",
   "execution_count": 6,
   "id": "229b3631-49f5-436f-a20d-8c222400966d",
   "metadata": {},
   "outputs": [],
   "source": [
    "import numpy as np\n",
    "import pandas as pd\n",
    "import matplotlib.pyplot as plt\n",
    "\n",
    "import os\n",
    "import datetime\n",
    "\n",
    "from helper import make_alphas_state_matrix_with_day_step"
   ]
  },
  {
   "cell_type": "code",
   "execution_count": 2,
   "id": "788b95e7-4789-4e4b-989c-fc5bba10d583",
   "metadata": {},
   "outputs": [
    {
     "data": {
      "text/plain": [
       "['Open.csv', 'High.csv', 'Close.csv', 'Low.csv', 'Volume.csv']"
      ]
     },
     "execution_count": 2,
     "metadata": {},
     "output_type": "execute_result"
    }
   ],
   "source": [
    "dataset_dir = './dataset_2010_2014'\n",
    "os.listdir(dataset_dir)"
   ]
  },
  {
   "cell_type": "code",
   "execution_count": 3,
   "id": "d52b8c91-dd3d-4f06-8d0f-551af5844c6e",
   "metadata": {},
   "outputs": [],
   "source": [
    "open_df = pd.read_csv(dataset_dir + '/Open.csv')\n",
    "high_df = pd.read_csv(dataset_dir + '/High.csv')\n",
    "close_df = pd.read_csv(dataset_dir + '/Close.csv')\n",
    "low_df = pd.read_csv(dataset_dir + '/Low.csv')\n",
    "volume_df = pd.read_csv(dataset_dir + '/Volume.csv')"
   ]
  },
  {
   "cell_type": "code",
   "execution_count": 4,
   "id": "f0880010-ed3b-401c-9957-74c734d4558f",
   "metadata": {},
   "outputs": [
    {
     "data": {
      "text/plain": [
       "(4872, 1258)"
      ]
     },
     "execution_count": 4,
     "metadata": {},
     "output_type": "execute_result"
    }
   ],
   "source": [
    "close_df.shape"
   ]
  },
  {
   "cell_type": "markdown",
   "id": "6a63b1cf-fcb5-4232-b3d5-a8df96a937e6",
   "metadata": {},
   "source": [
    "**The First Strategy**\n",
    "$\\frac{close(d-n)}{close(d-1)}$"
   ]
  },
  {
   "cell_type": "code",
   "execution_count": 8,
   "id": "c26385d4-1f4c-4062-a167-c1b72c88b75b",
   "metadata": {},
   "outputs": [],
   "source": [
    "day_step = 6"
   ]
  },
  {
   "cell_type": "code",
   "execution_count": 13,
   "id": "9664a28e-ff41-431e-be20-1d4bff9e8a9e",
   "metadata": {},
   "outputs": [],
   "source": [
    "def close_prices_ratio_alpha(df, start_date, end_date):\n",
    "    return df[start_date] / df[end_date] "
   ]
  },
  {
   "cell_type": "code",
   "execution_count": 14,
   "id": "e43e2462-e051-4bc4-9bdf-95d63e12603a",
   "metadata": {},
   "outputs": [
    {
     "data": {
      "text/plain": [
       "array([[ 0.00000000e+00,  0.00000000e+00,  0.00000000e+00, ...,\n",
       "         0.00000000e+00,  0.00000000e+00,  0.00000000e+00],\n",
       "       [ 0.00000000e+00,  0.00000000e+00,  0.00000000e+00, ...,\n",
       "         0.00000000e+00,  0.00000000e+00,  0.00000000e+00],\n",
       "       [ 0.00000000e+00,  0.00000000e+00,  0.00000000e+00, ...,\n",
       "         0.00000000e+00,  0.00000000e+00,  0.00000000e+00],\n",
       "       ...,\n",
       "       [ 2.05544252e-04, -3.11903176e-04, -1.83131343e-05, ...,\n",
       "         2.81153285e-04,  1.95095290e-04,  8.27083268e-05],\n",
       "       [ 3.32372952e-04, -2.29638884e-04, -1.89573782e-04, ...,\n",
       "        -1.51625078e-04,  1.19713984e-03,  1.51067800e-04],\n",
       "       [ 2.67424165e-04, -3.01564718e-04, -3.92163948e-04, ...,\n",
       "        -1.67988964e-04,  9.51804388e-04,  5.57981399e-05]])"
      ]
     },
     "execution_count": 14,
     "metadata": {},
     "output_type": "execute_result"
    }
   ],
   "source": [
    "make_alphas_state_matrix_with_day_step(close_df, day_step, strategy=close_prices_ratio_alpha)"
   ]
  },
  {
   "cell_type": "code",
   "execution_count": null,
   "id": "f3dcbba0-a784-4ec4-9d81-d32c27b5b8d4",
   "metadata": {},
   "outputs": [],
   "source": []
  }
 ],
 "metadata": {
  "kernelspec": {
   "display_name": "Python 3 (ipykernel)",
   "language": "python",
   "name": "python3"
  },
  "language_info": {
   "codemirror_mode": {
    "name": "ipython",
    "version": 3
   },
   "file_extension": ".py",
   "mimetype": "text/x-python",
   "name": "python",
   "nbconvert_exporter": "python",
   "pygments_lexer": "ipython3",
   "version": "3.9.13"
  }
 },
 "nbformat": 4,
 "nbformat_minor": 5
}
