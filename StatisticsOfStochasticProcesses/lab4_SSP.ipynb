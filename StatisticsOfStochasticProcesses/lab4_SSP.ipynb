{
  "cells": [
    {
      "cell_type": "code",
      "execution_count": 2,
      "metadata": {
        "id": "l82JFshRl0J8"
      },
      "outputs": [],
      "source": [
        "import numpy as np\n",
        "from matplotlib import pyplot as plt\n",
        "from scipy.optimize import minimize\n",
        "from numba import jit, njit\n",
        "from scipy.stats import  t"
      ]
    },
    {
      "cell_type": "code",
      "execution_count": 3,
      "metadata": {
        "id": "9i0pEU8Ql0J_"
      },
      "outputs": [],
      "source": [
        "class StochasticProcess:\n",
        "    def __init__(self, params, T, Nx, Nt, init_state = None):\n",
        "        self.params = params\n",
        "        self.T = T\n",
        "        self.Nx = Nx # Number of trajectories\n",
        "        self.Nt = Nt # Number of discretization steps\n",
        "        self.init_state = init_state\n",
        "\n",
        "    # Wiener Process by default\n",
        "    # use @staticmethod for numba compatibility with @njit\n",
        "    @staticmethod\n",
        "    @njit\n",
        "    def bxt(x, t, params):\n",
        "        return 0\n",
        "\n",
        "    @staticmethod\n",
        "    @njit\n",
        "    def sigmaxt(x, t, params):\n",
        "        return 1\n",
        "\n",
        "    @staticmethod\n",
        "    @njit\n",
        "    def bxt_x(x, t, params):\n",
        "        return 0\n",
        "\n",
        "    @staticmethod\n",
        "    @njit\n",
        "    def bxt_xx(x, t, params):\n",
        "        return 0\n",
        "\n",
        "    @staticmethod\n",
        "    @njit\n",
        "    def sigmaxt_x(x, t, params):\n",
        "        return 0\n",
        "\n",
        "    @staticmethod\n",
        "    @njit\n",
        "    def sigmaxt_xx(x, t, params):\n",
        "        return 0\n",
        "\n",
        "    @staticmethod\n",
        "    @njit\n",
        "    def bxt_t(x, t, params):\n",
        "        return 0\n",
        "\n",
        "    def DefaultInitState(self):\n",
        "        return np.zeros(self.Nx)\n",
        "\n",
        "    def EulerSolution(self, dwt = None):\n",
        "        dt = self.T / self.Nt\n",
        "        t_data = np.linspace(0, self.T, self.Nt + 1)\n",
        "        x_data = np.zeros((self.Nt + 1, self.Nx))\n",
        "\n",
        "        if dwt is None:\n",
        "            dwt = np.random.normal(0, 1, size = (self.Nt, self.Nx)) * np.sqrt(dt)\n",
        "\n",
        "        if self.init_state is None:\n",
        "            x_data[0] = self.DefaultInitState()\n",
        "        else:\n",
        "            x_data[0] = self.init_state\n",
        "\n",
        "        for i in range(1, self.Nt + 1):\n",
        "            x_data[i] = x_data[i - 1] + self.bxt(x_data[i - 1], t_data[i - 1], self.params) * dt +\\\n",
        "                        self.sigmaxt(x_data[i - 1], t_data[i - 1], self.params) * dwt[i - 1]\n",
        "        return t_data, x_data\n",
        "\n",
        "    @staticmethod\n",
        "    @njit\n",
        "    def EulerDensity(x, t, x0, t0, params, bxt, bxt_x, bxt_xx, sigmaxt, sigmaxt_x, sigmaxt_xx, bxt_t):\n",
        "        xs = x0 + bxt(x0, t0, params) * (t - t0)\n",
        "        sigma2 = sigmaxt(x0, t0, params)**2 * (t - t0)\n",
        "\n",
        "        return -1/2 * np.log(2 * np.pi * sigma2) - (x - xs)**2 / (2 * sigma2)\n",
        "\n",
        "    @staticmethod\n",
        "    @njit\n",
        "    def OzakiDensity(x, t, x0, t0, params, bxt, bxt_x, bxt_xx, sigmaxt, sigmaxt_x, sigmaxt_xx, bxt_t):\n",
        "        K = 1 / (t - t0) * np.log(1 + bxt(x0, t0, params) / (x0 * bxt_x(x0, t0, params)) * (np.exp(bxt_x(x0, t0, params) * (t - t0)) - 1))\n",
        "        E = x0 + bxt(x0, t0, params) / bxt_x(x0, t0, params) * (np.exp(bxt_x(x0, t0, params) * (t - t0)) - 1)\n",
        "        V = sigmaxt(x0, t0, params)**2 / (2 * K) * (np.exp(2 * K * (t - t0)) - 1)\n",
        "\n",
        "        xs = E\n",
        "        sigma2 = V\n",
        "\n",
        "        return -1/2 * np.log(2 * np.pi * sigma2) - (x - xs)**2 / (2 * sigma2)\n",
        "\n",
        "    @staticmethod\n",
        "    @njit\n",
        "    def ShojiOzakiDensity(x, t, x0, t0, params, bxt, bxt_x, bxt_xx, sigmaxt, sigmaxt_x, sigmaxt_xx, bxt_t):\n",
        "        L = bxt_x(x0, t0, params)\n",
        "\n",
        "        #safe division\n",
        "        if L == 0:\n",
        "            L = L + 0.001\n",
        "\n",
        "        M = sigmaxt(x0, t0, params)**2 / 2 * bxt_xx(x0, t0, params) + bxt_t(x0, t0, params)\n",
        "\n",
        "        A = 1 + bxt(x0, t0, params) / (x0 * L) * (np.exp(L * (t - t0)) - 1) + M / (x0 * L**2) * \\\n",
        "            (np.exp(L * (t - t0)) - 1 - L * (t - t0))\n",
        "        B = sigmaxt(x0, t0, params)**2 * 1/(2 * L) * (np.exp(2 * L * (t - t0)) - 1)\n",
        "\n",
        "        xs = A * x0\n",
        "        sigma2 = B\n",
        "\n",
        "        return -1/2 * np.log(2 * np.pi * sigma2) - (x - xs)**2 / (2 * sigma2)\n",
        "\n",
        "    @staticmethod\n",
        "    @njit\n",
        "    def KesslerDensity(x, t, x0, t0, params, bxt, bxt_x, bxt_xx, sigmaxt, sigmaxt_x, sigmaxt_xx, bxt_t):\n",
        "        E = x0 + bxt(x0, t0, params) * (t - t0) + (bxt(x0, t0, params) * bxt_x(x0, t0, params) + 1/2 * \\\n",
        "            sigmaxt(x0, t0, params)**2 * bxt_xx(x0, t0, params)) * 1/2 * (t - t0)**2\n",
        "        V = x0**2 + (2 * bxt(x0, t0, params) * x0 + sigmaxt(x0, t0, params)**2 ) * (t - t0)\\\n",
        "            + (2 * bxt(x0, t0, params) * (bxt_x(x0, t0, params) * x0 + bxt(x0, t0, params) + \\\n",
        "                sigmaxt(x0, t0, params) * sigmaxt_x(x0, t0, params))\\\n",
        "            + sigmaxt(x0, t0, params)**2 * (bxt_xx(x0, t0, params) * x0 + 2 * bxt_x(x0, t0, params) +\\\n",
        "                sigmaxt_x(x0, t0, params)**2 + sigmaxt(x0, t0, params) * sigmaxt_xx(x0, t0, params))) * (t - t0)**2 / 2 - E**2\n",
        "\n",
        "        xs = E\n",
        "\n",
        "        #safe division\n",
        "        if V == 0:\n",
        "            V = V + 0.001\n",
        "\n",
        "        sigma2 = V\n",
        "\n",
        "        return -1/2 * np.log(2 * np.pi * sigma2) - (x - xs)**2 / (2 * sigma2)\n",
        "\n",
        "    @staticmethod\n",
        "    @njit\n",
        "    def MLogLik(params, t_data, x_data, density, bxt, bxt_x, bxt_xx, sigmaxt, sigmaxt_x, sigmaxt_xx, bxt_t):\n",
        "        Nt = len(x_data)\n",
        "        Nx = len(x_data[0])\n",
        "        log_data = np.zeros(Nx)\n",
        "        for k in range(0, Nx):\n",
        "            m_log_lik = 0\n",
        "            for j in range(1, Nt):\n",
        "                m_log_lik += density(x_data[j][k], t_data[j], x_data[j - 1][k], t_data[j - 1], params,\n",
        "                                     bxt, bxt_x, bxt_xx, sigmaxt, sigmaxt_x, sigmaxt_xx, bxt_t)\n",
        "            log_data[k] = m_log_lik\n",
        "\n",
        "        res = -np.mean(log_data)\n",
        "        return res\n",
        "\n",
        "    def EulerEstimation(self, t_data, x_data):\n",
        "        x0 = np.ones(len(self.params))\n",
        "        accuracy = 1e-8\n",
        "\n",
        "        min_result = minimize(self.MLogLik,\n",
        "                              x0 = x0,\n",
        "                              args=(t_data, x_data, self.EulerDensity,\n",
        "                              self.bxt, self.bxt_x, self.bxt_xx, self.sigmaxt, self.sigmaxt_x, self.sigmaxt_xx,\n",
        "                              self.bxt_t),\n",
        "                              method = 'L-BFGS-B',\n",
        "                              options={'ftol': accuracy, 'eps': accuracy})\n",
        "        return min_result\n",
        "\n",
        "    def OzakiEstimation(self, t_data, x_data):\n",
        "        x0 = np.ones(len(self.params))\n",
        "        accuracy = 1e-8\n",
        "\n",
        "        min_result = minimize(self.MLogLik,\n",
        "                              x0 = x0,\n",
        "                              args=(t_data, x_data, self.OzakiDensity,\n",
        "                              self.bxt, self.bxt_x, self.bxt_xx, self.sigmaxt, self.sigmaxt_x, self.sigmaxt_xx,\n",
        "                              self.bxt_t),\n",
        "                              method = 'L-BFGS-B',\n",
        "                              options={'ftol': accuracy, 'eps': accuracy})\n",
        "        return min_result\n",
        "\n",
        "    def ShojiOzakiEstimation(self, t_data, x_data):\n",
        "        x0 = np.ones(len(self.params))\n",
        "        accuracy = 1e-8\n",
        "\n",
        "        min_result = minimize(self.MLogLik,\n",
        "                              x0 = x0,\n",
        "                              args=(t_data, x_data, self.ShojiOzakiDensity,\n",
        "                              self.bxt, self.bxt_x, self.bxt_xx, self.sigmaxt, self.sigmaxt_x, self.sigmaxt_xx,\n",
        "                              self.bxt_t),\n",
        "                              method = 'L-BFGS-B',\n",
        "                              options={'ftol': accuracy, 'eps': accuracy})\n",
        "        return min_result\n",
        "\n",
        "    def KesslerEstimation(self, t_data, x_data):\n",
        "        x0 = np.ones(len(self.params))\n",
        "        accuracy = 1e-8\n",
        "\n",
        "        min_result = minimize(self.MLogLik,\n",
        "                              x0 = x0,\n",
        "                              args=(t_data, x_data, self.KesslerDensity,\n",
        "                              self.bxt, self.bxt_x, self.bxt_xx, self.sigmaxt, self.sigmaxt_x, self.sigmaxt_xx,\n",
        "                              self.bxt_t),\n",
        "                              method = 'L-BFGS-B',\n",
        "                              options={'ftol': accuracy, 'eps': accuracy})\n",
        "        return min_result\n",
        "\n",
        "\n",
        "class OUprocess(StochasticProcess):\n",
        "    def __init__(self, params, T, Nx, Nt, init_state = None):\n",
        "        super().__init__(params, T, Nx, Nt, init_state)\n",
        "\n",
        "    # params = [theta, mu, sigma]\n",
        "\n",
        "    @staticmethod\n",
        "    @njit\n",
        "    def bxt(x, t, params):\n",
        "        return params[0] * (params[1] - x)\n",
        "\n",
        "    @staticmethod\n",
        "    @njit\n",
        "    def sigmaxt(x, t, params):\n",
        "        return params[2]\n",
        "\n",
        "    @staticmethod\n",
        "    @njit\n",
        "    def bxt_x(x, t, params):\n",
        "        return -params[0]\n",
        "\n",
        "    def DefaultInitState(self):\n",
        "        return self.params[1] * np.ones(self.Nx)\n",
        "    \n",
        "    def EulerEstimation(self, t_data, x_data):\n",
        "        x0 = np.ones(len(self.params))\n",
        "        accuracy = 1e-8\n",
        "\n",
        "        min_result = minimize(self.MLogLik,\n",
        "                              x0 = x0,\n",
        "                              args=(t_data, x_data, self.EulerDensity,\n",
        "                              self.bxt, self.bxt_x, self.bxt_xx, self.sigmaxt, self.sigmaxt_x, self.sigmaxt_xx,\n",
        "                              self.bxt_t),\n",
        "                              method = 'L-BFGS-B',\n",
        "                              options={'ftol': accuracy, 'eps': accuracy})\n",
        "        return min_result\n",
        "\n",
        "class CKLSprocess(StochasticProcess):\n",
        "    def __init__(self, params, T, Nx, Nt, init_state = None):\n",
        "        super().__init__(params, T, Nx, Nt, init_state)\n",
        "\n",
        "    # params = [theta1, theta2, theta3]\n",
        "    @staticmethod\n",
        "    @njit\n",
        "    def bxt(x, t, params):\n",
        "        return params[0] + params[1] * x\n",
        "\n",
        "    @staticmethod\n",
        "    @njit\n",
        "    def sigmaxt(x, t, params):\n",
        "        return params[2] * x**params[3]\n",
        "\n",
        "    @staticmethod\n",
        "    @njit\n",
        "    def bxt_x(x, t, params):\n",
        "        return params[1]\n",
        "\n",
        "    @staticmethod\n",
        "    @njit\n",
        "    def sigmaxt_x(x, t, params):\n",
        "        return params[2] * params[3] * x**(params[3] - 1)\n",
        "\n",
        "    @staticmethod\n",
        "    @njit\n",
        "    def sigmaxt_xx(x, t, params):\n",
        "        return params[2] * params[3] * (params[3] - 1) * x**(params[3] - 2)\n",
        "\n",
        "    def DefaultInitState(self):\n",
        "        return self.params[0] / self.params[1] * np.ones(self.Nx)\n",
        "\n",
        "class Task5process(StochasticProcess):\n",
        "    def __init__(self, params, T, Nx, Nt, init_state = None):\n",
        "        super().__init__(params, T, Nx, Nt, init_state)\n",
        "\n",
        "    # params = [theta1, theta2]\n",
        "    @staticmethod\n",
        "    @njit\n",
        "    def bxt(x, t, params):\n",
        "        return params[0] * t * x\n",
        "\n",
        "    @staticmethod\n",
        "    @njit\n",
        "    def sigmaxt(x, t, params):\n",
        "        return params[1] * x\n",
        "\n",
        "    @staticmethod\n",
        "    @njit\n",
        "    def bxt_x(x, t, params):\n",
        "        return params[0] * t\n",
        "\n",
        "    @staticmethod\n",
        "    @njit\n",
        "    def sigmaxt_x(x, t, params):\n",
        "        return params[1]\n",
        "\n",
        "    @staticmethod\n",
        "    @njit\n",
        "    def bxt_t(x, t, params):\n",
        "        return params[0] * x\n",
        "\n",
        "    def DefaultInitState(self):\n",
        "        return self.params[0] / self.params[1] * np.ones(self.Nx)\n",
        "\n",
        "class HullWhiteprocess(StochasticProcess):\n",
        "    def __init__(self, params, T, Nx, Nt, init_state = None):\n",
        "        super().__init__(params, T, Nx, Nt, init_state)\n",
        "\n",
        "    # params = [theta1, theta2, theta3]\n",
        "    @staticmethod\n",
        "    @njit\n",
        "    def bxt(x, t, params):\n",
        "        return params[0] * t * (params[1] * np.sqrt(t) - x)\n",
        "\n",
        "    @staticmethod\n",
        "    @njit\n",
        "    def sigmaxt(x, t, params):\n",
        "        return params[2] * t\n",
        "\n",
        "    @staticmethod\n",
        "    @njit\n",
        "    def bxt_x(x, t, params):\n",
        "        return -params[0] * t\n",
        "\n",
        "    @staticmethod\n",
        "    @njit\n",
        "    def bxt_t(x, t, params):\n",
        "        return params[0] * params[1] * 3/2 * np.sqrt(t)\n",
        "\n",
        "    def DefaultInitState(self):\n",
        "        return self.params[1] * np.ones(self.Nx)"
      ]
    },
    {
      "cell_type": "markdown",
      "metadata": {
        "id": "7ZI2_4Tzl0KA"
      },
      "source": [
        "Task 1. Evaluate the conditional density of the Ornstein-Uhlenbeck process\n",
        "$$dX_t = (3-X_t)dt+2dW_t, \\quad X_0=1, \\quad %\\theta=(1, 3, 2), \\quad\n",
        "N=100000,\n",
        "\\quad \\Delta=1$$ and calculate the\n",
        "maximum likelihood estimation.  "
      ]
    },
    {
      "cell_type": "code",
      "execution_count": 4,
      "metadata": {
        "id": "VR1fEqA9l0KB"
      },
      "outputs": [],
      "source": [
        "Nx = 100000\n",
        "Nt = 300\n",
        "\n",
        "T = 1\n",
        "\n",
        "params_OU = np.array([3, 1, 2])\n",
        "\n",
        "x0 = 1\n",
        "init_state = x0 * np.ones(Nx)\n",
        "\n",
        "OUp = OUprocess(params_OU, T, Nx, Nt, init_state)\n",
        "\n",
        "t_data, x_data_OU = OUp.EulerSolution()"
      ]
    },
    {
      "cell_type": "code",
      "execution_count": 5,
      "metadata": {
        "colab": {
          "base_uri": "https://localhost:8080/"
        },
        "id": "IQF701lNl0KB",
        "outputId": "7210dcfb-addf-42bc-c34f-b687247c305d"
      },
      "outputs": [
        {
          "data": {
            "text/plain": [
              "  message: CONVERGENCE: REL_REDUCTION_OF_F_<=_FACTR*EPSMCH\n",
              "  success: True\n",
              "   status: 0\n",
              "      fun: -221.94613140832425\n",
              "        x: [ 3.001e+00  9.946e-01  2.000e+00]\n",
              "      nit: 17\n",
              "      jac: [ 2.473e-04  3.496e-04 -4.462e-04]\n",
              "     nfev: 76\n",
              "     njev: 19\n",
              " hess_inv: <3x3 LbfgsInvHessProduct with dtype=float64>"
            ]
          },
          "execution_count": 5,
          "metadata": {},
          "output_type": "execute_result"
        }
      ],
      "source": [
        "OUp.EulerEstimation(t_data, x_data_OU)"
      ]
    },
    {
      "cell_type": "code",
      "execution_count": 6,
      "metadata": {
        "colab": {
          "base_uri": "https://localhost:8080/"
        },
        "id": "YAxgB8Y6k7MC",
        "outputId": "cc53f0c1-6485-4df6-cbbf-42eb8153ae40"
      },
      "outputs": [
        {
          "data": {
            "text/plain": [
              "  message: CONVERGENCE: REL_REDUCTION_OF_F_<=_FACTR*EPSMCH\n",
              "  success: True\n",
              "   status: 0\n",
              "      fun: -221.9461313748568\n",
              "        x: [ 3.016e+00  9.946e-01  2.010e+00]\n",
              "      nit: 16\n",
              "      jac: [ 1.904e-04  5.343e-04 -4.235e-04]\n",
              "     nfev: 84\n",
              "     njev: 21\n",
              " hess_inv: <3x3 LbfgsInvHessProduct with dtype=float64>"
            ]
          },
          "execution_count": 6,
          "metadata": {},
          "output_type": "execute_result"
        }
      ],
      "source": [
        "OUp.ShojiOzakiEstimation(t_data, x_data_OU)"
      ]
    },
    {
      "cell_type": "code",
      "execution_count": 7,
      "metadata": {
        "colab": {
          "base_uri": "https://localhost:8080/"
        },
        "id": "Ywod-4uYoHJP",
        "outputId": "b325eb64-3c53-4a36-ecb7-786040bbebb9"
      },
      "outputs": [
        {
          "data": {
            "text/plain": [
              "  message: CONVERGENCE: REL_REDUCTION_OF_F_<=_FACTR*EPSMCH\n",
              "  success: True\n",
              "   status: 0\n",
              "      fun: -221.9461300533536\n",
              "        x: [ 3.016e+00  9.945e-01  2.010e+00]\n",
              "      nit: 17\n",
              "      jac: [-2.558e-05  7.105e-05  1.052e-04]\n",
              "     nfev: 72\n",
              "     njev: 18\n",
              " hess_inv: <3x3 LbfgsInvHessProduct with dtype=float64>"
            ]
          },
          "execution_count": 7,
          "metadata": {},
          "output_type": "execute_result"
        }
      ],
      "source": [
        "OUp.KesslerEstimation(t_data, x_data_OU)"
      ]
    },
    {
      "cell_type": "markdown",
      "metadata": {
        "id": "vTtFMxh2opn9"
      },
      "source": [
        "Task. Find the maximum likelihood estimators  numerically\n",
        " for Ornstein-Uhlenbeck process\n",
        " $$\n",
        " dX_t = -\\theta_2X_tdt + \\theta_3dW_t, \\quad \\theta=(0, 3, 2), \\quad\n",
        "N=1000, \\quad \\Delta=1\n",
        "$$\n",
        "and compare with explicit estimations\n",
        "\n",
        "$$\n",
        "\\hat{\\theta}_{2,n} = -\\frac{1}{\\Delta}\\log \\left(\\frac{\\sum_{i=1}^n X_{i-1}X_i} {\\sum_{i=1}^n X^2_{i-1}}\\right),\n",
        "$$\n",
        "$$\n",
        "\\hat{\\theta}_{3,n} = \\sqrt{\\frac{2\\hat{\\theta}_{2,n}}\n",
        "{n(1 - e^{-2\\Delta  \\hat{\\theta}_{2,n}})}\n",
        "\\sum_{i=1}^n (X_i- X_{i-1} e^{-\\Delta \\hat{\\theta}_{2, n}})^2}.\n",
        "$$"
      ]
    },
    {
      "cell_type": "code",
      "execution_count": 8,
      "metadata": {},
      "outputs": [],
      "source": [
        "# TODO explicitly fix theta1 = 0\n",
        "\n",
        "\n",
        "def theta_2_estimation(n: int, delta: float, x: np.ndarray) -> float:\n",
        "    a = 0\n",
        "    b = 0\n",
        "    for i in range(1, n):\n",
        "        a += x[i-1] * x[i]\n",
        "        b += x[i-1] ** 2\n",
        "    \n",
        "    return - np.log(a / b) / delta\n",
        "\n",
        "\n",
        "def theta_3_estimation(n: int, delta: float, x: np.ndarray) -> float:\n",
        "    theta_2 = theta_2_estimation(n, delta, x)\n",
        "    a = 0\n",
        "    for i in range(1, n):\n",
        "        a += (x[i] - x[i-1]* np.exp(-delta * theta_2))**2\n",
        "    \n",
        "    return np.sqrt(2 * theta_2 * a / (n * (1 - np.exp(-2 * delta * theta_2))))"
      ]
    },
    {
      "cell_type": "code",
      "execution_count": 9,
      "metadata": {
        "id": "pEX9Bo4ArRS9"
      },
      "outputs": [],
      "source": [
        "# your code\n",
        "Nx = 1000\n",
        "Nt = 1000\n",
        "\n",
        "T = 1\n",
        "\n",
        "# theta_2 = 3, mu = 0, theta_3 = 2\n",
        "params_OU = np.array([3, 0, 2])\n",
        "\n",
        "x0 = 1\n",
        "init_state = x0 * np.ones(Nx)\n",
        "\n",
        "OUp = OUprocess(params_OU, T, Nx, Nt, init_state)\n",
        "\n",
        "t_data, x_data_OU = OUp.EulerSolution()"
      ]
    },
    {
      "cell_type": "code",
      "execution_count": 10,
      "metadata": {},
      "outputs": [],
      "source": [
        "euler_params = OUp.EulerEstimation(t_data, x_data_OU)"
      ]
    },
    {
      "cell_type": "code",
      "execution_count": 11,
      "metadata": {},
      "outputs": [
        {
          "data": {
            "text/plain": [
              "array([6.82121030e-05, 0.00000000e+00, 1.56887837e-03])"
            ]
          },
          "execution_count": 11,
          "metadata": {},
          "output_type": "execute_result"
        }
      ],
      "source": [
        "euler_params.jac"
      ]
    },
    {
      "cell_type": "code",
      "execution_count": 12,
      "metadata": {},
      "outputs": [
        {
          "data": {
            "text/plain": [
              "(1001, 1000)"
            ]
          },
          "execution_count": 12,
          "metadata": {},
          "output_type": "execute_result"
        }
      ],
      "source": [
        "x_data_OU.shape"
      ]
    },
    {
      "cell_type": "code",
      "execution_count": 13,
      "metadata": {},
      "outputs": [
        {
          "data": {
            "text/plain": [
              "(2.1302259780881814, 1.7344644033210044)"
            ]
          },
          "execution_count": 13,
          "metadata": {},
          "output_type": "execute_result"
        }
      ],
      "source": [
        "delta = 1.6\n",
        "\n",
        "theta_2_estimation(Nt, delta, x_data_OU[-1]), theta_3_estimation(Nt, delta, x_data_OU[-1])"
      ]
    },
    {
      "cell_type": "code",
      "execution_count": 14,
      "metadata": {},
      "outputs": [
        {
          "data": {
            "text/plain": [
              "array([ 2.84169737, -0.02496446,  2.00067818])"
            ]
          },
          "execution_count": 14,
          "metadata": {},
          "output_type": "execute_result"
        }
      ],
      "source": [
        "euler_params.x"
      ]
    },
    {
      "cell_type": "markdown",
      "metadata": {
        "id": "YpdCzJFkl0KD"
      },
      "source": [
        "Task 3. Consider  the Chan-Karolyi-Longstaff-Sanders (CKLS) model\n",
        "$$\n",
        " dX_{t} = (\\theta_{1}+\\theta_{2} X_{t}) dt + \\theta_{3} X_{t}^{\\theta_{4}} dW_{t},\\qquad X_{0}=2\n",
        "$$\n",
        "with $\\theta_{1}=1$, $\\theta_{2}=2$, $\\theta_{3}=0.5$, $\\theta_{4}=0.3$.\n",
        "\n",
        "Use the Euler method and\n",
        "* generate the sample data $X_{t_i}$ with time step $\\Delta t =10^{-4}$,  \n",
        "* estimate drift and diffusion coefficients,\n",
        "* compute confidence intervals for all parameters in a fitted SDE.  \n"
      ]
    },
    {
      "cell_type": "code",
      "execution_count": 15,
      "metadata": {
        "id": "XR-WqbzKl0KE"
      },
      "outputs": [],
      "source": [
        "Nx = 1\n",
        "Nt = 10000\n",
        "\n",
        "T = 1\n",
        "\n",
        "params_CKLS = np.array([1, 2, 0.5, 0.3])\n",
        "\n",
        "x0 = 2\n",
        "init_state = x0 * np.ones(Nx)\n",
        "\n",
        "CKLSp = CKLSprocess(params_CKLS, T, Nx, Nt, init_state)\n",
        "\n",
        "t_data, x_data_CKLS = CKLSp.EulerSolution()"
      ]
    },
    {
      "cell_type": "code",
      "execution_count": 16,
      "metadata": {
        "colab": {
          "base_uri": "https://localhost:8080/",
          "height": 449
        },
        "id": "ntgWc4bfl0KE",
        "outputId": "b4370f66-8637-46dd-8169-ace02e2f93b5"
      },
      "outputs": [
        {
          "data": {
            "image/png": "[encoded data removed]",
            "text/plain": [
              "<Figure size 640x480 with 1 Axes>"
            ]
          },
          "metadata": {},
          "output_type": "display_data"
        }
      ],
      "source": [
        "plt.plot(t_data, x_data_CKLS[:,0], label = 'CKLS process')\n",
        "\n",
        "plt.legend(loc = 'best', fancybox = True, shadow = True)\n",
        "plt.xlabel(\"t\")\n",
        "plt.ylabel(\"x(t)\")\n",
        "plt.grid(True)\n",
        "plt.show()"
      ]
    },
    {
      "cell_type": "code",
      "execution_count": 17,
      "metadata": {
        "colab": {
          "base_uri": "https://localhost:8080/"
        },
        "id": "AlPjxY4Xl0KE",
        "outputId": "9c2afc60-f178-43ee-8fd3-af96c5bdf75b"
      },
      "outputs": [
        {
          "data": {
            "text/plain": [
              "  message: CONVERGENCE: REL_REDUCTION_OF_F_<=_FACTR*EPSMCH\n",
              "  success: True\n",
              "   status: 0\n",
              "      fun: -33367.98272883714\n",
              "        x: [ 1.117e+00  2.039e+00  5.103e-01  2.882e-01]\n",
              "      nit: 18\n",
              "      jac: [ 1.892e-02  2.910e-02  1.186e+00  2.453e+00]\n",
              "     nfev: 115\n",
              "     njev: 23\n",
              " hess_inv: <4x4 LbfgsInvHessProduct with dtype=float64>"
            ]
          },
          "execution_count": 17,
          "metadata": {},
          "output_type": "execute_result"
        }
      ],
      "source": [
        "CKLSp.EulerEstimation(t_data, x_data_CKLS)"
      ]
    },
    {
      "cell_type": "code",
      "execution_count": 18,
      "metadata": {
        "colab": {
          "base_uri": "https://localhost:8080/"
        },
        "id": "B8YDUmwXl0KE",
        "outputId": "96e7337a-4f7b-4f96-9856-ccfd13ef8632"
      },
      "outputs": [
        {
          "name": "stdout",
          "output_type": "stream",
          "text": [
            "theta0 = 1.243186947547906 +- 0.3314250023127126 with 95.0% prob\n",
            "theta1 = 1.9770398778316396 +- 0.044486357387459 with 95.0% prob\n",
            "theta2 = 0.5019970699006443 +- 0.0032184626272924502 with 95.0% prob\n",
            "theta3 = 0.29737604323149414 +- 0.003288454558191307 with 95.0% prob\n"
          ]
        }
      ],
      "source": [
        "#Confidence intervals\n",
        "n = 50\n",
        "result = np.zeros((n, 4))\n",
        "for k in range(0, n):\n",
        "    t_data, x_data_CKLS = CKLSp.EulerSolution()\n",
        "    result[k] = CKLSp.EulerEstimation(t_data, x_data_CKLS).x\n",
        "\n",
        "\n",
        "alpha = 0.05\n",
        "q = t.ppf(1-alpha/2, n - 1)\n",
        "for i in range(0, 4):\n",
        "    m = np.mean(result[:,i])\n",
        "    v = np.std(result[:,i], ddof=1)\n",
        "    print(f\"theta{i} = {m} +- {v * q / np.sqrt(n)} with {100 - alpha * 100}% prob\")"
      ]
    },
    {
      "cell_type": "markdown",
      "metadata": {
        "id": "z350sXmPl0KE"
      },
      "source": [
        "Task 4. Consider the Vasicek model\n",
        "$$\n",
        "dX_{t} = \\theta_{1} (\\theta_{2}- X_{t}) dt + \\theta_{3} dW_{t},\\qquad X_{0}=5\n",
        "$$\n",
        "with $\\theta_{1}=3$, $\\theta_{2}=2$ and $\\theta_{3}=0.5$.\n",
        "\n",
        "Use the Ozaki method and\n",
        "*   generate the sample data $X_{t_i}$, time step $\\Delta t =10^{-2}$,\n",
        "*   estimate drift and diffusion coefficients,\n",
        "*   compute confidence intervals for all parameters in a fitted SDE."
      ]
    },
    {
      "cell_type": "code",
      "execution_count": 19,
      "metadata": {
        "id": "S67Z0D8el0KE"
      },
      "outputs": [],
      "source": [
        "Nx = 1\n",
        "Nt = 100\n",
        "\n",
        "T = 1\n",
        "\n",
        "params_OU = np.array([3, 2, 0.5])\n",
        "\n",
        "x0 = 5\n",
        "init_state = x0 * np.ones(Nx)\n",
        "\n",
        "OUp = OUprocess(params_OU, T, Nx, Nt, init_state)\n",
        "\n",
        "t_data, x_data_OU = OUp.EulerSolution()"
      ]
    },
    {
      "cell_type": "code",
      "execution_count": 20,
      "metadata": {
        "colab": {
          "base_uri": "https://localhost:8080/"
        },
        "id": "Q1twW-N1l0KE",
        "outputId": "d2604a90-a819-4de3-8ebf-629dfb65c7fe"
      },
      "outputs": [
        {
          "data": {
            "text/plain": [
              "  message: CONVERGENCE: REL_REDUCTION_OF_F_<=_FACTR*EPSMCH\n",
              "  success: True\n",
              "   status: 0\n",
              "      fun: -166.66547215620275\n",
              "        x: [ 4.021e+00  2.307e+00  4.586e-01]\n",
              "      nit: 18\n",
              "      jac: [ 4.263e-05 -3.411e-05  1.592e-04]\n",
              "     nfev: 96\n",
              "     njev: 24\n",
              " hess_inv: <3x3 LbfgsInvHessProduct with dtype=float64>"
            ]
          },
          "execution_count": 20,
          "metadata": {},
          "output_type": "execute_result"
        }
      ],
      "source": [
        "OUp.OzakiEstimation(t_data, x_data_OU)"
      ]
    },
    {
      "cell_type": "code",
      "execution_count": 21,
      "metadata": {
        "colab": {
          "base_uri": "https://localhost:8080/"
        },
        "id": "5_2Txb7Hl0KE",
        "outputId": "d0c6ae4d-3778-4772-da31-7e2f638f934e"
      },
      "outputs": [
        {
          "name": "stdout",
          "output_type": "stream",
          "text": [
            "theta0 = 3.265771779072351 +- 0.19695253662289777 with 95.0% prob\n",
            "theta1 = 2.01703348290463 +- 0.0678986395539958 with 95.0% prob\n",
            "theta2 = 0.38211515967934767 +- 0.0931912454655657 with 95.0% prob\n"
          ]
        }
      ],
      "source": [
        "#Confidence intervals\n",
        "n = 50\n",
        "result = np.zeros((n, 3))\n",
        "for k in range(0, n):\n",
        "    t_data, x_data_OU = OUp.EulerSolution()\n",
        "    result[k] = OUp.OzakiEstimation(t_data, x_data_OU).x\n",
        "\n",
        "\n",
        "alpha = 0.05\n",
        "q = t.ppf(1-alpha/2, n - 1)\n",
        "for i in range(0, 3):\n",
        "    m = np.mean(result[:,i])\n",
        "    v = np.std(result[:,i], ddof=1)\n",
        "    print(f\"theta{i} = {m} +- {v * q / np.sqrt(n)} with {100 - alpha * 100}% prob\")"
      ]
    },
    {
      "cell_type": "markdown",
      "metadata": {
        "id": "8-I7G75Fl0KE"
      },
      "source": [
        "Task 5. Consider the model\n",
        "$$\n",
        "  dX_{t} = a(t)X_{t} dt + \\theta_{2}X_{t} dW_{t},\\qquad X_{0}=10\n",
        "$$\n",
        "with $a(t) = \\theta_{1}t$, $\\theta_{1}=-2$, $\\theta_{2}=0.2$.\n",
        "\n",
        "Use the Shoji-Ozaki method and:\n",
        "* generate the sample data $X_{t_i}$ time step $\\Delta t =10^{-3}$,  \n",
        "* estimate drift and diffusion coefficients,\n",
        "* compute confidence intervals for all parameters in a fitted SDE."
      ]
    },
    {
      "cell_type": "code",
      "execution_count": 22,
      "metadata": {
        "id": "Ok7FIiVdl0KE"
      },
      "outputs": [],
      "source": [
        "Nx = 1\n",
        "Nt = 1000\n",
        "\n",
        "T = 1\n",
        "\n",
        "params_T5 = np.array([-2, 0.2])\n",
        "\n",
        "x0 = 5\n",
        "init_state = x0 * np.ones(Nx)\n",
        "\n",
        "T5p = Task5process(params_T5, T, Nx, Nt, init_state)\n",
        "\n",
        "t_data, x_data_T5 = T5p.EulerSolution()"
      ]
    },
    {
      "cell_type": "code",
      "execution_count": 23,
      "metadata": {
        "colab": {
          "base_uri": "https://localhost:8080/"
        },
        "id": "pRD3TJKumHBz",
        "outputId": "3b3012d1-8808-4f82-e7df-3a6ca17eea3f"
      },
      "outputs": [
        {
          "data": {
            "text/plain": [
              "  message: CONVERGENCE: REL_REDUCTION_OF_F_<=_FACTR*EPSMCH\n",
              "  success: True\n",
              "   status: 0\n",
              "      fun: -2370.812190044071\n",
              "        x: [-2.080e+00  2.029e-01]\n",
              "      nit: 15\n",
              "      jac: [-1.266e-01  5.339e-02]\n",
              "     nfev: 87\n",
              "     njev: 29\n",
              " hess_inv: <2x2 LbfgsInvHessProduct with dtype=float64>"
            ]
          },
          "execution_count": 23,
          "metadata": {},
          "output_type": "execute_result"
        }
      ],
      "source": [
        "T5p.ShojiOzakiEstimation(t_data, x_data_T5)"
      ]
    },
    {
      "cell_type": "code",
      "execution_count": 24,
      "metadata": {
        "colab": {
          "base_uri": "https://localhost:8080/",
          "height": 449
        },
        "id": "RImgtCF_l0KF",
        "outputId": "47847ffb-8175-4d6d-bf99-eb2fe2ccc804"
      },
      "outputs": [
        {
          "data": {
            "image/png": "[encoded data removed]",
            "text/plain": [
              "<Figure size 640x480 with 1 Axes>"
            ]
          },
          "metadata": {},
          "output_type": "display_data"
        }
      ],
      "source": [
        "plt.plot(t_data, x_data_T5[:,0], label = 'Task 5 process')\n",
        "\n",
        "plt.legend(loc = 'best', fancybox = True, shadow = True)\n",
        "plt.xlabel(\"t\")\n",
        "plt.ylabel(\"x(t)\")\n",
        "plt.grid(True)\n",
        "plt.show()"
      ]
    },
    {
      "cell_type": "code",
      "execution_count": 25,
      "metadata": {
        "colab": {
          "base_uri": "https://localhost:8080/"
        },
        "id": "InRuiVhzl0KF",
        "outputId": "42039119-146b-4098-e16c-60a3612405d2"
      },
      "outputs": [
        {
          "name": "stdout",
          "output_type": "stream",
          "text": [
            "theta0 = -1.9825366319224202 +- 0.09602448381822302 with 95.0% prob\n",
            "theta1 = 0.1677784740159924 +- 0.0315426699355755 with 95.0% prob\n"
          ]
        }
      ],
      "source": [
        "#Confidence intervals\n",
        "n = 50\n",
        "result = np.zeros((n, 2))\n",
        "for k in range(0, n):\n",
        "    t_data, x_data_T5 = T5p.EulerSolution()\n",
        "    result[k] = T5p.ShojiOzakiEstimation(t_data, x_data_T5).x\n",
        "\n",
        "\n",
        "alpha = 0.05\n",
        "q = t.ppf(1-alpha/2, n - 1)\n",
        "for i in range(0, 2):\n",
        "    m = np.mean(result[:,i])\n",
        "    v = np.std(result[:,i], ddof=1)\n",
        "    print(f\"theta{i} = {m} +- {v * q / np.sqrt(n)} with {100 - alpha * 100}% prob\")"
      ]
    },
    {
      "cell_type": "markdown",
      "metadata": {
        "id": "zhSjEaUGl0KF"
      },
      "source": [
        "Task 6. Consider the Hull-White (extended Vasicek) model\n",
        "$$\n",
        "  dX_{t} = a(t)(b(t)-X_{t}) dt + \\sigma(t) dW_{t},\\qquad X_{0}=2\n",
        "$$\n",
        "with $a(t) = \\theta_{1}t$, $b(t)=\\theta_{2}\\sqrt{t}$, the volatility depends on time $\\sigma(t)=\\theta_{3}t$.\n",
        "\n",
        "Generate sample data of $X_t$ with time step $\\Delta t =10^{-3}$ and $\\theta_{1}=3$, $\\theta_{2}=1$ and $\\theta_{3}=0.3$, then\n",
        "use the Kessler method and:\n",
        "*   estimate drift and diffusion coefficients,\n",
        "*   compute confidence intervals for all parameters in a fitted SDE."
      ]
    },
    {
      "cell_type": "code",
      "execution_count": 26,
      "metadata": {
        "id": "D_AM54Stl0KF"
      },
      "outputs": [],
      "source": [
        "Nx = 1\n",
        "Nt = 100\n",
        "\n",
        "T = 1\n",
        "\n",
        "params_HW = np.array([3, 1, 0.3])\n",
        "\n",
        "x0 = 2\n",
        "init_state = x0 * np.ones(Nx)\n",
        "\n",
        "HWp = HullWhiteprocess(params_HW, T, Nx, Nt, init_state)\n",
        "\n",
        "t_data, x_data_HW = HWp.EulerSolution()"
      ]
    },
    {
      "cell_type": "code",
      "execution_count": 27,
      "metadata": {
        "colab": {
          "base_uri": "https://localhost:8080/",
          "height": 449
        },
        "id": "VrNcrc22l0KF",
        "outputId": "698e4729-612f-4124-a1d5-c0b075a4219c"
      },
      "outputs": [
        {
          "data": {
            "image/png": "[encoded data removed]",
            "text/plain": [
              "<Figure size 640x480 with 1 Axes>"
            ]
          },
          "metadata": {},
          "output_type": "display_data"
        }
      ],
      "source": [
        "plt.plot(t_data, x_data_HW[:,0], label = 'HW process')\n",
        "\n",
        "plt.legend(loc = 'best', fancybox = True, shadow = True)\n",
        "plt.xlabel(\"t\")\n",
        "plt.ylabel(\"x(t)\")\n",
        "plt.grid(True)\n",
        "plt.show()"
      ]
    },
    {
      "cell_type": "code",
      "execution_count": 28,
      "metadata": {
        "colab": {
          "base_uri": "https://localhost:8080/"
        },
        "id": "GLTStP4lluvK",
        "outputId": "ad0c3132-202c-441b-c9ef-23f840d2f824"
      },
      "outputs": [
        {
          "data": {
            "text/plain": [
              "  message: CONVERGENCE: REL_REDUCTION_OF_F_<=_FACTR*EPSMCH\n",
              "  success: True\n",
              "   status: 0\n",
              "      fun: -303.9087368538385\n",
              "        x: [ 2.370e+00  7.362e-01  3.073e-01]\n",
              "      nit: 15\n",
              "      jac: [ 5.377e-02  6.602e-02  7.076e-02]\n",
              "     nfev: 152\n",
              "     njev: 38\n",
              " hess_inv: <3x3 LbfgsInvHessProduct with dtype=float64>"
            ]
          },
          "execution_count": 28,
          "metadata": {},
          "output_type": "execute_result"
        }
      ],
      "source": [
        "HWp.KesslerEstimation(t_data, x_data_HW)"
      ]
    },
    {
      "cell_type": "markdown",
      "metadata": {
        "id": "z7C4jqsMMH7b"
      },
      "source": [
        "Task. Take a process from previous tasks and approximation method, find the solution, compute confidence intervals, and compare results with baseline.\n",
        "\n",
        "Plot the graph and table.\n",
        "\n",
        "Задания по вариантам\n",
        "1. Байков Илья Павлович OU + Kessler\n",
        "1. Гонгапшев Астемир Султанович CKLS + Shoji-Ozaki\n",
        "1. Кудинкина Екатерина Андреевна CKLS + Kessler\n",
        "1. Кулига Андрей Владимирович Vasicek + Euler\n",
        "1. Мартыненко Александр Станиславович Vasicek + Shoji-Ozaki\n",
        "1. Мироманов Даниил Борисович Vasicek + Kessler\n",
        "1. Паршаков Никита Сергеевич extended Vasicek + Euler\n",
        "1. Петренко Влада Витальевна extended Vasicek + Ozaki\n",
        "1. Тумачев Серафим Дмитриевич extended Vasicek + Shoji-Ozaki\n",
        "1. Хубиев Касымхан Юсуфович model 5 + Euler\n",
        "1. Ширяева Софья Игоревна model 5 + Ozaki\n",
        "1. Якунин Сергей Александрович model 5 + Kessler\n",
        "1. Трофимов Яков Георгиевич CKLS + Ozaki\n"
      ]
    },
    {
      "cell_type": "markdown",
      "metadata": {},
      "source": [
        "# Ann and Gao (inverse of Feller's square root) model\n",
        "\n",
        "satisfies the following SDE:\n",
        "\n",
        "$$dX_t = X_t(\\theta_1 - (\\theta_3^3 - \\theta_1\\theta_2)X_t)dt + \\theta_3X_t^{\\frac{3}{2}}dW_t$$"
      ]
    },
    {
      "cell_type": "code",
      "execution_count": 66,
      "metadata": {
        "id": "sUUdacMnMsaD"
      },
      "outputs": [
        {
          "data": {
            "image/png": "[encoded data removed]",
            "text/plain": [
              "<Figure size 640x480 with 1 Axes>"
            ]
          },
          "metadata": {},
          "output_type": "display_data"
        }
      ],
      "source": [
        "class AnnGaoProcess(StochasticProcess):\n",
        "    def __init__(self, params, T, Nx, Nt, init_state = None):\n",
        "\n",
        "        try:\n",
        "            super().__init__(params, T, Nx, Nt, init_state)\n",
        "\n",
        "            # # params = [theta1, theta2, theta3]\n",
        "            # theta1, theta2, theta3 = self.params\n",
        "            # self.bxt = lambda x: x * (theta1 - (theta3**3 - theta1 * theta2) * x)\n",
        "            # self.sigmaxt = lambda x: x ** 1.5 * theta3\n",
        "        except AssertionError:\n",
        "            print(f'all the input params must of the type float, but {params} where given')\n",
        "\n",
        "    # params = [theta1, theta2, theta3]\n",
        "    @staticmethod\n",
        "    @njit\n",
        "    def bxt(x, t, params):\n",
        "        # return params[0] * t * x\n",
        "        return x * (params[0] - (params[2]**3 - params[0]*params[1]) * x)\n",
        "\n",
        "    @staticmethod\n",
        "    @njit\n",
        "    def sigmaxt(x, t, params):\n",
        "        return params[2] * x ** 1.5 \n",
        "\n",
        "    @staticmethod\n",
        "    @njit\n",
        "    def bxt_x(x, t, params):\n",
        "        return (params[0] - 2 * (params[2]**3 - params[0]*params[1]) * x)\n",
        "\n",
        "    @staticmethod\n",
        "    @njit\n",
        "    def sigmaxt_x(x, t, params):\n",
        "        return 1.5 * params[2] * x ** .5\n",
        "\n",
        "    @staticmethod\n",
        "    @njit\n",
        "    def bxt_t(x, t, params):\n",
        "        return 0\n",
        "    \n",
        "    @staticmethod\n",
        "    @njit\n",
        "    def bxt_xx(x, t, params):\n",
        "        return -2 * (params[2]**3 - params[0]*params[1])\n",
        "\n",
        "    @staticmethod\n",
        "    @njit\n",
        "    def sigmaxt_xx(x, t, params):\n",
        "        return .75 * params[2] * x ** (-.5)\n",
        "\n",
        "    def DefaultInitState(self):\n",
        "        return self.params[0] / self.params[1] * np.ones(self.Nx)\n",
        "\n",
        "    def sampler_init_state(self):\n",
        "        return self.params[0] / (self.params[2] - self.params[0] * self.params[1]) * np.ones(self.Nx)\n",
        "    \n",
        "# Parameters\n",
        "theta1 = .1\n",
        "theta2 = .6\n",
        "theta3 = .2\n",
        "\n",
        "x0 = 0 \n",
        "Nx = 1\n",
        "Nt = 1000\n",
        "T = 1.0 \n",
        "\n",
        "params = [theta1, theta2, theta3]\n",
        "\n",
        "AnnGao = AnnGaoProcess(params, T, Nx, Nt)\n",
        "t_data, x_data_AG = AnnGao.EulerSolution()\n",
        "plt.plot(t_data, x_data_AG, label = 'The Ann and Gao processes')\n",
        "\n",
        "plt.legend(loc = 'best', fancybox = True, shadow = True)\n",
        "plt.xlabel(\"t\")\n",
        "plt.ylabel(\"x(t)\")\n",
        "plt.grid(True)\n",
        "plt.show()"
      ]
    },
    {
      "cell_type": "code",
      "execution_count": 67,
      "metadata": {},
      "outputs": [
        {
          "data": {
            "text/plain": [
              "  message: CONVERGENCE: REL_REDUCTION_OF_F_<=_FACTR*EPSMCH\n",
              "  success: True\n",
              "   status: 0\n",
              "      fun: -6258.791073105867\n",
              "        x: [ 8.569e-02  8.642e-01  1.942e-01]\n",
              "      nit: 8\n",
              "      jac: [-8.185e-04  9.459e-03  2.074e-02]\n",
              "     nfev: 60\n",
              "     njev: 15\n",
              " hess_inv: <3x3 LbfgsInvHessProduct with dtype=float64>"
            ]
          },
          "execution_count": 67,
          "metadata": {},
          "output_type": "execute_result"
        }
      ],
      "source": [
        "AnnGao.EulerEstimation(t_data, x_data_AG)"
      ]
    },
    {
      "cell_type": "code",
      "execution_count": 68,
      "metadata": {},
      "outputs": [
        {
          "name": "stdout",
          "output_type": "stream",
          "text": [
            "theta0 = 0.09414502970715562 +- 0.02075985047578039 with 95.0% prob\n",
            "theta1 = 0.8736276286934254 +- 0.006275529936356366 with 95.0% prob\n",
            "theta2 = 0.18284525935636434 +- 0.022471682742625197 with 95.0% prob\n"
          ]
        }
      ],
      "source": [
        "#Confidence intervals\n",
        "n = 50\n",
        "result = np.zeros((n, 3))\n",
        "for k in range(0, n):\n",
        "    t_data, x_data_AG = AnnGao.EulerSolution()\n",
        "    result[k] = AnnGao.EulerEstimation(t_data, x_data_AG).x\n",
        "\n",
        "\n",
        "alpha = 0.05\n",
        "q = t.ppf(1-alpha/2, n - 1)\n",
        "for i in range(0, 3):\n",
        "    m = np.mean(result[:,i])\n",
        "    v = np.std(result[:,i], ddof=1)\n",
        "    print(f\"theta{i} = {m} +- {v * q / np.sqrt(n)} with {100 - alpha * 100}% prob\")"
      ]
    },
    {
      "cell_type": "code",
      "execution_count": null,
      "metadata": {},
      "outputs": [],
      "source": []
    }
  ],
  "metadata": {
    "colab": {
      "provenance": []
    },
    "kernelspec": {
      "display_name": "my-venv",
      "language": "python",
      "name": "my-venv"
    },
    "language_info": {
      "codemirror_mode": {
        "name": "ipython",
        "version": 3
      },
      "file_extension": ".py",
      "mimetype": "text/x-python",
      "name": "python",
      "nbconvert_exporter": "python",
      "pygments_lexer": "ipython3",
      "version": "3.9.13"
    }
  },
  "nbformat": 4,
  "nbformat_minor": 0
}
